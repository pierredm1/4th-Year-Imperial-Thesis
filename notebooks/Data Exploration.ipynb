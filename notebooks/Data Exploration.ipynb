{
 "cells": [
  {
   "cell_type": "code",
   "execution_count": 1,
   "id": "b9166023",
   "metadata": {
    "ExecuteTime": {
     "end_time": "2021-09-13T16:49:54.162029Z",
     "start_time": "2021-09-13T16:49:49.507088Z"
    }
   },
   "outputs": [],
   "source": [
    "import pandas as pd\n",
    "import glob\n",
    "import os\n",
    "import sklearn\n",
    "from sklearn.model_selection import train_test_split\n",
    "from sklearn.linear_model import LinearRegression\n",
    "from sklearn.metrics import mean_squared_error, r2_score\n",
    "import matplotlib.pyplot as plt\n",
    "import tensorflow \n",
    "import autokeras as ak"
   ]
  },
  {
   "cell_type": "code",
   "execution_count": 2,
   "id": "661cadb9",
   "metadata": {
    "ExecuteTime": {
     "end_time": "2021-09-13T16:49:55.362856Z",
     "start_time": "2021-09-13T16:49:55.357424Z"
    }
   },
   "outputs": [],
   "source": [
    "import tensorflow"
   ]
  },
  {
   "cell_type": "code",
   "execution_count": 3,
   "id": "61b01569",
   "metadata": {
    "ExecuteTime": {
     "end_time": "2021-09-13T16:49:56.059917Z",
     "start_time": "2021-09-13T16:49:55.625147Z"
    }
   },
   "outputs": [],
   "source": [
    "df = pd.concat(map(pd.read_csv, glob.glob(os.path.join('', \"../raw_data/Test/*.txt\"))))"
   ]
  },
  {
   "cell_type": "code",
   "execution_count": 4,
   "id": "aa58a008",
   "metadata": {
    "ExecuteTime": {
     "end_time": "2021-09-13T16:49:56.094296Z",
     "start_time": "2021-09-13T16:49:56.064414Z"
    }
   },
   "outputs": [],
   "source": [
    "X=df.drop(columns=['SOC', 'SOC_est'])\n",
    "y = df.SOC\n",
    "X_train, X_test, y_train, y_test = train_test_split(X,y,test_size=0.3)"
   ]
  },
  {
   "cell_type": "code",
   "execution_count": 12,
   "id": "d2e06134",
   "metadata": {
    "ExecuteTime": {
     "end_time": "2021-09-13T16:56:08.623684Z",
     "start_time": "2021-09-13T16:56:08.511561Z"
    }
   },
   "outputs": [
    {
     "name": "stdout",
     "output_type": "stream",
     "text": [
      "Coefficients: \n",
      " [ 2.42788525e-02  1.42676159e+02 -2.90116350e-01 -1.98678775e-01]\n",
      "Mean squared error: 83.46\n",
      "Coefficient of determination: 0.84\n"
     ]
    },
    {
     "data": {
      "image/png": "[encoded data removed]",
      "text/plain": [
       "<Figure size 432x288 with 1 Axes>"
      ]
     },
     "metadata": {},
     "output_type": "display_data"
    }
   ],
   "source": [
    "regr = LinearRegression()\n",
    "regr.fit(X_train, y_train)\n",
    "\n",
    "# Make predictions using the testing set\n",
    "y_pred = regr.predict(X_test)\n",
    "\n",
    "# The coefficients\n",
    "print('Coefficients: \\n', regr.coef_)\n",
    "# The mean squared error\n",
    "print('Mean squared error: %.2f'\n",
    "      % mean_squared_error(y_test, y_pred))\n",
    "# The coefficient of determination: 1 is perfect prediction\n",
    "print('Coefficient of determination: %.2f'\n",
    "      % r2_score(y_test, y_pred))\n",
    "\n",
    "# Plot outputs\n",
    "plt.scatter(X_test['voltage'], y_test,  color='black')\n",
    "#plt.plot(X_test['voltage'], color='blue', linewidth=3)\n",
    "\n",
    "plt.xticks(())\n",
    "plt.yticks(())\n",
    "\n",
    "plt.show()"
   ]
  },
  {
   "cell_type": "code",
   "execution_count": 8,
   "id": "8419dd4f",
   "metadata": {
    "ExecuteTime": {
     "end_time": "2021-09-13T16:55:23.350000Z",
     "start_time": "2021-09-13T16:55:23.297320Z"
    }
   },
   "outputs": [
    {
     "data": {
      "text/html": [
       "<div>\n",
       "<style scoped>\n",
       "    .dataframe tbody tr th:only-of-type {\n",
       "        vertical-align: middle;\n",
       "    }\n",
       "\n",
       "    .dataframe tbody tr th {\n",
       "        vertical-align: top;\n",
       "    }\n",
       "\n",
       "    .dataframe thead th {\n",
       "        text-align: right;\n",
       "    }\n",
       "</style>\n",
       "<table border=\"1\" class=\"dataframe\">\n",
       "  <thead>\n",
       "    <tr style=\"text-align: right;\">\n",
       "      <th></th>\n",
       "      <th>time</th>\n",
       "      <th>voltage</th>\n",
       "      <th>curr_density</th>\n",
       "      <th>temp</th>\n",
       "    </tr>\n",
       "  </thead>\n",
       "  <tbody>\n",
       "    <tr>\n",
       "      <th>598</th>\n",
       "      <td>299.0</td>\n",
       "      <td>3.785503</td>\n",
       "      <td>-29.50</td>\n",
       "      <td>308.552673</td>\n",
       "    </tr>\n",
       "    <tr>\n",
       "      <th>230</th>\n",
       "      <td>115.0</td>\n",
       "      <td>3.993867</td>\n",
       "      <td>-14.75</td>\n",
       "      <td>321.256434</td>\n",
       "    </tr>\n",
       "    <tr>\n",
       "      <th>111</th>\n",
       "      <td>55.5</td>\n",
       "      <td>3.992475</td>\n",
       "      <td>14.75</td>\n",
       "      <td>298.356028</td>\n",
       "    </tr>\n",
       "    <tr>\n",
       "      <th>740</th>\n",
       "      <td>370.0</td>\n",
       "      <td>3.554849</td>\n",
       "      <td>-29.50</td>\n",
       "      <td>302.274193</td>\n",
       "    </tr>\n",
       "    <tr>\n",
       "      <th>758</th>\n",
       "      <td>379.0</td>\n",
       "      <td>3.608663</td>\n",
       "      <td>-29.50</td>\n",
       "      <td>271.093617</td>\n",
       "    </tr>\n",
       "    <tr>\n",
       "      <th>...</th>\n",
       "      <td>...</td>\n",
       "      <td>...</td>\n",
       "      <td>...</td>\n",
       "      <td>...</td>\n",
       "    </tr>\n",
       "    <tr>\n",
       "      <th>4</th>\n",
       "      <td>2.0</td>\n",
       "      <td>3.796613</td>\n",
       "      <td>-29.50</td>\n",
       "      <td>276.021546</td>\n",
       "    </tr>\n",
       "    <tr>\n",
       "      <th>842</th>\n",
       "      <td>421.0</td>\n",
       "      <td>3.792672</td>\n",
       "      <td>-37.50</td>\n",
       "      <td>310.418422</td>\n",
       "    </tr>\n",
       "    <tr>\n",
       "      <th>182</th>\n",
       "      <td>91.0</td>\n",
       "      <td>3.854836</td>\n",
       "      <td>-14.75</td>\n",
       "      <td>308.517030</td>\n",
       "    </tr>\n",
       "    <tr>\n",
       "      <th>930</th>\n",
       "      <td>465.0</td>\n",
       "      <td>3.600495</td>\n",
       "      <td>-37.50</td>\n",
       "      <td>299.034196</td>\n",
       "    </tr>\n",
       "    <tr>\n",
       "      <th>474</th>\n",
       "      <td>237.0</td>\n",
       "      <td>3.703353</td>\n",
       "      <td>-29.50</td>\n",
       "      <td>302.201560</td>\n",
       "    </tr>\n",
       "  </tbody>\n",
       "</table>\n",
       "<p>29510 rows × 4 columns</p>\n",
       "</div>"
      ],
      "text/plain": [
       "      time   voltage  curr_density        temp\n",
       "598  299.0  3.785503        -29.50  308.552673\n",
       "230  115.0  3.993867        -14.75  321.256434\n",
       "111   55.5  3.992475         14.75  298.356028\n",
       "740  370.0  3.554849        -29.50  302.274193\n",
       "758  379.0  3.608663        -29.50  271.093617\n",
       "..     ...       ...           ...         ...\n",
       "4      2.0  3.796613        -29.50  276.021546\n",
       "842  421.0  3.792672        -37.50  310.418422\n",
       "182   91.0  3.854836        -14.75  308.517030\n",
       "930  465.0  3.600495        -37.50  299.034196\n",
       "474  237.0  3.703353        -29.50  302.201560\n",
       "\n",
       "[29510 rows x 4 columns]"
      ]
     },
     "execution_count": 8,
     "metadata": {},
     "output_type": "execute_result"
    }
   ],
   "source": [
    "X_test"
   ]
  },
  {
   "cell_type": "code",
   "execution_count": 9,
   "id": "dacfa212",
   "metadata": {
    "ExecuteTime": {
     "end_time": "2021-09-13T16:55:26.822381Z",
     "start_time": "2021-09-13T16:55:26.811266Z"
    }
   },
   "outputs": [
    {
     "data": {
      "text/plain": [
       "598    56.141002\n",
       "230    84.967558\n",
       "111    78.675409\n",
       "740    15.150589\n",
       "758    33.898269\n",
       "         ...    \n",
       "4      56.943932\n",
       "842    61.540175\n",
       "182    63.303943\n",
       "930    23.972209\n",
       "474    34.879065\n",
       "Name: SOC, Length: 29510, dtype: float64"
      ]
     },
     "execution_count": 9,
     "metadata": {},
     "output_type": "execute_result"
    }
   ],
   "source": [
    "y_test"
   ]
  },
  {
   "cell_type": "code",
   "execution_count": 13,
   "id": "c153109c",
   "metadata": {
    "ExecuteTime": {
     "end_time": "2021-09-13T16:58:55.107632Z",
     "start_time": "2021-09-13T16:58:55.095021Z"
    }
   },
   "outputs": [],
   "source": [
    "import autokeras"
   ]
  },
  {
   "cell_type": "code",
   "execution_count": 15,
   "id": "7a47ddc9",
   "metadata": {
    "ExecuteTime": {
     "end_time": "2021-09-13T17:23:35.512963Z",
     "start_time": "2021-09-13T17:08:58.323683Z"
    }
   },
   "outputs": [
    {
     "name": "stdout",
     "output_type": "stream",
     "text": [
      "Trial 15 Complete [00h 00m 55s]\n",
      "val_loss: 5.736691951751709\n",
      "\n",
      "Best val_loss So Far: 5.736691951751709\n",
      "Total elapsed time: 00h 13m 38s\n",
      "INFO:tensorflow:Oracle triggered exit\n",
      "Epoch 1/15\n",
      "2152/2152 [==============================] - 3s 1ms/step - loss: 43.1922 - mean_squared_error: 43.1922\n",
      "Epoch 2/15\n",
      "2152/2152 [==============================] - 3s 1ms/step - loss: 17.3448 - mean_squared_error: 17.3448\n",
      "Epoch 3/15\n",
      "2152/2152 [==============================] - 3s 1ms/step - loss: 18.9316 - mean_squared_error: 18.9316\n",
      "Epoch 4/15\n",
      "2152/2152 [==============================] - 3s 1ms/step - loss: 12.3984 - mean_squared_error: 12.3984\n",
      "Epoch 5/15\n",
      "2152/2152 [==============================] - 3s 1ms/step - loss: 10.7723 - mean_squared_error: 10.7723\n",
      "Epoch 6/15\n",
      "2152/2152 [==============================] - 3s 1ms/step - loss: 9.4260 - mean_squared_error: 9.4260\n",
      "Epoch 7/15\n",
      "2152/2152 [==============================] - 3s 1ms/step - loss: 8.4859 - mean_squared_error: 8.4859\n",
      "Epoch 8/15\n",
      "2152/2152 [==============================] - 3s 1ms/step - loss: 7.0195 - mean_squared_error: 7.0195\n",
      "Epoch 9/15\n",
      "2152/2152 [==============================] - 3s 1ms/step - loss: 7.2190 - mean_squared_error: 7.2190\n",
      "Epoch 10/15\n",
      "2152/2152 [==============================] - 3s 1ms/step - loss: 6.6440 - mean_squared_error: 6.6440\n",
      "Epoch 11/15\n",
      "2152/2152 [==============================] - 3s 1ms/step - loss: 6.4626 - mean_squared_error: 6.4626\n",
      "Epoch 12/15\n",
      "2152/2152 [==============================] - 3s 1ms/step - loss: 6.3021 - mean_squared_error: 6.3021\n",
      "Epoch 13/15\n",
      "2152/2152 [==============================] - 3s 1ms/step - loss: 6.1349 - mean_squared_error: 6.1349\n",
      "Epoch 14/15\n",
      "2152/2152 [==============================] - 3s 1ms/step - loss: 6.0468 - mean_squared_error: 6.0468:  - ETA: 1s - loss: 6.1751 - mean_s - ETA: 1s -\n",
      "Epoch 15/15\n",
      "2152/2152 [==============================] - 3s 1ms/step - loss: 5.9339 - mean_squared_error: 5.9339: 0s - loss: 6.0264 \n",
      "INFO:tensorflow:Assets written to: ./structured_data_regressor/best_model/assets\n",
      "923/923 [==============================] - 1s 1ms/step\n",
      "923/923 [==============================] - 1s 1ms/step - loss: 6.0848 - mean_squared_error: 6.0848\n",
      "[6.084782600402832, 6.084782600402832]\n"
     ]
    }
   ],
   "source": [
    "# It tries 10 different models.\n",
    "reg = ak.StructuredDataRegressor(max_trials=15, overwrite=True)\n",
    "# Feed the structured data regressor with training data.\n",
    "reg.fit(X_train, y_train, epochs=15)\n",
    "# Predict with the best model.\n",
    "predicted_y = reg.predict(X_test)\n",
    "# Evaluate the best model with testing data.\n",
    "print(reg.evaluate(X_test, y_test))"
   ]
  },
  {
   "cell_type": "code",
   "execution_count": 18,
   "id": "a950d8dc",
   "metadata": {
    "ExecuteTime": {
     "end_time": "2021-09-13T17:24:05.251425Z",
     "start_time": "2021-09-13T17:24:04.546448Z"
    }
   },
   "outputs": [],
   "source": [
    "model = reg.export_model()"
   ]
  },
  {
   "cell_type": "code",
   "execution_count": 19,
   "id": "ee7ec0a7",
   "metadata": {
    "ExecuteTime": {
     "end_time": "2021-09-13T17:24:09.832848Z",
     "start_time": "2021-09-13T17:24:09.821924Z"
    }
   },
   "outputs": [
    {
     "name": "stdout",
     "output_type": "stream",
     "text": [
      "Model: \"model\"\n",
      "_________________________________________________________________\n",
      "Layer (type)                 Output Shape              Param #   \n",
      "=================================================================\n",
      "input_1 (InputLayer)         [(None, 4)]               0         \n",
      "_________________________________________________________________\n",
      "multi_category_encoding (Mul (None, 4)                 0         \n",
      "_________________________________________________________________\n",
      "normalization (Normalization (None, 4)                 9         \n",
      "_________________________________________________________________\n",
      "dense (Dense)                (None, 32)                160       \n",
      "_________________________________________________________________\n",
      "re_lu (ReLU)                 (None, 32)                0         \n",
      "_________________________________________________________________\n",
      "dense_1 (Dense)              (None, 128)               4224      \n",
      "_________________________________________________________________\n",
      "re_lu_1 (ReLU)               (None, 128)               0         \n",
      "_________________________________________________________________\n",
      "dense_2 (Dense)              (None, 128)               16512     \n",
      "_________________________________________________________________\n",
      "re_lu_2 (ReLU)               (None, 128)               0         \n",
      "_________________________________________________________________\n",
      "regression_head_1 (Dense)    (None, 1)                 129       \n",
      "=================================================================\n",
      "Total params: 21,034\n",
      "Trainable params: 21,025\n",
      "Non-trainable params: 9\n",
      "_________________________________________________________________\n"
     ]
    }
   ],
   "source": [
    "model.summary()"
   ]
  },
  {
   "cell_type": "code",
   "execution_count": 20,
   "id": "e319bca1",
   "metadata": {
    "ExecuteTime": {
     "end_time": "2021-09-13T17:25:38.896084Z",
     "start_time": "2021-09-13T17:25:38.887224Z"
    }
   },
   "outputs": [
    {
     "data": {
      "text/plain": [
       "598    56.141002\n",
       "230    84.967558\n",
       "111    78.675409\n",
       "740    15.150589\n",
       "758    33.898269\n",
       "         ...    \n",
       "4      56.943932\n",
       "842    61.540175\n",
       "182    63.303943\n",
       "930    23.972209\n",
       "474    34.879065\n",
       "Name: SOC, Length: 29510, dtype: float64"
      ]
     },
     "execution_count": 20,
     "metadata": {},
     "output_type": "execute_result"
    }
   ],
   "source": [
    "y_test"
   ]
  },
  {
   "cell_type": "code",
   "execution_count": 21,
   "id": "ef9edf8a",
   "metadata": {
    "ExecuteTime": {
     "end_time": "2021-09-13T17:25:42.628514Z",
     "start_time": "2021-09-13T17:25:42.618071Z"
    }
   },
   "outputs": [
    {
     "data": {
      "text/plain": [
       "array([[55.38312 ],\n",
       "       [84.87816 ],\n",
       "       [78.392075],\n",
       "       ...,\n",
       "       [63.132233],\n",
       "       [24.362976],\n",
       "       [36.122044]], dtype=float32)"
      ]
     },
     "execution_count": 21,
     "metadata": {},
     "output_type": "execute_result"
    }
   ],
   "source": [
    "predicted_y.head"
   ]
  },
  {
   "cell_type": "code",
   "execution_count": null,
   "id": "c94049c4",
   "metadata": {},
   "outputs": [],
   "source": []
  }
 ],
 "metadata": {
  "kernelspec": {
   "display_name": "Python 3 (ipykernel)",
   "language": "python",
   "name": "python3"
  },
  "language_info": {
   "codemirror_mode": {
    "name": "ipython",
    "version": 3
   },
   "file_extension": ".py",
   "mimetype": "text/x-python",
   "name": "python",
   "nbconvert_exporter": "python",
   "pygments_lexer": "ipython3",
   "version": "3.8.6"
  },
  "toc": {
   "base_numbering": 1,
   "nav_menu": {},
   "number_sections": true,
   "sideBar": true,
   "skip_h1_title": false,
   "title_cell": "Table of Contents",
   "title_sidebar": "Contents",
   "toc_cell": false,
   "toc_position": {},
   "toc_section_display": true,
   "toc_window_display": false
  }
 },
 "nbformat": 4,
 "nbformat_minor": 5
}
