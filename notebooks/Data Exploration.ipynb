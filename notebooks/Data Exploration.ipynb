{
 "cells": [
  {
   "cell_type": "code",
   "execution_count": 1,
   "id": "b9166023",
   "metadata": {
    "ExecuteTime": {
     "end_time": "2021-09-14T09:29:27.957812Z",
     "start_time": "2021-09-14T09:29:20.914783Z"
    }
   },
   "outputs": [],
   "source": [
    "import pandas as pd\n",
    "import glob\n",
    "import os\n",
    "import sklearn\n",
    "from sklearn.model_selection import train_test_split\n",
    "from sklearn.linear_model import LinearRegression\n",
    "from sklearn.metrics import mean_squared_error, r2_score\n",
    "import matplotlib.pyplot as plt\n",
    "import tensorflow \n",
    "import autokeras as ak"
   ]
  },
  {
   "cell_type": "code",
   "execution_count": 2,
   "id": "661cadb9",
   "metadata": {
    "ExecuteTime": {
     "end_time": "2021-09-14T09:29:27.984677Z",
     "start_time": "2021-09-14T09:29:27.960372Z"
    }
   },
   "outputs": [],
   "source": [
    "import tensorflow"
   ]
  },
  {
   "cell_type": "code",
   "execution_count": 3,
   "id": "61b01569",
   "metadata": {
    "ExecuteTime": {
     "end_time": "2021-09-14T09:29:28.510587Z",
     "start_time": "2021-09-14T09:29:28.081188Z"
    }
   },
   "outputs": [],
   "source": [
    "df = pd.concat(map(pd.read_csv, glob.glob(os.path.join('', \"../raw_data/Test/*.txt\"))))"
   ]
  },
  {
   "cell_type": "code",
   "execution_count": 4,
   "id": "aa58a008",
   "metadata": {
    "ExecuteTime": {
     "end_time": "2021-09-14T09:29:28.558414Z",
     "start_time": "2021-09-14T09:29:28.515332Z"
    }
   },
   "outputs": [],
   "source": [
    "X=df.drop(columns=['SOC', 'SOC_est'])\n",
    "y = df.SOC\n",
    "X_train, X_test, y_train, y_test = train_test_split(X,y,test_size=0.3)"
   ]
  },
  {
   "cell_type": "code",
   "execution_count": 5,
   "id": "d2e06134",
   "metadata": {
    "ExecuteTime": {
     "end_time": "2021-09-14T09:29:28.706398Z",
     "start_time": "2021-09-14T09:29:28.561619Z"
    }
   },
   "outputs": [
    {
     "name": "stdout",
     "output_type": "stream",
     "text": [
      "Coefficients: \n",
      " [ 2.40841303e-02  1.42186083e+02 -2.89936141e-01 -1.95643447e-01]\n",
      "Mean squared error: 82.30\n",
      "Coefficient of determination: 0.84\n"
     ]
    },
    {
     "data": {
      "image/png": "[encoded data removed]",
      "text/plain": [
       "<Figure size 432x288 with 1 Axes>"
      ]
     },
     "metadata": {},
     "output_type": "display_data"
    }
   ],
   "source": [
    "regr = LinearRegression()\n",
    "regr.fit(X_train, y_train)\n",
    "\n",
    "# Make predictions using the testing set\n",
    "y_pred = regr.predict(X_test)\n",
    "\n",
    "# The coefficients\n",
    "print('Coefficients: \\n', regr.coef_)\n",
    "# The mean squared error\n",
    "print('Mean squared error: %.2f'\n",
    "      % mean_squared_error(y_test, y_pred))\n",
    "# The coefficient of determination: 1 is perfect prediction\n",
    "print('Coefficient of determination: %.2f'\n",
    "      % r2_score(y_test, y_pred))\n",
    "\n",
    "# Plot outputs\n",
    "plt.scatter(X_test['voltage'], y_test,  color='black')\n",
    "#plt.plot(X_test['voltage'], color='blue', linewidth=3)\n",
    "\n",
    "plt.xticks(())\n",
    "plt.yticks(())\n",
    "\n",
    "plt.show()"
   ]
  },
  {
   "cell_type": "code",
   "execution_count": 6,
   "id": "12a28034",
   "metadata": {
    "ExecuteTime": {
     "end_time": "2021-09-14T09:29:28.803340Z",
     "start_time": "2021-09-14T09:29:28.755824Z"
    }
   },
   "outputs": [
    {
     "data": {
      "text/html": [
       "<div>\n",
       "<style scoped>\n",
       "    .dataframe tbody tr th:only-of-type {\n",
       "        vertical-align: middle;\n",
       "    }\n",
       "\n",
       "    .dataframe tbody tr th {\n",
       "        vertical-align: top;\n",
       "    }\n",
       "\n",
       "    .dataframe thead th {\n",
       "        text-align: right;\n",
       "    }\n",
       "</style>\n",
       "<table border=\"1\" class=\"dataframe\">\n",
       "  <thead>\n",
       "    <tr style=\"text-align: right;\">\n",
       "      <th></th>\n",
       "      <th>time</th>\n",
       "      <th>voltage</th>\n",
       "      <th>curr_density</th>\n",
       "      <th>temp</th>\n",
       "    </tr>\n",
       "  </thead>\n",
       "  <tbody>\n",
       "    <tr>\n",
       "      <th>734</th>\n",
       "      <td>367.0</td>\n",
       "      <td>3.012058</td>\n",
       "      <td>-29.50</td>\n",
       "      <td>288.283766</td>\n",
       "    </tr>\n",
       "    <tr>\n",
       "      <th>335</th>\n",
       "      <td>167.5</td>\n",
       "      <td>3.709120</td>\n",
       "      <td>-14.75</td>\n",
       "      <td>311.891725</td>\n",
       "    </tr>\n",
       "    <tr>\n",
       "      <th>284</th>\n",
       "      <td>142.0</td>\n",
       "      <td>3.457124</td>\n",
       "      <td>-14.75</td>\n",
       "      <td>311.331105</td>\n",
       "    </tr>\n",
       "    <tr>\n",
       "      <th>140</th>\n",
       "      <td>70.0</td>\n",
       "      <td>3.701728</td>\n",
       "      <td>-14.75</td>\n",
       "      <td>265.802300</td>\n",
       "    </tr>\n",
       "    <tr>\n",
       "      <th>76</th>\n",
       "      <td>38.0</td>\n",
       "      <td>3.784274</td>\n",
       "      <td>-29.50</td>\n",
       "      <td>323.397874</td>\n",
       "    </tr>\n",
       "    <tr>\n",
       "      <th>...</th>\n",
       "      <td>...</td>\n",
       "      <td>...</td>\n",
       "      <td>...</td>\n",
       "      <td>...</td>\n",
       "    </tr>\n",
       "    <tr>\n",
       "      <th>48</th>\n",
       "      <td>24.0</td>\n",
       "      <td>3.635964</td>\n",
       "      <td>-29.50</td>\n",
       "      <td>278.390773</td>\n",
       "    </tr>\n",
       "    <tr>\n",
       "      <th>717</th>\n",
       "      <td>358.5</td>\n",
       "      <td>3.806399</td>\n",
       "      <td>-29.50</td>\n",
       "      <td>288.186784</td>\n",
       "    </tr>\n",
       "    <tr>\n",
       "      <th>68</th>\n",
       "      <td>34.0</td>\n",
       "      <td>3.871705</td>\n",
       "      <td>-29.50</td>\n",
       "      <td>308.301898</td>\n",
       "    </tr>\n",
       "    <tr>\n",
       "      <th>736</th>\n",
       "      <td>368.0</td>\n",
       "      <td>3.555800</td>\n",
       "      <td>-29.50</td>\n",
       "      <td>302.251302</td>\n",
       "    </tr>\n",
       "    <tr>\n",
       "      <th>800</th>\n",
       "      <td>400.0</td>\n",
       "      <td>3.642831</td>\n",
       "      <td>-29.50</td>\n",
       "      <td>297.931439</td>\n",
       "    </tr>\n",
       "  </tbody>\n",
       "</table>\n",
       "<p>29510 rows × 4 columns</p>\n",
       "</div>"
      ],
      "text/plain": [
       "      time   voltage  curr_density        temp\n",
       "734  367.0  3.012058        -29.50  288.283766\n",
       "335  167.5  3.709120        -14.75  311.891725\n",
       "284  142.0  3.457124        -14.75  311.331105\n",
       "140   70.0  3.701728        -14.75  265.802300\n",
       "76    38.0  3.784274        -29.50  323.397874\n",
       "..     ...       ...           ...         ...\n",
       "48    24.0  3.635964        -29.50  278.390773\n",
       "717  358.5  3.806399        -29.50  288.186784\n",
       "68    34.0  3.871705        -29.50  308.301898\n",
       "736  368.0  3.555800        -29.50  302.251302\n",
       "800  400.0  3.642831        -29.50  297.931439\n",
       "\n",
       "[29510 rows x 4 columns]"
      ]
     },
     "execution_count": 6,
     "metadata": {},
     "output_type": "execute_result"
    }
   ],
   "source": [
    "X_test"
   ]
  },
  {
   "cell_type": "code",
   "execution_count": 7,
   "id": "dacfa212",
   "metadata": {
    "ExecuteTime": {
     "end_time": "2021-09-14T09:29:28.819945Z",
     "start_time": "2021-09-14T09:29:28.805515Z"
    }
   },
   "outputs": [
    {
     "data": {
      "text/plain": [
       "734     2.234668\n",
       "335    28.231656\n",
       "284     7.589079\n",
       "140    30.598304\n",
       "76     51.934713\n",
       "         ...    \n",
       "48     21.327187\n",
       "717    65.472967\n",
       "68     70.046848\n",
       "736    15.206656\n",
       "800    26.309575\n",
       "Name: SOC, Length: 29510, dtype: float64"
      ]
     },
     "execution_count": 7,
     "metadata": {},
     "output_type": "execute_result"
    }
   ],
   "source": [
    "y_test"
   ]
  },
  {
   "cell_type": "code",
   "execution_count": 8,
   "id": "c153109c",
   "metadata": {
    "ExecuteTime": {
     "end_time": "2021-09-14T09:29:28.827872Z",
     "start_time": "2021-09-14T09:29:28.824049Z"
    }
   },
   "outputs": [],
   "source": [
    "import autokeras"
   ]
  },
  {
   "cell_type": "code",
   "execution_count": 15,
   "id": "35cf5a4f",
   "metadata": {
    "ExecuteTime": {
     "end_time": "2021-09-14T10:42:26.570563Z",
     "start_time": "2021-09-14T09:46:07.974965Z"
    }
   },
   "outputs": [
    {
     "name": "stdout",
     "output_type": "stream",
     "text": [
      "Trial 30 Complete [00h 03m 11s]\n",
      "val_loss: 4.380800724029541\n",
      "\n",
      "Best val_loss So Far: 4.380800724029541\n",
      "Total elapsed time: 00h 53m 39s\n",
      "INFO:tensorflow:Oracle triggered exit\n",
      "Epoch 1/30\n",
      "2152/2152 [==============================] - 5s 2ms/step - loss: 347.1745 - mean_squared_error: 347.1745: 2s - loss: 754.5793 -  - E - ETA: 0s - loss: 363.6545 - mean_squared_error\n",
      "Epoch 2/30\n",
      "2152/2152 [==============================] - 5s 2ms/step - loss: 17.1344 - mean_squared_error: 17.1344\n",
      "Epoch 3/30\n",
      "2152/2152 [==============================] - 4s 2ms/step - loss: 24.4476 - mean_squared_error: 24.4476: 1s - loss: 18.9887 - mean_squared_error: 18. - ETA: 1s - loss: 18.6883 - m - ETA: 0s - loss: 25.2778 - mean_squa\n",
      "Epoch 4/30\n",
      "2152/2152 [==============================] - 5s 2ms/step - loss: 12.3037 - mean_squared_error: 12.3037: 0s - loss: 11.0203 - mean_squared_error: 11.02 - ETA: 0s - loss: 10.9917 - mean_squared_error:\n",
      "Epoch 5/30\n",
      "2152/2152 [==============================] - 5s 3ms/step - loss: 9.5221 - mean_squared_error: 9.5221\n",
      "Epoch 6/30\n",
      "2152/2152 [==============================] - 6s 3ms/step - loss: 8.8925 - mean_squared_error: 8.8925\n",
      "Epoch 7/30\n",
      "2152/2152 [==============================] - 4s 2ms/step - loss: 8.3394 - mean_squared_error: 8.3394\n",
      "Epoch 8/30\n",
      "2152/2152 [==============================] - 5s 2ms/step - loss: 7.8710 - mean_squared_error: 7.8710: 2s - loss: 7.9407 - mean_squared - ETA: 0s - loss: 7.7087 - mean_squared_error: \n",
      "Epoch 9/30\n",
      "2152/2152 [==============================] - 6s 3ms/step - loss: 7.4506 - mean_squared_error: 7.4506\n",
      "Epoch 10/30\n",
      "2152/2152 [==============================] - 3s 2ms/step - loss: 7.1233 - mean_squared_error: 7.1233\n",
      "Epoch 11/30\n",
      "2152/2152 [==============================] - 3s 2ms/step - loss: 6.9091 - mean_squared_error: 6.9091\n",
      "Epoch 12/30\n",
      "2152/2152 [==============================] - 4s 2ms/step - loss: 6.6891 - mean_squared_error: 6.6891: 0s - loss: 6.6819 - mean_squared_error: 6.\n",
      "Epoch 13/30\n",
      "2152/2152 [==============================] - 4s 2ms/step - loss: 6.5064 - mean_squared_error: 6.5064: 0s - loss: 6.4620 - mean_squared_err\n",
      "Epoch 14/30\n",
      "2152/2152 [==============================] - 4s 2ms/step - loss: 6.3189 - mean_squared_error: 6.3189\n",
      "Epoch 15/30\n",
      "2152/2152 [==============================] - 5s 2ms/step - loss: 6.1056 - mean_squared_error: 6.1056\n",
      "Epoch 16/30\n",
      "2152/2152 [==============================] - 5s 2ms/step - loss: 6.0380 - mean_squared_error: 6.0380: 0s - loss: 5.9904 - \n",
      "Epoch 17/30\n",
      "2152/2152 [==============================] - 4s 2ms/step - loss: 5.9332 - mean_squared_error: 5.9332\n",
      "Epoch 18/30\n",
      "2152/2152 [==============================] - 5s 2ms/step - loss: 5.8041 - mean_squared_error: 5.8041: 1s - l - ETA: 0s - loss: 5.7776 - mean_squared_error: 5.\n",
      "Epoch 19/30\n",
      "2152/2152 [==============================] - 4s 2ms/step - loss: 5.6744 - mean_squared_error: 5.6744\n",
      "Epoch 20/30\n",
      "2152/2152 [==============================] - 4s 2ms/step - loss: 5.5411 - mean_squared_error: 5.5411\n",
      "Epoch 21/30\n",
      "2152/2152 [==============================] - 5s 2ms/step - loss: 5.4551 - mean_squared_error: 5.4551\n",
      "Epoch 22/30\n",
      "2152/2152 [==============================] - 7s 3ms/step - loss: 5.3458 - mean_squared_error: 5.3458\n",
      "Epoch 23/30\n",
      "2152/2152 [==============================] - 3s 2ms/step - loss: 5.1718 - mean_squared_error: 5.1718\n",
      "Epoch 24/30\n",
      "2152/2152 [==============================] - 5s 2ms/step - loss: 5.0359 - mean_squared_error: 5.0359\n",
      "Epoch 25/30\n",
      "2152/2152 [==============================] - 4s 2ms/step - loss: 4.8706 - mean_squared_error: 4.8706\n",
      "Epoch 26/30\n",
      "2152/2152 [==============================] - 4s 2ms/step - loss: 4.7206 - mean_squared_error: 4.7206\n",
      "Epoch 27/30\n",
      "2152/2152 [==============================] - 5s 2ms/step - loss: 4.5971 - mean_squared_error: 4.5971\n",
      "Epoch 28/30\n",
      "2152/2152 [==============================] - 5s 2ms/step - loss: 4.4787 - mean_squared_error: 4.4787\n",
      "Epoch 29/30\n",
      "2152/2152 [==============================] - 4s 2ms/step - loss: 4.3683 - mean_squared_error: 4.3683: 1s - l\n",
      "Epoch 30/30\n",
      "2152/2152 [==============================] - 4s 2ms/step - loss: 4.2786 - mean_squared_error: 4.2786: \n",
      "INFO:tensorflow:Assets written to: ./structured_data_regressor/best_model/assets\n",
      "923/923 [==============================] - 1s 1ms/step\n",
      "923/923 [==============================] - 1s 1ms/step - loss: 4.1898 - mean_squared_error: 4.1898: 0s - los\n",
      "[4.189798355102539, 4.189798355102539]\n"
     ]
    }
   ],
   "source": [
    "# It tries 10 different models.\n",
    "reg = ak.StructuredDataRegressor(max_trials=30, overwrite=True)\n",
    "# Feed the structured data regressor with training data.\n",
    "reg.fit(X_train, y_train, epochs=30)\n",
    "# Predict with the best model.\n",
    "predicted_y = reg.predict(X_test)\n",
    "# Evaluate the best model with testing data.\n",
    "print(reg.evaluate(X_test, y_test))"
   ]
  },
  {
   "cell_type": "code",
   "execution_count": 16,
   "id": "0f13821c",
   "metadata": {
    "ExecuteTime": {
     "end_time": "2021-09-14T10:42:40.440630Z",
     "start_time": "2021-09-14T10:42:39.821008Z"
    }
   },
   "outputs": [],
   "source": [
    "model = reg.export_model()"
   ]
  },
  {
   "cell_type": "code",
   "execution_count": 17,
   "id": "cb68065f",
   "metadata": {
    "ExecuteTime": {
     "end_time": "2021-09-14T10:42:42.755466Z",
     "start_time": "2021-09-14T10:42:42.742802Z"
    }
   },
   "outputs": [
    {
     "name": "stdout",
     "output_type": "stream",
     "text": [
      "Model: \"model\"\n",
      "_________________________________________________________________\n",
      "Layer (type)                 Output Shape              Param #   \n",
      "=================================================================\n",
      "input_1 (InputLayer)         [(None, 4)]               0         \n",
      "_________________________________________________________________\n",
      "multi_category_encoding (Mul (None, 4)                 0         \n",
      "_________________________________________________________________\n",
      "normalization (Normalization (None, 4)                 9         \n",
      "_________________________________________________________________\n",
      "dense (Dense)                (None, 32)                160       \n",
      "_________________________________________________________________\n",
      "re_lu (ReLU)                 (None, 32)                0         \n",
      "_________________________________________________________________\n",
      "dense_1 (Dense)              (None, 32)                1056      \n",
      "_________________________________________________________________\n",
      "re_lu_1 (ReLU)               (None, 32)                0         \n",
      "_________________________________________________________________\n",
      "dense_2 (Dense)              (None, 512)               16896     \n",
      "_________________________________________________________________\n",
      "re_lu_2 (ReLU)               (None, 512)               0         \n",
      "_________________________________________________________________\n",
      "regression_head_1 (Dense)    (None, 1)                 513       \n",
      "=================================================================\n",
      "Total params: 18,634\n",
      "Trainable params: 18,625\n",
      "Non-trainable params: 9\n",
      "_________________________________________________________________\n"
     ]
    }
   ],
   "source": [
    "model.summary()"
   ]
  },
  {
   "cell_type": "code",
   "execution_count": 23,
   "id": "2742f315",
   "metadata": {
    "ExecuteTime": {
     "end_time": "2021-09-14T10:43:20.053252Z",
     "start_time": "2021-09-14T10:43:20.043102Z"
    }
   },
   "outputs": [
    {
     "data": {
      "text/plain": [
       "734     2.234668\n",
       "335    28.231656\n",
       "284     7.589079\n",
       "140    30.598304\n",
       "76     51.934713\n",
       "595    25.183032\n",
       "850    65.397638\n",
       "443    34.313599\n",
       "901    27.488913\n",
       "518    49.262339\n",
       "Name: SOC, dtype: float64"
      ]
     },
     "execution_count": 23,
     "metadata": {},
     "output_type": "execute_result"
    }
   ],
   "source": [
    "y_test[0:10]"
   ]
  },
  {
   "cell_type": "code",
   "execution_count": 22,
   "id": "de172eca",
   "metadata": {
    "ExecuteTime": {
     "end_time": "2021-09-14T10:43:15.574805Z",
     "start_time": "2021-09-14T10:43:15.569694Z"
    }
   },
   "outputs": [
    {
     "name": "stdout",
     "output_type": "stream",
     "text": [
      "[[ 2.3625016]\n",
      " [27.943493 ]\n",
      " [ 7.3220615]\n",
      " [31.623951 ]\n",
      " [53.47083  ]\n",
      " [24.64329  ]\n",
      " [66.385056 ]\n",
      " [35.234634 ]\n",
      " [26.739157 ]\n",
      " [50.50332  ]]\n"
     ]
    }
   ],
   "source": [
    "print(predicted_y[0:10])"
   ]
  },
  {
   "cell_type": "code",
   "execution_count": 24,
   "id": "d53f7d8f",
   "metadata": {
    "ExecuteTime": {
     "end_time": "2021-09-14T10:45:46.995461Z",
     "start_time": "2021-09-14T10:45:46.985357Z"
    }
   },
   "outputs": [
    {
     "name": "stdout",
     "output_type": "stream",
     "text": [
      "<class 'tensorflow.python.keras.engine.functional.Functional'>\n"
     ]
    }
   ],
   "source": [
    "print(type(model))"
   ]
  },
  {
   "cell_type": "code",
   "execution_count": 25,
   "id": "789b65b2",
   "metadata": {
    "ExecuteTime": {
     "end_time": "2021-09-14T10:46:03.689895Z",
     "start_time": "2021-09-14T10:46:02.621100Z"
    }
   },
   "outputs": [
    {
     "name": "stdout",
     "output_type": "stream",
     "text": [
      "INFO:tensorflow:Assets written to: model_autokeras/assets\n"
     ]
    }
   ],
   "source": [
    "model.save(\"model_autokeras\", save_format=\"tf\")"
   ]
  },
  {
   "cell_type": "code",
   "execution_count": 27,
   "id": "c971df28",
   "metadata": {
    "ExecuteTime": {
     "end_time": "2021-09-14T10:46:39.871599Z",
     "start_time": "2021-09-14T10:46:39.459804Z"
    }
   },
   "outputs": [],
   "source": [
    "from tensorflow.keras.models import load_model\n",
    "loaded_model = load_model(\"model_autokeras\", custom_objects=ak.CUSTOM_OBJECTS)"
   ]
  },
  {
   "cell_type": "code",
   "execution_count": 29,
   "id": "12cb34c9",
   "metadata": {
    "ExecuteTime": {
     "end_time": "2021-09-14T10:46:51.149718Z",
     "start_time": "2021-09-14T10:46:51.139486Z"
    }
   },
   "outputs": [
    {
     "name": "stdout",
     "output_type": "stream",
     "text": [
      "Model: \"model\"\n",
      "_________________________________________________________________\n",
      "Layer (type)                 Output Shape              Param #   \n",
      "=================================================================\n",
      "input_1 (InputLayer)         [(None, 4)]               0         \n",
      "_________________________________________________________________\n",
      "multi_category_encoding (Mul (None, 4)                 0         \n",
      "_________________________________________________________________\n",
      "normalization (Normalization (None, 4)                 9         \n",
      "_________________________________________________________________\n",
      "dense (Dense)                (None, 32)                160       \n",
      "_________________________________________________________________\n",
      "re_lu (ReLU)                 (None, 32)                0         \n",
      "_________________________________________________________________\n",
      "dense_1 (Dense)              (None, 32)                1056      \n",
      "_________________________________________________________________\n",
      "re_lu_1 (ReLU)               (None, 32)                0         \n",
      "_________________________________________________________________\n",
      "dense_2 (Dense)              (None, 512)               16896     \n",
      "_________________________________________________________________\n",
      "re_lu_2 (ReLU)               (None, 512)               0         \n",
      "_________________________________________________________________\n",
      "regression_head_1 (Dense)    (None, 1)                 513       \n",
      "=================================================================\n",
      "Total params: 18,634\n",
      "Trainable params: 18,625\n",
      "Non-trainable params: 9\n",
      "_________________________________________________________________\n"
     ]
    }
   ],
   "source": [
    "loaded_model.summary()"
   ]
  },
  {
   "cell_type": "code",
   "execution_count": 30,
   "id": "13777a0e",
   "metadata": {
    "ExecuteTime": {
     "end_time": "2021-09-14T10:47:17.128604Z",
     "start_time": "2021-09-14T10:47:16.360297Z"
    }
   },
   "outputs": [
    {
     "data": {
      "application/javascript": [
       "\n",
       "        if (window._pyforest_update_imports_cell) { window._pyforest_update_imports_cell('import tensorflow as tf'); }\n",
       "    "
      ],
      "text/plain": [
       "<IPython.core.display.Javascript object>"
      ]
     },
     "metadata": {},
     "output_type": "display_data"
    }
   ],
   "source": [
    "predicted_y = loaded_model.predict(tf.expand_dims(X_test, -1))"
   ]
  },
  {
   "cell_type": "code",
   "execution_count": 31,
   "id": "d1a5f8f9",
   "metadata": {
    "ExecuteTime": {
     "end_time": "2021-09-14T10:47:20.474469Z",
     "start_time": "2021-09-14T10:47:20.466896Z"
    }
   },
   "outputs": [
    {
     "data": {
      "text/plain": [
       "array([[ 2.3625016],\n",
       "       [27.943493 ],\n",
       "       [ 7.3220615],\n",
       "       ...,\n",
       "       [71.26073  ],\n",
       "       [15.031337 ],\n",
       "       [24.264    ]], dtype=float32)"
      ]
     },
     "execution_count": 31,
     "metadata": {},
     "output_type": "execute_result"
    }
   ],
   "source": [
    "predicted_y"
   ]
  },
  {
   "cell_type": "code",
   "execution_count": null,
   "id": "d0f5d4df",
   "metadata": {},
   "outputs": [],
   "source": []
  }
 ],
 "metadata": {
  "kernelspec": {
   "display_name": "Python 3 (ipykernel)",
   "language": "python",
   "name": "python3"
  },
  "language_info": {
   "codemirror_mode": {
    "name": "ipython",
    "version": 3
   },
   "file_extension": ".py",
   "mimetype": "text/x-python",
   "name": "python",
   "nbconvert_exporter": "python",
   "pygments_lexer": "ipython3",
   "version": "3.8.6"
  },
  "toc": {
   "base_numbering": 1,
   "nav_menu": {},
   "number_sections": true,
   "sideBar": true,
   "skip_h1_title": false,
   "title_cell": "Table of Contents",
   "title_sidebar": "Contents",
   "toc_cell": false,
   "toc_position": {},
   "toc_section_display": true,
   "toc_window_display": false
  }
 },
 "nbformat": 4,
 "nbformat_minor": 5
}
