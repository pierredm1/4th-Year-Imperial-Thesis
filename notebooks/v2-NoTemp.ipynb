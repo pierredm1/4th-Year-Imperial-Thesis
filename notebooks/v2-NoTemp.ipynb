{
 "cells": [
  {
   "cell_type": "code",
   "execution_count": 1,
   "id": "ca1db853",
   "metadata": {
    "ExecuteTime": {
     "end_time": "2021-10-09T17:06:00.895866Z",
     "start_time": "2021-10-09T17:05:52.552809Z"
    }
   },
   "outputs": [],
   "source": [
    "import pandas as pd\n",
    "import glob\n",
    "import os\n",
    "import sklearn\n",
    "from sklearn.model_selection import train_test_split\n",
    "from sklearn.linear_model import LinearRegression\n",
    "from sklearn.metrics import mean_squared_error, r2_score\n",
    "import matplotlib.pyplot as plt\n",
    "import tensorflow \n",
    "import autokeras as ak\n",
    "import scipy.io"
   ]
  },
  {
   "cell_type": "code",
   "execution_count": 215,
   "id": "6133e658",
   "metadata": {
    "ExecuteTime": {
     "end_time": "2021-10-16T12:01:34.947784Z",
     "start_time": "2021-10-16T12:01:34.019960Z"
    }
   },
   "outputs": [],
   "source": [
    "df = pd.concat(map(pd.read_csv, glob.glob(os.path.join('', \"../raw_data/Test2/*.txt\"))))"
   ]
  },
  {
   "cell_type": "code",
   "execution_count": 216,
   "id": "379e1b9a",
   "metadata": {
    "ExecuteTime": {
     "end_time": "2021-10-16T12:01:36.232445Z",
     "start_time": "2021-10-16T12:01:36.113943Z"
    }
   },
   "outputs": [
    {
     "data": {
      "text/html": [
       "<div>\n",
       "<style scoped>\n",
       "    .dataframe tbody tr th:only-of-type {\n",
       "        vertical-align: middle;\n",
       "    }\n",
       "\n",
       "    .dataframe tbody tr th {\n",
       "        vertical-align: top;\n",
       "    }\n",
       "\n",
       "    .dataframe thead th {\n",
       "        text-align: right;\n",
       "    }\n",
       "</style>\n",
       "<table border=\"1\" class=\"dataframe\">\n",
       "  <thead>\n",
       "    <tr style=\"text-align: right;\">\n",
       "      <th></th>\n",
       "      <th>curr_dens</th>\n",
       "      <th>Volts_tot</th>\n",
       "      <th>Temp_tot</th>\n",
       "      <th>t_tot</th>\n",
       "      <th>SOC_tot</th>\n",
       "    </tr>\n",
       "  </thead>\n",
       "  <tbody>\n",
       "    <tr>\n",
       "      <th>0</th>\n",
       "      <td>20.042216</td>\n",
       "      <td>3.985313</td>\n",
       "      <td>298.150000</td>\n",
       "      <td>0.0</td>\n",
       "      <td>75.000000</td>\n",
       "    </tr>\n",
       "    <tr>\n",
       "      <th>1</th>\n",
       "      <td>20.042216</td>\n",
       "      <td>3.985557</td>\n",
       "      <td>298.149698</td>\n",
       "      <td>0.5</td>\n",
       "      <td>75.009523</td>\n",
       "    </tr>\n",
       "    <tr>\n",
       "      <th>2</th>\n",
       "      <td>20.042216</td>\n",
       "      <td>3.985784</td>\n",
       "      <td>298.149335</td>\n",
       "      <td>1.0</td>\n",
       "      <td>75.019046</td>\n",
       "    </tr>\n",
       "    <tr>\n",
       "      <th>3</th>\n",
       "      <td>20.042216</td>\n",
       "      <td>3.986000</td>\n",
       "      <td>298.148992</td>\n",
       "      <td>1.5</td>\n",
       "      <td>75.028569</td>\n",
       "    </tr>\n",
       "    <tr>\n",
       "      <th>4</th>\n",
       "      <td>20.042216</td>\n",
       "      <td>3.986208</td>\n",
       "      <td>298.148668</td>\n",
       "      <td>2.0</td>\n",
       "      <td>75.038092</td>\n",
       "    </tr>\n",
       "    <tr>\n",
       "      <th>...</th>\n",
       "      <td>...</td>\n",
       "      <td>...</td>\n",
       "      <td>...</td>\n",
       "      <td>...</td>\n",
       "      <td>...</td>\n",
       "    </tr>\n",
       "    <tr>\n",
       "      <th>5600</th>\n",
       "      <td>-1.177744</td>\n",
       "      <td>3.816955</td>\n",
       "      <td>299.184734</td>\n",
       "      <td>2800.0</td>\n",
       "      <td>50.479229</td>\n",
       "    </tr>\n",
       "    <tr>\n",
       "      <th>5601</th>\n",
       "      <td>-1.177744</td>\n",
       "      <td>3.817003</td>\n",
       "      <td>299.182497</td>\n",
       "      <td>2800.5</td>\n",
       "      <td>50.478670</td>\n",
       "    </tr>\n",
       "    <tr>\n",
       "      <th>5602</th>\n",
       "      <td>-1.177744</td>\n",
       "      <td>3.817049</td>\n",
       "      <td>299.180265</td>\n",
       "      <td>2801.0</td>\n",
       "      <td>50.478110</td>\n",
       "    </tr>\n",
       "    <tr>\n",
       "      <th>5603</th>\n",
       "      <td>-1.177744</td>\n",
       "      <td>3.817094</td>\n",
       "      <td>299.178036</td>\n",
       "      <td>2801.5</td>\n",
       "      <td>50.477551</td>\n",
       "    </tr>\n",
       "    <tr>\n",
       "      <th>5604</th>\n",
       "      <td>-1.177744</td>\n",
       "      <td>3.817137</td>\n",
       "      <td>299.175812</td>\n",
       "      <td>2802.0</td>\n",
       "      <td>50.476991</td>\n",
       "    </tr>\n",
       "  </tbody>\n",
       "</table>\n",
       "<p>5605 rows × 5 columns</p>\n",
       "</div>"
      ],
      "text/plain": [
       "      curr_dens  Volts_tot    Temp_tot   t_tot    SOC_tot\n",
       "0     20.042216   3.985313  298.150000     0.0  75.000000\n",
       "1     20.042216   3.985557  298.149698     0.5  75.009523\n",
       "2     20.042216   3.985784  298.149335     1.0  75.019046\n",
       "3     20.042216   3.986000  298.148992     1.5  75.028569\n",
       "4     20.042216   3.986208  298.148668     2.0  75.038092\n",
       "...         ...        ...         ...     ...        ...\n",
       "5600  -1.177744   3.816955  299.184734  2800.0  50.479229\n",
       "5601  -1.177744   3.817003  299.182497  2800.5  50.478670\n",
       "5602  -1.177744   3.817049  299.180265  2801.0  50.478110\n",
       "5603  -1.177744   3.817094  299.178036  2801.5  50.477551\n",
       "5604  -1.177744   3.817137  299.175812  2802.0  50.476991\n",
       "\n",
       "[5605 rows x 5 columns]"
      ]
     },
     "execution_count": 216,
     "metadata": {},
     "output_type": "execute_result"
    }
   ],
   "source": [
    "pd.read_csv('../raw_data/Test/results1.txt')"
   ]
  },
  {
   "cell_type": "code",
   "execution_count": 30,
   "id": "c9b602aa",
   "metadata": {
    "ExecuteTime": {
     "end_time": "2021-10-11T11:03:33.934434Z",
     "start_time": "2021-10-11T11:03:33.197370Z"
    }
   },
   "outputs": [],
   "source": [
    "X=df.drop(columns=['SOC_tot'])\n",
    "y = df.SOC_tot\n",
    "X_train, X_test, y_train, y_test = train_test_split(X,y,test_size=0.3, shuffle=False)"
   ]
  },
  {
   "cell_type": "code",
   "execution_count": 7,
   "id": "cc12e61b",
   "metadata": {
    "ExecuteTime": {
     "end_time": "2021-10-09T17:08:39.431866Z",
     "start_time": "2021-10-09T17:08:39.415482Z"
    }
   },
   "outputs": [
    {
     "data": {
      "text/html": [
       "<div>\n",
       "<style scoped>\n",
       "    .dataframe tbody tr th:only-of-type {\n",
       "        vertical-align: middle;\n",
       "    }\n",
       "\n",
       "    .dataframe tbody tr th {\n",
       "        vertical-align: top;\n",
       "    }\n",
       "\n",
       "    .dataframe thead th {\n",
       "        text-align: right;\n",
       "    }\n",
       "</style>\n",
       "<table border=\"1\" class=\"dataframe\">\n",
       "  <thead>\n",
       "    <tr style=\"text-align: right;\">\n",
       "      <th></th>\n",
       "      <th>curr_dens</th>\n",
       "      <th>Volts_tot</th>\n",
       "      <th>Temp_tot</th>\n",
       "      <th>t_tot</th>\n",
       "      <th>SOC_tot</th>\n",
       "    </tr>\n",
       "  </thead>\n",
       "  <tbody>\n",
       "    <tr>\n",
       "      <th>0</th>\n",
       "      <td>5.535696</td>\n",
       "      <td>3.975483</td>\n",
       "      <td>298.150000</td>\n",
       "      <td>0.0</td>\n",
       "      <td>77.000000</td>\n",
       "    </tr>\n",
       "    <tr>\n",
       "      <th>1</th>\n",
       "      <td>5.535696</td>\n",
       "      <td>3.975551</td>\n",
       "      <td>298.149788</td>\n",
       "      <td>0.5</td>\n",
       "      <td>77.002630</td>\n",
       "    </tr>\n",
       "    <tr>\n",
       "      <th>2</th>\n",
       "      <td>29.080854</td>\n",
       "      <td>4.013349</td>\n",
       "      <td>298.150155</td>\n",
       "      <td>1.0</td>\n",
       "      <td>77.016448</td>\n",
       "    </tr>\n",
       "    <tr>\n",
       "      <th>3</th>\n",
       "      <td>-21.539002</td>\n",
       "      <td>3.932545</td>\n",
       "      <td>298.152103</td>\n",
       "      <td>1.5</td>\n",
       "      <td>77.006214</td>\n",
       "    </tr>\n",
       "    <tr>\n",
       "      <th>4</th>\n",
       "      <td>-6.852961</td>\n",
       "      <td>3.955785</td>\n",
       "      <td>298.152657</td>\n",
       "      <td>2.0</td>\n",
       "      <td>77.002958</td>\n",
       "    </tr>\n",
       "    <tr>\n",
       "      <th>...</th>\n",
       "      <td>...</td>\n",
       "      <td>...</td>\n",
       "      <td>...</td>\n",
       "      <td>...</td>\n",
       "      <td>...</td>\n",
       "    </tr>\n",
       "    <tr>\n",
       "      <th>996</th>\n",
       "      <td>-31.620185</td>\n",
       "      <td>3.686770</td>\n",
       "      <td>299.138492</td>\n",
       "      <td>498.0</td>\n",
       "      <td>30.064797</td>\n",
       "    </tr>\n",
       "    <tr>\n",
       "      <th>997</th>\n",
       "      <td>-29.330735</td>\n",
       "      <td>3.690256</td>\n",
       "      <td>299.143501</td>\n",
       "      <td>498.5</td>\n",
       "      <td>30.050861</td>\n",
       "    </tr>\n",
       "    <tr>\n",
       "      <th>998</th>\n",
       "      <td>-34.257295</td>\n",
       "      <td>3.681930</td>\n",
       "      <td>299.150077</td>\n",
       "      <td>499.0</td>\n",
       "      <td>30.034583</td>\n",
       "    </tr>\n",
       "    <tr>\n",
       "      <th>999</th>\n",
       "      <td>-27.961269</td>\n",
       "      <td>3.691993</td>\n",
       "      <td>299.154749</td>\n",
       "      <td>499.5</td>\n",
       "      <td>30.021297</td>\n",
       "    </tr>\n",
       "    <tr>\n",
       "      <th>1000</th>\n",
       "      <td>-19.120977</td>\n",
       "      <td>3.706384</td>\n",
       "      <td>299.156839</td>\n",
       "      <td>500.0</td>\n",
       "      <td>30.012212</td>\n",
       "    </tr>\n",
       "  </tbody>\n",
       "</table>\n",
       "<p>99117 rows × 5 columns</p>\n",
       "</div>"
      ],
      "text/plain": [
       "      curr_dens  Volts_tot    Temp_tot  t_tot    SOC_tot\n",
       "0      5.535696   3.975483  298.150000    0.0  77.000000\n",
       "1      5.535696   3.975551  298.149788    0.5  77.002630\n",
       "2     29.080854   4.013349  298.150155    1.0  77.016448\n",
       "3    -21.539002   3.932545  298.152103    1.5  77.006214\n",
       "4     -6.852961   3.955785  298.152657    2.0  77.002958\n",
       "...         ...        ...         ...    ...        ...\n",
       "996  -31.620185   3.686770  299.138492  498.0  30.064797\n",
       "997  -29.330735   3.690256  299.143501  498.5  30.050861\n",
       "998  -34.257295   3.681930  299.150077  499.0  30.034583\n",
       "999  -27.961269   3.691993  299.154749  499.5  30.021297\n",
       "1000 -19.120977   3.706384  299.156839  500.0  30.012212\n",
       "\n",
       "[99117 rows x 5 columns]"
      ]
     },
     "execution_count": 7,
     "metadata": {},
     "output_type": "execute_result"
    }
   ],
   "source": [
    "df"
   ]
  },
  {
   "cell_type": "code",
   "execution_count": 5,
   "id": "58de3c38",
   "metadata": {
    "ExecuteTime": {
     "end_time": "2021-10-09T17:06:53.982682Z",
     "start_time": "2021-10-09T17:06:53.830642Z"
    }
   },
   "outputs": [
    {
     "name": "stdout",
     "output_type": "stream",
     "text": [
      "Coefficients: \n",
      " [-3.10915851e-01  1.89757018e+02  5.42861196e+00 -4.30276882e-03]\n",
      "Mean squared error: 8.30\n",
      "Coefficient of determination: 0.98\n"
     ]
    },
    {
     "data": {
      "image/png": "[encoded data removed]",
      "text/plain": [
       "<Figure size 432x288 with 1 Axes>"
      ]
     },
     "metadata": {},
     "output_type": "display_data"
    }
   ],
   "source": [
    "regr = LinearRegression()\n",
    "regr.fit(X_train, y_train)\n",
    "\n",
    "# Make predictions using the testing set\n",
    "y_pred = regr.predict(X_test)\n",
    "\n",
    "# The coefficients\n",
    "print('Coefficients: \\n', regr.coef_)\n",
    "# The mean squared error\n",
    "print('Mean squared error: %.2f'\n",
    "      % mean_squared_error(y_test, y_pred))\n",
    "# The coefficient of determination: 1 is perfect prediction\n",
    "print('Coefficient of determination: %.2f'\n",
    "      % r2_score(y_test, y_pred))\n",
    "\n",
    "# Plot outputs\n",
    "plt.scatter(X_test['Volts_tot'], y_test,  color='black')\n",
    "#plt.plot(X_test['voltage'], color='blue', linewidth=3)\n",
    "\n",
    "plt.xticks(())\n",
    "plt.yticks(())\n",
    "\n",
    "plt.show()"
   ]
  },
  {
   "cell_type": "code",
   "execution_count": 8,
   "id": "f6b6277e",
   "metadata": {
    "ExecuteTime": {
     "end_time": "2021-10-09T17:49:30.421134Z",
     "start_time": "2021-10-09T17:09:22.280783Z"
    }
   },
   "outputs": [
    {
     "name": "stdout",
     "output_type": "stream",
     "text": [
      "Trial 30 Complete [00h 01m 18s]\n",
      "val_loss: 607.755859375\n",
      "\n",
      "Best val_loss So Far: 0.14743110537528992\n",
      "Total elapsed time: 00h 38m 43s\n",
      "INFO:tensorflow:Oracle triggered exit\n",
      "Epoch 1/30\n",
      "2169/2169 [==============================] - 3s 1ms/step - loss: 2618.1387 - mean_squared_error: 2618.1387\n",
      "Epoch 2/30\n",
      "2169/2169 [==============================] - 2s 1ms/step - loss: 288.5526 - mean_squared_error: 288.5526\n",
      "Epoch 3/30\n",
      "2169/2169 [==============================] - 3s 1ms/step - loss: 13.4812 - mean_squared_error: 13.4812\n",
      "Epoch 4/30\n",
      "2169/2169 [==============================] - 2s 1ms/step - loss: 5.9848 - mean_squared_error: 5.9848\n",
      "Epoch 5/30\n",
      "2169/2169 [==============================] - 2s 1ms/step - loss: 6.2873 - mean_squared_error: 6.2873\n",
      "Epoch 6/30\n",
      "2169/2169 [==============================] - 2s 1ms/step - loss: 5.9593 - mean_squared_error: 5.9593\n",
      "Epoch 7/30\n",
      "2169/2169 [==============================] - 2s 1ms/step - loss: 6.3150 - mean_squared_error: 6.3150: 0s - loss: 7.4394 - me\n",
      "Epoch 8/30\n",
      "2169/2169 [==============================] - 2s 1ms/step - loss: 5.8334 - mean_squared_error: 5.8334\n",
      "Epoch 9/30\n",
      "2169/2169 [==============================] - 2s 1ms/step - loss: 5.9112 - mean_squared_error: 5.9112\n",
      "Epoch 10/30\n",
      "2169/2169 [==============================] - 2s 1ms/step - loss: 4.9590 - mean_squared_error: 4.9590\n",
      "Epoch 11/30\n",
      "2169/2169 [==============================] - 2s 1ms/step - loss: 4.1101 - mean_squared_error: 4.1101\n",
      "Epoch 12/30\n",
      "2169/2169 [==============================] - 2s 1ms/step - loss: 2.9597 - mean_squared_error: 2.9597: 1s\n",
      "Epoch 13/30\n",
      "2169/2169 [==============================] - 2s 1ms/step - loss: 2.2141 - mean_squared_error: 2.2141\n",
      "Epoch 14/30\n",
      "2169/2169 [==============================] - 3s 1ms/step - loss: 1.6364 - mean_squared_error: 1.6364\n",
      "Epoch 15/30\n",
      "2169/2169 [==============================] - 2s 1ms/step - loss: 1.2327 - mean_squared_error: 1.2327\n",
      "Epoch 16/30\n",
      "2169/2169 [==============================] - 2s 1ms/step - loss: 0.8548 - mean_squared_error: 0.8548\n",
      "Epoch 17/30\n",
      "2169/2169 [==============================] - 2s 1ms/step - loss: 0.7538 - mean_squared_error: 0.7538\n",
      "Epoch 18/30\n",
      "2169/2169 [==============================] - 2s 1ms/step - loss: 0.4395 - mean_squared_error: 0.4395\n",
      "Epoch 19/30\n",
      "2169/2169 [==============================] - 2s 1ms/step - loss: 0.5160 - mean_squared_error: 0.5160\n",
      "Epoch 20/30\n",
      "2169/2169 [==============================] - 2s 1ms/step - loss: 0.7215 - mean_squared_error: 0.7215: 1s - l - ETA: 0s - loss: 0.8817 - me\n",
      "Epoch 21/30\n",
      "2169/2169 [==============================] - 2s 1ms/step - loss: 0.6643 - mean_squared_error: 0.6643\n",
      "Epoch 22/30\n",
      "2169/2169 [==============================] - 2s 1ms/step - loss: 0.5393 - mean_squared_error: 0.5393: 1s - los - ETA: 0s - loss: 0.6821 - me - ETA: 0s - loss: 0.5832 - mean_squared_error - ETA: 0s - loss: 0.5437 - mean_squared_error: 0.\n",
      "Epoch 23/30\n",
      "2169/2169 [==============================] - 2s 1ms/step - loss: 0.5912 - mean_squared_error: 0.5912: 0s - loss:\n",
      "Epoch 24/30\n",
      "2169/2169 [==============================] - 2s 1ms/step - loss: 0.5795 - mean_squared_error: 0.5795: 0s - loss: 0.7386 \n",
      "Epoch 25/30\n",
      "2169/2169 [==============================] - 2s 1ms/step - loss: 0.5817 - mean_squared_error: 0.5817\n",
      "Epoch 26/30\n",
      "2169/2169 [==============================] - 3s 1ms/step - loss: 0.4738 - mean_squared_error: 0.4738: 0s - loss: 0.6\n",
      "Epoch 27/30\n",
      "2169/2169 [==============================] - 3s 1ms/step - loss: 0.4551 - mean_squared_error: 0.4551: 0s - loss: 0.5\n",
      "Epoch 28/30\n",
      "2169/2169 [==============================] - 2s 1ms/step - loss: 0.3865 - mean_squared_error: 0.3865: 0s - loss: 0.3866 - mean_squared_error: 0.38\n",
      "Epoch 29/30\n",
      "2169/2169 [==============================] - 2s 1ms/step - loss: 0.3633 - mean_squared_error: 0.3633\n",
      "Epoch 30/30\n",
      "2169/2169 [==============================] - 2s 1ms/step - loss: 0.3868 - mean_squared_error: 0.3868\n"
     ]
    },
    {
     "name": "stderr",
     "output_type": "stream",
     "text": [
      "2021-10-09 18:49:26.528587: W tensorflow/python/util/util.cc:348] Sets are not currently considered sequences, but this may change in the future, so consider avoiding using them.\n"
     ]
    },
    {
     "name": "stdout",
     "output_type": "stream",
     "text": [
      "INFO:tensorflow:Assets written to: ./structured_data_regressor/best_model/assets\n",
      "930/930 [==============================] - 1s 832us/step\n",
      "930/930 [==============================] - 1s 878us/step - loss: 0.2359 - mean_squared_error: 0.2359\n",
      "[0.2358611673116684, 0.2358611673116684]\n"
     ]
    }
   ],
   "source": [
    "# It tries 10 different models.\n",
    "reg = ak.StructuredDataRegressor(max_trials=30, overwrite=True)\n",
    "# Feed the structured data regressor with training data.\n",
    "reg.fit(X_train, y_train, epochs=30)\n",
    "# Predict with the best model.\n",
    "predicted_y = reg.predict(X_test)\n",
    "# Evaluate the best model with testing data.\n",
    "print(reg.evaluate(X_test, y_test))"
   ]
  },
  {
   "cell_type": "code",
   "execution_count": 9,
   "id": "a7f43b28",
   "metadata": {
    "ExecuteTime": {
     "end_time": "2021-10-09T17:49:30.994838Z",
     "start_time": "2021-10-09T17:49:30.427664Z"
    }
   },
   "outputs": [
    {
     "name": "stdout",
     "output_type": "stream",
     "text": [
      "Model: \"model\"\n",
      "_________________________________________________________________\n",
      "Layer (type)                 Output Shape              Param #   \n",
      "=================================================================\n",
      "input_1 (InputLayer)         [(None, 4)]               0         \n",
      "_________________________________________________________________\n",
      "multi_category_encoding (Mul (None, 4)                 0         \n",
      "_________________________________________________________________\n",
      "normalization (Normalization (None, 4)                 9         \n",
      "_________________________________________________________________\n",
      "dense (Dense)                (None, 16)                80        \n",
      "_________________________________________________________________\n",
      "re_lu (ReLU)                 (None, 16)                0         \n",
      "_________________________________________________________________\n",
      "dense_1 (Dense)              (None, 32)                544       \n",
      "_________________________________________________________________\n",
      "re_lu_1 (ReLU)               (None, 32)                0         \n",
      "_________________________________________________________________\n",
      "regression_head_1 (Dense)    (None, 1)                 33        \n",
      "=================================================================\n",
      "Total params: 666\n",
      "Trainable params: 657\n",
      "Non-trainable params: 9\n",
      "_________________________________________________________________\n"
     ]
    }
   ],
   "source": [
    "model = reg.export_model()\n",
    "model.summary()"
   ]
  },
  {
   "cell_type": "code",
   "execution_count": 10,
   "id": "26705cf5",
   "metadata": {
    "ExecuteTime": {
     "end_time": "2021-10-09T17:49:31.750614Z",
     "start_time": "2021-10-09T17:49:31.000536Z"
    }
   },
   "outputs": [
    {
     "name": "stdout",
     "output_type": "stream",
     "text": [
      "INFO:tensorflow:Assets written to: model_autokeras_v2/assets\n"
     ]
    }
   ],
   "source": [
    "model.save(\"model_autokeras_v2\", save_format=\"tf\")"
   ]
  },
  {
   "cell_type": "code",
   "execution_count": 11,
   "id": "a6185d87",
   "metadata": {
    "ExecuteTime": {
     "end_time": "2021-10-09T17:49:32.046899Z",
     "start_time": "2021-10-09T17:49:31.755907Z"
    }
   },
   "outputs": [],
   "source": [
    "from tensorflow.keras.models import load_model\n",
    "loaded_model = load_model(\"model_autokeras\", custom_objects=ak.CUSTOM_OBJECTS)"
   ]
  },
  {
   "cell_type": "code",
   "execution_count": 12,
   "id": "cbf98ccb",
   "metadata": {
    "ExecuteTime": {
     "end_time": "2021-10-09T17:49:32.568912Z",
     "start_time": "2021-10-09T17:49:32.048836Z"
    }
   },
   "outputs": [
    {
     "data": {
      "application/javascript": [
       "\n",
       "        if (window._pyforest_update_imports_cell) { window._pyforest_update_imports_cell('import tensorflow as tf'); }\n",
       "    "
      ],
      "text/plain": [
       "<IPython.core.display.Javascript object>"
      ]
     },
     "metadata": {},
     "output_type": "display_data"
    }
   ],
   "source": [
    "predicted_y = loaded_model.predict(tf.expand_dims(X_test, -1))"
   ]
  },
  {
   "cell_type": "code",
   "execution_count": 13,
   "id": "3b9365d0",
   "metadata": {
    "ExecuteTime": {
     "end_time": "2021-10-09T17:49:32.576635Z",
     "start_time": "2021-10-09T17:49:32.570345Z"
    }
   },
   "outputs": [],
   "source": [
    "import matplotlib.pyplot as plt"
   ]
  },
  {
   "cell_type": "code",
   "execution_count": 14,
   "id": "fe819aeb",
   "metadata": {
    "ExecuteTime": {
     "end_time": "2021-10-09T17:49:32.929906Z",
     "start_time": "2021-10-09T17:49:32.579005Z"
    },
    "scrolled": true
   },
   "outputs": [
    {
     "data": {
      "application/javascript": [
       "\n",
       "        if (window._pyforest_update_imports_cell) { window._pyforest_update_imports_cell('import numpy as np\\nimport tensorflow as tf'); }\n",
       "    "
      ],
      "text/plain": [
       "<IPython.core.display.Javascript object>"
      ]
     },
     "metadata": {},
     "output_type": "display_data"
    },
    {
     "data": {
      "image/png": "[encoded data removed]",
      "text/plain": [
       "<Figure size 1440x1440 with 1 Axes>"
      ]
     },
     "metadata": {
      "needs_background": "light"
     },
     "output_type": "display_data"
    }
   ],
   "source": [
    "X = np.linspace(0,2500,2500)\n",
    "\n",
    "plt.figure(figsize=(20,20))\n",
    "plt.plot(X,predicted_y[3000:5500], label='predicted_data')\n",
    "plt.plot(X,y_test[3000:5500], label='real_data')\n",
    "plt.title('percentage of battery over discharge cycle')\n",
    "plt.xlabel('datapoints')\n",
    "plt.ylabel('percentage of battery')\n",
    "plt.legend()\n",
    "plt.show()"
   ]
  },
  {
   "cell_type": "code",
   "execution_count": 16,
   "id": "91e3dbc0",
   "metadata": {
    "ExecuteTime": {
     "end_time": "2021-10-09T17:54:43.972235Z",
     "start_time": "2021-10-09T17:54:42.657080Z"
    }
   },
   "outputs": [
    {
     "data": {
      "application/javascript": [
       "\n",
       "        if (window._pyforest_update_imports_cell) { window._pyforest_update_imports_cell('import numpy as np\\nimport tensorflow as tf'); }\n",
       "    "
      ],
      "text/plain": [
       "<IPython.core.display.Javascript object>"
      ]
     },
     "metadata": {},
     "output_type": "display_data"
    },
    {
     "data": {
      "application/javascript": [
       "\n",
       "        if (window._pyforest_update_imports_cell) { window._pyforest_update_imports_cell('import numpy as np\\nimport tensorflow as tf'); }\n",
       "    "
      ],
      "text/plain": [
       "<IPython.core.display.Javascript object>"
      ]
     },
     "metadata": {},
     "output_type": "display_data"
    }
   ],
   "source": [
    "df = pd.concat(map(pd.read_csv, glob.glob(os.path.join('', \"../../thesis/raw_data/results/*.txt\")))) # read data \n",
    "y_col='SOC_tot' # define y variable, i.e., what we want to predict\n",
    "\n",
    "test_size = int(len(df) * 0.1) # here I ask that the test data will be 10% (0.1) of the entire data\n",
    "train = df.iloc[:-test_size,:].copy() \n",
    "# Try using .loc[row_index,col_indexer] = value instead\n",
    "test = df.iloc[-test_size:,:].copy()\n",
    "\n",
    "\n",
    "X_train = train.drop(y_col,axis=1).copy()\n",
    "y_train = train[[y_col]].copy() # the double brakets here are to keep the y in dataframe format, otherwise it will be pandas Series\n",
    "\n",
    "Xscaler = MinMaxScaler(feature_range=(0, 1)) # scale so that all the X data will range from 0 to 1\n",
    "Xscaler.fit(X_train)\n",
    "scaled_X_train = Xscaler.transform(X_train)\n",
    "Yscaler = MinMaxScaler(feature_range=(0, 1))\n",
    "Yscaler.fit(y_train)\n",
    "scaled_y_train = Yscaler.transform(y_train)\n",
    "scaled_y_train = scaled_y_train.reshape(-1) # remove the second dimention from y so the shape changes from (n,1) to (n,)\n",
    "\n",
    "scaled_y_train = np.insert(scaled_y_train, 0, 0)\n",
    "scaled_y_train = np.delete(scaled_y_train, -1)"
   ]
  },
  {
   "cell_type": "code",
   "execution_count": 17,
   "id": "b50d88a1",
   "metadata": {
    "ExecuteTime": {
     "end_time": "2021-10-09T18:04:58.868462Z",
     "start_time": "2021-10-09T17:54:44.785730Z"
    }
   },
   "outputs": [
    {
     "name": "stderr",
     "output_type": "stream",
     "text": [
      "/Users/monmac/.pyenv/versions/3.8.6/envs/lewagon/lib/python3.8/site-packages/keras/engine/training.py:1915: UserWarning: `Model.fit_generator` is deprecated and will be removed in a future version. Please use `Model.fit`, which supports generators.\n",
      "  warnings.warn('`Model.fit_generator` is deprecated and '\n"
     ]
    },
    {
     "name": "stdout",
     "output_type": "stream",
     "text": [
      "Epoch 1/5\n"
     ]
    },
    {
     "name": "stderr",
     "output_type": "stream",
     "text": [
      "Exception ignored in: <function CapturableResource.__del__ at 0x144240160>\n",
      "Traceback (most recent call last):\n",
      "  File \"/Users/monmac/.pyenv/versions/3.8.6/envs/lewagon/lib/python3.8/site-packages/tensorflow/python/training/tracking/tracking.py\", line 277, in __del__\n",
      "    self._destroy_resource()\n",
      "  File \"/Users/monmac/.pyenv/versions/3.8.6/envs/lewagon/lib/python3.8/site-packages/tensorflow/python/eager/def_function.py\", line 889, in __call__\n",
      "    result = self._call(*args, **kwds)\n",
      "  File \"/Users/monmac/.pyenv/versions/3.8.6/envs/lewagon/lib/python3.8/site-packages/tensorflow/python/eager/def_function.py\", line 924, in _call\n",
      "    results = self._stateful_fn(*args, **kwds)\n",
      "  File \"/Users/monmac/.pyenv/versions/3.8.6/envs/lewagon/lib/python3.8/site-packages/tensorflow/python/eager/function.py\", line 3022, in __call__\n",
      "    filtered_flat_args) = self._maybe_define_function(args, kwargs)\n",
      "  File \"/Users/monmac/.pyenv/versions/3.8.6/envs/lewagon/lib/python3.8/site-packages/tensorflow/python/eager/function.py\", line 3444, in _maybe_define_function\n",
      "    graph_function = self._create_graph_function(args, kwargs)\n",
      "  File \"/Users/monmac/.pyenv/versions/3.8.6/envs/lewagon/lib/python3.8/site-packages/tensorflow/python/eager/function.py\", line 3279, in _create_graph_function\n",
      "    func_graph_module.func_graph_from_py_func(\n",
      "  File \"/Users/monmac/.pyenv/versions/3.8.6/envs/lewagon/lib/python3.8/site-packages/tensorflow/python/framework/func_graph.py\", line 999, in func_graph_from_py_func\n",
      "    func_outputs = python_func(*func_args, **func_kwargs)\n",
      "  File \"/Users/monmac/.pyenv/versions/3.8.6/envs/lewagon/lib/python3.8/site-packages/tensorflow/python/eager/def_function.py\", line 672, in wrapped_fn\n",
      "    out = weak_wrapped_fn().__wrapped__(*args, **kwds)\n",
      "AttributeError: 'NoneType' object has no attribute '__wrapped__'\n"
     ]
    },
    {
     "name": "stdout",
     "output_type": "stream",
     "text": [
      "14976/14976 [==============================] - 142s 8ms/step - loss: 0.0375\n",
      "Epoch 2/5\n",
      "14976/14976 [==============================] - 109s 7ms/step - loss: 9.4353e-04\n",
      "Epoch 3/5\n",
      "14976/14976 [==============================] - 105s 7ms/step - loss: 6.4812e-04\n",
      "Epoch 4/5\n",
      "14976/14976 [==============================] - 107s 7ms/step - loss: 5.4875e-04\n",
      "Epoch 5/5\n",
      "14976/14976 [==============================] - 147s 10ms/step - loss: 4.7485e-04\n"
     ]
    },
    {
     "data": {
      "application/javascript": [
       "\n",
       "        if (window._pyforest_update_imports_cell) { window._pyforest_update_imports_cell('import numpy as np\\nimport tensorflow as tf'); }\n",
       "    "
      ],
      "text/plain": [
       "<IPython.core.display.Javascript object>"
      ]
     },
     "metadata": {},
     "output_type": "display_data"
    }
   ],
   "source": [
    "from sklearn.preprocessing import MinMaxScaler\n",
    "from pandas.plotting import register_matplotlib_converters\n",
    "register_matplotlib_converters()\n",
    "from keras.preprocessing.sequence import TimeseriesGenerator\n",
    "from keras.models import Sequential\n",
    "from keras.layers import Dense\n",
    "from keras.layers import LSTM\n",
    "\n",
    "from tensorflow.keras.layers import GRU\n",
    "n_input = 25 #how many samples/rows/timesteps to look in the past in order to forecast the next sample\n",
    "n_features= X_train.shape[1] # how many predictors/Xs/features we have to predict y\n",
    "b_size = 32 # Number of timeseries samples in each batch\n",
    "generator = TimeseriesGenerator(scaled_X_train, scaled_y_train, length=n_input, batch_size=b_size)\n",
    "\n",
    "model = Sequential()\n",
    "model.add(GRU(10, activation='relu', input_shape=(n_input, n_features)))\n",
    "model.add(Dense(1))\n",
    "model.compile(optimizer='adam', loss='mse')\n",
    "\n",
    "model.fit_generator(generator,epochs=5)\n",
    "\n",
    "X_test = test.drop(y_col,axis=1).copy()\n",
    "scaled_X_test = Xscaler.transform(X_test)\n",
    "test_generator = TimeseriesGenerator(scaled_X_test, np.zeros(len(X_test)), length=n_input, batch_size=b_size)\n",
    "\n",
    "y_pred_scaled = model.predict(test_generator)\n",
    "y_pred = Yscaler.inverse_transform(y_pred_scaled)\n",
    "results = pd.DataFrame({'y_true':test[y_col].values[n_input:],'y_pred':y_pred.ravel()})"
   ]
  },
  {
   "cell_type": "code",
   "execution_count": 18,
   "id": "b2f6824f",
   "metadata": {
    "ExecuteTime": {
     "end_time": "2021-10-09T18:04:59.276367Z",
     "start_time": "2021-10-09T18:04:58.873066Z"
    }
   },
   "outputs": [
    {
     "data": {
      "application/javascript": [
       "\n",
       "        if (window._pyforest_update_imports_cell) { window._pyforest_update_imports_cell('import numpy as np\\nimport tensorflow as tf'); }\n",
       "    "
      ],
      "text/plain": [
       "<IPython.core.display.Javascript object>"
      ]
     },
     "metadata": {},
     "output_type": "display_data"
    },
    {
     "data": {
      "image/png": "[encoded data removed]",
      "text/plain": [
       "<Figure size 1440x1440 with 1 Axes>"
      ]
     },
     "metadata": {
      "needs_background": "light"
     },
     "output_type": "display_data"
    }
   ],
   "source": [
    "X = np.linspace(0,10000,10000)\n",
    "plt.figure(figsize=(20,20))\n",
    "plt.plot(X,results['y_true'][0:10000], label='real_data')\n",
    "plt.plot(X,results['y_pred'][0:10000], label='predicted_data')\n",
    "plt.title('percentage of battery over discharge cycle')\n",
    "plt.xlabel('datapoints')\n",
    "plt.ylabel('percentage of battery')\n",
    "plt.legend()\n",
    "plt.show()"
   ]
  },
  {
   "cell_type": "code",
   "execution_count": 34,
   "id": "7468bd30",
   "metadata": {
    "ExecuteTime": {
     "end_time": "2021-10-11T11:03:55.180828Z",
     "start_time": "2021-10-11T11:03:55.163250Z"
    }
   },
   "outputs": [],
   "source": [
    "import xgboost\n",
    "from xgboost import XGBRegressor\n",
    "from sklearn.metrics import mean_absolute_error"
   ]
  },
  {
   "cell_type": "code",
   "execution_count": 209,
   "id": "355f1689",
   "metadata": {
    "ExecuteTime": {
     "end_time": "2021-10-14T10:54:38.780998Z",
     "start_time": "2021-10-14T10:52:56.657956Z"
    }
   },
   "outputs": [
    {
     "data": {
      "text/plain": [
       "XGBRegressor(base_score=0.5, booster='gbtree', colsample_bylevel=1,\n",
       "             colsample_bynode=1, colsample_bytree=1, gamma=0, gpu_id=-1,\n",
       "             importance_type='gain', interaction_constraints='',\n",
       "             learning_rate=0.300000012, max_delta_step=0, max_depth=20,\n",
       "             min_child_weight=1, missing=nan, monotone_constraints='()',\n",
       "             n_estimators=100, n_jobs=6, num_parallel_tree=1,\n",
       "             objective='reg:squarederror', random_state=0, reg_alpha=0,\n",
       "             reg_lambda=1, scale_pos_weight=1, subsample=1, tree_method='exact',\n",
       "             validate_parameters=1, verbosity=None)"
      ]
     },
     "execution_count": 209,
     "metadata": {},
     "output_type": "execute_result"
    }
   ],
   "source": [
    "model = XGBRegressor(max_depth=20, n_jobs=6)\n",
    "model.fit(X_train, y_train)"
   ]
  },
  {
   "cell_type": "code",
   "execution_count": 210,
   "id": "645b98b7",
   "metadata": {
    "ExecuteTime": {
     "end_time": "2021-10-14T10:54:39.503211Z",
     "start_time": "2021-10-14T10:54:38.790040Z"
    }
   },
   "outputs": [],
   "source": [
    "y_pred=model.predict(X_test)"
   ]
  },
  {
   "cell_type": "code",
   "execution_count": 211,
   "id": "5e46e286",
   "metadata": {
    "ExecuteTime": {
     "end_time": "2021-10-14T10:54:39.541164Z",
     "start_time": "2021-10-14T10:54:39.506240Z"
    }
   },
   "outputs": [
    {
     "data": {
      "text/plain": [
       "array([45.731377 , 45.74463  , 45.728302 , ...,  4.1759095,  4.185259 ,\n",
       "        4.185259 ], dtype=float32)"
      ]
     },
     "execution_count": 211,
     "metadata": {},
     "output_type": "execute_result"
    }
   ],
   "source": [
    "y_pred"
   ]
  },
  {
   "cell_type": "code",
   "execution_count": 212,
   "id": "a7fb3e58",
   "metadata": {
    "ExecuteTime": {
     "end_time": "2021-10-14T10:54:39.579762Z",
     "start_time": "2021-10-14T10:54:39.544967Z"
    }
   },
   "outputs": [
    {
     "data": {
      "text/plain": [
       "1722    45.735556\n",
       "1723    45.729991\n",
       "1724    45.725862\n",
       "1725    45.721733\n",
       "1726    45.717604\n",
       "          ...    \n",
       "5543     3.757894\n",
       "5544     3.768918\n",
       "5545     3.779942\n",
       "5546     3.790967\n",
       "5547     3.801991\n",
       "Name: SOC_tot, Length: 159750, dtype: float64"
      ]
     },
     "execution_count": 212,
     "metadata": {},
     "output_type": "execute_result"
    }
   ],
   "source": [
    "y_test"
   ]
  },
  {
   "cell_type": "code",
   "execution_count": 213,
   "id": "4e034b33",
   "metadata": {
    "ExecuteTime": {
     "end_time": "2021-10-14T10:54:39.627264Z",
     "start_time": "2021-10-14T10:54:39.582623Z"
    }
   },
   "outputs": [
    {
     "data": {
      "text/plain": [
       "0.8838557435493707"
      ]
     },
     "execution_count": 213,
     "metadata": {},
     "output_type": "execute_result"
    }
   ],
   "source": [
    "mean_absolute_error(y_test,y_pred)"
   ]
  },
  {
   "cell_type": "code",
   "execution_count": 214,
   "id": "c01f2228",
   "metadata": {
    "ExecuteTime": {
     "end_time": "2021-10-16T12:01:25.735256Z",
     "start_time": "2021-10-16T12:01:22.754138Z"
    }
   },
   "outputs": [
    {
     "data": {
      "image/png": "[encoded data removed]",
      "text/plain": [
       "<Figure size 1440x1440 with 1 Axes>"
      ]
     },
     "metadata": {
      "needs_background": "light"
     },
     "output_type": "display_data"
    }
   ],
   "source": [
    "X = np.linspace(0,50000,50000)\n",
    "plt.figure(figsize=(20,20))\n",
    "plt.plot(X,y_pred[0:50000], label='predicted_data')\n",
    "plt.plot(X,y_test[0:50000], label='real_data')\n",
    "plt.title('percentage of battery over discharge cycle')\n",
    "plt.xlabel('datapoints')\n",
    "plt.ylabel('percentage of battery')\n",
    "plt.legend()\n",
    "plt.show()"
   ]
  },
  {
   "cell_type": "code",
   "execution_count": 48,
   "id": "4236d0ca",
   "metadata": {
    "ExecuteTime": {
     "end_time": "2021-10-11T21:31:59.670505Z",
     "start_time": "2021-10-11T18:22:31.778731Z"
    }
   },
   "outputs": [
    {
     "name": "stderr",
     "output_type": "stream",
     "text": [
      "/Users/monmac/.pyenv/versions/3.8.6/envs/lewagon/lib/python3.8/site-packages/keras/engine/training.py:1915: UserWarning: `Model.fit_generator` is deprecated and will be removed in a future version. Please use `Model.fit`, which supports generators.\n",
      "  warnings.warn('`Model.fit_generator` is deprecated and '\n"
     ]
    },
    {
     "name": "stdout",
     "output_type": "stream",
     "text": [
      "Epoch 1/10\n",
      "59903/59903 [==============================] - 702s 12ms/step - loss: 0.0108\n",
      "Epoch 2/10\n",
      "59903/59903 [==============================] - 700s 12ms/step - loss: 4.2460e-04\n",
      "Epoch 3/10\n",
      "59903/59903 [==============================] - 644s 11ms/step - loss: 3.1996e-04\n",
      "Epoch 4/10\n",
      "59903/59903 [==============================] - 675s 11ms/step - loss: 2.7414e-04\n",
      "Epoch 5/10\n",
      "59903/59903 [==============================] - 694s 12ms/step - loss: 2.2369e-04\n",
      "Epoch 6/10\n",
      "59903/59903 [==============================] - 4626s 77ms/step - loss: 2.0352e-04\n",
      "Epoch 7/10\n",
      "59903/59903 [==============================] - 1080s 18ms/step - loss: 1.9012e-04\n",
      "Epoch 8/10\n",
      "59903/59903 [==============================] - 828s 14ms/step - loss: 1.7972e-04\n",
      "Epoch 9/10\n",
      "59903/59903 [==============================] - 708s 12ms/step - loss: 1.6726e-04\n",
      "Epoch 10/10\n",
      "59903/59903 [==============================] - 690s 12ms/step - loss: 1.5871e-041s -\n"
     ]
    }
   ],
   "source": [
    "import pandas as pd\n",
    "import numpy as np\n",
    "import keras\n",
    "import matplotlib.pyplot as plt\n",
    "from sklearn.preprocessing import MinMaxScaler\n",
    "from pandas.plotting import register_matplotlib_converters\n",
    "register_matplotlib_converters()\n",
    "from keras.preprocessing.sequence import TimeseriesGenerator\n",
    "from keras.models import Sequential\n",
    "from keras.layers import Dense\n",
    "from keras.layers import LSTM\n",
    "\n",
    "df = pd.concat(map(pd.read_csv, glob.glob(os.path.join('', \"../../thesis/raw_data/results/*.txt\")))) # read data \n",
    "y_col='SOC_tot' # define y variable, i.e., what we want to predict\n",
    "\n",
    "test_size = int(len(df) * 0.1) # here I ask that the test data will be 10% (0.1) of the entire data\n",
    "train = df.iloc[:-test_size,:].copy() \n",
    "# Try using .loc[row_index,col_indexer] = value instead\n",
    "test = df.iloc[-test_size:,:].copy()\n",
    "\n",
    "\n",
    "X_train = train.drop(y_col,axis=1).copy()\n",
    "y_train = train[[y_col]].copy() # the double brakets here are to keep the y in dataframe format, otherwise it will be pandas Series\n",
    "\n",
    "Xscaler = MinMaxScaler(feature_range=(0, 1)) # scale so that all the X data will range from 0 to 1\n",
    "Xscaler.fit(X_train)\n",
    "scaled_X_train = Xscaler.transform(X_train)\n",
    "Yscaler = MinMaxScaler(feature_range=(0, 1))\n",
    "Yscaler.fit(y_train)\n",
    "scaled_y_train = Yscaler.transform(y_train)\n",
    "scaled_y_train = scaled_y_train.reshape(-1) # remove the second dimention from y so the shape changes from (n,1) to (n,)\n",
    "\n",
    "scaled_y_train = np.insert(scaled_y_train, 0, 0)\n",
    "scaled_y_train = np.delete(scaled_y_train, -1)\n",
    "n_input = 25 #how many samples/rows/timesteps to look in the past in order to forecast the next sample\n",
    "n_features= X_train.shape[1] # how many predictors/Xs/features we have to predict y\n",
    "b_size = 8 # Number of timeseries samples in each batch\n",
    "generator = TimeseriesGenerator(scaled_X_train, scaled_y_train, length=n_input, batch_size=b_size)\n",
    "\n",
    "model = Sequential()\n",
    "model.add(LSTM(8, activation='relu', input_shape=(n_input, n_features), return_sequences=True))\n",
    "model.add(LSTM(8, activation='relu',input_shape=(n_input, n_features)))\n",
    "\n",
    "model.add(Dense(1))\n",
    "model.compile(optimizer='adam', loss='mse')\n",
    "\n",
    "model.fit_generator(generator,epochs=10)\n",
    "\n",
    "X_test = test.drop(y_col,axis=1).copy()\n",
    "scaled_X_test = Xscaler.transform(X_test)\n",
    "test_generator = TimeseriesGenerator(scaled_X_test, np.zeros(len(X_test)), length=n_input, batch_size=b_size)\n",
    "\n",
    "y_pred_scaled = model.predict(test_generator)\n",
    "y_pred = Yscaler.inverse_transform(y_pred_scaled)\n",
    "results = pd.DataFrame({'y_true':test[y_col].values[n_input:],'y_pred':y_pred.ravel()})"
   ]
  },
  {
   "cell_type": "code",
   "execution_count": 169,
   "id": "b6687677",
   "metadata": {
    "ExecuteTime": {
     "end_time": "2021-10-12T11:01:09.570943Z",
     "start_time": "2021-10-12T11:01:09.046882Z"
    }
   },
   "outputs": [
    {
     "data": {
      "image/png": "[encoded data removed]",
      "text/plain": [
       "<Figure size 1440x1440 with 1 Axes>"
      ]
     },
     "metadata": {
      "needs_background": "light"
     },
     "output_type": "display_data"
    }
   ],
   "source": [
    "X = np.linspace(0,5000,5000)\n",
    "plt.figure(figsize=(20,20))\n",
    "plt.plot(X,results['y_true'][0:5000], label='real_data')\n",
    "plt.plot(X,results['y_pred'][0:5000], label='predicted_data')\n",
    "plt.title('percentage of battery over discharge cycle')\n",
    "plt.xlabel('datapoints')\n",
    "plt.ylabel('percentage of battery')\n",
    "plt.legend()\n",
    "plt.show()"
   ]
  },
  {
   "cell_type": "code",
   "execution_count": 49,
   "id": "a43f76fb",
   "metadata": {
    "ExecuteTime": {
     "end_time": "2021-10-12T09:21:04.739756Z",
     "start_time": "2021-10-12T09:20:51.642332Z"
    }
   },
   "outputs": [],
   "source": [
    "mat = scipy.io.loadmat('/Users/monmac/Downloads/Battery_Uniform_Distribution_Charge_Discharge_DataSet_2Post/data/Matlab/RW9.mat')"
   ]
  },
  {
   "cell_type": "code",
   "execution_count": 50,
   "id": "9f4d4aba",
   "metadata": {
    "ExecuteTime": {
     "end_time": "2021-10-12T09:21:05.067313Z",
     "start_time": "2021-10-12T09:21:04.751788Z"
    }
   },
   "outputs": [],
   "source": [
    "df=pd.DataFrame(mat['data'][0][0][0][0], columns=['comment','type','time','relativeTime','voltage','current','temperature','date'])"
   ]
  },
  {
   "cell_type": "code",
   "execution_count": 94,
   "id": "8c434b47",
   "metadata": {
    "ExecuteTime": {
     "end_time": "2021-10-12T09:34:41.403487Z",
     "start_time": "2021-10-12T09:34:40.762591Z"
    }
   },
   "outputs": [],
   "source": [
    "table = []\n",
    "for x in range(10):\n",
    "    rows = []\n",
    "    for i in range(8):\n",
    "        rows.append(mat['data'][0][0][0][0][x][i])\n",
    "    table.append(rows)\n",
    "    \n",
    "df1=pd.DataFrame(table, columns=['comment','type','time','relativeTime','voltage','current','temperature','date'])\n",
    "df1=df.drop(columns=['comment','type','date'])\n",
    "\n",
    "\n",
    "columns = ['time','relativeTime','voltage','current','temperature']\n",
    "\n",
    "#this will output in a dataframe the cycle number z contained in the dataset \n",
    "z=22\n",
    "dict1={}\n",
    "for x in columns:\n",
    "    list1 = []\n",
    "    for i in range(len(df1.loc[:,x][z][0])):\n",
    "        list1.append(df1.loc[:,x][z][0][i])\n",
    "    dict1[f'{x}']=list1\n",
    "any_cycle=pd.DataFrame(dict1)\n",
    "any_cycle=any_cycle.drop(columns='time')\n",
    "any_cycle=any_cycle.rename(columns={'relativeTime':'t_tot','voltage':'Volts_tot','current':'curr_dens','temperature':'Temp_tot'})\n",
    "columns = list(X_train.columns)\n",
    "any_cycle = any_cycle[columns]\n",
    "any_cycle['Temp_tot']=any_cycle['Temp_tot']+273.15\n",
    "further_scaled_X_test = Xscaler.transform(any_cycle)\n",
    "further_test_generator = TimeseriesGenerator(further_scaled_X_test, np.zeros(len(any_cycle)), length=n_input, batch_size=b_size)\n",
    "\n",
    "y_pred_further=model.predict(further_test_generator)"
   ]
  },
  {
   "cell_type": "code",
   "execution_count": 95,
   "id": "a6b2ca1e",
   "metadata": {
    "ExecuteTime": {
     "end_time": "2021-10-12T09:34:41.720491Z",
     "start_time": "2021-10-12T09:34:41.405621Z"
    }
   },
   "outputs": [
    {
     "data": {
      "image/png": "[encoded data removed]",
      "text/plain": [
       "<Figure size 1440x1440 with 1 Axes>"
      ]
     },
     "metadata": {
      "needs_background": "light"
     },
     "output_type": "display_data"
    }
   ],
   "source": [
    "len1 = len(y_pred_further)\n",
    "\n",
    "X = np.linspace(0,len1,len1)\n",
    "plt.figure(figsize=(20,20))\n",
    "plt.plot(X,y_pred_further, label='predicted_data')\n",
    "plt.title('percentage of battery over discharge cycle')\n",
    "plt.xlabel('datapoints')\n",
    "plt.ylabel('percentage of battery')\n",
    "plt.legend()\n",
    "plt.show()"
   ]
  },
  {
   "cell_type": "code",
   "execution_count": 164,
   "id": "26d81580",
   "metadata": {
    "ExecuteTime": {
     "end_time": "2021-10-12T09:58:41.880948Z",
     "start_time": "2021-10-12T09:58:41.859600Z"
    }
   },
   "outputs": [],
   "source": [
    "mat = scipy.io.loadmat('/Users/monmac/Downloads/Panasonic/10degC/ChargesandPauses/03-28-17_11.52_3423_Pause1.mat')"
   ]
  },
  {
   "cell_type": "code",
   "execution_count": 165,
   "id": "5db985d2",
   "metadata": {
    "ExecuteTime": {
     "end_time": "2021-10-12T09:58:44.307647Z",
     "start_time": "2021-10-12T09:58:44.298481Z"
    }
   },
   "outputs": [],
   "source": [
    "import pandas as pd"
   ]
  },
  {
   "cell_type": "code",
   "execution_count": 166,
   "id": "092498eb",
   "metadata": {
    "ExecuteTime": {
     "end_time": "2021-10-12T09:58:44.572113Z",
     "start_time": "2021-10-12T09:58:44.522640Z"
    }
   },
   "outputs": [
    {
     "data": {
      "text/html": [
       "<div>\n",
       "<style scoped>\n",
       "    .dataframe tbody tr th:only-of-type {\n",
       "        vertical-align: middle;\n",
       "    }\n",
       "\n",
       "    .dataframe tbody tr th {\n",
       "        vertical-align: top;\n",
       "    }\n",
       "\n",
       "    .dataframe thead th {\n",
       "        text-align: right;\n",
       "    }\n",
       "</style>\n",
       "<table border=\"1\" class=\"dataframe\">\n",
       "  <thead>\n",
       "    <tr style=\"text-align: right;\">\n",
       "      <th></th>\n",
       "      <th>0</th>\n",
       "    </tr>\n",
       "  </thead>\n",
       "  <tbody>\n",
       "    <tr>\n",
       "      <th>0</th>\n",
       "      <td>4.18784</td>\n",
       "    </tr>\n",
       "    <tr>\n",
       "      <th>1</th>\n",
       "      <td>4.18720</td>\n",
       "    </tr>\n",
       "    <tr>\n",
       "      <th>2</th>\n",
       "      <td>4.18656</td>\n",
       "    </tr>\n",
       "    <tr>\n",
       "      <th>3</th>\n",
       "      <td>4.18591</td>\n",
       "    </tr>\n",
       "    <tr>\n",
       "      <th>4</th>\n",
       "      <td>4.18527</td>\n",
       "    </tr>\n",
       "    <tr>\n",
       "      <th>...</th>\n",
       "      <td>...</td>\n",
       "    </tr>\n",
       "    <tr>\n",
       "      <th>56</th>\n",
       "      <td>4.18077</td>\n",
       "    </tr>\n",
       "    <tr>\n",
       "      <th>57</th>\n",
       "      <td>4.18077</td>\n",
       "    </tr>\n",
       "    <tr>\n",
       "      <th>58</th>\n",
       "      <td>4.18077</td>\n",
       "    </tr>\n",
       "    <tr>\n",
       "      <th>59</th>\n",
       "      <td>4.18077</td>\n",
       "    </tr>\n",
       "    <tr>\n",
       "      <th>60</th>\n",
       "      <td>4.18077</td>\n",
       "    </tr>\n",
       "  </tbody>\n",
       "</table>\n",
       "<p>61 rows × 1 columns</p>\n",
       "</div>"
      ],
      "text/plain": [
       "          0\n",
       "0   4.18784\n",
       "1   4.18720\n",
       "2   4.18656\n",
       "3   4.18591\n",
       "4   4.18527\n",
       "..      ...\n",
       "56  4.18077\n",
       "57  4.18077\n",
       "58  4.18077\n",
       "59  4.18077\n",
       "60  4.18077\n",
       "\n",
       "[61 rows x 1 columns]"
      ]
     },
     "execution_count": 166,
     "metadata": {},
     "output_type": "execute_result"
    }
   ],
   "source": [
    "pd.DataFrame(mat['meas'][0][0][1])"
   ]
  },
  {
   "cell_type": "code",
   "execution_count": 167,
   "id": "c021d49c",
   "metadata": {
    "ExecuteTime": {
     "end_time": "2021-10-12T09:58:47.197146Z",
     "start_time": "2021-10-12T09:58:47.169538Z"
    }
   },
   "outputs": [
    {
     "data": {
      "text/plain": [
       "array([(array([[array(['3/28/2017 11:52:46 AM'], dtype='<U21')],\n",
       "       [array(['3/28/2017 11:53:46 AM'], dtype='<U21')],\n",
       "       [array(['3/28/2017 11:54:46 AM'], dtype='<U21')],\n",
       "       [array(['3/28/2017 11:55:46 AM'], dtype='<U21')],\n",
       "       [array(['3/28/2017 11:56:46 AM'], dtype='<U21')],\n",
       "       [array(['3/28/2017 11:57:46 AM'], dtype='<U21')],\n",
       "       [array(['3/28/2017 11:58:46 AM'], dtype='<U21')],\n",
       "       [array(['3/28/2017 11:59:46 AM'], dtype='<U21')],\n",
       "       [array(['3/28/2017 12:00:46 PM'], dtype='<U21')],\n",
       "       [array(['3/28/2017 12:01:46 PM'], dtype='<U21')],\n",
       "       [array(['3/28/2017 12:02:46 PM'], dtype='<U21')],\n",
       "       [array(['3/28/2017 12:03:46 PM'], dtype='<U21')],\n",
       "       [array(['3/28/2017 12:04:46 PM'], dtype='<U21')],\n",
       "       [array(['3/28/2017 12:05:46 PM'], dtype='<U21')],\n",
       "       [array(['3/28/2017 12:06:46 PM'], dtype='<U21')],\n",
       "       [array(['3/28/2017 12:07:46 PM'], dtype='<U21')],\n",
       "       [array(['3/28/2017 12:08:46 PM'], dtype='<U21')],\n",
       "       [array(['3/28/2017 12:09:46 PM'], dtype='<U21')],\n",
       "       [array(['3/28/2017 12:10:46 PM'], dtype='<U21')],\n",
       "       [array(['3/28/2017 12:11:46 PM'], dtype='<U21')],\n",
       "       [array(['3/28/2017 12:12:46 PM'], dtype='<U21')],\n",
       "       [array(['3/28/2017 12:13:46 PM'], dtype='<U21')],\n",
       "       [array(['3/28/2017 12:14:46 PM'], dtype='<U21')],\n",
       "       [array(['3/28/2017 12:15:46 PM'], dtype='<U21')],\n",
       "       [array(['3/28/2017 12:16:46 PM'], dtype='<U21')],\n",
       "       [array(['3/28/2017 12:17:46 PM'], dtype='<U21')],\n",
       "       [array(['3/28/2017 12:18:46 PM'], dtype='<U21')],\n",
       "       [array(['3/28/2017 12:19:46 PM'], dtype='<U21')],\n",
       "       [array(['3/28/2017 12:20:46 PM'], dtype='<U21')],\n",
       "       [array(['3/28/2017 12:21:46 PM'], dtype='<U21')],\n",
       "       [array(['3/28/2017 12:22:46 PM'], dtype='<U21')],\n",
       "       [array(['3/28/2017 12:23:46 PM'], dtype='<U21')],\n",
       "       [array(['3/28/2017 12:24:46 PM'], dtype='<U21')],\n",
       "       [array(['3/28/2017 12:25:46 PM'], dtype='<U21')],\n",
       "       [array(['3/28/2017 12:26:46 PM'], dtype='<U21')],\n",
       "       [array(['3/28/2017 12:27:46 PM'], dtype='<U21')],\n",
       "       [array(['3/28/2017 12:28:46 PM'], dtype='<U21')],\n",
       "       [array(['3/28/2017 12:29:46 PM'], dtype='<U21')],\n",
       "       [array(['3/28/2017 12:30:46 PM'], dtype='<U21')],\n",
       "       [array(['3/28/2017 12:31:46 PM'], dtype='<U21')],\n",
       "       [array(['3/28/2017 12:32:46 PM'], dtype='<U21')],\n",
       "       [array(['3/28/2017 12:33:46 PM'], dtype='<U21')],\n",
       "       [array(['3/28/2017 12:34:46 PM'], dtype='<U21')],\n",
       "       [array(['3/28/2017 12:35:46 PM'], dtype='<U21')],\n",
       "       [array(['3/28/2017 12:36:46 PM'], dtype='<U21')],\n",
       "       [array(['3/28/2017 12:37:46 PM'], dtype='<U21')],\n",
       "       [array(['3/28/2017 12:38:46 PM'], dtype='<U21')],\n",
       "       [array(['3/28/2017 12:39:46 PM'], dtype='<U21')],\n",
       "       [array(['3/28/2017 12:40:46 PM'], dtype='<U21')],\n",
       "       [array(['3/28/2017 12:41:46 PM'], dtype='<U21')],\n",
       "       [array(['3/28/2017 12:42:46 PM'], dtype='<U21')],\n",
       "       [array(['3/28/2017 12:43:46 PM'], dtype='<U21')],\n",
       "       [array(['3/28/2017 12:44:46 PM'], dtype='<U21')],\n",
       "       [array(['3/28/2017 12:45:46 PM'], dtype='<U21')],\n",
       "       [array(['3/28/2017 12:46:46 PM'], dtype='<U21')],\n",
       "       [array(['3/28/2017 12:47:46 PM'], dtype='<U21')],\n",
       "       [array(['3/28/2017 12:48:46 PM'], dtype='<U21')],\n",
       "       [array(['3/28/2017 12:49:46 PM'], dtype='<U21')],\n",
       "       [array(['3/28/2017 12:50:46 PM'], dtype='<U21')],\n",
       "       [array(['3/28/2017 12:51:46 PM'], dtype='<U21')],\n",
       "       [array(['3/28/2017 12:51:46 PM'], dtype='<U21')]], dtype=object), array([[4.18784],\n",
       "       [4.1872 ],\n",
       "       [4.18656],\n",
       "       [4.18591],\n",
       "       [4.18527],\n",
       "       [4.18527],\n",
       "       [4.18463],\n",
       "       [4.18463],\n",
       "       [4.18398],\n",
       "       [4.18398],\n",
       "       [4.18398],\n",
       "       [4.18334],\n",
       "       [4.18334],\n",
       "       [4.18334],\n",
       "       [4.18334],\n",
       "       [4.1827 ],\n",
       "       [4.1827 ],\n",
       "       [4.1827 ],\n",
       "       [4.1827 ],\n",
       "       [4.1827 ],\n",
       "       [4.1827 ],\n",
       "       [4.1827 ],\n",
       "       [4.1827 ],\n",
       "       [4.18205],\n",
       "       [4.18205],\n",
       "       [4.18205],\n",
       "       [4.18205],\n",
       "       [4.18205],\n",
       "       [4.18205],\n",
       "       [4.18205],\n",
       "       [4.18205],\n",
       "       [4.18205],\n",
       "       [4.18205],\n",
       "       [4.18205],\n",
       "       [4.18141],\n",
       "       [4.18141],\n",
       "       [4.18141],\n",
       "       [4.18141],\n",
       "       [4.18141],\n",
       "       [4.18141],\n",
       "       [4.18141],\n",
       "       [4.18141],\n",
       "       [4.18141],\n",
       "       [4.18141],\n",
       "       [4.18141],\n",
       "       [4.18141],\n",
       "       [4.18077],\n",
       "       [4.18077],\n",
       "       [4.18077],\n",
       "       [4.18077],\n",
       "       [4.18077],\n",
       "       [4.18077],\n",
       "       [4.18077],\n",
       "       [4.18077],\n",
       "       [4.18077],\n",
       "       [4.18077],\n",
       "       [4.18077],\n",
       "       [4.18077],\n",
       "       [4.18077],\n",
       "       [4.18077],\n",
       "       [4.18077]]), array([[0],\n",
       "       [0],\n",
       "       [0],\n",
       "       [0],\n",
       "       [0],\n",
       "       [0],\n",
       "       [0],\n",
       "       [0],\n",
       "       [0],\n",
       "       [0],\n",
       "       [0],\n",
       "       [0],\n",
       "       [0],\n",
       "       [0],\n",
       "       [0],\n",
       "       [0],\n",
       "       [0],\n",
       "       [0],\n",
       "       [0],\n",
       "       [0],\n",
       "       [0],\n",
       "       [0],\n",
       "       [0],\n",
       "       [0],\n",
       "       [0],\n",
       "       [0],\n",
       "       [0],\n",
       "       [0],\n",
       "       [0],\n",
       "       [0],\n",
       "       [0],\n",
       "       [0],\n",
       "       [0],\n",
       "       [0],\n",
       "       [0],\n",
       "       [0],\n",
       "       [0],\n",
       "       [0],\n",
       "       [0],\n",
       "       [0],\n",
       "       [0],\n",
       "       [0],\n",
       "       [0],\n",
       "       [0],\n",
       "       [0],\n",
       "       [0],\n",
       "       [0],\n",
       "       [0],\n",
       "       [0],\n",
       "       [0],\n",
       "       [0],\n",
       "       [0],\n",
       "       [0],\n",
       "       [0],\n",
       "       [0],\n",
       "       [0],\n",
       "       [0],\n",
       "       [0],\n",
       "       [0],\n",
       "       [0],\n",
       "       [0]], dtype=uint8), array([[0],\n",
       "       [0],\n",
       "       [0],\n",
       "       [0],\n",
       "       [0],\n",
       "       [0],\n",
       "       [0],\n",
       "       [0],\n",
       "       [0],\n",
       "       [0],\n",
       "       [0],\n",
       "       [0],\n",
       "       [0],\n",
       "       [0],\n",
       "       [0],\n",
       "       [0],\n",
       "       [0],\n",
       "       [0],\n",
       "       [0],\n",
       "       [0],\n",
       "       [0],\n",
       "       [0],\n",
       "       [0],\n",
       "       [0],\n",
       "       [0],\n",
       "       [0],\n",
       "       [0],\n",
       "       [0],\n",
       "       [0],\n",
       "       [0],\n",
       "       [0],\n",
       "       [0],\n",
       "       [0],\n",
       "       [0],\n",
       "       [0],\n",
       "       [0],\n",
       "       [0],\n",
       "       [0],\n",
       "       [0],\n",
       "       [0],\n",
       "       [0],\n",
       "       [0],\n",
       "       [0],\n",
       "       [0],\n",
       "       [0],\n",
       "       [0],\n",
       "       [0],\n",
       "       [0],\n",
       "       [0],\n",
       "       [0],\n",
       "       [0],\n",
       "       [0],\n",
       "       [0],\n",
       "       [0],\n",
       "       [0],\n",
       "       [0],\n",
       "       [0],\n",
       "       [0],\n",
       "       [0],\n",
       "       [0],\n",
       "       [0]], dtype=uint8), array([[0],\n",
       "       [0],\n",
       "       [0],\n",
       "       [0],\n",
       "       [0],\n",
       "       [0],\n",
       "       [0],\n",
       "       [0],\n",
       "       [0],\n",
       "       [0],\n",
       "       [0],\n",
       "       [0],\n",
       "       [0],\n",
       "       [0],\n",
       "       [0],\n",
       "       [0],\n",
       "       [0],\n",
       "       [0],\n",
       "       [0],\n",
       "       [0],\n",
       "       [0],\n",
       "       [0],\n",
       "       [0],\n",
       "       [0],\n",
       "       [0],\n",
       "       [0],\n",
       "       [0],\n",
       "       [0],\n",
       "       [0],\n",
       "       [0],\n",
       "       [0],\n",
       "       [0],\n",
       "       [0],\n",
       "       [0],\n",
       "       [0],\n",
       "       [0],\n",
       "       [0],\n",
       "       [0],\n",
       "       [0],\n",
       "       [0],\n",
       "       [0],\n",
       "       [0],\n",
       "       [0],\n",
       "       [0],\n",
       "       [0],\n",
       "       [0],\n",
       "       [0],\n",
       "       [0],\n",
       "       [0],\n",
       "       [0],\n",
       "       [0],\n",
       "       [0],\n",
       "       [0],\n",
       "       [0],\n",
       "       [0],\n",
       "       [0],\n",
       "       [0],\n",
       "       [0],\n",
       "       [0],\n",
       "       [0],\n",
       "       [0]], dtype=uint8), array([[0],\n",
       "       [0],\n",
       "       [0],\n",
       "       [0],\n",
       "       [0],\n",
       "       [0],\n",
       "       [0],\n",
       "       [0],\n",
       "       [0],\n",
       "       [0],\n",
       "       [0],\n",
       "       [0],\n",
       "       [0],\n",
       "       [0],\n",
       "       [0],\n",
       "       [0],\n",
       "       [0],\n",
       "       [0],\n",
       "       [0],\n",
       "       [0],\n",
       "       [0],\n",
       "       [0],\n",
       "       [0],\n",
       "       [0],\n",
       "       [0],\n",
       "       [0],\n",
       "       [0],\n",
       "       [0],\n",
       "       [0],\n",
       "       [0],\n",
       "       [0],\n",
       "       [0],\n",
       "       [0],\n",
       "       [0],\n",
       "       [0],\n",
       "       [0],\n",
       "       [0],\n",
       "       [0],\n",
       "       [0],\n",
       "       [0],\n",
       "       [0],\n",
       "       [0],\n",
       "       [0],\n",
       "       [0],\n",
       "       [0],\n",
       "       [0],\n",
       "       [0],\n",
       "       [0],\n",
       "       [0],\n",
       "       [0],\n",
       "       [0],\n",
       "       [0],\n",
       "       [0],\n",
       "       [0],\n",
       "       [0],\n",
       "       [0],\n",
       "       [0],\n",
       "       [0],\n",
       "       [0],\n",
       "       [0],\n",
       "       [0]], dtype=uint8), array([[23.727727  ],\n",
       "       [22.00203967],\n",
       "       [20.26476867],\n",
       "       [18.96760467],\n",
       "       [17.67044067],\n",
       "       [16.59333533],\n",
       "       [15.94475333],\n",
       "       [15.07611267],\n",
       "       [14.42753067],\n",
       "       [13.98742367],\n",
       "       [13.55890033],\n",
       "       [13.13036667],\n",
       "       [12.70184333],\n",
       "       [12.48178467],\n",
       "       [12.26173633],\n",
       "       [12.030094  ],\n",
       "       [11.83320267],\n",
       "       [11.61315433],\n",
       "       [11.416263  ],\n",
       "       [11.40467933],\n",
       "       [11.18462067],\n",
       "       [11.18462067],\n",
       "       [11.207788  ],\n",
       "       [11.091972  ],\n",
       "       [10.96457233],\n",
       "       [10.98772933],\n",
       "       [10.976156  ],\n",
       "       [10.96457233],\n",
       "       [10.75609733],\n",
       "       [10.75609733],\n",
       "       [10.767681  ],\n",
       "       [10.75609733],\n",
       "       [10.767681  ],\n",
       "       [10.767681  ],\n",
       "       [10.767681  ],\n",
       "       [10.767681  ],\n",
       "       [10.77926467],\n",
       "       [10.54762233],\n",
       "       [10.767681  ],\n",
       "       [10.77926467],\n",
       "       [10.767681  ],\n",
       "       [10.767681  ],\n",
       "       [10.767681  ],\n",
       "       [10.767681  ],\n",
       "       [10.767681  ],\n",
       "       [10.54762233],\n",
       "       [10.767681  ],\n",
       "       [10.559206  ],\n",
       "       [10.77926467],\n",
       "       [10.54762233],\n",
       "       [10.767681  ],\n",
       "       [10.767681  ],\n",
       "       [10.767681  ],\n",
       "       [10.767681  ],\n",
       "       [10.767681  ],\n",
       "       [10.767681  ],\n",
       "       [10.767681  ],\n",
       "       [10.77926467],\n",
       "       [10.77926467],\n",
       "       [10.767681  ],\n",
       "       [10.767681  ]]), array([[   0.        ],\n",
       "       [  59.99999642],\n",
       "       [ 119.99499388],\n",
       "       [ 179.99399453],\n",
       "       [ 240.00100158],\n",
       "       [ 300.00000224],\n",
       "       [ 359.99900289],\n",
       "       [ 420.00100091],\n",
       "       [ 479.9950026 ],\n",
       "       [ 539.99499902],\n",
       "       [ 599.99899864],\n",
       "       [ 660.00200249],\n",
       "       [ 719.99999732],\n",
       "       [ 779.9960006 ],\n",
       "       [ 839.99799863],\n",
       "       [ 900.00199825],\n",
       "       [ 960.00399627],\n",
       "       [1020.00099532],\n",
       "       [1079.99699861],\n",
       "       [1140.00000246],\n",
       "       [1200.00099465],\n",
       "       [1260.00100113],\n",
       "       [1320.00000179],\n",
       "       [1379.99900244],\n",
       "       [1440.00300206],\n",
       "       [1499.99799952],\n",
       "       [1559.99599434],\n",
       "       [1620.00099979],\n",
       "       [1679.99500148],\n",
       "       [1739.9949979 ],\n",
       "       [1800.00199489],\n",
       "       [1860.00299715],\n",
       "       [1919.99900043],\n",
       "       [1979.99800108],\n",
       "       [2040.00499807],\n",
       "       [2100.00399873],\n",
       "       [2160.00299938],\n",
       "       [2219.99599524],\n",
       "       [2279.99899909],\n",
       "       [2340.00000134],\n",
       "       [2400.00199936],\n",
       "       [2460.00100002],\n",
       "       [2519.99599747],\n",
       "       [2579.9959939 ],\n",
       "       [2640.00099935],\n",
       "       [2700.        ],\n",
       "       [2760.00100225],\n",
       "       [2819.99499388],\n",
       "       [2880.00200093],\n",
       "       [2939.99799415],\n",
       "       [3000.00000224],\n",
       "       [3059.99900289],\n",
       "       [3120.00399828],\n",
       "       [3180.00299893],\n",
       "       [3239.99799639],\n",
       "       [3300.00199601],\n",
       "       [3360.00399403],\n",
       "       [3419.99599412],\n",
       "       [3479.9960006 ],\n",
       "       [3539.99399543],\n",
       "       [3540.00399336]]), array([[nan],\n",
       "       [nan],\n",
       "       [nan],\n",
       "       [nan],\n",
       "       [nan],\n",
       "       [nan],\n",
       "       [nan],\n",
       "       [nan],\n",
       "       [nan],\n",
       "       [nan],\n",
       "       [nan],\n",
       "       [nan],\n",
       "       [nan],\n",
       "       [nan],\n",
       "       [nan],\n",
       "       [nan],\n",
       "       [nan],\n",
       "       [nan],\n",
       "       [nan],\n",
       "       [nan],\n",
       "       [nan],\n",
       "       [nan],\n",
       "       [nan],\n",
       "       [nan],\n",
       "       [nan],\n",
       "       [nan],\n",
       "       [nan],\n",
       "       [nan],\n",
       "       [nan],\n",
       "       [nan],\n",
       "       [nan],\n",
       "       [nan],\n",
       "       [nan],\n",
       "       [nan],\n",
       "       [nan],\n",
       "       [nan],\n",
       "       [nan],\n",
       "       [nan],\n",
       "       [nan],\n",
       "       [nan],\n",
       "       [nan],\n",
       "       [nan],\n",
       "       [nan],\n",
       "       [nan],\n",
       "       [nan],\n",
       "       [nan],\n",
       "       [nan],\n",
       "       [nan],\n",
       "       [nan],\n",
       "       [nan],\n",
       "       [nan],\n",
       "       [nan],\n",
       "       [nan],\n",
       "       [nan],\n",
       "       [nan],\n",
       "       [nan],\n",
       "       [nan],\n",
       "       [nan],\n",
       "       [nan],\n",
       "       [nan],\n",
       "       [nan]]))],\n",
       "      dtype=[('TimeStamp', 'O'), ('Voltage', 'O'), ('Current', 'O'), ('Ah', 'O'), ('Wh', 'O'), ('Power', 'O'), ('Battery_Temp_degC', 'O'), ('Time', 'O'), ('Chamber_Temp_degC', 'O')])"
      ]
     },
     "execution_count": 167,
     "metadata": {},
     "output_type": "execute_result"
    }
   ],
   "source": [
    "mat['meas'][0]"
   ]
  },
  {
   "cell_type": "code",
   "execution_count": 171,
   "id": "2391994c",
   "metadata": {
    "ExecuteTime": {
     "end_time": "2021-10-12T13:48:31.516367Z",
     "start_time": "2021-10-12T13:48:30.156333Z"
    }
   },
   "outputs": [],
   "source": [
    "mat = scipy.io.loadmat('/Users/monmac/Downloads/Panasonic/10degC/5pulsetest/03-27-17_09.06_10degC_5Pulse_HPPC_Pan18650PF.mat')"
   ]
  },
  {
   "cell_type": "code",
   "execution_count": 180,
   "id": "dc37dea8",
   "metadata": {
    "ExecuteTime": {
     "end_time": "2021-10-12T13:51:10.319592Z",
     "start_time": "2021-10-12T13:51:10.307480Z"
    }
   },
   "outputs": [
    {
     "data": {
      "text/plain": [
       "array([[(array([[array(['3/27/2017 9:06:11 AM'], dtype='<U20')],\n",
       "       [array(['3/27/2017 9:06:11 AM'], dtype='<U20')],\n",
       "       [array(['3/27/2017 9:06:11 AM'], dtype='<U20')],\n",
       "       ...,\n",
       "       [array(['3/28/2017 9:46:10 AM'], dtype='<U20')],\n",
       "       [array(['3/28/2017 9:46:11 AM'], dtype='<U20')],\n",
       "       [array(['3/28/2017 9:46:11 AM'], dtype='<U20')]], dtype=object), array([[4.15825],\n",
       "       [4.15825],\n",
       "       [4.15825],\n",
       "       ...,\n",
       "       [3.29417],\n",
       "       [3.29481],\n",
       "       [3.29481]]), array([[0.],\n",
       "       [0.],\n",
       "       [0.],\n",
       "       ...,\n",
       "       [0.],\n",
       "       [0.],\n",
       "       [0.]]), array([[ 0.     ],\n",
       "       [ 0.     ],\n",
       "       [ 0.     ],\n",
       "       ...,\n",
       "       [-2.62175],\n",
       "       [-2.62175],\n",
       "       [-2.62175]]), array([[ 0.     ],\n",
       "       [ 0.     ],\n",
       "       [ 0.     ],\n",
       "       ...,\n",
       "       [-8.92782],\n",
       "       [-8.92782],\n",
       "       [-8.92782]]), array([[0.],\n",
       "       [0.],\n",
       "       [0.],\n",
       "       ...,\n",
       "       [0.],\n",
       "       [0.],\n",
       "       [0.]]), array([[10.559206  ],\n",
       "       [10.559206  ],\n",
       "       [10.54762233],\n",
       "       ...,\n",
       "       [10.976156  ],\n",
       "       [10.976156  ],\n",
       "       [10.976156  ]]), array([[0.00000000e+00],\n",
       "       [1.04998425e-01],\n",
       "       [2.06999481e-01],\n",
       "       ...,\n",
       "       [8.87912740e+04],\n",
       "       [8.87922710e+04],\n",
       "       [8.87922710e+04]]), array([[nan],\n",
       "       [nan],\n",
       "       [nan],\n",
       "       ...,\n",
       "       [nan],\n",
       "       [nan],\n",
       "       [nan]]))]],\n",
       "      dtype=[('TimeStamp', 'O'), ('Voltage', 'O'), ('Current', 'O'), ('Ah', 'O'), ('Wh', 'O'), ('Power', 'O'), ('Battery_Temp_degC', 'O'), ('Time', 'O'), ('Chamber_Temp_degC', 'O')])"
      ]
     },
     "execution_count": 180,
     "metadata": {},
     "output_type": "execute_result"
    }
   ],
   "source": [
    "mat['meas']"
   ]
  },
  {
   "cell_type": "code",
   "execution_count": 175,
   "id": "ac7d1bb1",
   "metadata": {
    "ExecuteTime": {
     "end_time": "2021-10-12T13:50:37.467279Z",
     "start_time": "2021-10-12T13:50:33.894391Z"
    }
   },
   "outputs": [],
   "source": [
    "df=pd.DataFrame(mat['meas'][0], columns=['TimeStamp','Voltage','Current','Ah','Wh','Power','Battery_Temp_degC','Time','Chamber_Temp_degC'])"
   ]
  },
  {
   "cell_type": "code",
   "execution_count": 189,
   "id": "8edd351b",
   "metadata": {
    "ExecuteTime": {
     "end_time": "2021-10-12T13:52:02.782372Z",
     "start_time": "2021-10-12T13:52:02.771113Z"
    }
   },
   "outputs": [
    {
     "data": {
      "text/plain": [
       "(array([[array(['3/27/2017 9:06:11 AM'], dtype='<U20')],\n",
       "       [array(['3/27/2017 9:06:11 AM'], dtype='<U20')],\n",
       "       [array(['3/27/2017 9:06:11 AM'], dtype='<U20')],\n",
       "       ...,\n",
       "       [array(['3/28/2017 9:46:10 AM'], dtype='<U20')],\n",
       "       [array(['3/28/2017 9:46:11 AM'], dtype='<U20')],\n",
       "       [array(['3/28/2017 9:46:11 AM'], dtype='<U20')]], dtype=object), array([[4.15825],\n",
       "       [4.15825],\n",
       "       [4.15825],\n",
       "       ...,\n",
       "       [3.29417],\n",
       "       [3.29481],\n",
       "       [3.29481]]), array([[0.],\n",
       "       [0.],\n",
       "       [0.],\n",
       "       ...,\n",
       "       [0.],\n",
       "       [0.],\n",
       "       [0.]]), array([[ 0.     ],\n",
       "       [ 0.     ],\n",
       "       [ 0.     ],\n",
       "       ...,\n",
       "       [-2.62175],\n",
       "       [-2.62175],\n",
       "       [-2.62175]]), array([[ 0.     ],\n",
       "       [ 0.     ],\n",
       "       [ 0.     ],\n",
       "       ...,\n",
       "       [-8.92782],\n",
       "       [-8.92782],\n",
       "       [-8.92782]]), array([[0.],\n",
       "       [0.],\n",
       "       [0.],\n",
       "       ...,\n",
       "       [0.],\n",
       "       [0.],\n",
       "       [0.]]), array([[10.559206  ],\n",
       "       [10.559206  ],\n",
       "       [10.54762233],\n",
       "       ...,\n",
       "       [10.976156  ],\n",
       "       [10.976156  ],\n",
       "       [10.976156  ]]), array([[0.00000000e+00],\n",
       "       [1.04998425e-01],\n",
       "       [2.06999481e-01],\n",
       "       ...,\n",
       "       [8.87912740e+04],\n",
       "       [8.87922710e+04],\n",
       "       [8.87922710e+04]]), array([[nan],\n",
       "       [nan],\n",
       "       [nan],\n",
       "       ...,\n",
       "       [nan],\n",
       "       [nan],\n",
       "       [nan]]))"
      ]
     },
     "execution_count": 189,
     "metadata": {},
     "output_type": "execute_result"
    }
   ],
   "source": [
    "mat['meas'][0][0]"
   ]
  },
  {
   "cell_type": "code",
   "execution_count": 196,
   "id": "12d4f543",
   "metadata": {
    "ExecuteTime": {
     "end_time": "2021-10-12T14:20:39.128497Z",
     "start_time": "2021-10-12T14:20:39.075613Z"
    }
   },
   "outputs": [
    {
     "data": {
      "text/html": [
       "<div>\n",
       "<style scoped>\n",
       "    .dataframe tbody tr th:only-of-type {\n",
       "        vertical-align: middle;\n",
       "    }\n",
       "\n",
       "    .dataframe tbody tr th {\n",
       "        vertical-align: top;\n",
       "    }\n",
       "\n",
       "    .dataframe thead th {\n",
       "        text-align: right;\n",
       "    }\n",
       "</style>\n",
       "<table border=\"1\" class=\"dataframe\">\n",
       "  <thead>\n",
       "    <tr style=\"text-align: right;\">\n",
       "      <th></th>\n",
       "      <th>__header__</th>\n",
       "      <th>__version__</th>\n",
       "      <th>__globals__</th>\n",
       "      <th>meas</th>\n",
       "    </tr>\n",
       "  </thead>\n",
       "  <tbody>\n",
       "    <tr>\n",
       "      <th>0</th>\n",
       "      <td>b'MATLAB 5.0 MAT-file, Platform: PCWIN64, Crea...</td>\n",
       "      <td>1.0</td>\n",
       "      <td>[]</td>\n",
       "      <td>[[[[[array(['3/27/2017 9:06:11 AM'], dtype='&lt;U...</td>\n",
       "    </tr>\n",
       "  </tbody>\n",
       "</table>\n",
       "</div>"
      ],
      "text/plain": [
       "                                          __header__ __version__ __globals__  \\\n",
       "0  b'MATLAB 5.0 MAT-file, Platform: PCWIN64, Crea...         1.0          []   \n",
       "\n",
       "                                                meas  \n",
       "0  [[[[[array(['3/27/2017 9:06:11 AM'], dtype='<U...  "
      ]
     },
     "execution_count": 196,
     "metadata": {},
     "output_type": "execute_result"
    }
   ],
   "source": [
    "pd.json_normalize(mat)"
   ]
  },
  {
   "cell_type": "code",
   "execution_count": 205,
   "id": "0f534b21",
   "metadata": {
    "ExecuteTime": {
     "end_time": "2021-10-12T16:50:15.216282Z",
     "start_time": "2021-10-12T15:31:45.760351Z"
    }
   },
   "outputs": [
    {
     "name": "stdout",
     "output_type": "stream",
     "text": [
      "INFO:tensorflow:Reloading Oracle from existing project ./time_series_forecaster/oracle.json\n",
      "\n",
      "Search: Running Trial #1\n",
      "\n",
      "Hyperparameter    |Value             |Best Value So Far \n",
      "timeseries_bloc...|True              |?                 \n",
      "timeseries_bloc...|lstm              |?                 \n",
      "timeseries_bloc...|2                 |?                 \n",
      "regression_head...|0                 |?                 \n",
      "optimizer         |adam              |?                 \n",
      "learning_rate     |0.001             |?                 \n",
      "\n",
      "Epoch 1/10\n",
      "  46569/Unknown - 4654s 100ms/step - loss: 246.3960 - mean_squared_error: 246.3960"
     ]
    },
    {
     "ename": "InvalidArgumentError",
     "evalue": " Incompatible shapes: [8,1] vs. [5,1]\n\t [[node mean_squared_error/SquaredDifference (defined at Users/monmac/.pyenv/versions/3.8.6/envs/lewagon/lib/python3.8/site-packages/autokeras/utils/utils.py:88) ]] [Op:__inference_train_function_6100268]\n\nFunction call stack:\ntrain_function\n",
     "output_type": "error",
     "traceback": [
      "\u001b[0;31m---------------------------------------------------------------------------\u001b[0m",
      "\u001b[0;31mInvalidArgumentError\u001b[0m                      Traceback (most recent call last)",
      "\u001b[0;32m/var/folders/p2/6ddwj2812811pbqjm8t6brv80000gn/T/ipykernel_50513/3448683885.py\u001b[0m in \u001b[0;36m<module>\u001b[0;34m\u001b[0m\n\u001b[1;32m     29\u001b[0m )\n\u001b[1;32m     30\u001b[0m \u001b[0;31m# Train the TimeSeriesForecaster with train data\u001b[0m\u001b[0;34m\u001b[0m\u001b[0;34m\u001b[0m\u001b[0;34m\u001b[0m\u001b[0m\n\u001b[0;32m---> 31\u001b[0;31m clf.fit(\n\u001b[0m\u001b[1;32m     32\u001b[0m     \u001b[0mx\u001b[0m\u001b[0;34m=\u001b[0m\u001b[0mX_train\u001b[0m\u001b[0;34m,\u001b[0m\u001b[0;34m\u001b[0m\u001b[0;34m\u001b[0m\u001b[0m\n\u001b[1;32m     33\u001b[0m     \u001b[0my\u001b[0m\u001b[0;34m=\u001b[0m\u001b[0my_train\u001b[0m\u001b[0;34m,\u001b[0m\u001b[0;34m\u001b[0m\u001b[0;34m\u001b[0m\u001b[0m\n",
      "\u001b[0;32m~/.pyenv/versions/3.8.6/envs/lewagon/lib/python3.8/site-packages/autokeras/tasks/time_series_forecaster.py\u001b[0m in \u001b[0;36mfit\u001b[0;34m(self, x, y, validation_split, validation_data, **kwargs)\u001b[0m\n\u001b[1;32m    265\u001b[0m                 [keras.Model.fit](https://www.tensorflow.org/api_docs/python/tf/keras/Model#fit).\n\u001b[1;32m    266\u001b[0m         \"\"\"\n\u001b[0;32m--> 267\u001b[0;31m         super().fit(\n\u001b[0m\u001b[1;32m    268\u001b[0m             \u001b[0mx\u001b[0m\u001b[0;34m=\u001b[0m\u001b[0mx\u001b[0m\u001b[0;34m,\u001b[0m\u001b[0;34m\u001b[0m\u001b[0;34m\u001b[0m\u001b[0m\n\u001b[1;32m    269\u001b[0m             \u001b[0my\u001b[0m\u001b[0;34m=\u001b[0m\u001b[0my\u001b[0m\u001b[0;34m,\u001b[0m\u001b[0;34m\u001b[0m\u001b[0;34m\u001b[0m\u001b[0m\n",
      "\u001b[0;32m~/.pyenv/versions/3.8.6/envs/lewagon/lib/python3.8/site-packages/autokeras/tasks/time_series_forecaster.py\u001b[0m in \u001b[0;36mfit\u001b[0;34m(self, x, y, epochs, callbacks, validation_split, validation_data, **kwargs)\u001b[0m\n\u001b[1;32m     86\u001b[0m             \u001b[0mvalidation_data\u001b[0m \u001b[0;34m=\u001b[0m \u001b[0mx_val\u001b[0m\u001b[0;34m,\u001b[0m \u001b[0my_val\u001b[0m\u001b[0;34m\u001b[0m\u001b[0;34m\u001b[0m\u001b[0m\n\u001b[1;32m     87\u001b[0m \u001b[0;34m\u001b[0m\u001b[0m\n\u001b[0;32m---> 88\u001b[0;31m         super().fit(\n\u001b[0m\u001b[1;32m     89\u001b[0m             \u001b[0mx\u001b[0m\u001b[0;34m=\u001b[0m\u001b[0mx\u001b[0m\u001b[0;34m[\u001b[0m\u001b[0;34m:\u001b[0m \u001b[0mself\u001b[0m\u001b[0;34m.\u001b[0m\u001b[0mtrain_len\u001b[0m\u001b[0;34m]\u001b[0m\u001b[0;34m,\u001b[0m\u001b[0;34m\u001b[0m\u001b[0;34m\u001b[0m\u001b[0m\n\u001b[1;32m     90\u001b[0m             \u001b[0my\u001b[0m\u001b[0;34m=\u001b[0m\u001b[0my\u001b[0m\u001b[0;34m[\u001b[0m\u001b[0mself\u001b[0m\u001b[0;34m.\u001b[0m\u001b[0mlookback\u001b[0m \u001b[0;34m-\u001b[0m \u001b[0;36m1\u001b[0m \u001b[0;34m:\u001b[0m\u001b[0;34m]\u001b[0m\u001b[0;34m,\u001b[0m\u001b[0;34m\u001b[0m\u001b[0;34m\u001b[0m\u001b[0m\n",
      "\u001b[0;32m~/.pyenv/versions/3.8.6/envs/lewagon/lib/python3.8/site-packages/autokeras/tasks/structured_data.py\u001b[0m in \u001b[0;36mfit\u001b[0;34m(self, x, y, epochs, callbacks, validation_split, validation_data, **kwargs)\u001b[0m\n\u001b[1;32m    132\u001b[0m         \u001b[0mself\u001b[0m\u001b[0;34m.\u001b[0m\u001b[0mcheck_in_fit\u001b[0m\u001b[0;34m(\u001b[0m\u001b[0mx\u001b[0m\u001b[0;34m)\u001b[0m\u001b[0;34m\u001b[0m\u001b[0;34m\u001b[0m\u001b[0m\n\u001b[1;32m    133\u001b[0m \u001b[0;34m\u001b[0m\u001b[0m\n\u001b[0;32m--> 134\u001b[0;31m         super().fit(\n\u001b[0m\u001b[1;32m    135\u001b[0m             \u001b[0mx\u001b[0m\u001b[0;34m=\u001b[0m\u001b[0mx\u001b[0m\u001b[0;34m,\u001b[0m\u001b[0;34m\u001b[0m\u001b[0;34m\u001b[0m\u001b[0m\n\u001b[1;32m    136\u001b[0m             \u001b[0my\u001b[0m\u001b[0;34m=\u001b[0m\u001b[0my\u001b[0m\u001b[0;34m,\u001b[0m\u001b[0;34m\u001b[0m\u001b[0;34m\u001b[0m\u001b[0m\n",
      "\u001b[0;32m~/.pyenv/versions/3.8.6/envs/lewagon/lib/python3.8/site-packages/autokeras/auto_model.py\u001b[0m in \u001b[0;36mfit\u001b[0;34m(self, x, y, batch_size, epochs, callbacks, validation_split, validation_data, verbose, **kwargs)\u001b[0m\n\u001b[1;32m    276\u001b[0m             )\n\u001b[1;32m    277\u001b[0m \u001b[0;34m\u001b[0m\u001b[0m\n\u001b[0;32m--> 278\u001b[0;31m         self.tuner.search(\n\u001b[0m\u001b[1;32m    279\u001b[0m             \u001b[0mx\u001b[0m\u001b[0;34m=\u001b[0m\u001b[0mdataset\u001b[0m\u001b[0;34m,\u001b[0m\u001b[0;34m\u001b[0m\u001b[0;34m\u001b[0m\u001b[0m\n\u001b[1;32m    280\u001b[0m             \u001b[0mepochs\u001b[0m\u001b[0;34m=\u001b[0m\u001b[0mepochs\u001b[0m\u001b[0;34m,\u001b[0m\u001b[0;34m\u001b[0m\u001b[0;34m\u001b[0m\u001b[0m\n",
      "\u001b[0;32m~/.pyenv/versions/3.8.6/envs/lewagon/lib/python3.8/site-packages/autokeras/engine/tuner.py\u001b[0m in \u001b[0;36msearch\u001b[0;34m(self, epochs, callbacks, validation_split, verbose, **fit_kwargs)\u001b[0m\n\u001b[1;32m    186\u001b[0m         \u001b[0mself\u001b[0m\u001b[0;34m.\u001b[0m\u001b[0moracle\u001b[0m\u001b[0;34m.\u001b[0m\u001b[0mupdate_space\u001b[0m\u001b[0;34m(\u001b[0m\u001b[0mhp\u001b[0m\u001b[0;34m)\u001b[0m\u001b[0;34m\u001b[0m\u001b[0;34m\u001b[0m\u001b[0m\n\u001b[1;32m    187\u001b[0m \u001b[0;34m\u001b[0m\u001b[0m\n\u001b[0;32m--> 188\u001b[0;31m         super().search(\n\u001b[0m\u001b[1;32m    189\u001b[0m             \u001b[0mepochs\u001b[0m\u001b[0;34m=\u001b[0m\u001b[0mepochs\u001b[0m\u001b[0;34m,\u001b[0m \u001b[0mcallbacks\u001b[0m\u001b[0;34m=\u001b[0m\u001b[0mnew_callbacks\u001b[0m\u001b[0;34m,\u001b[0m \u001b[0mverbose\u001b[0m\u001b[0;34m=\u001b[0m\u001b[0mverbose\u001b[0m\u001b[0;34m,\u001b[0m \u001b[0;34m**\u001b[0m\u001b[0mfit_kwargs\u001b[0m\u001b[0;34m\u001b[0m\u001b[0;34m\u001b[0m\u001b[0m\n\u001b[1;32m    190\u001b[0m         )\n",
      "\u001b[0;32m~/.pyenv/versions/3.8.6/envs/lewagon/lib/python3.8/site-packages/keras_tuner/engine/base_tuner.py\u001b[0m in \u001b[0;36msearch\u001b[0;34m(self, *fit_args, **fit_kwargs)\u001b[0m\n\u001b[1;32m    142\u001b[0m \u001b[0;34m\u001b[0m\u001b[0m\n\u001b[1;32m    143\u001b[0m             \u001b[0mself\u001b[0m\u001b[0;34m.\u001b[0m\u001b[0mon_trial_begin\u001b[0m\u001b[0;34m(\u001b[0m\u001b[0mtrial\u001b[0m\u001b[0;34m)\u001b[0m\u001b[0;34m\u001b[0m\u001b[0;34m\u001b[0m\u001b[0m\n\u001b[0;32m--> 144\u001b[0;31m             \u001b[0mself\u001b[0m\u001b[0;34m.\u001b[0m\u001b[0mrun_trial\u001b[0m\u001b[0;34m(\u001b[0m\u001b[0mtrial\u001b[0m\u001b[0;34m,\u001b[0m \u001b[0;34m*\u001b[0m\u001b[0mfit_args\u001b[0m\u001b[0;34m,\u001b[0m \u001b[0;34m**\u001b[0m\u001b[0mfit_kwargs\u001b[0m\u001b[0;34m)\u001b[0m\u001b[0;34m\u001b[0m\u001b[0;34m\u001b[0m\u001b[0m\n\u001b[0m\u001b[1;32m    145\u001b[0m             \u001b[0mself\u001b[0m\u001b[0;34m.\u001b[0m\u001b[0mon_trial_end\u001b[0m\u001b[0;34m(\u001b[0m\u001b[0mtrial\u001b[0m\u001b[0;34m)\u001b[0m\u001b[0;34m\u001b[0m\u001b[0;34m\u001b[0m\u001b[0m\n\u001b[1;32m    146\u001b[0m         \u001b[0mself\u001b[0m\u001b[0;34m.\u001b[0m\u001b[0mon_search_end\u001b[0m\u001b[0;34m(\u001b[0m\u001b[0;34m)\u001b[0m\u001b[0;34m\u001b[0m\u001b[0;34m\u001b[0m\u001b[0m\n",
      "\u001b[0;32m~/.pyenv/versions/3.8.6/envs/lewagon/lib/python3.8/site-packages/keras_tuner/engine/tuner.py\u001b[0m in \u001b[0;36mrun_trial\u001b[0;34m(self, trial, *fit_args, **fit_kwargs)\u001b[0m\n\u001b[1;32m    179\u001b[0m         \u001b[0mcopied_fit_kwargs\u001b[0m\u001b[0;34m[\u001b[0m\u001b[0;34m\"callbacks\"\u001b[0m\u001b[0;34m]\u001b[0m \u001b[0;34m=\u001b[0m \u001b[0mcallbacks\u001b[0m\u001b[0;34m\u001b[0m\u001b[0;34m\u001b[0m\u001b[0m\n\u001b[1;32m    180\u001b[0m \u001b[0;34m\u001b[0m\u001b[0m\n\u001b[0;32m--> 181\u001b[0;31m         \u001b[0mself\u001b[0m\u001b[0;34m.\u001b[0m\u001b[0m_build_and_fit_model\u001b[0m\u001b[0;34m(\u001b[0m\u001b[0mtrial\u001b[0m\u001b[0;34m,\u001b[0m \u001b[0mfit_args\u001b[0m\u001b[0;34m,\u001b[0m \u001b[0mcopied_fit_kwargs\u001b[0m\u001b[0;34m)\u001b[0m\u001b[0;34m\u001b[0m\u001b[0;34m\u001b[0m\u001b[0m\n\u001b[0m\u001b[1;32m    182\u001b[0m \u001b[0;34m\u001b[0m\u001b[0m\n\u001b[1;32m    183\u001b[0m     \u001b[0;32mdef\u001b[0m \u001b[0msave_model\u001b[0m\u001b[0;34m(\u001b[0m\u001b[0mself\u001b[0m\u001b[0;34m,\u001b[0m \u001b[0mtrial_id\u001b[0m\u001b[0;34m,\u001b[0m \u001b[0mmodel\u001b[0m\u001b[0;34m,\u001b[0m \u001b[0mstep\u001b[0m\u001b[0;34m=\u001b[0m\u001b[0;36m0\u001b[0m\u001b[0;34m)\u001b[0m\u001b[0;34m:\u001b[0m\u001b[0;34m\u001b[0m\u001b[0;34m\u001b[0m\u001b[0m\n",
      "\u001b[0;32m~/.pyenv/versions/3.8.6/envs/lewagon/lib/python3.8/site-packages/autokeras/engine/tuner.py\u001b[0m in \u001b[0;36m_build_and_fit_model\u001b[0;34m(self, trial, fit_args, fit_kwargs)\u001b[0m\n\u001b[1;32m     99\u001b[0m         \u001b[0mself\u001b[0m\u001b[0;34m.\u001b[0m\u001b[0madapt\u001b[0m\u001b[0;34m(\u001b[0m\u001b[0mmodel\u001b[0m\u001b[0;34m,\u001b[0m \u001b[0mfit_kwargs\u001b[0m\u001b[0;34m[\u001b[0m\u001b[0;34m\"x\"\u001b[0m\u001b[0;34m]\u001b[0m\u001b[0;34m)\u001b[0m\u001b[0;34m\u001b[0m\u001b[0;34m\u001b[0m\u001b[0m\n\u001b[1;32m    100\u001b[0m \u001b[0;34m\u001b[0m\u001b[0m\n\u001b[0;32m--> 101\u001b[0;31m         _, history = utils.fit_with_adaptive_batch_size(\n\u001b[0m\u001b[1;32m    102\u001b[0m             \u001b[0mmodel\u001b[0m\u001b[0;34m,\u001b[0m \u001b[0mself\u001b[0m\u001b[0;34m.\u001b[0m\u001b[0mhypermodel\u001b[0m\u001b[0;34m.\u001b[0m\u001b[0mhypermodel\u001b[0m\u001b[0;34m.\u001b[0m\u001b[0mbatch_size\u001b[0m\u001b[0;34m,\u001b[0m \u001b[0;34m**\u001b[0m\u001b[0mfit_kwargs\u001b[0m\u001b[0;34m\u001b[0m\u001b[0;34m\u001b[0m\u001b[0m\n\u001b[1;32m    103\u001b[0m         )\n",
      "\u001b[0;32m~/.pyenv/versions/3.8.6/envs/lewagon/lib/python3.8/site-packages/autokeras/utils/utils.py\u001b[0m in \u001b[0;36mfit_with_adaptive_batch_size\u001b[0;34m(model, batch_size, **fit_kwargs)\u001b[0m\n\u001b[1;32m     85\u001b[0m \u001b[0;34m\u001b[0m\u001b[0m\n\u001b[1;32m     86\u001b[0m \u001b[0;32mdef\u001b[0m \u001b[0mfit_with_adaptive_batch_size\u001b[0m\u001b[0;34m(\u001b[0m\u001b[0mmodel\u001b[0m\u001b[0;34m,\u001b[0m \u001b[0mbatch_size\u001b[0m\u001b[0;34m,\u001b[0m \u001b[0;34m**\u001b[0m\u001b[0mfit_kwargs\u001b[0m\u001b[0;34m)\u001b[0m\u001b[0;34m:\u001b[0m\u001b[0;34m\u001b[0m\u001b[0;34m\u001b[0m\u001b[0m\n\u001b[0;32m---> 87\u001b[0;31m     history = run_with_adaptive_batch_size(\n\u001b[0m\u001b[1;32m     88\u001b[0m         \u001b[0mbatch_size\u001b[0m\u001b[0;34m,\u001b[0m \u001b[0;32mlambda\u001b[0m \u001b[0;34m**\u001b[0m\u001b[0mkwargs\u001b[0m\u001b[0;34m:\u001b[0m \u001b[0mmodel\u001b[0m\u001b[0;34m.\u001b[0m\u001b[0mfit\u001b[0m\u001b[0;34m(\u001b[0m\u001b[0;34m**\u001b[0m\u001b[0mkwargs\u001b[0m\u001b[0;34m)\u001b[0m\u001b[0;34m,\u001b[0m \u001b[0;34m**\u001b[0m\u001b[0mfit_kwargs\u001b[0m\u001b[0;34m\u001b[0m\u001b[0;34m\u001b[0m\u001b[0m\n\u001b[1;32m     89\u001b[0m     )\n",
      "\u001b[0;32m~/.pyenv/versions/3.8.6/envs/lewagon/lib/python3.8/site-packages/autokeras/utils/utils.py\u001b[0m in \u001b[0;36mrun_with_adaptive_batch_size\u001b[0;34m(batch_size, func, **fit_kwargs)\u001b[0m\n\u001b[1;32m     98\u001b[0m     \u001b[0;32mwhile\u001b[0m \u001b[0mbatch_size\u001b[0m \u001b[0;34m>\u001b[0m \u001b[0;36m0\u001b[0m\u001b[0;34m:\u001b[0m\u001b[0;34m\u001b[0m\u001b[0;34m\u001b[0m\u001b[0m\n\u001b[1;32m     99\u001b[0m         \u001b[0;32mtry\u001b[0m\u001b[0;34m:\u001b[0m\u001b[0;34m\u001b[0m\u001b[0;34m\u001b[0m\u001b[0m\n\u001b[0;32m--> 100\u001b[0;31m             \u001b[0mhistory\u001b[0m \u001b[0;34m=\u001b[0m \u001b[0mfunc\u001b[0m\u001b[0;34m(\u001b[0m\u001b[0mx\u001b[0m\u001b[0;34m=\u001b[0m\u001b[0mx\u001b[0m\u001b[0;34m,\u001b[0m \u001b[0mvalidation_data\u001b[0m\u001b[0;34m=\u001b[0m\u001b[0mvalidation_data\u001b[0m\u001b[0;34m,\u001b[0m \u001b[0;34m**\u001b[0m\u001b[0mfit_kwargs\u001b[0m\u001b[0;34m)\u001b[0m\u001b[0;34m\u001b[0m\u001b[0;34m\u001b[0m\u001b[0m\n\u001b[0m\u001b[1;32m    101\u001b[0m             \u001b[0;32mbreak\u001b[0m\u001b[0;34m\u001b[0m\u001b[0;34m\u001b[0m\u001b[0m\n\u001b[1;32m    102\u001b[0m         \u001b[0;32mexcept\u001b[0m \u001b[0mtf\u001b[0m\u001b[0;34m.\u001b[0m\u001b[0merrors\u001b[0m\u001b[0;34m.\u001b[0m\u001b[0mResourceExhaustedError\u001b[0m \u001b[0;32mas\u001b[0m \u001b[0me\u001b[0m\u001b[0;34m:\u001b[0m\u001b[0;34m\u001b[0m\u001b[0;34m\u001b[0m\u001b[0m\n",
      "\u001b[0;32m~/.pyenv/versions/3.8.6/envs/lewagon/lib/python3.8/site-packages/autokeras/utils/utils.py\u001b[0m in \u001b[0;36m<lambda>\u001b[0;34m(**kwargs)\u001b[0m\n\u001b[1;32m     86\u001b[0m \u001b[0;32mdef\u001b[0m \u001b[0mfit_with_adaptive_batch_size\u001b[0m\u001b[0;34m(\u001b[0m\u001b[0mmodel\u001b[0m\u001b[0;34m,\u001b[0m \u001b[0mbatch_size\u001b[0m\u001b[0;34m,\u001b[0m \u001b[0;34m**\u001b[0m\u001b[0mfit_kwargs\u001b[0m\u001b[0;34m)\u001b[0m\u001b[0;34m:\u001b[0m\u001b[0;34m\u001b[0m\u001b[0;34m\u001b[0m\u001b[0m\n\u001b[1;32m     87\u001b[0m     history = run_with_adaptive_batch_size(\n\u001b[0;32m---> 88\u001b[0;31m         \u001b[0mbatch_size\u001b[0m\u001b[0;34m,\u001b[0m \u001b[0;32mlambda\u001b[0m \u001b[0;34m**\u001b[0m\u001b[0mkwargs\u001b[0m\u001b[0;34m:\u001b[0m \u001b[0mmodel\u001b[0m\u001b[0;34m.\u001b[0m\u001b[0mfit\u001b[0m\u001b[0;34m(\u001b[0m\u001b[0;34m**\u001b[0m\u001b[0mkwargs\u001b[0m\u001b[0;34m)\u001b[0m\u001b[0;34m,\u001b[0m \u001b[0;34m**\u001b[0m\u001b[0mfit_kwargs\u001b[0m\u001b[0;34m\u001b[0m\u001b[0;34m\u001b[0m\u001b[0m\n\u001b[0m\u001b[1;32m     89\u001b[0m     )\n\u001b[1;32m     90\u001b[0m     \u001b[0;32mreturn\u001b[0m \u001b[0mmodel\u001b[0m\u001b[0;34m,\u001b[0m \u001b[0mhistory\u001b[0m\u001b[0;34m\u001b[0m\u001b[0;34m\u001b[0m\u001b[0m\n",
      "\u001b[0;32m~/.pyenv/versions/3.8.6/envs/lewagon/lib/python3.8/site-packages/tensorflow/python/keras/engine/training.py\u001b[0m in \u001b[0;36mfit\u001b[0;34m(self, x, y, batch_size, epochs, verbose, callbacks, validation_split, validation_data, shuffle, class_weight, sample_weight, initial_epoch, steps_per_epoch, validation_steps, validation_batch_size, validation_freq, max_queue_size, workers, use_multiprocessing)\u001b[0m\n\u001b[1;32m   1181\u001b[0m                 _r=1):\n\u001b[1;32m   1182\u001b[0m               \u001b[0mcallbacks\u001b[0m\u001b[0;34m.\u001b[0m\u001b[0mon_train_batch_begin\u001b[0m\u001b[0;34m(\u001b[0m\u001b[0mstep\u001b[0m\u001b[0;34m)\u001b[0m\u001b[0;34m\u001b[0m\u001b[0;34m\u001b[0m\u001b[0m\n\u001b[0;32m-> 1183\u001b[0;31m               \u001b[0mtmp_logs\u001b[0m \u001b[0;34m=\u001b[0m \u001b[0mself\u001b[0m\u001b[0;34m.\u001b[0m\u001b[0mtrain_function\u001b[0m\u001b[0;34m(\u001b[0m\u001b[0miterator\u001b[0m\u001b[0;34m)\u001b[0m\u001b[0;34m\u001b[0m\u001b[0;34m\u001b[0m\u001b[0m\n\u001b[0m\u001b[1;32m   1184\u001b[0m               \u001b[0;32mif\u001b[0m \u001b[0mdata_handler\u001b[0m\u001b[0;34m.\u001b[0m\u001b[0mshould_sync\u001b[0m\u001b[0;34m:\u001b[0m\u001b[0;34m\u001b[0m\u001b[0;34m\u001b[0m\u001b[0m\n\u001b[1;32m   1185\u001b[0m                 \u001b[0mcontext\u001b[0m\u001b[0;34m.\u001b[0m\u001b[0masync_wait\u001b[0m\u001b[0;34m(\u001b[0m\u001b[0;34m)\u001b[0m\u001b[0;34m\u001b[0m\u001b[0;34m\u001b[0m\u001b[0m\n",
      "\u001b[0;32m~/.pyenv/versions/3.8.6/envs/lewagon/lib/python3.8/site-packages/tensorflow/python/eager/def_function.py\u001b[0m in \u001b[0;36m__call__\u001b[0;34m(self, *args, **kwds)\u001b[0m\n\u001b[1;32m    887\u001b[0m \u001b[0;34m\u001b[0m\u001b[0m\n\u001b[1;32m    888\u001b[0m       \u001b[0;32mwith\u001b[0m \u001b[0mOptionalXlaContext\u001b[0m\u001b[0;34m(\u001b[0m\u001b[0mself\u001b[0m\u001b[0;34m.\u001b[0m\u001b[0m_jit_compile\u001b[0m\u001b[0;34m)\u001b[0m\u001b[0;34m:\u001b[0m\u001b[0;34m\u001b[0m\u001b[0;34m\u001b[0m\u001b[0m\n\u001b[0;32m--> 889\u001b[0;31m         \u001b[0mresult\u001b[0m \u001b[0;34m=\u001b[0m \u001b[0mself\u001b[0m\u001b[0;34m.\u001b[0m\u001b[0m_call\u001b[0m\u001b[0;34m(\u001b[0m\u001b[0;34m*\u001b[0m\u001b[0margs\u001b[0m\u001b[0;34m,\u001b[0m \u001b[0;34m**\u001b[0m\u001b[0mkwds\u001b[0m\u001b[0;34m)\u001b[0m\u001b[0;34m\u001b[0m\u001b[0;34m\u001b[0m\u001b[0m\n\u001b[0m\u001b[1;32m    890\u001b[0m \u001b[0;34m\u001b[0m\u001b[0m\n\u001b[1;32m    891\u001b[0m       \u001b[0mnew_tracing_count\u001b[0m \u001b[0;34m=\u001b[0m \u001b[0mself\u001b[0m\u001b[0;34m.\u001b[0m\u001b[0mexperimental_get_tracing_count\u001b[0m\u001b[0;34m(\u001b[0m\u001b[0;34m)\u001b[0m\u001b[0;34m\u001b[0m\u001b[0;34m\u001b[0m\u001b[0m\n",
      "\u001b[0;32m~/.pyenv/versions/3.8.6/envs/lewagon/lib/python3.8/site-packages/tensorflow/python/eager/def_function.py\u001b[0m in \u001b[0;36m_call\u001b[0;34m(self, *args, **kwds)\u001b[0m\n\u001b[1;32m    915\u001b[0m       \u001b[0;31m# In this case we have created variables on the first call, so we run the\u001b[0m\u001b[0;34m\u001b[0m\u001b[0;34m\u001b[0m\u001b[0;34m\u001b[0m\u001b[0m\n\u001b[1;32m    916\u001b[0m       \u001b[0;31m# defunned version which is guaranteed to never create variables.\u001b[0m\u001b[0;34m\u001b[0m\u001b[0;34m\u001b[0m\u001b[0;34m\u001b[0m\u001b[0m\n\u001b[0;32m--> 917\u001b[0;31m       \u001b[0;32mreturn\u001b[0m \u001b[0mself\u001b[0m\u001b[0;34m.\u001b[0m\u001b[0m_stateless_fn\u001b[0m\u001b[0;34m(\u001b[0m\u001b[0;34m*\u001b[0m\u001b[0margs\u001b[0m\u001b[0;34m,\u001b[0m \u001b[0;34m**\u001b[0m\u001b[0mkwds\u001b[0m\u001b[0;34m)\u001b[0m  \u001b[0;31m# pylint: disable=not-callable\u001b[0m\u001b[0;34m\u001b[0m\u001b[0;34m\u001b[0m\u001b[0m\n\u001b[0m\u001b[1;32m    918\u001b[0m     \u001b[0;32melif\u001b[0m \u001b[0mself\u001b[0m\u001b[0;34m.\u001b[0m\u001b[0m_stateful_fn\u001b[0m \u001b[0;32mis\u001b[0m \u001b[0;32mnot\u001b[0m \u001b[0;32mNone\u001b[0m\u001b[0;34m:\u001b[0m\u001b[0;34m\u001b[0m\u001b[0;34m\u001b[0m\u001b[0m\n\u001b[1;32m    919\u001b[0m       \u001b[0;31m# Release the lock early so that multiple threads can perform the call\u001b[0m\u001b[0;34m\u001b[0m\u001b[0;34m\u001b[0m\u001b[0;34m\u001b[0m\u001b[0m\n",
      "\u001b[0;32m~/.pyenv/versions/3.8.6/envs/lewagon/lib/python3.8/site-packages/tensorflow/python/eager/function.py\u001b[0m in \u001b[0;36m__call__\u001b[0;34m(self, *args, **kwargs)\u001b[0m\n\u001b[1;32m   3021\u001b[0m       (graph_function,\n\u001b[1;32m   3022\u001b[0m        filtered_flat_args) = self._maybe_define_function(args, kwargs)\n\u001b[0;32m-> 3023\u001b[0;31m     return graph_function._call_flat(\n\u001b[0m\u001b[1;32m   3024\u001b[0m         filtered_flat_args, captured_inputs=graph_function.captured_inputs)  # pylint: disable=protected-access\n\u001b[1;32m   3025\u001b[0m \u001b[0;34m\u001b[0m\u001b[0m\n",
      "\u001b[0;32m~/.pyenv/versions/3.8.6/envs/lewagon/lib/python3.8/site-packages/tensorflow/python/eager/function.py\u001b[0m in \u001b[0;36m_call_flat\u001b[0;34m(self, args, captured_inputs, cancellation_manager)\u001b[0m\n\u001b[1;32m   1958\u001b[0m         and executing_eagerly):\n\u001b[1;32m   1959\u001b[0m       \u001b[0;31m# No tape is watching; skip to running the function.\u001b[0m\u001b[0;34m\u001b[0m\u001b[0;34m\u001b[0m\u001b[0;34m\u001b[0m\u001b[0m\n\u001b[0;32m-> 1960\u001b[0;31m       return self._build_call_outputs(self._inference_function.call(\n\u001b[0m\u001b[1;32m   1961\u001b[0m           ctx, args, cancellation_manager=cancellation_manager))\n\u001b[1;32m   1962\u001b[0m     forward_backward = self._select_forward_and_backward_functions(\n",
      "\u001b[0;32m~/.pyenv/versions/3.8.6/envs/lewagon/lib/python3.8/site-packages/tensorflow/python/eager/function.py\u001b[0m in \u001b[0;36mcall\u001b[0;34m(self, ctx, args, cancellation_manager)\u001b[0m\n\u001b[1;32m    589\u001b[0m       \u001b[0;32mwith\u001b[0m \u001b[0m_InterpolateFunctionError\u001b[0m\u001b[0;34m(\u001b[0m\u001b[0mself\u001b[0m\u001b[0;34m)\u001b[0m\u001b[0;34m:\u001b[0m\u001b[0;34m\u001b[0m\u001b[0;34m\u001b[0m\u001b[0m\n\u001b[1;32m    590\u001b[0m         \u001b[0;32mif\u001b[0m \u001b[0mcancellation_manager\u001b[0m \u001b[0;32mis\u001b[0m \u001b[0;32mNone\u001b[0m\u001b[0;34m:\u001b[0m\u001b[0;34m\u001b[0m\u001b[0;34m\u001b[0m\u001b[0m\n\u001b[0;32m--> 591\u001b[0;31m           outputs = execute.execute(\n\u001b[0m\u001b[1;32m    592\u001b[0m               \u001b[0mstr\u001b[0m\u001b[0;34m(\u001b[0m\u001b[0mself\u001b[0m\u001b[0;34m.\u001b[0m\u001b[0msignature\u001b[0m\u001b[0;34m.\u001b[0m\u001b[0mname\u001b[0m\u001b[0;34m)\u001b[0m\u001b[0;34m,\u001b[0m\u001b[0;34m\u001b[0m\u001b[0;34m\u001b[0m\u001b[0m\n\u001b[1;32m    593\u001b[0m               \u001b[0mnum_outputs\u001b[0m\u001b[0;34m=\u001b[0m\u001b[0mself\u001b[0m\u001b[0;34m.\u001b[0m\u001b[0m_num_outputs\u001b[0m\u001b[0;34m,\u001b[0m\u001b[0;34m\u001b[0m\u001b[0;34m\u001b[0m\u001b[0m\n",
      "\u001b[0;32m~/.pyenv/versions/3.8.6/envs/lewagon/lib/python3.8/site-packages/tensorflow/python/eager/execute.py\u001b[0m in \u001b[0;36mquick_execute\u001b[0;34m(op_name, num_outputs, inputs, attrs, ctx, name)\u001b[0m\n\u001b[1;32m     57\u001b[0m   \u001b[0;32mtry\u001b[0m\u001b[0;34m:\u001b[0m\u001b[0;34m\u001b[0m\u001b[0;34m\u001b[0m\u001b[0m\n\u001b[1;32m     58\u001b[0m     \u001b[0mctx\u001b[0m\u001b[0;34m.\u001b[0m\u001b[0mensure_initialized\u001b[0m\u001b[0;34m(\u001b[0m\u001b[0;34m)\u001b[0m\u001b[0;34m\u001b[0m\u001b[0;34m\u001b[0m\u001b[0m\n\u001b[0;32m---> 59\u001b[0;31m     tensors = pywrap_tfe.TFE_Py_Execute(ctx._handle, device_name, op_name,\n\u001b[0m\u001b[1;32m     60\u001b[0m                                         inputs, attrs, num_outputs)\n\u001b[1;32m     61\u001b[0m   \u001b[0;32mexcept\u001b[0m \u001b[0mcore\u001b[0m\u001b[0;34m.\u001b[0m\u001b[0m_NotOkStatusException\u001b[0m \u001b[0;32mas\u001b[0m \u001b[0me\u001b[0m\u001b[0;34m:\u001b[0m\u001b[0;34m\u001b[0m\u001b[0;34m\u001b[0m\u001b[0m\n",
      "\u001b[0;31mInvalidArgumentError\u001b[0m:  Incompatible shapes: [8,1] vs. [5,1]\n\t [[node mean_squared_error/SquaredDifference (defined at Users/monmac/.pyenv/versions/3.8.6/envs/lewagon/lib/python3.8/site-packages/autokeras/utils/utils.py:88) ]] [Op:__inference_train_function_6100268]\n\nFunction call stack:\ntrain_function\n"
     ]
    }
   ],
   "source": [
    "import autokeras as ak \n",
    "import pandas as pd\n",
    "import numpy as np\n",
    "import keras\n",
    "import matplotlib.pyplot as plt\n",
    "from sklearn.preprocessing import MinMaxScaler\n",
    "from pandas.plotting import register_matplotlib_converters\n",
    "register_matplotlib_converters()\n",
    "from keras.preprocessing.sequence import TimeseriesGenerator\n",
    "from keras.models import Sequential\n",
    "from keras.layers import Dense\n",
    "from keras.layers import LSTM\n",
    "\n",
    "df = pd.concat(map(pd.read_csv, glob.glob(os.path.join('', \"../../thesis/raw_data/results/*.txt\")))) # read data \n",
    "\n",
    "X=df.drop(columns=['SOC_tot'])\n",
    "y = df.SOC_tot\n",
    "X_train, X_test, y_train, y_test = train_test_split(X,y,test_size=0.3, shuffle=False)\n",
    "\n",
    "predict_from = 1\n",
    "predict_until = 50\n",
    "lookback = 100\n",
    "clf = ak.TimeseriesForecaster(\n",
    "    lookback=lookback,\n",
    "    predict_from=predict_from,\n",
    "    predict_until=predict_until,\n",
    "    max_trials=1,\n",
    "    objective=\"val_loss\",\n",
    ")\n",
    "# Train the TimeSeriesForecaster with train data\n",
    "clf.fit(\n",
    "    x=X_train,\n",
    "    y=y_train,\n",
    "    validation_data=(X_test, y_test),\n",
    "    batch_size=8,\n",
    "    epochs=10,\n",
    ")\n",
    "# Predict with the best model(includes original training data).\n",
    "predictions = clf.predict(data_x_test)\n",
    "print(predictions.shape)\n",
    "# Evaluate the best model with testing data.\n",
    "print(clf.evaluate(data_x_val, data_y_val))\n",
    "model.fit_generator(generator,epochs=10)"
   ]
  },
  {
   "cell_type": "code",
   "execution_count": 199,
   "id": "5a6f2857",
   "metadata": {
    "ExecuteTime": {
     "end_time": "2021-10-12T15:31:06.116573Z",
     "start_time": "2021-10-12T15:31:05.941987Z"
    }
   },
   "outputs": [
    {
     "data": {
      "text/plain": [
       "372748"
      ]
     },
     "execution_count": 199,
     "metadata": {},
     "output_type": "execute_result"
    }
   ],
   "source": [
    "len(X_train)"
   ]
  },
  {
   "cell_type": "code",
   "execution_count": 204,
   "id": "b608aa30",
   "metadata": {
    "ExecuteTime": {
     "end_time": "2021-10-12T15:31:39.993995Z",
     "start_time": "2021-10-12T15:31:39.963575Z"
    }
   },
   "outputs": [
    {
     "data": {
      "text/plain": [
       "0"
      ]
     },
     "execution_count": 204,
     "metadata": {},
     "output_type": "execute_result"
    }
   ],
   "source": [
    "372748 % 2"
   ]
  },
  {
   "cell_type": "code",
   "execution_count": 235,
   "id": "6b884aab",
   "metadata": {
    "ExecuteTime": {
     "end_time": "2021-10-16T14:28:11.548112Z",
     "start_time": "2021-10-16T14:28:11.507299Z"
    }
   },
   "outputs": [],
   "source": [
    "mat = scipy.io.loadmat('/Users/monmac/Downloads/FInal year research project - Li ion battery/X_TrainCycle1.mat')"
   ]
  },
  {
   "cell_type": "code",
   "execution_count": 236,
   "id": "56e6bd7e",
   "metadata": {
    "ExecuteTime": {
     "end_time": "2021-10-16T14:28:11.741869Z",
     "start_time": "2021-10-16T14:28:11.720126Z"
    }
   },
   "outputs": [
    {
     "data": {
      "text/plain": [
       "{'__header__': b'MATLAB 5.0 MAT-file, Platform: PCWIN64, Created on: Mon Nov 30 22:44:09 2020',\n",
       " '__version__': '1.0',\n",
       " '__globals__': [],\n",
       " 'X_Train': array([[array([[0.00000000e+00, 0.00000000e+00, 0.00000000e+00, ...,\n",
       "         0.00000000e+00, 0.00000000e+00, 0.00000000e+00],\n",
       "        [3.98716489e+00, 3.98716489e+00, 3.98716489e+00, ...,\n",
       "         3.83736763e+00, 3.83735349e+00, 3.83735000e+00],\n",
       "        [2.98150000e+02, 2.98150000e+02, 2.98150000e+02, ...,\n",
       "         3.01781851e+02, 3.01773275e+02, 3.01764713e+02],\n",
       "        [0.00000000e+00, 5.00000000e-01, 1.00000000e+00, ...,\n",
       "         1.36900000e+03, 1.36950000e+03, 1.37000000e+03]])],\n",
       "        [array([[0.00000000e+00, 0.00000000e+00, 0.00000000e+00, ...,\n",
       "         0.00000000e+00, 0.00000000e+00, 0.00000000e+00],\n",
       "        [3.98716489e+00, 3.98716489e+00, 3.98716489e+00, ...,\n",
       "         3.93269532e+00, 3.93273181e+00, 3.93276932e+00],\n",
       "        [2.98150000e+02, 2.98150000e+02, 2.98150000e+02, ...,\n",
       "         2.99936734e+02, 2.99932404e+02, 2.99928082e+02],\n",
       "        [0.00000000e+00, 5.00000000e-01, 1.00000000e+00, ...,\n",
       "         6.00000000e+02, 6.00500000e+02, 6.01000000e+02]])],\n",
       "        [array([[ 0.00000000e+00,  0.00000000e+00,  0.00000000e+00, ...,\n",
       "         -7.30750000e+00, -7.30750000e+00, -7.30750000e+00],\n",
       "        [ 3.98716489e+00,  3.98716489e+00,  3.98716489e+00, ...,\n",
       "          3.27852801e+00,  3.27848770e+00,  3.27840706e+00],\n",
       "        [ 2.98150000e+02,  2.98150000e+02,  2.98150000e+02, ...,\n",
       "          2.98634039e+02,  2.98634166e+02,  2.98634418e+02],\n",
       "        [ 0.00000000e+00,  5.00000000e-01,  1.00000000e+00, ...,\n",
       "          2.27860503e+04,  2.27861006e+04,  2.27862013e+04]])],\n",
       "        [array([[-2.92300000e+01, -2.92300000e+01, -2.92300000e+01, ...,\n",
       "         -2.92300000e+01, -2.92300000e+01, -2.92300000e+01],\n",
       "        [ 3.94035753e+00,  3.93997674e+00,  3.93962462e+00, ...,\n",
       "          3.12069301e+00,  3.12064672e+00,  3.12055410e+00],\n",
       "        [ 2.98150000e+02,  2.98152935e+02,  2.98156062e+02, ...,\n",
       "          3.06522024e+02,  3.06522057e+02,  3.06522125e+02],\n",
       "        [ 0.00000000e+00,  5.00000000e-01,  1.00000000e+00, ...,\n",
       "          2.84401357e+03,  2.84402714e+03,  2.84405429e+03]])]],\n",
       "       dtype=object)}"
      ]
     },
     "execution_count": 236,
     "metadata": {},
     "output_type": "execute_result"
    }
   ],
   "source": [
    "mat"
   ]
  },
  {
   "cell_type": "code",
   "execution_count": 237,
   "id": "bdbfea38",
   "metadata": {
    "ExecuteTime": {
     "end_time": "2021-10-16T14:28:11.954382Z",
     "start_time": "2021-10-16T14:28:11.935065Z"
    }
   },
   "outputs": [
    {
     "data": {
      "text/plain": [
       "array([[array([[0.00000000e+00, 0.00000000e+00, 0.00000000e+00, ...,\n",
       "        0.00000000e+00, 0.00000000e+00, 0.00000000e+00],\n",
       "       [3.98716489e+00, 3.98716489e+00, 3.98716489e+00, ...,\n",
       "        3.83736763e+00, 3.83735349e+00, 3.83735000e+00],\n",
       "       [2.98150000e+02, 2.98150000e+02, 2.98150000e+02, ...,\n",
       "        3.01781851e+02, 3.01773275e+02, 3.01764713e+02],\n",
       "       [0.00000000e+00, 5.00000000e-01, 1.00000000e+00, ...,\n",
       "        1.36900000e+03, 1.36950000e+03, 1.37000000e+03]])],\n",
       "       [array([[0.00000000e+00, 0.00000000e+00, 0.00000000e+00, ...,\n",
       "        0.00000000e+00, 0.00000000e+00, 0.00000000e+00],\n",
       "       [3.98716489e+00, 3.98716489e+00, 3.98716489e+00, ...,\n",
       "        3.93269532e+00, 3.93273181e+00, 3.93276932e+00],\n",
       "       [2.98150000e+02, 2.98150000e+02, 2.98150000e+02, ...,\n",
       "        2.99936734e+02, 2.99932404e+02, 2.99928082e+02],\n",
       "       [0.00000000e+00, 5.00000000e-01, 1.00000000e+00, ...,\n",
       "        6.00000000e+02, 6.00500000e+02, 6.01000000e+02]])],\n",
       "       [array([[ 0.00000000e+00,  0.00000000e+00,  0.00000000e+00, ...,\n",
       "        -7.30750000e+00, -7.30750000e+00, -7.30750000e+00],\n",
       "       [ 3.98716489e+00,  3.98716489e+00,  3.98716489e+00, ...,\n",
       "         3.27852801e+00,  3.27848770e+00,  3.27840706e+00],\n",
       "       [ 2.98150000e+02,  2.98150000e+02,  2.98150000e+02, ...,\n",
       "         2.98634039e+02,  2.98634166e+02,  2.98634418e+02],\n",
       "       [ 0.00000000e+00,  5.00000000e-01,  1.00000000e+00, ...,\n",
       "         2.27860503e+04,  2.27861006e+04,  2.27862013e+04]])],\n",
       "       [array([[-2.92300000e+01, -2.92300000e+01, -2.92300000e+01, ...,\n",
       "        -2.92300000e+01, -2.92300000e+01, -2.92300000e+01],\n",
       "       [ 3.94035753e+00,  3.93997674e+00,  3.93962462e+00, ...,\n",
       "         3.12069301e+00,  3.12064672e+00,  3.12055410e+00],\n",
       "       [ 2.98150000e+02,  2.98152935e+02,  2.98156062e+02, ...,\n",
       "         3.06522024e+02,  3.06522057e+02,  3.06522125e+02],\n",
       "       [ 0.00000000e+00,  5.00000000e-01,  1.00000000e+00, ...,\n",
       "         2.84401357e+03,  2.84402714e+03,  2.84405429e+03]])]],\n",
       "      dtype=object)"
      ]
     },
     "execution_count": 237,
     "metadata": {},
     "output_type": "execute_result"
    }
   ],
   "source": [
    "mat['X_Train']"
   ]
  },
  {
   "cell_type": "code",
   "execution_count": 249,
   "id": "43379344",
   "metadata": {
    "ExecuteTime": {
     "end_time": "2021-10-16T14:29:10.619134Z",
     "start_time": "2021-10-16T14:29:10.613052Z"
    }
   },
   "outputs": [],
   "source": [
    "df = pd.DataFrame(np.hstack((mat['X_Train'][0])))"
   ]
  },
  {
   "cell_type": "code",
   "execution_count": 250,
   "id": "60441211",
   "metadata": {
    "ExecuteTime": {
     "end_time": "2021-10-16T14:29:10.789967Z",
     "start_time": "2021-10-16T14:29:10.766338Z"
    }
   },
   "outputs": [
    {
     "data": {
      "text/html": [
       "<div>\n",
       "<style scoped>\n",
       "    .dataframe tbody tr th:only-of-type {\n",
       "        vertical-align: middle;\n",
       "    }\n",
       "\n",
       "    .dataframe tbody tr th {\n",
       "        vertical-align: top;\n",
       "    }\n",
       "\n",
       "    .dataframe thead th {\n",
       "        text-align: right;\n",
       "    }\n",
       "</style>\n",
       "<table border=\"1\" class=\"dataframe\">\n",
       "  <thead>\n",
       "    <tr style=\"text-align: right;\">\n",
       "      <th></th>\n",
       "      <th>0</th>\n",
       "      <th>1</th>\n",
       "      <th>2</th>\n",
       "      <th>3</th>\n",
       "    </tr>\n",
       "  </thead>\n",
       "  <tbody>\n",
       "    <tr>\n",
       "      <th>0</th>\n",
       "      <td>0.000000</td>\n",
       "      <td>3.987165</td>\n",
       "      <td>298.150000</td>\n",
       "      <td>0.0</td>\n",
       "    </tr>\n",
       "    <tr>\n",
       "      <th>1</th>\n",
       "      <td>0.000000</td>\n",
       "      <td>3.987165</td>\n",
       "      <td>298.150000</td>\n",
       "      <td>0.5</td>\n",
       "    </tr>\n",
       "    <tr>\n",
       "      <th>2</th>\n",
       "      <td>0.000000</td>\n",
       "      <td>3.987165</td>\n",
       "      <td>298.150000</td>\n",
       "      <td>1.0</td>\n",
       "    </tr>\n",
       "    <tr>\n",
       "      <th>3</th>\n",
       "      <td>0.000000</td>\n",
       "      <td>3.987165</td>\n",
       "      <td>298.150000</td>\n",
       "      <td>1.5</td>\n",
       "    </tr>\n",
       "    <tr>\n",
       "      <th>4</th>\n",
       "      <td>0.000000</td>\n",
       "      <td>3.987165</td>\n",
       "      <td>298.150000</td>\n",
       "      <td>2.0</td>\n",
       "    </tr>\n",
       "    <tr>\n",
       "      <th>...</th>\n",
       "      <td>...</td>\n",
       "      <td>...</td>\n",
       "      <td>...</td>\n",
       "      <td>...</td>\n",
       "    </tr>\n",
       "    <tr>\n",
       "      <th>2736</th>\n",
       "      <td>33.215909</td>\n",
       "      <td>3.886588</td>\n",
       "      <td>301.799269</td>\n",
       "      <td>1368.0</td>\n",
       "    </tr>\n",
       "    <tr>\n",
       "      <th>2737</th>\n",
       "      <td>0.000000</td>\n",
       "      <td>3.837396</td>\n",
       "      <td>301.790439</td>\n",
       "      <td>1368.5</td>\n",
       "    </tr>\n",
       "    <tr>\n",
       "      <th>2738</th>\n",
       "      <td>0.000000</td>\n",
       "      <td>3.837368</td>\n",
       "      <td>301.781851</td>\n",
       "      <td>1369.0</td>\n",
       "    </tr>\n",
       "    <tr>\n",
       "      <th>2739</th>\n",
       "      <td>0.000000</td>\n",
       "      <td>3.837353</td>\n",
       "      <td>301.773275</td>\n",
       "      <td>1369.5</td>\n",
       "    </tr>\n",
       "    <tr>\n",
       "      <th>2740</th>\n",
       "      <td>0.000000</td>\n",
       "      <td>3.837350</td>\n",
       "      <td>301.764713</td>\n",
       "      <td>1370.0</td>\n",
       "    </tr>\n",
       "  </tbody>\n",
       "</table>\n",
       "<p>2741 rows × 4 columns</p>\n",
       "</div>"
      ],
      "text/plain": [
       "              0         1           2       3\n",
       "0      0.000000  3.987165  298.150000     0.0\n",
       "1      0.000000  3.987165  298.150000     0.5\n",
       "2      0.000000  3.987165  298.150000     1.0\n",
       "3      0.000000  3.987165  298.150000     1.5\n",
       "4      0.000000  3.987165  298.150000     2.0\n",
       "...         ...       ...         ...     ...\n",
       "2736  33.215909  3.886588  301.799269  1368.0\n",
       "2737   0.000000  3.837396  301.790439  1368.5\n",
       "2738   0.000000  3.837368  301.781851  1369.0\n",
       "2739   0.000000  3.837353  301.773275  1369.5\n",
       "2740   0.000000  3.837350  301.764713  1370.0\n",
       "\n",
       "[2741 rows x 4 columns]"
      ]
     },
     "execution_count": 250,
     "metadata": {},
     "output_type": "execute_result"
    }
   ],
   "source": [
    "df.T"
   ]
  },
  {
   "cell_type": "code",
   "execution_count": 242,
   "id": "7177e9c7",
   "metadata": {
    "ExecuteTime": {
     "end_time": "2021-10-16T14:28:42.151484Z",
     "start_time": "2021-10-16T14:28:42.136530Z"
    }
   },
   "outputs": [],
   "source": [
    "mat_y = scipy.io.loadmat('/Users/monmac/Downloads/FInal year research project - Li ion battery/Y_TrainCycle1.mat')"
   ]
  },
  {
   "cell_type": "code",
   "execution_count": 243,
   "id": "287e0651",
   "metadata": {
    "ExecuteTime": {
     "end_time": "2021-10-16T14:28:42.313098Z",
     "start_time": "2021-10-16T14:28:42.304063Z"
    }
   },
   "outputs": [
    {
     "data": {
      "text/plain": [
       "{'__header__': b'MATLAB 5.0 MAT-file, Platform: PCWIN64, Created on: Mon Nov 30 22:44:09 2020',\n",
       " '__version__': '1.0',\n",
       " '__globals__': [],\n",
       " 'X_Train': array([[array([[0.00000000e+00, 0.00000000e+00, 0.00000000e+00, ...,\n",
       "         0.00000000e+00, 0.00000000e+00, 0.00000000e+00],\n",
       "        [3.98716489e+00, 3.98716489e+00, 3.98716489e+00, ...,\n",
       "         3.83736763e+00, 3.83735349e+00, 3.83735000e+00],\n",
       "        [2.98150000e+02, 2.98150000e+02, 2.98150000e+02, ...,\n",
       "         3.01781851e+02, 3.01773275e+02, 3.01764713e+02],\n",
       "        [0.00000000e+00, 5.00000000e-01, 1.00000000e+00, ...,\n",
       "         1.36900000e+03, 1.36950000e+03, 1.37000000e+03]])],\n",
       "        [array([[0.00000000e+00, 0.00000000e+00, 0.00000000e+00, ...,\n",
       "         0.00000000e+00, 0.00000000e+00, 0.00000000e+00],\n",
       "        [3.98716489e+00, 3.98716489e+00, 3.98716489e+00, ...,\n",
       "         3.93269532e+00, 3.93273181e+00, 3.93276932e+00],\n",
       "        [2.98150000e+02, 2.98150000e+02, 2.98150000e+02, ...,\n",
       "         2.99936734e+02, 2.99932404e+02, 2.99928082e+02],\n",
       "        [0.00000000e+00, 5.00000000e-01, 1.00000000e+00, ...,\n",
       "         6.00000000e+02, 6.00500000e+02, 6.01000000e+02]])],\n",
       "        [array([[ 0.00000000e+00,  0.00000000e+00,  0.00000000e+00, ...,\n",
       "         -7.30750000e+00, -7.30750000e+00, -7.30750000e+00],\n",
       "        [ 3.98716489e+00,  3.98716489e+00,  3.98716489e+00, ...,\n",
       "          3.27852801e+00,  3.27848770e+00,  3.27840706e+00],\n",
       "        [ 2.98150000e+02,  2.98150000e+02,  2.98150000e+02, ...,\n",
       "          2.98634039e+02,  2.98634166e+02,  2.98634418e+02],\n",
       "        [ 0.00000000e+00,  5.00000000e-01,  1.00000000e+00, ...,\n",
       "          2.27860503e+04,  2.27861006e+04,  2.27862013e+04]])],\n",
       "        [array([[-2.92300000e+01, -2.92300000e+01, -2.92300000e+01, ...,\n",
       "         -2.92300000e+01, -2.92300000e+01, -2.92300000e+01],\n",
       "        [ 3.94035753e+00,  3.93997674e+00,  3.93962462e+00, ...,\n",
       "          3.12069301e+00,  3.12064672e+00,  3.12055410e+00],\n",
       "        [ 2.98150000e+02,  2.98152935e+02,  2.98156062e+02, ...,\n",
       "          3.06522024e+02,  3.06522057e+02,  3.06522125e+02],\n",
       "        [ 0.00000000e+00,  5.00000000e-01,  1.00000000e+00, ...,\n",
       "          2.84401357e+03,  2.84402714e+03,  2.84405429e+03]])]],\n",
       "       dtype=object)}"
      ]
     },
     "execution_count": 243,
     "metadata": {},
     "output_type": "execute_result"
    }
   ],
   "source": [
    "mat"
   ]
  },
  {
   "cell_type": "code",
   "execution_count": 247,
   "id": "49e8b39e",
   "metadata": {
    "ExecuteTime": {
     "end_time": "2021-10-16T14:29:04.139419Z",
     "start_time": "2021-10-16T14:29:04.134110Z"
    }
   },
   "outputs": [],
   "source": [
    "df1 = pd.DataFrame(np.hstack((mat_y['Y_Train'][0])))"
   ]
  },
  {
   "cell_type": "code",
   "execution_count": 248,
   "id": "4580ed82",
   "metadata": {
    "ExecuteTime": {
     "end_time": "2021-10-16T14:29:04.273822Z",
     "start_time": "2021-10-16T14:29:04.260313Z"
    }
   },
   "outputs": [
    {
     "data": {
      "text/html": [
       "<div>\n",
       "<style scoped>\n",
       "    .dataframe tbody tr th:only-of-type {\n",
       "        vertical-align: middle;\n",
       "    }\n",
       "\n",
       "    .dataframe tbody tr th {\n",
       "        vertical-align: top;\n",
       "    }\n",
       "\n",
       "    .dataframe thead th {\n",
       "        text-align: right;\n",
       "    }\n",
       "</style>\n",
       "<table border=\"1\" class=\"dataframe\">\n",
       "  <thead>\n",
       "    <tr style=\"text-align: right;\">\n",
       "      <th></th>\n",
       "      <th>0</th>\n",
       "    </tr>\n",
       "  </thead>\n",
       "  <tbody>\n",
       "    <tr>\n",
       "      <th>0</th>\n",
       "      <td>80.000000</td>\n",
       "    </tr>\n",
       "    <tr>\n",
       "      <th>1</th>\n",
       "      <td>80.000000</td>\n",
       "    </tr>\n",
       "    <tr>\n",
       "      <th>2</th>\n",
       "      <td>80.000000</td>\n",
       "    </tr>\n",
       "    <tr>\n",
       "      <th>3</th>\n",
       "      <td>80.000000</td>\n",
       "    </tr>\n",
       "    <tr>\n",
       "      <th>4</th>\n",
       "      <td>80.000000</td>\n",
       "    </tr>\n",
       "    <tr>\n",
       "      <th>...</th>\n",
       "      <td>...</td>\n",
       "    </tr>\n",
       "    <tr>\n",
       "      <th>2736</th>\n",
       "      <td>56.742832</td>\n",
       "    </tr>\n",
       "    <tr>\n",
       "      <th>2737</th>\n",
       "      <td>56.742832</td>\n",
       "    </tr>\n",
       "    <tr>\n",
       "      <th>2738</th>\n",
       "      <td>56.742832</td>\n",
       "    </tr>\n",
       "    <tr>\n",
       "      <th>2739</th>\n",
       "      <td>56.742832</td>\n",
       "    </tr>\n",
       "    <tr>\n",
       "      <th>2740</th>\n",
       "      <td>56.742832</td>\n",
       "    </tr>\n",
       "  </tbody>\n",
       "</table>\n",
       "<p>2741 rows × 1 columns</p>\n",
       "</div>"
      ],
      "text/plain": [
       "              0\n",
       "0     80.000000\n",
       "1     80.000000\n",
       "2     80.000000\n",
       "3     80.000000\n",
       "4     80.000000\n",
       "...         ...\n",
       "2736  56.742832\n",
       "2737  56.742832\n",
       "2738  56.742832\n",
       "2739  56.742832\n",
       "2740  56.742832\n",
       "\n",
       "[2741 rows x 1 columns]"
      ]
     },
     "execution_count": 248,
     "metadata": {},
     "output_type": "execute_result"
    }
   ],
   "source": [
    "df1.T"
   ]
  },
  {
   "cell_type": "code",
   "execution_count": 400,
   "id": "e521c19b",
   "metadata": {
    "ExecuteTime": {
     "end_time": "2021-10-17T15:10:36.107143Z",
     "start_time": "2021-10-17T15:10:33.697720Z"
    }
   },
   "outputs": [],
   "source": [
    "#UDDS\n",
    "df_udds=pd.read_csv('/Users/monmac/Desktop/uddscol.txt').reset_index()\n",
    "df_udds['level_0']=df_udds['level_0'].str.split('\\t')\n",
    "df_udds=pd.DataFrame(df_udds['level_0'].to_list(), columns = ['time','speed'])\n",
    "df_udds=df_udds[1:]\n",
    "df_udds['speed']=df_udds['speed'].astype('float32')\n",
    "df_udds['accel']=df_udds['speed'].diff(periods=1)\n",
    "max_accel_udds=df_udds['accel'].max()\n",
    "prop_constant_udds = max_accel_udds / 6 \n",
    "df_udds['current_base'] = prop_constant_udds * df_udds['accel']\n",
    "df_udds['current_real'] = 0 \n",
    "for i in df_udds['current_base'].index:\n",
    "    if df_udds.loc[i:i,'current_base'].max()<0:\n",
    "        df_udds.loc[i:i,'current_real']=df_udds.loc[i:i,'current_base']*0.25\n",
    "    if df_udds.loc[i:i,'current_base'].max()>0:\n",
    "        df_udds.loc[i:i,'current_real']=df_udds.loc[i:i,'current_base']\n",
    "    if df_udds.loc[i:i,'current_base'].max()==0:\n",
    "        df_udds.loc[i:i,'current_real'] = 0        \n",
    "        \n",
    "#US06\n",
    "df_us06=pd.read_csv('/Users/monmac/Desktop/us06col.txt').reset_index()\n",
    "df_us06['US06.TXT\\tUS06 Supplemental FTP Driving Schedule']=df_us06['US06.TXT\\tUS06 Supplemental FTP Driving Schedule'].str.split('\\t')\n",
    "df_us06=pd.DataFrame(df_us06['US06.TXT\\tUS06 Supplemental FTP Driving Schedule'].to_list(), columns = ['time','speed'])\n",
    "df_us06=df_us06[1:]\n",
    "df_us06['speed']=df_us06['speed'].astype('float32')\n",
    "df_us06['accel']=df_us06['speed'].diff(periods=1)\n",
    "max_accel_us06=df_us06['accel'].max()\n",
    "prop_constant_us06 = max_accel_us06 / 6 \n",
    "df_us06['current_base'] = prop_constant_us06 * df_us06['accel']\n",
    "df_us06['current_real'] = 0 \n",
    "for i in df_us06['current_base'].index:\n",
    "    if df_us06.loc[i:i,'current_base'].max()<0:\n",
    "        df_us06.loc[i:i,'current_real']=df_us06.loc[i:i,'current_base']*0.25\n",
    "    if df_us06.loc[i:i,'current_base'].max()>0:\n",
    "        df_us06.loc[i:i,'current_real']=df_us06.loc[i:i,'current_base']\n",
    "    if df_us06.loc[i:i,'current_base'].max()==0:\n",
    "        df_us06.loc[i:i,'current_real'] = 0"
   ]
  },
  {
   "cell_type": "code",
   "execution_count": 402,
   "id": "83a6de1d",
   "metadata": {
    "ExecuteTime": {
     "end_time": "2021-10-17T15:11:43.668275Z",
     "start_time": "2021-10-17T15:11:43.594353Z"
    }
   },
   "outputs": [
    {
     "data": {
      "text/html": [
       "<div>\n",
       "<style scoped>\n",
       "    .dataframe tbody tr th:only-of-type {\n",
       "        vertical-align: middle;\n",
       "    }\n",
       "\n",
       "    .dataframe tbody tr th {\n",
       "        vertical-align: top;\n",
       "    }\n",
       "\n",
       "    .dataframe thead th {\n",
       "        text-align: right;\n",
       "    }\n",
       "</style>\n",
       "<table border=\"1\" class=\"dataframe\">\n",
       "  <thead>\n",
       "    <tr style=\"text-align: right;\">\n",
       "      <th></th>\n",
       "      <th>time</th>\n",
       "      <th>speed</th>\n",
       "      <th>accel</th>\n",
       "      <th>current_base</th>\n",
       "      <th>current_real</th>\n",
       "    </tr>\n",
       "  </thead>\n",
       "  <tbody>\n",
       "    <tr>\n",
       "      <th>1</th>\n",
       "      <td>0</td>\n",
       "      <td>0.000000</td>\n",
       "      <td>NaN</td>\n",
       "      <td>NaN</td>\n",
       "      <td>0.000000</td>\n",
       "    </tr>\n",
       "    <tr>\n",
       "      <th>2</th>\n",
       "      <td>1</td>\n",
       "      <td>0.000000</td>\n",
       "      <td>0.000000</td>\n",
       "      <td>0.000000</td>\n",
       "      <td>0.000000</td>\n",
       "    </tr>\n",
       "    <tr>\n",
       "      <th>3</th>\n",
       "      <td>2</td>\n",
       "      <td>0.000000</td>\n",
       "      <td>0.000000</td>\n",
       "      <td>0.000000</td>\n",
       "      <td>0.000000</td>\n",
       "    </tr>\n",
       "    <tr>\n",
       "      <th>4</th>\n",
       "      <td>3</td>\n",
       "      <td>0.000000</td>\n",
       "      <td>0.000000</td>\n",
       "      <td>0.000000</td>\n",
       "      <td>0.000000</td>\n",
       "    </tr>\n",
       "    <tr>\n",
       "      <th>5</th>\n",
       "      <td>4</td>\n",
       "      <td>0.000000</td>\n",
       "      <td>0.000000</td>\n",
       "      <td>0.000000</td>\n",
       "      <td>0.000000</td>\n",
       "    </tr>\n",
       "    <tr>\n",
       "      <th>6</th>\n",
       "      <td>5</td>\n",
       "      <td>0.000000</td>\n",
       "      <td>0.000000</td>\n",
       "      <td>0.000000</td>\n",
       "      <td>0.000000</td>\n",
       "    </tr>\n",
       "    <tr>\n",
       "      <th>7</th>\n",
       "      <td>6</td>\n",
       "      <td>0.000000</td>\n",
       "      <td>0.000000</td>\n",
       "      <td>0.000000</td>\n",
       "      <td>0.000000</td>\n",
       "    </tr>\n",
       "    <tr>\n",
       "      <th>8</th>\n",
       "      <td>7</td>\n",
       "      <td>0.000000</td>\n",
       "      <td>0.000000</td>\n",
       "      <td>0.000000</td>\n",
       "      <td>0.000000</td>\n",
       "    </tr>\n",
       "    <tr>\n",
       "      <th>9</th>\n",
       "      <td>8</td>\n",
       "      <td>0.000000</td>\n",
       "      <td>0.000000</td>\n",
       "      <td>0.000000</td>\n",
       "      <td>0.000000</td>\n",
       "    </tr>\n",
       "    <tr>\n",
       "      <th>10</th>\n",
       "      <td>9</td>\n",
       "      <td>0.000000</td>\n",
       "      <td>0.000000</td>\n",
       "      <td>0.000000</td>\n",
       "      <td>0.000000</td>\n",
       "    </tr>\n",
       "    <tr>\n",
       "      <th>11</th>\n",
       "      <td>10</td>\n",
       "      <td>0.000000</td>\n",
       "      <td>0.000000</td>\n",
       "      <td>0.000000</td>\n",
       "      <td>0.000000</td>\n",
       "    </tr>\n",
       "    <tr>\n",
       "      <th>12</th>\n",
       "      <td>11</td>\n",
       "      <td>0.000000</td>\n",
       "      <td>0.000000</td>\n",
       "      <td>0.000000</td>\n",
       "      <td>0.000000</td>\n",
       "    </tr>\n",
       "    <tr>\n",
       "      <th>13</th>\n",
       "      <td>12</td>\n",
       "      <td>0.000000</td>\n",
       "      <td>0.000000</td>\n",
       "      <td>0.000000</td>\n",
       "      <td>0.000000</td>\n",
       "    </tr>\n",
       "    <tr>\n",
       "      <th>14</th>\n",
       "      <td>13</td>\n",
       "      <td>0.000000</td>\n",
       "      <td>0.000000</td>\n",
       "      <td>0.000000</td>\n",
       "      <td>0.000000</td>\n",
       "    </tr>\n",
       "    <tr>\n",
       "      <th>15</th>\n",
       "      <td>14</td>\n",
       "      <td>0.000000</td>\n",
       "      <td>0.000000</td>\n",
       "      <td>0.000000</td>\n",
       "      <td>0.000000</td>\n",
       "    </tr>\n",
       "    <tr>\n",
       "      <th>16</th>\n",
       "      <td>15</td>\n",
       "      <td>0.000000</td>\n",
       "      <td>0.000000</td>\n",
       "      <td>0.000000</td>\n",
       "      <td>0.000000</td>\n",
       "    </tr>\n",
       "    <tr>\n",
       "      <th>17</th>\n",
       "      <td>16</td>\n",
       "      <td>0.000000</td>\n",
       "      <td>0.000000</td>\n",
       "      <td>0.000000</td>\n",
       "      <td>0.000000</td>\n",
       "    </tr>\n",
       "    <tr>\n",
       "      <th>18</th>\n",
       "      <td>17</td>\n",
       "      <td>0.000000</td>\n",
       "      <td>0.000000</td>\n",
       "      <td>0.000000</td>\n",
       "      <td>0.000000</td>\n",
       "    </tr>\n",
       "    <tr>\n",
       "      <th>19</th>\n",
       "      <td>18</td>\n",
       "      <td>0.000000</td>\n",
       "      <td>0.000000</td>\n",
       "      <td>0.000000</td>\n",
       "      <td>0.000000</td>\n",
       "    </tr>\n",
       "    <tr>\n",
       "      <th>20</th>\n",
       "      <td>19</td>\n",
       "      <td>0.000000</td>\n",
       "      <td>0.000000</td>\n",
       "      <td>0.000000</td>\n",
       "      <td>0.000000</td>\n",
       "    </tr>\n",
       "    <tr>\n",
       "      <th>21</th>\n",
       "      <td>20</td>\n",
       "      <td>0.000000</td>\n",
       "      <td>0.000000</td>\n",
       "      <td>0.000000</td>\n",
       "      <td>0.000000</td>\n",
       "    </tr>\n",
       "    <tr>\n",
       "      <th>22</th>\n",
       "      <td>21</td>\n",
       "      <td>3.000000</td>\n",
       "      <td>3.000000</td>\n",
       "      <td>1.650001</td>\n",
       "      <td>1.650001</td>\n",
       "    </tr>\n",
       "    <tr>\n",
       "      <th>23</th>\n",
       "      <td>22</td>\n",
       "      <td>5.900000</td>\n",
       "      <td>2.900000</td>\n",
       "      <td>1.595001</td>\n",
       "      <td>1.595001</td>\n",
       "    </tr>\n",
       "    <tr>\n",
       "      <th>24</th>\n",
       "      <td>23</td>\n",
       "      <td>8.600000</td>\n",
       "      <td>2.700000</td>\n",
       "      <td>1.485001</td>\n",
       "      <td>1.485001</td>\n",
       "    </tr>\n",
       "    <tr>\n",
       "      <th>25</th>\n",
       "      <td>24</td>\n",
       "      <td>11.500000</td>\n",
       "      <td>2.900000</td>\n",
       "      <td>1.595000</td>\n",
       "      <td>1.595000</td>\n",
       "    </tr>\n",
       "    <tr>\n",
       "      <th>26</th>\n",
       "      <td>25</td>\n",
       "      <td>14.300000</td>\n",
       "      <td>2.800000</td>\n",
       "      <td>1.540001</td>\n",
       "      <td>1.540001</td>\n",
       "    </tr>\n",
       "    <tr>\n",
       "      <th>27</th>\n",
       "      <td>26</td>\n",
       "      <td>16.900000</td>\n",
       "      <td>2.599999</td>\n",
       "      <td>1.430000</td>\n",
       "      <td>1.430000</td>\n",
       "    </tr>\n",
       "    <tr>\n",
       "      <th>28</th>\n",
       "      <td>27</td>\n",
       "      <td>17.299999</td>\n",
       "      <td>0.400000</td>\n",
       "      <td>0.220000</td>\n",
       "      <td>0.220000</td>\n",
       "    </tr>\n",
       "    <tr>\n",
       "      <th>29</th>\n",
       "      <td>28</td>\n",
       "      <td>18.100000</td>\n",
       "      <td>0.800001</td>\n",
       "      <td>0.440001</td>\n",
       "      <td>0.440001</td>\n",
       "    </tr>\n",
       "    <tr>\n",
       "      <th>30</th>\n",
       "      <td>29</td>\n",
       "      <td>20.700001</td>\n",
       "      <td>2.600000</td>\n",
       "      <td>1.430001</td>\n",
       "      <td>1.430001</td>\n",
       "    </tr>\n",
       "    <tr>\n",
       "      <th>31</th>\n",
       "      <td>30</td>\n",
       "      <td>21.700001</td>\n",
       "      <td>1.000000</td>\n",
       "      <td>0.550000</td>\n",
       "      <td>0.550000</td>\n",
       "    </tr>\n",
       "    <tr>\n",
       "      <th>32</th>\n",
       "      <td>31</td>\n",
       "      <td>22.400000</td>\n",
       "      <td>0.699999</td>\n",
       "      <td>0.385000</td>\n",
       "      <td>0.385000</td>\n",
       "    </tr>\n",
       "    <tr>\n",
       "      <th>33</th>\n",
       "      <td>32</td>\n",
       "      <td>22.500000</td>\n",
       "      <td>0.100000</td>\n",
       "      <td>0.055000</td>\n",
       "      <td>0.055000</td>\n",
       "    </tr>\n",
       "    <tr>\n",
       "      <th>34</th>\n",
       "      <td>33</td>\n",
       "      <td>22.100000</td>\n",
       "      <td>-0.400000</td>\n",
       "      <td>-0.220000</td>\n",
       "      <td>-0.055000</td>\n",
       "    </tr>\n",
       "    <tr>\n",
       "      <th>35</th>\n",
       "      <td>34</td>\n",
       "      <td>21.500000</td>\n",
       "      <td>-0.600000</td>\n",
       "      <td>-0.330000</td>\n",
       "      <td>-0.082500</td>\n",
       "    </tr>\n",
       "    <tr>\n",
       "      <th>36</th>\n",
       "      <td>35</td>\n",
       "      <td>20.900000</td>\n",
       "      <td>-0.600000</td>\n",
       "      <td>-0.330000</td>\n",
       "      <td>-0.082500</td>\n",
       "    </tr>\n",
       "    <tr>\n",
       "      <th>37</th>\n",
       "      <td>36</td>\n",
       "      <td>20.400000</td>\n",
       "      <td>-0.500000</td>\n",
       "      <td>-0.275000</td>\n",
       "      <td>-0.068750</td>\n",
       "    </tr>\n",
       "    <tr>\n",
       "      <th>38</th>\n",
       "      <td>37</td>\n",
       "      <td>19.799999</td>\n",
       "      <td>-0.600000</td>\n",
       "      <td>-0.330000</td>\n",
       "      <td>-0.082500</td>\n",
       "    </tr>\n",
       "    <tr>\n",
       "      <th>39</th>\n",
       "      <td>38</td>\n",
       "      <td>17.000000</td>\n",
       "      <td>-2.799999</td>\n",
       "      <td>-1.540000</td>\n",
       "      <td>-0.385000</td>\n",
       "    </tr>\n",
       "    <tr>\n",
       "      <th>40</th>\n",
       "      <td>39</td>\n",
       "      <td>14.900000</td>\n",
       "      <td>-2.100000</td>\n",
       "      <td>-1.155001</td>\n",
       "      <td>-0.288750</td>\n",
       "    </tr>\n",
       "    <tr>\n",
       "      <th>41</th>\n",
       "      <td>40</td>\n",
       "      <td>14.900000</td>\n",
       "      <td>0.000000</td>\n",
       "      <td>0.000000</td>\n",
       "      <td>0.000000</td>\n",
       "    </tr>\n",
       "    <tr>\n",
       "      <th>42</th>\n",
       "      <td>41</td>\n",
       "      <td>15.200000</td>\n",
       "      <td>0.300000</td>\n",
       "      <td>0.165000</td>\n",
       "      <td>0.165000</td>\n",
       "    </tr>\n",
       "    <tr>\n",
       "      <th>43</th>\n",
       "      <td>42</td>\n",
       "      <td>15.500000</td>\n",
       "      <td>0.300000</td>\n",
       "      <td>0.165000</td>\n",
       "      <td>0.165000</td>\n",
       "    </tr>\n",
       "    <tr>\n",
       "      <th>44</th>\n",
       "      <td>43</td>\n",
       "      <td>16.000000</td>\n",
       "      <td>0.500000</td>\n",
       "      <td>0.275000</td>\n",
       "      <td>0.275000</td>\n",
       "    </tr>\n",
       "    <tr>\n",
       "      <th>45</th>\n",
       "      <td>44</td>\n",
       "      <td>17.100000</td>\n",
       "      <td>1.100000</td>\n",
       "      <td>0.605000</td>\n",
       "      <td>0.605000</td>\n",
       "    </tr>\n",
       "    <tr>\n",
       "      <th>46</th>\n",
       "      <td>45</td>\n",
       "      <td>19.100000</td>\n",
       "      <td>2.000000</td>\n",
       "      <td>1.100000</td>\n",
       "      <td>1.100000</td>\n",
       "    </tr>\n",
       "    <tr>\n",
       "      <th>47</th>\n",
       "      <td>46</td>\n",
       "      <td>21.100000</td>\n",
       "      <td>2.000000</td>\n",
       "      <td>1.100000</td>\n",
       "      <td>1.100000</td>\n",
       "    </tr>\n",
       "    <tr>\n",
       "      <th>48</th>\n",
       "      <td>47</td>\n",
       "      <td>22.700001</td>\n",
       "      <td>1.600000</td>\n",
       "      <td>0.880001</td>\n",
       "      <td>0.880001</td>\n",
       "    </tr>\n",
       "    <tr>\n",
       "      <th>49</th>\n",
       "      <td>48</td>\n",
       "      <td>22.900000</td>\n",
       "      <td>0.199999</td>\n",
       "      <td>0.109999</td>\n",
       "      <td>0.109999</td>\n",
       "    </tr>\n",
       "    <tr>\n",
       "      <th>50</th>\n",
       "      <td>49</td>\n",
       "      <td>22.700001</td>\n",
       "      <td>-0.199999</td>\n",
       "      <td>-0.109999</td>\n",
       "      <td>-0.027500</td>\n",
       "    </tr>\n",
       "  </tbody>\n",
       "</table>\n",
       "</div>"
      ],
      "text/plain": [
       "   time      speed     accel  current_base  current_real\n",
       "1     0   0.000000       NaN           NaN      0.000000\n",
       "2     1   0.000000  0.000000      0.000000      0.000000\n",
       "3     2   0.000000  0.000000      0.000000      0.000000\n",
       "4     3   0.000000  0.000000      0.000000      0.000000\n",
       "5     4   0.000000  0.000000      0.000000      0.000000\n",
       "6     5   0.000000  0.000000      0.000000      0.000000\n",
       "7     6   0.000000  0.000000      0.000000      0.000000\n",
       "8     7   0.000000  0.000000      0.000000      0.000000\n",
       "9     8   0.000000  0.000000      0.000000      0.000000\n",
       "10    9   0.000000  0.000000      0.000000      0.000000\n",
       "11   10   0.000000  0.000000      0.000000      0.000000\n",
       "12   11   0.000000  0.000000      0.000000      0.000000\n",
       "13   12   0.000000  0.000000      0.000000      0.000000\n",
       "14   13   0.000000  0.000000      0.000000      0.000000\n",
       "15   14   0.000000  0.000000      0.000000      0.000000\n",
       "16   15   0.000000  0.000000      0.000000      0.000000\n",
       "17   16   0.000000  0.000000      0.000000      0.000000\n",
       "18   17   0.000000  0.000000      0.000000      0.000000\n",
       "19   18   0.000000  0.000000      0.000000      0.000000\n",
       "20   19   0.000000  0.000000      0.000000      0.000000\n",
       "21   20   0.000000  0.000000      0.000000      0.000000\n",
       "22   21   3.000000  3.000000      1.650001      1.650001\n",
       "23   22   5.900000  2.900000      1.595001      1.595001\n",
       "24   23   8.600000  2.700000      1.485001      1.485001\n",
       "25   24  11.500000  2.900000      1.595000      1.595000\n",
       "26   25  14.300000  2.800000      1.540001      1.540001\n",
       "27   26  16.900000  2.599999      1.430000      1.430000\n",
       "28   27  17.299999  0.400000      0.220000      0.220000\n",
       "29   28  18.100000  0.800001      0.440001      0.440001\n",
       "30   29  20.700001  2.600000      1.430001      1.430001\n",
       "31   30  21.700001  1.000000      0.550000      0.550000\n",
       "32   31  22.400000  0.699999      0.385000      0.385000\n",
       "33   32  22.500000  0.100000      0.055000      0.055000\n",
       "34   33  22.100000 -0.400000     -0.220000     -0.055000\n",
       "35   34  21.500000 -0.600000     -0.330000     -0.082500\n",
       "36   35  20.900000 -0.600000     -0.330000     -0.082500\n",
       "37   36  20.400000 -0.500000     -0.275000     -0.068750\n",
       "38   37  19.799999 -0.600000     -0.330000     -0.082500\n",
       "39   38  17.000000 -2.799999     -1.540000     -0.385000\n",
       "40   39  14.900000 -2.100000     -1.155001     -0.288750\n",
       "41   40  14.900000  0.000000      0.000000      0.000000\n",
       "42   41  15.200000  0.300000      0.165000      0.165000\n",
       "43   42  15.500000  0.300000      0.165000      0.165000\n",
       "44   43  16.000000  0.500000      0.275000      0.275000\n",
       "45   44  17.100000  1.100000      0.605000      0.605000\n",
       "46   45  19.100000  2.000000      1.100000      1.100000\n",
       "47   46  21.100000  2.000000      1.100000      1.100000\n",
       "48   47  22.700001  1.600000      0.880001      0.880001\n",
       "49   48  22.900000  0.199999      0.109999      0.109999\n",
       "50   49  22.700001 -0.199999     -0.109999     -0.027500"
      ]
     },
     "execution_count": 402,
     "metadata": {},
     "output_type": "execute_result"
    }
   ],
   "source": [
    "df_udds.head(50)"
   ]
  },
  {
   "cell_type": "code",
   "execution_count": 394,
   "id": "70c43f84",
   "metadata": {
    "ExecuteTime": {
     "end_time": "2021-10-16T16:06:29.637802Z",
     "start_time": "2021-10-16T16:06:29.599010Z"
    }
   },
   "outputs": [],
   "source": [
    "dict_output = {name:col.values for name,col in df_udds.items()}"
   ]
  },
  {
   "cell_type": "code",
   "execution_count": 399,
   "id": "ed8641d8",
   "metadata": {
    "ExecuteTime": {
     "end_time": "2021-10-16T16:07:55.257814Z",
     "start_time": "2021-10-16T16:07:55.045739Z"
    }
   },
   "outputs": [],
   "source": [
    "destination_folder_path = '/Users/monmac/Desktop/'\n",
    "scipy.io.savemat(os.path.join(destination_folder_path, 'test_v1_mat.mat'), dict_output)"
   ]
  },
  {
   "cell_type": "code",
   "execution_count": null,
   "id": "be1502b8",
   "metadata": {},
   "outputs": [],
   "source": []
  }
 ],
 "metadata": {
  "kernelspec": {
   "display_name": "Python 3 (ipykernel)",
   "language": "python",
   "name": "python3"
  },
  "language_info": {
   "codemirror_mode": {
    "name": "ipython",
    "version": 3
   },
   "file_extension": ".py",
   "mimetype": "text/x-python",
   "name": "python",
   "nbconvert_exporter": "python",
   "pygments_lexer": "ipython3",
   "version": "3.8.6"
  },
  "toc": {
   "base_numbering": 1,
   "nav_menu": {},
   "number_sections": true,
   "sideBar": true,
   "skip_h1_title": false,
   "title_cell": "Table of Contents",
   "title_sidebar": "Contents",
   "toc_cell": false,
   "toc_position": {},
   "toc_section_display": true,
   "toc_window_display": false
  }
 },
 "nbformat": 4,
 "nbformat_minor": 5
}
