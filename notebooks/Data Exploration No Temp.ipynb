{
 "cells": [
  {
   "cell_type": "code",
   "execution_count": 338,
   "id": "b9166023",
   "metadata": {
    "ExecuteTime": {
     "end_time": "2021-10-05T13:12:53.488459Z",
     "start_time": "2021-10-05T13:12:52.519458Z"
    }
   },
   "outputs": [],
   "source": [
    "import pandas as pd\n",
    "import glob\n",
    "import os\n",
    "import sklearn\n",
    "from sklearn.model_selection import train_test_split\n",
    "from sklearn.linear_model import LinearRegression\n",
    "from sklearn.metrics import mean_squared_error, r2_score\n",
    "import matplotlib.pyplot as plt\n",
    "import tensorflow \n",
    "import autokeras as ak\n",
    "import scipy.io"
   ]
  },
  {
   "cell_type": "code",
   "execution_count": 2,
   "id": "661cadb9",
   "metadata": {
    "ExecuteTime": {
     "end_time": "2021-09-28T11:35:18.417562Z",
     "start_time": "2021-09-28T11:35:18.412961Z"
    }
   },
   "outputs": [],
   "source": [
    "import tensorflow"
   ]
  },
  {
   "cell_type": "code",
   "execution_count": 815,
   "id": "61b01569",
   "metadata": {
    "ExecuteTime": {
     "end_time": "2021-10-06T17:34:57.392819Z",
     "start_time": "2021-10-06T17:34:54.750592Z"
    }
   },
   "outputs": [],
   "source": [
    "df = pd.concat(map(pd.read_csv, glob.glob(os.path.join('', \"../raw_data/Test/*.txt\"))))"
   ]
  },
  {
   "cell_type": "code",
   "execution_count": 827,
   "id": "46efd933",
   "metadata": {
    "ExecuteTime": {
     "end_time": "2021-10-09T17:08:48.613471Z",
     "start_time": "2021-10-09T17:08:47.921549Z"
    }
   },
   "outputs": [
    {
     "data": {
      "text/html": [
       "<div>\n",
       "<style scoped>\n",
       "    .dataframe tbody tr th:only-of-type {\n",
       "        vertical-align: middle;\n",
       "    }\n",
       "\n",
       "    .dataframe tbody tr th {\n",
       "        vertical-align: top;\n",
       "    }\n",
       "\n",
       "    .dataframe thead th {\n",
       "        text-align: right;\n",
       "    }\n",
       "</style>\n",
       "<table border=\"1\" class=\"dataframe\">\n",
       "  <thead>\n",
       "    <tr style=\"text-align: right;\">\n",
       "      <th></th>\n",
       "      <th>curr_dens</th>\n",
       "      <th>Volts_tot</th>\n",
       "      <th>Temp_tot</th>\n",
       "      <th>t_tot</th>\n",
       "      <th>SOC_tot</th>\n",
       "    </tr>\n",
       "  </thead>\n",
       "  <tbody>\n",
       "    <tr>\n",
       "      <th>0</th>\n",
       "      <td>-23.538367</td>\n",
       "      <td>3.963454</td>\n",
       "      <td>298.150000</td>\n",
       "      <td>0.0</td>\n",
       "      <td>82.000000</td>\n",
       "    </tr>\n",
       "    <tr>\n",
       "      <th>1</th>\n",
       "      <td>-23.538367</td>\n",
       "      <td>3.963147</td>\n",
       "      <td>298.151811</td>\n",
       "      <td>0.5</td>\n",
       "      <td>81.988816</td>\n",
       "    </tr>\n",
       "    <tr>\n",
       "      <th>2</th>\n",
       "      <td>-23.538367</td>\n",
       "      <td>3.962862</td>\n",
       "      <td>298.153755</td>\n",
       "      <td>1.0</td>\n",
       "      <td>81.977631</td>\n",
       "    </tr>\n",
       "    <tr>\n",
       "      <th>3</th>\n",
       "      <td>-23.538367</td>\n",
       "      <td>3.962591</td>\n",
       "      <td>298.155722</td>\n",
       "      <td>1.5</td>\n",
       "      <td>81.966447</td>\n",
       "    </tr>\n",
       "    <tr>\n",
       "      <th>4</th>\n",
       "      <td>-23.538367</td>\n",
       "      <td>3.962331</td>\n",
       "      <td>298.157708</td>\n",
       "      <td>2.0</td>\n",
       "      <td>81.955263</td>\n",
       "    </tr>\n",
       "    <tr>\n",
       "      <th>...</th>\n",
       "      <td>...</td>\n",
       "      <td>...</td>\n",
       "      <td>...</td>\n",
       "      <td>...</td>\n",
       "      <td>...</td>\n",
       "    </tr>\n",
       "    <tr>\n",
       "      <th>5368</th>\n",
       "      <td>-1.243947</td>\n",
       "      <td>3.759022</td>\n",
       "      <td>299.532912</td>\n",
       "      <td>2684.0</td>\n",
       "      <td>36.857142</td>\n",
       "    </tr>\n",
       "    <tr>\n",
       "      <th>5369</th>\n",
       "      <td>-28.188080</td>\n",
       "      <td>3.715951</td>\n",
       "      <td>299.536224</td>\n",
       "      <td>2684.5</td>\n",
       "      <td>36.843749</td>\n",
       "    </tr>\n",
       "    <tr>\n",
       "      <th>5370</th>\n",
       "      <td>-28.188080</td>\n",
       "      <td>3.715737</td>\n",
       "      <td>299.539873</td>\n",
       "      <td>2685.0</td>\n",
       "      <td>36.830355</td>\n",
       "    </tr>\n",
       "    <tr>\n",
       "      <th>5371</th>\n",
       "      <td>-28.188080</td>\n",
       "      <td>3.715534</td>\n",
       "      <td>299.543545</td>\n",
       "      <td>2685.5</td>\n",
       "      <td>36.816961</td>\n",
       "    </tr>\n",
       "    <tr>\n",
       "      <th>5372</th>\n",
       "      <td>-28.188080</td>\n",
       "      <td>3.715342</td>\n",
       "      <td>299.547239</td>\n",
       "      <td>2686.0</td>\n",
       "      <td>36.803568</td>\n",
       "    </tr>\n",
       "  </tbody>\n",
       "</table>\n",
       "<p>544004 rows × 5 columns</p>\n",
       "</div>"
      ],
      "text/plain": [
       "      curr_dens  Volts_tot    Temp_tot   t_tot    SOC_tot\n",
       "0    -23.538367   3.963454  298.150000     0.0  82.000000\n",
       "1    -23.538367   3.963147  298.151811     0.5  81.988816\n",
       "2    -23.538367   3.962862  298.153755     1.0  81.977631\n",
       "3    -23.538367   3.962591  298.155722     1.5  81.966447\n",
       "4    -23.538367   3.962331  298.157708     2.0  81.955263\n",
       "...         ...        ...         ...     ...        ...\n",
       "5368  -1.243947   3.759022  299.532912  2684.0  36.857142\n",
       "5369 -28.188080   3.715951  299.536224  2684.5  36.843749\n",
       "5370 -28.188080   3.715737  299.539873  2685.0  36.830355\n",
       "5371 -28.188080   3.715534  299.543545  2685.5  36.816961\n",
       "5372 -28.188080   3.715342  299.547239  2686.0  36.803568\n",
       "\n",
       "[544004 rows x 5 columns]"
      ]
     },
     "execution_count": 827,
     "metadata": {},
     "output_type": "execute_result"
    }
   ],
   "source": [
    "df"
   ]
  },
  {
   "cell_type": "code",
   "execution_count": 816,
   "id": "e3e85fd2",
   "metadata": {
    "ExecuteTime": {
     "end_time": "2021-10-06T17:34:57.443321Z",
     "start_time": "2021-10-06T17:34:57.395518Z"
    },
    "scrolled": true
   },
   "outputs": [
    {
     "data": {
      "text/html": [
       "<div>\n",
       "<style scoped>\n",
       "    .dataframe tbody tr th:only-of-type {\n",
       "        vertical-align: middle;\n",
       "    }\n",
       "\n",
       "    .dataframe tbody tr th {\n",
       "        vertical-align: top;\n",
       "    }\n",
       "\n",
       "    .dataframe thead th {\n",
       "        text-align: right;\n",
       "    }\n",
       "</style>\n",
       "<table border=\"1\" class=\"dataframe\">\n",
       "  <thead>\n",
       "    <tr style=\"text-align: right;\">\n",
       "      <th></th>\n",
       "      <th>curr_dens</th>\n",
       "      <th>Volts_tot</th>\n",
       "      <th>Temp_tot</th>\n",
       "      <th>t_tot</th>\n",
       "      <th>SOC_tot</th>\n",
       "    </tr>\n",
       "  </thead>\n",
       "  <tbody>\n",
       "    <tr>\n",
       "      <th>0</th>\n",
       "      <td>20.042216</td>\n",
       "      <td>3.985313</td>\n",
       "      <td>298.150000</td>\n",
       "      <td>0.0</td>\n",
       "      <td>75.000000</td>\n",
       "    </tr>\n",
       "    <tr>\n",
       "      <th>1</th>\n",
       "      <td>20.042216</td>\n",
       "      <td>3.985557</td>\n",
       "      <td>298.149698</td>\n",
       "      <td>0.5</td>\n",
       "      <td>75.009523</td>\n",
       "    </tr>\n",
       "    <tr>\n",
       "      <th>2</th>\n",
       "      <td>20.042216</td>\n",
       "      <td>3.985784</td>\n",
       "      <td>298.149335</td>\n",
       "      <td>1.0</td>\n",
       "      <td>75.019046</td>\n",
       "    </tr>\n",
       "    <tr>\n",
       "      <th>3</th>\n",
       "      <td>20.042216</td>\n",
       "      <td>3.986000</td>\n",
       "      <td>298.148992</td>\n",
       "      <td>1.5</td>\n",
       "      <td>75.028569</td>\n",
       "    </tr>\n",
       "    <tr>\n",
       "      <th>4</th>\n",
       "      <td>20.042216</td>\n",
       "      <td>3.986208</td>\n",
       "      <td>298.148668</td>\n",
       "      <td>2.0</td>\n",
       "      <td>75.038092</td>\n",
       "    </tr>\n",
       "    <tr>\n",
       "      <th>...</th>\n",
       "      <td>...</td>\n",
       "      <td>...</td>\n",
       "      <td>...</td>\n",
       "      <td>...</td>\n",
       "      <td>...</td>\n",
       "    </tr>\n",
       "    <tr>\n",
       "      <th>5600</th>\n",
       "      <td>-1.177744</td>\n",
       "      <td>3.816955</td>\n",
       "      <td>299.184734</td>\n",
       "      <td>2800.0</td>\n",
       "      <td>50.479229</td>\n",
       "    </tr>\n",
       "    <tr>\n",
       "      <th>5601</th>\n",
       "      <td>-1.177744</td>\n",
       "      <td>3.817003</td>\n",
       "      <td>299.182497</td>\n",
       "      <td>2800.5</td>\n",
       "      <td>50.478670</td>\n",
       "    </tr>\n",
       "    <tr>\n",
       "      <th>5602</th>\n",
       "      <td>-1.177744</td>\n",
       "      <td>3.817049</td>\n",
       "      <td>299.180265</td>\n",
       "      <td>2801.0</td>\n",
       "      <td>50.478110</td>\n",
       "    </tr>\n",
       "    <tr>\n",
       "      <th>5603</th>\n",
       "      <td>-1.177744</td>\n",
       "      <td>3.817094</td>\n",
       "      <td>299.178036</td>\n",
       "      <td>2801.5</td>\n",
       "      <td>50.477551</td>\n",
       "    </tr>\n",
       "    <tr>\n",
       "      <th>5604</th>\n",
       "      <td>-1.177744</td>\n",
       "      <td>3.817137</td>\n",
       "      <td>299.175812</td>\n",
       "      <td>2802.0</td>\n",
       "      <td>50.476991</td>\n",
       "    </tr>\n",
       "  </tbody>\n",
       "</table>\n",
       "<p>5605 rows × 5 columns</p>\n",
       "</div>"
      ],
      "text/plain": [
       "      curr_dens  Volts_tot    Temp_tot   t_tot    SOC_tot\n",
       "0     20.042216   3.985313  298.150000     0.0  75.000000\n",
       "1     20.042216   3.985557  298.149698     0.5  75.009523\n",
       "2     20.042216   3.985784  298.149335     1.0  75.019046\n",
       "3     20.042216   3.986000  298.148992     1.5  75.028569\n",
       "4     20.042216   3.986208  298.148668     2.0  75.038092\n",
       "...         ...        ...         ...     ...        ...\n",
       "5600  -1.177744   3.816955  299.184734  2800.0  50.479229\n",
       "5601  -1.177744   3.817003  299.182497  2800.5  50.478670\n",
       "5602  -1.177744   3.817049  299.180265  2801.0  50.478110\n",
       "5603  -1.177744   3.817094  299.178036  2801.5  50.477551\n",
       "5604  -1.177744   3.817137  299.175812  2802.0  50.476991\n",
       "\n",
       "[5605 rows x 5 columns]"
      ]
     },
     "execution_count": 816,
     "metadata": {},
     "output_type": "execute_result"
    }
   ],
   "source": [
    "pd.read_csv('../raw_data/Test/results1.txt')"
   ]
  },
  {
   "cell_type": "code",
   "execution_count": 817,
   "id": "aa58a008",
   "metadata": {
    "ExecuteTime": {
     "end_time": "2021-10-06T17:35:00.248586Z",
     "start_time": "2021-10-06T17:35:00.086184Z"
    }
   },
   "outputs": [],
   "source": [
    "X=df.drop(columns=['SOC_tot'])\n",
    "y = df.SOC_tot\n",
    "X_train, X_test, y_train, y_test = train_test_split(X,y,test_size=0.3, shuffle=False)"
   ]
  },
  {
   "cell_type": "code",
   "execution_count": 9,
   "id": "56b69f89",
   "metadata": {
    "ExecuteTime": {
     "end_time": "2021-09-28T11:36:14.355804Z",
     "start_time": "2021-09-28T11:36:14.346413Z"
    }
   },
   "outputs": [
    {
     "data": {
      "text/plain": [
       "2635    66.499233\n",
       "2636    66.482135\n",
       "2637    66.465036\n",
       "2638    66.447938\n",
       "2639    66.430839\n",
       "          ...    \n",
       "5368    36.857142\n",
       "5369    36.843749\n",
       "5370    36.830355\n",
       "5371    36.816961\n",
       "5372    36.803568\n",
       "Name: SOC_tot, Length: 163202, dtype: float64"
      ]
     },
     "execution_count": 9,
     "metadata": {},
     "output_type": "execute_result"
    }
   ],
   "source": [
    "y_test"
   ]
  },
  {
   "cell_type": "code",
   "execution_count": 11,
   "id": "d2e06134",
   "metadata": {
    "ExecuteTime": {
     "end_time": "2021-09-28T11:36:29.324954Z",
     "start_time": "2021-09-28T11:36:29.033760Z"
    }
   },
   "outputs": [
    {
     "name": "stdout",
     "output_type": "stream",
     "text": [
      "Coefficients: \n",
      " [-2.70505434e-01  1.57167742e+02  2.78735704e+00 -2.09336454e-04]\n",
      "Mean squared error: 35.61\n",
      "Coefficient of determination: 0.90\n"
     ]
    },
    {
     "data": {
      "image/png": "[encoded data removed]",
      "text/plain": [
       "<Figure size 432x288 with 1 Axes>"
      ]
     },
     "metadata": {},
     "output_type": "display_data"
    }
   ],
   "source": [
    "regr = LinearRegression()\n",
    "regr.fit(X_train, y_train)\n",
    "\n",
    "# Make predictions using the testing set\n",
    "y_pred = regr.predict(X_test)\n",
    "\n",
    "# The coefficients\n",
    "print('Coefficients: \\n', regr.coef_)\n",
    "# The mean squared error\n",
    "print('Mean squared error: %.2f'\n",
    "      % mean_squared_error(y_test, y_pred))\n",
    "# The coefficient of determination: 1 is perfect prediction\n",
    "print('Coefficient of determination: %.2f'\n",
    "      % r2_score(y_test, y_pred))\n",
    "\n",
    "# Plot outputs\n",
    "plt.scatter(X_test['Volts_tot'], y_test,  color='black')\n",
    "#plt.plot(X_test['voltage'], color='blue', linewidth=3)\n",
    "\n",
    "plt.xticks(())\n",
    "plt.yticks(())\n",
    "\n",
    "plt.show()"
   ]
  },
  {
   "cell_type": "code",
   "execution_count": 6,
   "id": "12a28034",
   "metadata": {
    "ExecuteTime": {
     "end_time": "2021-09-14T09:29:28.803340Z",
     "start_time": "2021-09-14T09:29:28.755824Z"
    }
   },
   "outputs": [
    {
     "data": {
      "text/html": [
       "<div>\n",
       "<style scoped>\n",
       "    .dataframe tbody tr th:only-of-type {\n",
       "        vertical-align: middle;\n",
       "    }\n",
       "\n",
       "    .dataframe tbody tr th {\n",
       "        vertical-align: top;\n",
       "    }\n",
       "\n",
       "    .dataframe thead th {\n",
       "        text-align: right;\n",
       "    }\n",
       "</style>\n",
       "<table border=\"1\" class=\"dataframe\">\n",
       "  <thead>\n",
       "    <tr style=\"text-align: right;\">\n",
       "      <th></th>\n",
       "      <th>time</th>\n",
       "      <th>voltage</th>\n",
       "      <th>curr_density</th>\n",
       "      <th>temp</th>\n",
       "    </tr>\n",
       "  </thead>\n",
       "  <tbody>\n",
       "    <tr>\n",
       "      <th>734</th>\n",
       "      <td>367.0</td>\n",
       "      <td>3.012058</td>\n",
       "      <td>-29.50</td>\n",
       "      <td>288.283766</td>\n",
       "    </tr>\n",
       "    <tr>\n",
       "      <th>335</th>\n",
       "      <td>167.5</td>\n",
       "      <td>3.709120</td>\n",
       "      <td>-14.75</td>\n",
       "      <td>311.891725</td>\n",
       "    </tr>\n",
       "    <tr>\n",
       "      <th>284</th>\n",
       "      <td>142.0</td>\n",
       "      <td>3.457124</td>\n",
       "      <td>-14.75</td>\n",
       "      <td>311.331105</td>\n",
       "    </tr>\n",
       "    <tr>\n",
       "      <th>140</th>\n",
       "      <td>70.0</td>\n",
       "      <td>3.701728</td>\n",
       "      <td>-14.75</td>\n",
       "      <td>265.802300</td>\n",
       "    </tr>\n",
       "    <tr>\n",
       "      <th>76</th>\n",
       "      <td>38.0</td>\n",
       "      <td>3.784274</td>\n",
       "      <td>-29.50</td>\n",
       "      <td>323.397874</td>\n",
       "    </tr>\n",
       "    <tr>\n",
       "      <th>...</th>\n",
       "      <td>...</td>\n",
       "      <td>...</td>\n",
       "      <td>...</td>\n",
       "      <td>...</td>\n",
       "    </tr>\n",
       "    <tr>\n",
       "      <th>48</th>\n",
       "      <td>24.0</td>\n",
       "      <td>3.635964</td>\n",
       "      <td>-29.50</td>\n",
       "      <td>278.390773</td>\n",
       "    </tr>\n",
       "    <tr>\n",
       "      <th>717</th>\n",
       "      <td>358.5</td>\n",
       "      <td>3.806399</td>\n",
       "      <td>-29.50</td>\n",
       "      <td>288.186784</td>\n",
       "    </tr>\n",
       "    <tr>\n",
       "      <th>68</th>\n",
       "      <td>34.0</td>\n",
       "      <td>3.871705</td>\n",
       "      <td>-29.50</td>\n",
       "      <td>308.301898</td>\n",
       "    </tr>\n",
       "    <tr>\n",
       "      <th>736</th>\n",
       "      <td>368.0</td>\n",
       "      <td>3.555800</td>\n",
       "      <td>-29.50</td>\n",
       "      <td>302.251302</td>\n",
       "    </tr>\n",
       "    <tr>\n",
       "      <th>800</th>\n",
       "      <td>400.0</td>\n",
       "      <td>3.642831</td>\n",
       "      <td>-29.50</td>\n",
       "      <td>297.931439</td>\n",
       "    </tr>\n",
       "  </tbody>\n",
       "</table>\n",
       "<p>29510 rows × 4 columns</p>\n",
       "</div>"
      ],
      "text/plain": [
       "      time   voltage  curr_density        temp\n",
       "734  367.0  3.012058        -29.50  288.283766\n",
       "335  167.5  3.709120        -14.75  311.891725\n",
       "284  142.0  3.457124        -14.75  311.331105\n",
       "140   70.0  3.701728        -14.75  265.802300\n",
       "76    38.0  3.784274        -29.50  323.397874\n",
       "..     ...       ...           ...         ...\n",
       "48    24.0  3.635964        -29.50  278.390773\n",
       "717  358.5  3.806399        -29.50  288.186784\n",
       "68    34.0  3.871705        -29.50  308.301898\n",
       "736  368.0  3.555800        -29.50  302.251302\n",
       "800  400.0  3.642831        -29.50  297.931439\n",
       "\n",
       "[29510 rows x 4 columns]"
      ]
     },
     "execution_count": 6,
     "metadata": {},
     "output_type": "execute_result"
    }
   ],
   "source": [
    "X_test"
   ]
  },
  {
   "cell_type": "code",
   "execution_count": 7,
   "id": "dacfa212",
   "metadata": {
    "ExecuteTime": {
     "end_time": "2021-09-14T09:29:28.819945Z",
     "start_time": "2021-09-14T09:29:28.805515Z"
    }
   },
   "outputs": [
    {
     "data": {
      "text/plain": [
       "734     2.234668\n",
       "335    28.231656\n",
       "284     7.589079\n",
       "140    30.598304\n",
       "76     51.934713\n",
       "         ...    \n",
       "48     21.327187\n",
       "717    65.472967\n",
       "68     70.046848\n",
       "736    15.206656\n",
       "800    26.309575\n",
       "Name: SOC, Length: 29510, dtype: float64"
      ]
     },
     "execution_count": 7,
     "metadata": {},
     "output_type": "execute_result"
    }
   ],
   "source": [
    "y_test"
   ]
  },
  {
   "cell_type": "code",
   "execution_count": 12,
   "id": "c153109c",
   "metadata": {
    "ExecuteTime": {
     "end_time": "2021-09-28T11:36:35.900731Z",
     "start_time": "2021-09-28T11:36:35.896250Z"
    }
   },
   "outputs": [],
   "source": [
    "import autokeras"
   ]
  },
  {
   "cell_type": "code",
   "execution_count": 13,
   "id": "35cf5a4f",
   "metadata": {
    "ExecuteTime": {
     "end_time": "2021-09-28T15:06:13.811623Z",
     "start_time": "2021-09-28T11:36:38.685923Z"
    }
   },
   "outputs": [
    {
     "name": "stdout",
     "output_type": "stream",
     "text": [
      "Trial 30 Complete [00h 04m 16s]\n",
      "val_loss: 478.90435791015625\n",
      "\n",
      "Best val_loss So Far: 0.438973993062973\n",
      "Total elapsed time: 03h 20m 59s\n",
      "INFO:tensorflow:Oracle triggered exit\n",
      "Epoch 1/30\n",
      "11901/11901 [==============================] - 12s 986us/step - loss: 1422.7758 - mean_squared_error: 1422.7758s - loss: 1668.2704 - ETA: 0s - loss: 1540.1647 - mean_squared_error: - ETA: 0s - loss: 1501.8062 - mean_sq\n",
      "Epoch 2/30\n",
      "11901/11901 [==============================] - 11s 961us/step - loss: 2.7639 - mean_squared_error: 2.7639s -\n",
      "Epoch 3/30\n",
      "11901/11901 [==============================] - 12s 1ms/step - loss: 1.5575 - mean_squared_error: 1.5575A: 12s - loss: 2.3789 - mean_squa - ETA: 10s - loss: 1. - ETA: 4s - loss: 1.3163 - mean_squared_error:  - ETA: 4s - loss: 1.5305 -  - ETA: 0s - loss: 1.6287 -  - ETA: 0s - loss: 1.5552 - mean_squared_error\n",
      "Epoch 4/30\n",
      "11901/11901 [==============================] - 12s 976us/step - loss: 1.5127 - mean_squared_error: 1.5127s - loss: 1.5156 - mean_squared_err\n",
      "Epoch 5/30\n",
      "11901/11901 [==============================] - 15s 1ms/step - loss: 1.3820 - mean_squared_error: 1.3820 0s - loss: 1.3929 - mean_squared - ETA: 0s - loss: 1.3805 - mean_squared_err\n",
      "Epoch 6/30\n",
      "11901/11901 [==============================] - 12s 1ms/step - loss: 1.2582 - mean_squared_error: 1.2582 0s - loss: 1.3035 - \n",
      "Epoch 7/30\n",
      "11901/11901 [==============================] - 14s 1ms/step - loss: 1.1120 - mean_squared_error: 1.1120 0s - loss: 1.1189 - mean_squared_err\n",
      "Epoch 8/30\n",
      "11901/11901 [==============================] - 13s 1ms/step - loss: 0.9230 - mean_squared_error: 0.9230 0s - loss: 0.9349 - mean_squared_err\n",
      "Epoch 9/30\n",
      "11901/11901 [==============================] - 11s 937us/step - loss: 0.7965 - mean_squared_error: 0.7965s - loss: 0.9228 -  - ETA: 6s - loss: 0.8224 - mean_squ - ETA: 5s - loss: 0.7944 - mean_s - ETA: 5s - los - ETA: 1s - l - ETA: 0s - loss: 0.835\n",
      "Epoch 10/30\n",
      "11901/11901 [==============================] - 12s 967us/step - loss: 0.7109 - mean_squared_error: 0.7109s - loss: 0.6733 - mean_squ - ETA: 3s - loss: 0.6628 - mean_squared - ETA: 3s - loss: 0\n",
      "Epoch 11/30\n",
      "11901/11901 [==============================] - 13s 1ms/step - loss: 0.6392 - mean_squared_error: 0.6392 0s - loss: 0.6507 - mean_squar\n",
      "Epoch 12/30\n",
      "11901/11901 [==============================] - 12s 989us/step - loss: 0.6070 - mean_squared_error: 0.6070\n",
      "Epoch 13/30\n",
      "11901/11901 [==============================] - 11s 955us/step - loss: 0.5634 - mean_squared_error: 0.5634s - loss: 0.5891 - mean_s - ETA: 0s - loss: 0.5725 - mean_squared_err\n",
      "Epoch 14/30\n",
      "11901/11901 [==============================] - 12s 1ms/step - loss: 0.5305 - mean_squared_error: 0.5305\n",
      "Epoch 15/30\n",
      "11901/11901 [==============================] - 13s 1ms/step - loss: 0.5008 - mean_squared_error: 0.5008 0s - loss: 0.5129 - mean_squared_error - ETA: 0s - loss: 0.508\n",
      "Epoch 16/30\n",
      "11901/11901 [==============================] - 14s 1ms/step - loss: 0.4579 - mean_squared_error: 0.4579\n",
      "Epoch 17/30\n",
      "11901/11901 [==============================] - 17s 1ms/step - loss: 0.4159 - mean_squared_error: 0.4159 0s - loss: 0.4\n",
      "Epoch 18/30\n",
      "11901/11901 [==============================] - 18s 1ms/step - loss: 0.3850 - mean_squared_error: 0.3850 1s - los - ETA: 0s - loss: 0.3914 - mean\n",
      "Epoch 19/30\n",
      "11901/11901 [==============================] - 15s 1ms/step - loss: 0.3621 - mean_squared_error: 0.3621\n",
      "Epoch 20/30\n",
      "11901/11901 [==============================] - 13s 1ms/step - loss: 0.3512 - mean_squared_error: 0.3512 \n",
      "Epoch 21/30\n",
      "11901/11901 [==============================] - 17s 1ms/step - loss: 0.3363 - mean_squared_error: 0.3363 0s - loss: 0.3453 \n",
      "Epoch 22/30\n",
      "11901/11901 [==============================] - 19s 2ms/step - loss: 0.3279 - mean_squared_error: 0.3279\n",
      "Epoch 23/30\n",
      "11901/11901 [==============================] - 15s 1ms/step - loss: 0.3131 - mean_squared_error: 0.3131\n",
      "Epoch 24/30\n",
      "11901/11901 [==============================] - 13s 1ms/step - loss: 0.2919 - mean_squared_error: 0.2919\n",
      "Epoch 25/30\n",
      "11901/11901 [==============================] - 12s 1ms/step - loss: 0.2743 - mean_squared_error: 0.2743 0s - loss: 0.2773 - mean_squared_err - ETA: 0s - loss: 0.2755 - mean_squared_error: \n",
      "Epoch 26/30\n",
      "11901/11901 [==============================] - 12s 1ms/step - loss: 0.2638 - mean_squared_error: 0.2638 0s - loss: 0.2667 - mean_squared\n",
      "Epoch 27/30\n",
      "11901/11901 [==============================] - 12s 993us/step - loss: 0.2550 - mean_squared_error: 0.2550\n",
      "Epoch 28/30\n",
      "11901/11901 [==============================] - 12s 1ms/step - loss: 0.2533 - mean_squared_error: 0.2533 0s - loss: 0.2571 - mean_squ\n",
      "Epoch 29/30\n",
      "11901/11901 [==============================] - 12s 1ms/step - loss: 0.2659 - mean_squared_error: 0.2659\n",
      "Epoch 30/30\n",
      "11901/11901 [==============================] - 12s 1ms/step - loss: 0.3121 - mean_squared_error: 0.3121 3s - loss: 0.305 - E\n"
     ]
    },
    {
     "name": "stderr",
     "output_type": "stream",
     "text": [
      "2021-09-28 16:06:01.916170: W tensorflow/python/util/util.cc:348] Sets are not currently considered sequences, but this may change in the future, so consider avoiding using them.\n"
     ]
    },
    {
     "name": "stdout",
     "output_type": "stream",
     "text": [
      "INFO:tensorflow:Assets written to: ./structured_data_regressor/best_model/assets\n",
      "5101/5101 [==============================] - 4s 753us/step\n",
      "5101/5101 [==============================] - 4s 794us/step - loss: 0.2140 - mean_squared_error: 0.2140\n",
      "[0.21396014094352722, 0.21396014094352722]\n"
     ]
    }
   ],
   "source": [
    "# It tries 10 different models.\n",
    "reg = ak.StructuredDataRegressor(max_trials=30, overwrite=True)\n",
    "# Feed the structured data regressor with training data.\n",
    "reg.fit(X_train, y_train, epochs=30)\n",
    "# Predict with the best model.\n",
    "predicted_y = reg.predict(X_test)\n",
    "# Evaluate the best model with testing data.\n",
    "print(reg.evaluate(X_test, y_test))"
   ]
  },
  {
   "cell_type": "code",
   "execution_count": 14,
   "id": "0f13821c",
   "metadata": {
    "ExecuteTime": {
     "end_time": "2021-09-28T15:06:14.433655Z",
     "start_time": "2021-09-28T15:06:13.848660Z"
    }
   },
   "outputs": [],
   "source": [
    "model = reg.export_model()"
   ]
  },
  {
   "cell_type": "code",
   "execution_count": 15,
   "id": "cb68065f",
   "metadata": {
    "ExecuteTime": {
     "end_time": "2021-09-28T15:06:14.446893Z",
     "start_time": "2021-09-28T15:06:14.435702Z"
    }
   },
   "outputs": [
    {
     "name": "stdout",
     "output_type": "stream",
     "text": [
      "Model: \"model\"\n",
      "_________________________________________________________________\n",
      "Layer (type)                 Output Shape              Param #   \n",
      "=================================================================\n",
      "input_1 (InputLayer)         [(None, 4)]               0         \n",
      "_________________________________________________________________\n",
      "multi_category_encoding (Mul (None, 4)                 0         \n",
      "_________________________________________________________________\n",
      "normalization (Normalization (None, 4)                 9         \n",
      "_________________________________________________________________\n",
      "dense (Dense)                (None, 64)                320       \n",
      "_________________________________________________________________\n",
      "re_lu (ReLU)                 (None, 64)                0         \n",
      "_________________________________________________________________\n",
      "regression_head_1 (Dense)    (None, 1)                 65        \n",
      "=================================================================\n",
      "Total params: 394\n",
      "Trainable params: 385\n",
      "Non-trainable params: 9\n",
      "_________________________________________________________________\n"
     ]
    }
   ],
   "source": [
    "model.summary()"
   ]
  },
  {
   "cell_type": "code",
   "execution_count": 16,
   "id": "2742f315",
   "metadata": {
    "ExecuteTime": {
     "end_time": "2021-09-28T15:06:14.473590Z",
     "start_time": "2021-09-28T15:06:14.449649Z"
    }
   },
   "outputs": [
    {
     "data": {
      "text/plain": [
       "2635    66.499233\n",
       "2636    66.482135\n",
       "2637    66.465036\n",
       "2638    66.447938\n",
       "2639    66.430839\n",
       "2640    66.407558\n",
       "2641    66.384277\n",
       "2642    66.360997\n",
       "2643    66.337716\n",
       "2644    66.314435\n",
       "Name: SOC_tot, dtype: float64"
      ]
     },
     "execution_count": 16,
     "metadata": {},
     "output_type": "execute_result"
    }
   ],
   "source": [
    "y_test[0:10]"
   ]
  },
  {
   "cell_type": "code",
   "execution_count": 17,
   "id": "de172eca",
   "metadata": {
    "ExecuteTime": {
     "end_time": "2021-09-28T15:06:14.486539Z",
     "start_time": "2021-09-28T15:06:14.475202Z"
    }
   },
   "outputs": [
    {
     "name": "stdout",
     "output_type": "stream",
     "text": [
      "[[66.15457 ]\n",
      " [66.108406]\n",
      " [66.064896]\n",
      " [66.02353 ]\n",
      " [65.984314]\n",
      " [65.987976]\n",
      " [65.93561 ]\n",
      " [65.886314]\n",
      " [65.83967 ]\n",
      " [65.79542 ]]\n"
     ]
    }
   ],
   "source": [
    "print(predicted_y[0:10])"
   ]
  },
  {
   "cell_type": "code",
   "execution_count": 18,
   "id": "c52466a6",
   "metadata": {
    "ExecuteTime": {
     "end_time": "2021-09-28T15:06:14.493780Z",
     "start_time": "2021-09-28T15:06:14.488837Z"
    }
   },
   "outputs": [
    {
     "name": "stdout",
     "output_type": "stream",
     "text": [
      "<class 'tensorflow.python.keras.engine.functional.Functional'>\n"
     ]
    }
   ],
   "source": [
    "print(type(model))"
   ]
  },
  {
   "cell_type": "code",
   "execution_count": 19,
   "id": "e711cbeb",
   "metadata": {
    "ExecuteTime": {
     "end_time": "2021-09-28T15:06:15.163194Z",
     "start_time": "2021-09-28T15:06:14.497949Z"
    }
   },
   "outputs": [
    {
     "name": "stdout",
     "output_type": "stream",
     "text": [
      "INFO:tensorflow:Assets written to: model_autokeras/assets\n"
     ]
    }
   ],
   "source": [
    "model.save(\"model_autokeras\", save_format=\"tf\")"
   ]
  },
  {
   "cell_type": "code",
   "execution_count": 20,
   "id": "cde1cde8",
   "metadata": {
    "ExecuteTime": {
     "end_time": "2021-09-28T15:06:15.443950Z",
     "start_time": "2021-09-28T15:06:15.165704Z"
    }
   },
   "outputs": [],
   "source": [
    "from tensorflow.keras.models import load_model\n",
    "loaded_model = load_model(\"model_autokeras\", custom_objects=ak.CUSTOM_OBJECTS)"
   ]
  },
  {
   "cell_type": "code",
   "execution_count": 21,
   "id": "63501d4c",
   "metadata": {
    "ExecuteTime": {
     "end_time": "2021-09-28T15:06:15.454822Z",
     "start_time": "2021-09-28T15:06:15.445978Z"
    }
   },
   "outputs": [
    {
     "name": "stdout",
     "output_type": "stream",
     "text": [
      "Model: \"model\"\n",
      "_________________________________________________________________\n",
      "Layer (type)                 Output Shape              Param #   \n",
      "=================================================================\n",
      "input_1 (InputLayer)         [(None, 4)]               0         \n",
      "_________________________________________________________________\n",
      "multi_category_encoding (Mul (None, 4)                 0         \n",
      "_________________________________________________________________\n",
      "normalization (Normalization (None, 4)                 9         \n",
      "_________________________________________________________________\n",
      "dense (Dense)                (None, 64)                320       \n",
      "_________________________________________________________________\n",
      "re_lu (ReLU)                 (None, 64)                0         \n",
      "_________________________________________________________________\n",
      "regression_head_1 (Dense)    (None, 1)                 65        \n",
      "=================================================================\n",
      "Total params: 394\n",
      "Trainable params: 385\n",
      "Non-trainable params: 9\n",
      "_________________________________________________________________\n"
     ]
    }
   ],
   "source": [
    "loaded_model.summary()"
   ]
  },
  {
   "cell_type": "code",
   "execution_count": 22,
   "id": "2982a7c3",
   "metadata": {
    "ExecuteTime": {
     "end_time": "2021-09-28T15:06:18.130988Z",
     "start_time": "2021-09-28T15:06:15.459835Z"
    }
   },
   "outputs": [
    {
     "data": {
      "application/javascript": [
       "\n",
       "        if (window._pyforest_update_imports_cell) { window._pyforest_update_imports_cell('import tensorflow as tf'); }\n",
       "    "
      ],
      "text/plain": [
       "<IPython.core.display.Javascript object>"
      ]
     },
     "metadata": {},
     "output_type": "display_data"
    }
   ],
   "source": [
    "predicted_y = loaded_model.predict(tf.expand_dims(X_test, -1))"
   ]
  },
  {
   "cell_type": "code",
   "execution_count": 43,
   "id": "84c50c6b",
   "metadata": {
    "ExecuteTime": {
     "end_time": "2021-09-28T15:10:50.788656Z",
     "start_time": "2021-09-28T15:10:50.780194Z"
    }
   },
   "outputs": [
    {
     "data": {
      "text/plain": [
       "array([[66.15457 ],\n",
       "       [66.108406],\n",
       "       [66.064896],\n",
       "       ...,\n",
       "       [36.33899 ],\n",
       "       [36.296112],\n",
       "       [36.25589 ]], dtype=float32)"
      ]
     },
     "execution_count": 43,
     "metadata": {},
     "output_type": "execute_result"
    }
   ],
   "source": [
    "predicted_y"
   ]
  },
  {
   "cell_type": "code",
   "execution_count": 46,
   "id": "e3552465",
   "metadata": {
    "ExecuteTime": {
     "end_time": "2021-09-28T15:11:10.699531Z",
     "start_time": "2021-09-28T15:11:10.690944Z"
    }
   },
   "outputs": [
    {
     "data": {
      "text/plain": [
       "2635    66.499233\n",
       "2636    66.482135\n",
       "2637    66.465036\n",
       "2638    66.447938\n",
       "2639    66.430839\n",
       "          ...    \n",
       "5368    36.857142\n",
       "5369    36.843749\n",
       "5370    36.830355\n",
       "5371    36.816961\n",
       "5372    36.803568\n",
       "Name: SOC_tot, Length: 163202, dtype: float64"
      ]
     },
     "execution_count": 46,
     "metadata": {},
     "output_type": "execute_result"
    }
   ],
   "source": [
    "y_test"
   ]
  },
  {
   "cell_type": "code",
   "execution_count": 95,
   "id": "4edc6727",
   "metadata": {
    "ExecuteTime": {
     "end_time": "2021-09-29T13:42:46.215172Z",
     "start_time": "2021-09-29T13:42:46.133234Z"
    }
   },
   "outputs": [],
   "source": [
    "import matplotlib.pyplot as plt"
   ]
  },
  {
   "cell_type": "code",
   "execution_count": 91,
   "id": "da6d69cf",
   "metadata": {
    "ExecuteTime": {
     "end_time": "2021-09-28T15:30:59.489226Z",
     "start_time": "2021-09-28T15:30:59.150422Z"
    }
   },
   "outputs": [
    {
     "data": {
      "application/javascript": [
       "\n",
       "        if (window._pyforest_update_imports_cell) { window._pyforest_update_imports_cell('import numpy as np\\nimport tensorflow as tf'); }\n",
       "    "
      ],
      "text/plain": [
       "<IPython.core.display.Javascript object>"
      ]
     },
     "metadata": {},
     "output_type": "display_data"
    },
    {
     "data": {
      "image/png": "[encoded data removed]",
      "text/plain": [
       "<Figure size 1440x1440 with 1 Axes>"
      ]
     },
     "metadata": {
      "needs_background": "light"
     },
     "output_type": "display_data"
    }
   ],
   "source": [
    "X = np.linspace(0,2500,2500)\n",
    "\n",
    "plt.figure(figsize=(20,20))\n",
    "plt.plot(X,predicted_y[3000:5500], label='predicted_data')\n",
    "plt.plot(X,y_test[3000:5500], label='real_data')\n",
    "plt.title('percentage of battery over discharge cycle')\n",
    "plt.xlabel('datapoints')\n",
    "plt.ylabel('percentage of battery')\n",
    "plt.legend()\n",
    "plt.show()"
   ]
  },
  {
   "cell_type": "code",
   "execution_count": 129,
   "id": "71f4b87c",
   "metadata": {
    "ExecuteTime": {
     "end_time": "2021-09-29T15:49:11.601420Z",
     "start_time": "2021-09-29T15:49:11.256498Z"
    },
    "scrolled": true
   },
   "outputs": [
    {
     "data": {
      "application/javascript": [
       "\n",
       "        if (window._pyforest_update_imports_cell) { window._pyforest_update_imports_cell('import numpy as np\\nimport tensorflow as tf'); }\n",
       "    "
      ],
      "text/plain": [
       "<IPython.core.display.Javascript object>"
      ]
     },
     "metadata": {},
     "output_type": "display_data"
    },
    {
     "data": {
      "image/png": "[encoded data removed]",
      "text/plain": [
       "<Figure size 1440x1440 with 1 Axes>"
      ]
     },
     "metadata": {
      "needs_background": "light"
     },
     "output_type": "display_data"
    }
   ],
   "source": [
    "X = np.linspace(0,5350,5350)\n",
    "plt.figure(figsize=(20,20))\n",
    "plt.plot(X,predicted_y[3000:8350], label='predicted_data')\n",
    "plt.plot(X,y_test[3000:8350], label='real_data')\n",
    "plt.title('percentage of battery over discharge cycle')\n",
    "plt.xlabel('datapoints')\n",
    "plt.ylabel('percentage of battery')\n",
    "plt.legend()\n",
    "plt.show()"
   ]
  },
  {
   "cell_type": "code",
   "execution_count": 335,
   "id": "db44c5e4",
   "metadata": {
    "ExecuteTime": {
     "end_time": "2021-10-05T11:03:08.650337Z",
     "start_time": "2021-10-05T11:03:08.418841Z"
    }
   },
   "outputs": [
    {
     "data": {
      "text/html": [
       "<div>\n",
       "<style scoped>\n",
       "    .dataframe tbody tr th:only-of-type {\n",
       "        vertical-align: middle;\n",
       "    }\n",
       "\n",
       "    .dataframe tbody tr th {\n",
       "        vertical-align: top;\n",
       "    }\n",
       "\n",
       "    .dataframe thead th {\n",
       "        text-align: right;\n",
       "    }\n",
       "</style>\n",
       "<table border=\"1\" class=\"dataframe\">\n",
       "  <thead>\n",
       "    <tr style=\"text-align: right;\">\n",
       "      <th></th>\n",
       "      <th>curr_dens</th>\n",
       "      <th>Volts_tot</th>\n",
       "      <th>Temp_tot</th>\n",
       "      <th>t_tot</th>\n",
       "      <th>SOC_tot</th>\n",
       "    </tr>\n",
       "  </thead>\n",
       "  <tbody>\n",
       "    <tr>\n",
       "      <th>0</th>\n",
       "      <td>-17.715577</td>\n",
       "      <td>3.728046</td>\n",
       "      <td>272.000000</td>\n",
       "      <td>0.0</td>\n",
       "      <td>34.000000</td>\n",
       "    </tr>\n",
       "    <tr>\n",
       "      <th>1</th>\n",
       "      <td>-17.715577</td>\n",
       "      <td>3.727801</td>\n",
       "      <td>272.003044</td>\n",
       "      <td>0.5</td>\n",
       "      <td>33.991582</td>\n",
       "    </tr>\n",
       "    <tr>\n",
       "      <th>2</th>\n",
       "      <td>-17.715577</td>\n",
       "      <td>3.727573</td>\n",
       "      <td>272.006279</td>\n",
       "      <td>1.0</td>\n",
       "      <td>33.983165</td>\n",
       "    </tr>\n",
       "    <tr>\n",
       "      <th>3</th>\n",
       "      <td>-17.715577</td>\n",
       "      <td>3.727355</td>\n",
       "      <td>272.009530</td>\n",
       "      <td>1.5</td>\n",
       "      <td>33.974747</td>\n",
       "    </tr>\n",
       "    <tr>\n",
       "      <th>4</th>\n",
       "      <td>-17.715577</td>\n",
       "      <td>3.727144</td>\n",
       "      <td>272.012796</td>\n",
       "      <td>2.0</td>\n",
       "      <td>33.966330</td>\n",
       "    </tr>\n",
       "    <tr>\n",
       "      <th>...</th>\n",
       "      <td>...</td>\n",
       "      <td>...</td>\n",
       "      <td>...</td>\n",
       "      <td>...</td>\n",
       "      <td>...</td>\n",
       "    </tr>\n",
       "    <tr>\n",
       "      <th>5543</th>\n",
       "      <td>8.920406</td>\n",
       "      <td>3.406472</td>\n",
       "      <td>317.898041</td>\n",
       "      <td>2771.5</td>\n",
       "      <td>3.757894</td>\n",
       "    </tr>\n",
       "    <tr>\n",
       "      <th>5544</th>\n",
       "      <td>23.201588</td>\n",
       "      <td>3.443712</td>\n",
       "      <td>317.888330</td>\n",
       "      <td>2772.0</td>\n",
       "      <td>3.768918</td>\n",
       "    </tr>\n",
       "    <tr>\n",
       "      <th>5545</th>\n",
       "      <td>23.201588</td>\n",
       "      <td>3.444352</td>\n",
       "      <td>317.878582</td>\n",
       "      <td>2772.5</td>\n",
       "      <td>3.779942</td>\n",
       "    </tr>\n",
       "    <tr>\n",
       "      <th>5546</th>\n",
       "      <td>23.201588</td>\n",
       "      <td>3.444985</td>\n",
       "      <td>317.868878</td>\n",
       "      <td>2773.0</td>\n",
       "      <td>3.790967</td>\n",
       "    </tr>\n",
       "    <tr>\n",
       "      <th>5547</th>\n",
       "      <td>23.201588</td>\n",
       "      <td>3.445613</td>\n",
       "      <td>317.859222</td>\n",
       "      <td>2773.5</td>\n",
       "      <td>3.801991</td>\n",
       "    </tr>\n",
       "  </tbody>\n",
       "</table>\n",
       "<p>532498 rows × 5 columns</p>\n",
       "</div>"
      ],
      "text/plain": [
       "      curr_dens  Volts_tot    Temp_tot   t_tot    SOC_tot\n",
       "0    -17.715577   3.728046  272.000000     0.0  34.000000\n",
       "1    -17.715577   3.727801  272.003044     0.5  33.991582\n",
       "2    -17.715577   3.727573  272.006279     1.0  33.983165\n",
       "3    -17.715577   3.727355  272.009530     1.5  33.974747\n",
       "4    -17.715577   3.727144  272.012796     2.0  33.966330\n",
       "...         ...        ...         ...     ...        ...\n",
       "5543   8.920406   3.406472  317.898041  2771.5   3.757894\n",
       "5544  23.201588   3.443712  317.888330  2772.0   3.768918\n",
       "5545  23.201588   3.444352  317.878582  2772.5   3.779942\n",
       "5546  23.201588   3.444985  317.868878  2773.0   3.790967\n",
       "5547  23.201588   3.445613  317.859222  2773.5   3.801991\n",
       "\n",
       "[532498 rows x 5 columns]"
      ]
     },
     "execution_count": 335,
     "metadata": {},
     "output_type": "execute_result"
    }
   ],
   "source": [
    "df"
   ]
  },
  {
   "cell_type": "code",
   "execution_count": 340,
   "id": "f6a09188",
   "metadata": {
    "ExecuteTime": {
     "end_time": "2021-10-05T13:14:17.566412Z",
     "start_time": "2021-10-05T13:14:07.358301Z"
    }
   },
   "outputs": [],
   "source": [
    "mat = scipy.io.loadmat('/Users/monmac/Downloads/Battery_Uniform_Distribution_Charge_Discharge_DataSet_2Post/data/Matlab/RW9.mat')"
   ]
  },
  {
   "cell_type": "code",
   "execution_count": 641,
   "id": "db214e27",
   "metadata": {
    "ExecuteTime": {
     "end_time": "2021-10-05T14:35:59.480757Z",
     "start_time": "2021-10-05T14:35:59.416478Z"
    }
   },
   "outputs": [],
   "source": [
    "df=pd.DataFrame(mat['data'][0][0][0][0], columns=['comment','type','time','relativeTime','voltage','current','temperature','date'])\n"
   ]
  },
  {
   "cell_type": "code",
   "execution_count": 715,
   "id": "1708f3f4",
   "metadata": {
    "ExecuteTime": {
     "end_time": "2021-10-06T10:55:47.908099Z",
     "start_time": "2021-10-06T10:55:47.698514Z"
    }
   },
   "outputs": [],
   "source": [
    "table = []\n",
    "for x in range(10):\n",
    "    rows = []\n",
    "    for i in range(8):\n",
    "        rows.append(mat['data'][0][0][0][0][x][i])\n",
    "    table.append(rows)\n",
    "    \n",
    "df1=pd.DataFrame(table, columns=['comment','type','time','relativeTime','voltage','current','temperature','date'])\n",
    "df1=df.drop(columns=['comment','type','date'])\n",
    "\n",
    "\n",
    "columns = ['time','relativeTime','voltage','current','temperature']\n",
    "\n",
    "#this will output in a dataframe the cycle number z contained in the dataset \n",
    "z=18\n",
    "dict1={}\n",
    "for x in columns:\n",
    "    list1 = []\n",
    "    for i in range(len(df1.loc[:,x][z][0])):\n",
    "        list1.append(df1.loc[:,x][z][0][i])\n",
    "    dict1[f'{x}']=list1\n",
    "any_cycle=pd.DataFrame(dict1)"
   ]
  },
  {
   "cell_type": "code",
   "execution_count": 716,
   "id": "2cfa8492",
   "metadata": {
    "ExecuteTime": {
     "end_time": "2021-10-06T10:55:47.928028Z",
     "start_time": "2021-10-06T10:55:47.911695Z"
    }
   },
   "outputs": [
    {
     "data": {
      "text/html": [
       "<div>\n",
       "<style scoped>\n",
       "    .dataframe tbody tr th:only-of-type {\n",
       "        vertical-align: middle;\n",
       "    }\n",
       "\n",
       "    .dataframe tbody tr th {\n",
       "        vertical-align: top;\n",
       "    }\n",
       "\n",
       "    .dataframe thead th {\n",
       "        text-align: right;\n",
       "    }\n",
       "</style>\n",
       "<table border=\"1\" class=\"dataframe\">\n",
       "  <thead>\n",
       "    <tr style=\"text-align: right;\">\n",
       "      <th></th>\n",
       "      <th>time</th>\n",
       "      <th>relativeTime</th>\n",
       "      <th>voltage</th>\n",
       "      <th>current</th>\n",
       "      <th>temperature</th>\n",
       "    </tr>\n",
       "  </thead>\n",
       "  <tbody>\n",
       "    <tr>\n",
       "      <th>0</th>\n",
       "      <td>59458.08</td>\n",
       "      <td>0.01</td>\n",
       "      <td>3.753</td>\n",
       "      <td>0</td>\n",
       "      <td>24.15113</td>\n",
       "    </tr>\n",
       "    <tr>\n",
       "      <th>1</th>\n",
       "      <td>59459.08</td>\n",
       "      <td>1.01</td>\n",
       "      <td>3.760</td>\n",
       "      <td>0</td>\n",
       "      <td>24.15113</td>\n",
       "    </tr>\n",
       "    <tr>\n",
       "      <th>2</th>\n",
       "      <td>59460.08</td>\n",
       "      <td>2.01</td>\n",
       "      <td>3.761</td>\n",
       "      <td>0</td>\n",
       "      <td>24.15113</td>\n",
       "    </tr>\n",
       "    <tr>\n",
       "      <th>3</th>\n",
       "      <td>59461.08</td>\n",
       "      <td>3.01</td>\n",
       "      <td>3.762</td>\n",
       "      <td>0</td>\n",
       "      <td>24.15113</td>\n",
       "    </tr>\n",
       "    <tr>\n",
       "      <th>4</th>\n",
       "      <td>59462.08</td>\n",
       "      <td>4.01</td>\n",
       "      <td>3.763</td>\n",
       "      <td>0</td>\n",
       "      <td>24.15113</td>\n",
       "    </tr>\n",
       "    <tr>\n",
       "      <th>...</th>\n",
       "      <td>...</td>\n",
       "      <td>...</td>\n",
       "      <td>...</td>\n",
       "      <td>...</td>\n",
       "      <td>...</td>\n",
       "    </tr>\n",
       "    <tr>\n",
       "      <th>1196</th>\n",
       "      <td>60654.08</td>\n",
       "      <td>1196.01</td>\n",
       "      <td>3.806</td>\n",
       "      <td>0</td>\n",
       "      <td>23.10516</td>\n",
       "    </tr>\n",
       "    <tr>\n",
       "      <th>1197</th>\n",
       "      <td>60655.08</td>\n",
       "      <td>1197.01</td>\n",
       "      <td>3.806</td>\n",
       "      <td>0</td>\n",
       "      <td>23.10516</td>\n",
       "    </tr>\n",
       "    <tr>\n",
       "      <th>1198</th>\n",
       "      <td>60656.08</td>\n",
       "      <td>1198.01</td>\n",
       "      <td>3.806</td>\n",
       "      <td>0</td>\n",
       "      <td>23.10516</td>\n",
       "    </tr>\n",
       "    <tr>\n",
       "      <th>1199</th>\n",
       "      <td>60657.08</td>\n",
       "      <td>1199.01</td>\n",
       "      <td>3.806</td>\n",
       "      <td>0</td>\n",
       "      <td>23.10516</td>\n",
       "    </tr>\n",
       "    <tr>\n",
       "      <th>1200</th>\n",
       "      <td>60658.07</td>\n",
       "      <td>1200.00</td>\n",
       "      <td>3.806</td>\n",
       "      <td>0</td>\n",
       "      <td>23.10516</td>\n",
       "    </tr>\n",
       "  </tbody>\n",
       "</table>\n",
       "<p>1201 rows × 5 columns</p>\n",
       "</div>"
      ],
      "text/plain": [
       "          time  relativeTime  voltage  current  temperature\n",
       "0     59458.08          0.01    3.753        0     24.15113\n",
       "1     59459.08          1.01    3.760        0     24.15113\n",
       "2     59460.08          2.01    3.761        0     24.15113\n",
       "3     59461.08          3.01    3.762        0     24.15113\n",
       "4     59462.08          4.01    3.763        0     24.15113\n",
       "...        ...           ...      ...      ...          ...\n",
       "1196  60654.08       1196.01    3.806        0     23.10516\n",
       "1197  60655.08       1197.01    3.806        0     23.10516\n",
       "1198  60656.08       1198.01    3.806        0     23.10516\n",
       "1199  60657.08       1199.01    3.806        0     23.10516\n",
       "1200  60658.07       1200.00    3.806        0     23.10516\n",
       "\n",
       "[1201 rows x 5 columns]"
      ]
     },
     "execution_count": 716,
     "metadata": {},
     "output_type": "execute_result"
    }
   ],
   "source": [
    "any_cycle"
   ]
  },
  {
   "cell_type": "code",
   "execution_count": 678,
   "id": "4fb3681c",
   "metadata": {
    "ExecuteTime": {
     "end_time": "2021-10-05T14:46:35.801290Z",
     "start_time": "2021-10-05T14:46:35.716118Z"
    }
   },
   "outputs": [
    {
     "data": {
      "text/html": [
       "<div>\n",
       "<style scoped>\n",
       "    .dataframe tbody tr th:only-of-type {\n",
       "        vertical-align: middle;\n",
       "    }\n",
       "\n",
       "    .dataframe tbody tr th {\n",
       "        vertical-align: top;\n",
       "    }\n",
       "\n",
       "    .dataframe thead th {\n",
       "        text-align: right;\n",
       "    }\n",
       "</style>\n",
       "<table border=\"1\" class=\"dataframe\">\n",
       "  <thead>\n",
       "    <tr style=\"text-align: right;\">\n",
       "      <th></th>\n",
       "      <th>time</th>\n",
       "      <th>relativeTime</th>\n",
       "      <th>voltage</th>\n",
       "      <th>current</th>\n",
       "      <th>temperature</th>\n",
       "    </tr>\n",
       "  </thead>\n",
       "  <tbody>\n",
       "    <tr>\n",
       "      <th>0</th>\n",
       "      <td>[[5.04, 15.04, 25.04, 35.04, 45.04, 55.04, 65....</td>\n",
       "      <td>[[0.04, 10.04, 20.04, 30.04, 40.04, 50.04, 60....</td>\n",
       "      <td>[[3.838, 3.865, 3.878, 3.888, 3.895, 3.9, 3.90...</td>\n",
       "      <td>[[-2.007, -2.0, -2.0, -2.0, -2.0, -2.0, -2.0, ...</td>\n",
       "      <td>[[24.3853, 24.3853, 24.29163, 24.2448, 24.2604...</td>\n",
       "    </tr>\n",
       "    <tr>\n",
       "      <th>1</th>\n",
       "      <td>[[10509.699999999999, 10519.7, 10529.7, 10539....</td>\n",
       "      <td>[[0.04, 10.04, 20.04, 30.04, 40.04, 50.04, 60....</td>\n",
       "      <td>[[4.113, 4.099, 4.091, 4.085, 4.079, 4.075, 4....</td>\n",
       "      <td>[[1.004, 1.0, 1.0, 1.0, 1.0, 1.0, 1.0, 1.0, 1....</td>\n",
       "      <td>[[22.10602, 22.05919, 22.04357, 22.01235, 21.9...</td>\n",
       "    </tr>\n",
       "    <tr>\n",
       "      <th>2</th>\n",
       "      <td>[[18062.29, 18072.29, 18082.29, 18092.29, 1810...</td>\n",
       "      <td>[[0.03, 10.03, 20.03, 30.03, 40.03, 50.03, 60....</td>\n",
       "      <td>[[3.492, 3.601, 3.651, 3.69, 3.723, 3.751, 3.7...</td>\n",
       "      <td>[[-2.01, -2.0, -2.0, -2.0, -2.001, -2.0, -2.0,...</td>\n",
       "      <td>[[27.49199, 27.5076, 27.5076, 27.47638, 27.445...</td>\n",
       "    </tr>\n",
       "    <tr>\n",
       "      <th>3</th>\n",
       "      <td>[[28575.879999999997, 28585.88, 28595.88, 2860...</td>\n",
       "      <td>[[0.04, 10.04, 20.04, 30.04, 40.04, 50.04, 60....</td>\n",
       "      <td>[[4.113, 4.099, 4.091, 4.085, 4.079, 4.074, 4....</td>\n",
       "      <td>[[1.003, 1.0, 1.0, 1.0, 1.0, 1.0, 1.0, 1.0, 1....</td>\n",
       "      <td>[[22.55875, 22.55875, 22.57436, 22.60559, 22.6...</td>\n",
       "    </tr>\n",
       "    <tr>\n",
       "      <th>4</th>\n",
       "      <td>[[46858.079999999994, 46859.079999999994, 4686...</td>\n",
       "      <td>[[0.01, 1.01, 2.01, 3.01, 4.01, 5.01, 6.01, 7....</td>\n",
       "      <td>[[4.199, 4.199, 4.199, 4.199, 4.199, 4.199, 4....</td>\n",
       "      <td>[[0, 0, 0, 0, 0, 0, 0, 0, 0, 0, 0, 0, 0, 0, 0,...</td>\n",
       "      <td>[[22.99587, 22.98026, 22.98026, 22.98026, 22.9...</td>\n",
       "    </tr>\n",
       "    <tr>\n",
       "      <th>...</th>\n",
       "      <td>...</td>\n",
       "      <td>...</td>\n",
       "      <td>...</td>\n",
       "      <td>...</td>\n",
       "      <td>...</td>\n",
       "    </tr>\n",
       "    <tr>\n",
       "      <th>113573</th>\n",
       "      <td>[[12675446.09, 12675456.09, 12675466.09, 12675...</td>\n",
       "      <td>[[0.01, 10.01, 20.01, 30.01, 40.01, 50.01, 60....</td>\n",
       "      <td>[[3.328, 3.482, 3.522, 3.551, 3.573, 3.59, 3.6...</td>\n",
       "      <td>[[0, 0, 0, 0, 0, 0, 0, 0, 0, 0, 0, 0, 0, 0, 0,...</td>\n",
       "      <td>[[38.29132, 38.27586, 38.24494, 38.22948, 38.2...</td>\n",
       "    </tr>\n",
       "    <tr>\n",
       "      <th>113574</th>\n",
       "      <td>[[12682646.12, 12682656.120000001, 12682666.12...</td>\n",
       "      <td>[[0.04, 10.04, 20.04, 30.04, 40.04, 50.04, 60....</td>\n",
       "      <td>[[4.096, 4.181, 4.2, 4.2, 4.2, 4.2, 4.2, 4.2, ...</td>\n",
       "      <td>[[-2.0, -2.0, -1.938, -1.794, -1.68, -1.588, -...</td>\n",
       "      <td>[[32.10779, 32.13871, 32.18508, 32.24692, 32.3...</td>\n",
       "    </tr>\n",
       "    <tr>\n",
       "      <th>113575</th>\n",
       "      <td>[[12703178.8, 12703188.8, 12703198.8, 12703208...</td>\n",
       "      <td>[[0.01, 10.01, 20.01, 30.01, 40.01, 50.01, 60....</td>\n",
       "      <td>[[4.198, 4.198, 4.197, 4.197, 4.197, 4.197, 4....</td>\n",
       "      <td>[[0, 0, 0, 0, 0, 0, 0, 0, 0, 0, 0, 0, 0, 0, 0,...</td>\n",
       "      <td>[[32.40151, 32.40151, 32.40151, 32.40151, 32.4...</td>\n",
       "    </tr>\n",
       "    <tr>\n",
       "      <th>113576</th>\n",
       "      <td>[[12703478.83, 12703488.83, 12703498.83, 12703...</td>\n",
       "      <td>[[0.04, 10.04, 20.04, 30.04, 40.04, 50.04, 60....</td>\n",
       "      <td>[[4.055, 3.995, 3.976, 3.961, 3.948, 3.937, 3....</td>\n",
       "      <td>[[1.005, 1.0, 1.0, 1.0, 1.0, 1.0, 1.0, 1.0, 1....</td>\n",
       "      <td>[[32.46334, 32.49426, 32.52518, 32.5561, 32.60...</td>\n",
       "    </tr>\n",
       "    <tr>\n",
       "      <th>113577</th>\n",
       "      <td>[[12706179.64, 12706189.64, 12706199.64, 12706...</td>\n",
       "      <td>[[0.01, 10.01, 20.01, 30.01, 40.01, 50.01, 60....</td>\n",
       "      <td>[[3.327, 3.48, 3.52, 3.549, 3.571, 3.589, 3.60...</td>\n",
       "      <td>[[0, 0, 0, 0, 0, 0, 0, 0, 0, 0, 0, 0, 0, 0, 0,...</td>\n",
       "      <td>[[38.86329, 38.84784, 38.81692, 38.786, 38.739...</td>\n",
       "    </tr>\n",
       "  </tbody>\n",
       "</table>\n",
       "<p>113578 rows × 5 columns</p>\n",
       "</div>"
      ],
      "text/plain": [
       "                                                     time  \\\n",
       "0       [[5.04, 15.04, 25.04, 35.04, 45.04, 55.04, 65....   \n",
       "1       [[10509.699999999999, 10519.7, 10529.7, 10539....   \n",
       "2       [[18062.29, 18072.29, 18082.29, 18092.29, 1810...   \n",
       "3       [[28575.879999999997, 28585.88, 28595.88, 2860...   \n",
       "4       [[46858.079999999994, 46859.079999999994, 4686...   \n",
       "...                                                   ...   \n",
       "113573  [[12675446.09, 12675456.09, 12675466.09, 12675...   \n",
       "113574  [[12682646.12, 12682656.120000001, 12682666.12...   \n",
       "113575  [[12703178.8, 12703188.8, 12703198.8, 12703208...   \n",
       "113576  [[12703478.83, 12703488.83, 12703498.83, 12703...   \n",
       "113577  [[12706179.64, 12706189.64, 12706199.64, 12706...   \n",
       "\n",
       "                                             relativeTime  \\\n",
       "0       [[0.04, 10.04, 20.04, 30.04, 40.04, 50.04, 60....   \n",
       "1       [[0.04, 10.04, 20.04, 30.04, 40.04, 50.04, 60....   \n",
       "2       [[0.03, 10.03, 20.03, 30.03, 40.03, 50.03, 60....   \n",
       "3       [[0.04, 10.04, 20.04, 30.04, 40.04, 50.04, 60....   \n",
       "4       [[0.01, 1.01, 2.01, 3.01, 4.01, 5.01, 6.01, 7....   \n",
       "...                                                   ...   \n",
       "113573  [[0.01, 10.01, 20.01, 30.01, 40.01, 50.01, 60....   \n",
       "113574  [[0.04, 10.04, 20.04, 30.04, 40.04, 50.04, 60....   \n",
       "113575  [[0.01, 10.01, 20.01, 30.01, 40.01, 50.01, 60....   \n",
       "113576  [[0.04, 10.04, 20.04, 30.04, 40.04, 50.04, 60....   \n",
       "113577  [[0.01, 10.01, 20.01, 30.01, 40.01, 50.01, 60....   \n",
       "\n",
       "                                                  voltage  \\\n",
       "0       [[3.838, 3.865, 3.878, 3.888, 3.895, 3.9, 3.90...   \n",
       "1       [[4.113, 4.099, 4.091, 4.085, 4.079, 4.075, 4....   \n",
       "2       [[3.492, 3.601, 3.651, 3.69, 3.723, 3.751, 3.7...   \n",
       "3       [[4.113, 4.099, 4.091, 4.085, 4.079, 4.074, 4....   \n",
       "4       [[4.199, 4.199, 4.199, 4.199, 4.199, 4.199, 4....   \n",
       "...                                                   ...   \n",
       "113573  [[3.328, 3.482, 3.522, 3.551, 3.573, 3.59, 3.6...   \n",
       "113574  [[4.096, 4.181, 4.2, 4.2, 4.2, 4.2, 4.2, 4.2, ...   \n",
       "113575  [[4.198, 4.198, 4.197, 4.197, 4.197, 4.197, 4....   \n",
       "113576  [[4.055, 3.995, 3.976, 3.961, 3.948, 3.937, 3....   \n",
       "113577  [[3.327, 3.48, 3.52, 3.549, 3.571, 3.589, 3.60...   \n",
       "\n",
       "                                                  current  \\\n",
       "0       [[-2.007, -2.0, -2.0, -2.0, -2.0, -2.0, -2.0, ...   \n",
       "1       [[1.004, 1.0, 1.0, 1.0, 1.0, 1.0, 1.0, 1.0, 1....   \n",
       "2       [[-2.01, -2.0, -2.0, -2.0, -2.001, -2.0, -2.0,...   \n",
       "3       [[1.003, 1.0, 1.0, 1.0, 1.0, 1.0, 1.0, 1.0, 1....   \n",
       "4       [[0, 0, 0, 0, 0, 0, 0, 0, 0, 0, 0, 0, 0, 0, 0,...   \n",
       "...                                                   ...   \n",
       "113573  [[0, 0, 0, 0, 0, 0, 0, 0, 0, 0, 0, 0, 0, 0, 0,...   \n",
       "113574  [[-2.0, -2.0, -1.938, -1.794, -1.68, -1.588, -...   \n",
       "113575  [[0, 0, 0, 0, 0, 0, 0, 0, 0, 0, 0, 0, 0, 0, 0,...   \n",
       "113576  [[1.005, 1.0, 1.0, 1.0, 1.0, 1.0, 1.0, 1.0, 1....   \n",
       "113577  [[0, 0, 0, 0, 0, 0, 0, 0, 0, 0, 0, 0, 0, 0, 0,...   \n",
       "\n",
       "                                              temperature  \n",
       "0       [[24.3853, 24.3853, 24.29163, 24.2448, 24.2604...  \n",
       "1       [[22.10602, 22.05919, 22.04357, 22.01235, 21.9...  \n",
       "2       [[27.49199, 27.5076, 27.5076, 27.47638, 27.445...  \n",
       "3       [[22.55875, 22.55875, 22.57436, 22.60559, 22.6...  \n",
       "4       [[22.99587, 22.98026, 22.98026, 22.98026, 22.9...  \n",
       "...                                                   ...  \n",
       "113573  [[38.29132, 38.27586, 38.24494, 38.22948, 38.2...  \n",
       "113574  [[32.10779, 32.13871, 32.18508, 32.24692, 32.3...  \n",
       "113575  [[32.40151, 32.40151, 32.40151, 32.40151, 32.4...  \n",
       "113576  [[32.46334, 32.49426, 32.52518, 32.5561, 32.60...  \n",
       "113577  [[38.86329, 38.84784, 38.81692, 38.786, 38.739...  \n",
       "\n",
       "[113578 rows x 5 columns]"
      ]
     },
     "execution_count": 678,
     "metadata": {},
     "output_type": "execute_result"
    }
   ],
   "source": [
    "df1"
   ]
  },
  {
   "cell_type": "code",
   "execution_count": 746,
   "id": "20b2775b",
   "metadata": {
    "ExecuteTime": {
     "end_time": "2021-10-06T11:21:41.088607Z",
     "start_time": "2021-10-06T11:21:41.071420Z"
    }
   },
   "outputs": [],
   "source": [
    "mat = scipy.io.loadmat('/Users/monmac/Downloads/Automotive Li-ion Cell Usage Data Set/TrainingSet.mat')"
   ]
  },
  {
   "cell_type": "code",
   "execution_count": 747,
   "id": "2b295530",
   "metadata": {
    "ExecuteTime": {
     "end_time": "2021-10-06T11:21:41.245277Z",
     "start_time": "2021-10-06T11:21:41.231969Z"
    }
   },
   "outputs": [
    {
     "data": {
      "text/plain": [
       "{'__header__': b'MATLAB 5.0 MAT-file, Platform: PCWIN64, Created on: Fri Sep  7 18:57:47 2018',\n",
       " '__version__': '1.0',\n",
       " '__globals__': [],\n",
       " 'Cn': array([[15]], dtype=uint8),\n",
       " 'Iin': array([[ 0.00904],\n",
       "        [ 0.00904],\n",
       "        [-0.00904],\n",
       "        ...,\n",
       "        [ 0.     ],\n",
       "        [ 0.     ],\n",
       "        [ 0.     ]]),\n",
       " 'Q_Ah': array([[ 0.00000000e+00],\n",
       "        [ 0.00000000e+00],\n",
       "        [-2.64553419e-06],\n",
       "        ...,\n",
       "        [-1.16415129e+01],\n",
       "        [-1.16415154e+01],\n",
       "        [-1.16415027e+01]]),\n",
       " 'SoC': array([[1.        ],\n",
       "        [1.        ],\n",
       "        [0.99999982],\n",
       "        ...,\n",
       "        [0.2182772 ],\n",
       "        [0.2182772 ],\n",
       "        [0.2182772 ]]),\n",
       " 'Time': array([[    0],\n",
       "        [    1],\n",
       "        [    2],\n",
       "        ...,\n",
       "        [43352],\n",
       "        [43353],\n",
       "        [43354]], dtype=uint16),\n",
       " 'Ts': array([[1]], dtype=uint8),\n",
       " 'Vout': array([[4.1749],\n",
       "        [4.1749],\n",
       "        [4.1748],\n",
       "        ...,\n",
       "        [3.5696],\n",
       "        [3.5697],\n",
       "        [3.5696]]),\n",
       " 'listCycles': array([[array([' 1.ycle: ARB02.mat - 1640 [s]'], dtype='<U29')],\n",
       "        [array([' 2.ycle: Rest - 1200 [s]'], dtype='<U24')],\n",
       "        [array([' 3.ycle: REP05.mat - 1401 [s]'], dtype='<U29')],\n",
       "        [array([' 4.ycle: Rest - 1200 [s]'], dtype='<U24')],\n",
       "        [array([' 5.ycle: US06.mat - 601 [s]'], dtype='<U27')],\n",
       "        [array([' 6.ycle: SC03.mat - 601 [s]'], dtype='<U27')],\n",
       "        [array([' 7.ycle: Rest - 1200 [s]'], dtype='<U24')],\n",
       "        [array([' 8.Cycle: HWFET.mat - 766 [s]'], dtype='<U29')],\n",
       "        [array([' 9.Cycle: Rest - 1200 [s]'], dtype='<U25')],\n",
       "        [array(['10.Cycle: UDDS.mat - 1370 [s]'], dtype='<U29')],\n",
       "        [array(['11.Cycle: Rest - 1200 [s]'], dtype='<U25')],\n",
       "        [array(['12.Cycle: OCC.mat - 1910 [s]'], dtype='<U28')],\n",
       "        [array(['13.Cycle: Rest - 1200 [s]'], dtype='<U25')],\n",
       "        [array(['14.Cycle: HWFET_MNT.mat - 766 [s]'], dtype='<U33')],\n",
       "        [array(['15.Cycle: Rest - 1200 [s]'], dtype='<U25')],\n",
       "        [array(['16.Cycle: Charging - NaN [s]'], dtype='<U28')],\n",
       "        [array(['17.Cycle: Rest - 1200 [s]'], dtype='<U25')],\n",
       "        [array(['18.Cycle: VEIL2NREL.mat - 5915 [s]'], dtype='<U34')],\n",
       "        [array(['19.Cycle: Rest - 3600 [s]'], dtype='<U25')]], dtype=object)}"
      ]
     },
     "execution_count": 747,
     "metadata": {},
     "output_type": "execute_result"
    }
   ],
   "source": [
    "mat"
   ]
  },
  {
   "cell_type": "code",
   "execution_count": 748,
   "id": "a264e75d",
   "metadata": {
    "ExecuteTime": {
     "end_time": "2021-10-06T11:21:41.397758Z",
     "start_time": "2021-10-06T11:21:41.384164Z"
    }
   },
   "outputs": [],
   "source": [
    "del mat['__header__']\n",
    "del mat['__version__']\n",
    "del mat['__globals__']\n",
    "del mat['Cn']\n",
    "del mat['Ts']\n",
    "del mat['listCycles']"
   ]
  },
  {
   "cell_type": "code",
   "execution_count": 754,
   "id": "dcfbf69e",
   "metadata": {
    "ExecuteTime": {
     "end_time": "2021-10-06T11:23:18.982640Z",
     "start_time": "2021-10-06T11:23:18.976693Z"
    }
   },
   "outputs": [
    {
     "data": {
      "text/plain": [
       "43355"
      ]
     },
     "execution_count": 754,
     "metadata": {},
     "output_type": "execute_result"
    }
   ],
   "source": [
    "len(mat['Vout'])"
   ]
  },
  {
   "cell_type": "code",
   "execution_count": 756,
   "id": "b42e5b97",
   "metadata": {
    "ExecuteTime": {
     "end_time": "2021-10-06T11:23:34.011286Z",
     "start_time": "2021-10-06T11:23:34.002217Z"
    }
   },
   "outputs": [
    {
     "data": {
      "text/plain": [
       "{'Iin': array([[ 0.00904],\n",
       "        [ 0.00904],\n",
       "        [-0.00904],\n",
       "        ...,\n",
       "        [ 0.     ],\n",
       "        [ 0.     ],\n",
       "        [ 0.     ]]),\n",
       " 'Q_Ah': array([[ 0.00000000e+00],\n",
       "        [ 0.00000000e+00],\n",
       "        [-2.64553419e-06],\n",
       "        ...,\n",
       "        [-1.16415129e+01],\n",
       "        [-1.16415154e+01],\n",
       "        [-1.16415027e+01]]),\n",
       " 'SoC': array([[1.        ],\n",
       "        [1.        ],\n",
       "        [0.99999982],\n",
       "        ...,\n",
       "        [0.2182772 ],\n",
       "        [0.2182772 ],\n",
       "        [0.2182772 ]]),\n",
       " 'Time': array([[    0],\n",
       "        [    1],\n",
       "        [    2],\n",
       "        ...,\n",
       "        [43352],\n",
       "        [43353],\n",
       "        [43354]], dtype=uint16),\n",
       " 'Vout': array([[4.1749],\n",
       "        [4.1749],\n",
       "        [4.1748],\n",
       "        ...,\n",
       "        [3.5696],\n",
       "        [3.5697],\n",
       "        [3.5696]])}"
      ]
     },
     "execution_count": 756,
     "metadata": {},
     "output_type": "execute_result"
    }
   ],
   "source": [
    "mat"
   ]
  },
  {
   "cell_type": "code",
   "execution_count": 765,
   "id": "a6585c96",
   "metadata": {
    "ExecuteTime": {
     "end_time": "2021-10-06T11:26:00.696606Z",
     "start_time": "2021-10-06T11:26:00.682871Z"
    }
   },
   "outputs": [],
   "source": [
    "df1=pd.DataFrame(mat['Iin'], columns = ['curr_dens'])\n",
    "df2=pd.DataFrame(mat['Q_Ah'], columns = ['Q_Ah'])\n",
    "df3=pd.DataFrame(mat['SoC'], columns = ['SoC'])\n",
    "df4=pd.DataFrame(mat['Time'], columns = ['Time'])\n",
    "df5=pd.DataFrame(mat['Vout'], columns = ['Vout'])"
   ]
  },
  {
   "cell_type": "code",
   "execution_count": 785,
   "id": "bda17abf",
   "metadata": {
    "ExecuteTime": {
     "end_time": "2021-10-06T11:28:40.518755Z",
     "start_time": "2021-10-06T11:28:40.508568Z"
    }
   },
   "outputs": [],
   "source": [
    "set1=pd.concat([df1,df2,df3,df4,df5],axis=1).set_index('Time')"
   ]
  },
  {
   "cell_type": "code",
   "execution_count": 786,
   "id": "b2c99e3d",
   "metadata": {
    "ExecuteTime": {
     "end_time": "2021-10-06T11:28:40.671254Z",
     "start_time": "2021-10-06T11:28:40.655218Z"
    }
   },
   "outputs": [
    {
     "data": {
      "text/html": [
       "<div>\n",
       "<style scoped>\n",
       "    .dataframe tbody tr th:only-of-type {\n",
       "        vertical-align: middle;\n",
       "    }\n",
       "\n",
       "    .dataframe tbody tr th {\n",
       "        vertical-align: top;\n",
       "    }\n",
       "\n",
       "    .dataframe thead th {\n",
       "        text-align: right;\n",
       "    }\n",
       "</style>\n",
       "<table border=\"1\" class=\"dataframe\">\n",
       "  <thead>\n",
       "    <tr style=\"text-align: right;\">\n",
       "      <th></th>\n",
       "      <th>Iin</th>\n",
       "      <th>Q_Ah</th>\n",
       "      <th>SoC</th>\n",
       "      <th>Vout</th>\n",
       "    </tr>\n",
       "    <tr>\n",
       "      <th>Time</th>\n",
       "      <th></th>\n",
       "      <th></th>\n",
       "      <th></th>\n",
       "      <th></th>\n",
       "    </tr>\n",
       "  </thead>\n",
       "  <tbody>\n",
       "    <tr>\n",
       "      <th>0</th>\n",
       "      <td>0.00904</td>\n",
       "      <td>0.000000</td>\n",
       "      <td>1.000000</td>\n",
       "      <td>4.1749</td>\n",
       "    </tr>\n",
       "    <tr>\n",
       "      <th>1</th>\n",
       "      <td>0.00904</td>\n",
       "      <td>0.000000</td>\n",
       "      <td>1.000000</td>\n",
       "      <td>4.1749</td>\n",
       "    </tr>\n",
       "    <tr>\n",
       "      <th>2</th>\n",
       "      <td>-0.00904</td>\n",
       "      <td>-0.000003</td>\n",
       "      <td>1.000000</td>\n",
       "      <td>4.1748</td>\n",
       "    </tr>\n",
       "    <tr>\n",
       "      <th>3</th>\n",
       "      <td>-0.37968</td>\n",
       "      <td>-0.000107</td>\n",
       "      <td>0.999993</td>\n",
       "      <td>4.1703</td>\n",
       "    </tr>\n",
       "    <tr>\n",
       "      <th>4</th>\n",
       "      <td>-0.37064</td>\n",
       "      <td>-0.000211</td>\n",
       "      <td>0.999986</td>\n",
       "      <td>4.1697</td>\n",
       "    </tr>\n",
       "    <tr>\n",
       "      <th>...</th>\n",
       "      <td>...</td>\n",
       "      <td>...</td>\n",
       "      <td>...</td>\n",
       "      <td>...</td>\n",
       "    </tr>\n",
       "    <tr>\n",
       "      <th>43350</th>\n",
       "      <td>0.00000</td>\n",
       "      <td>-11.641529</td>\n",
       "      <td>0.218277</td>\n",
       "      <td>3.5696</td>\n",
       "    </tr>\n",
       "    <tr>\n",
       "      <th>43351</th>\n",
       "      <td>0.00000</td>\n",
       "      <td>-11.641512</td>\n",
       "      <td>0.218277</td>\n",
       "      <td>3.5696</td>\n",
       "    </tr>\n",
       "    <tr>\n",
       "      <th>43352</th>\n",
       "      <td>0.00000</td>\n",
       "      <td>-11.641513</td>\n",
       "      <td>0.218277</td>\n",
       "      <td>3.5696</td>\n",
       "    </tr>\n",
       "    <tr>\n",
       "      <th>43353</th>\n",
       "      <td>0.00000</td>\n",
       "      <td>-11.641515</td>\n",
       "      <td>0.218277</td>\n",
       "      <td>3.5697</td>\n",
       "    </tr>\n",
       "    <tr>\n",
       "      <th>43354</th>\n",
       "      <td>0.00000</td>\n",
       "      <td>-11.641503</td>\n",
       "      <td>0.218277</td>\n",
       "      <td>3.5696</td>\n",
       "    </tr>\n",
       "  </tbody>\n",
       "</table>\n",
       "<p>43355 rows × 4 columns</p>\n",
       "</div>"
      ],
      "text/plain": [
       "           Iin       Q_Ah       SoC    Vout\n",
       "Time                                       \n",
       "0      0.00904   0.000000  1.000000  4.1749\n",
       "1      0.00904   0.000000  1.000000  4.1749\n",
       "2     -0.00904  -0.000003  1.000000  4.1748\n",
       "3     -0.37968  -0.000107  0.999993  4.1703\n",
       "4     -0.37064  -0.000211  0.999986  4.1697\n",
       "...        ...        ...       ...     ...\n",
       "43350  0.00000 -11.641529  0.218277  3.5696\n",
       "43351  0.00000 -11.641512  0.218277  3.5696\n",
       "43352  0.00000 -11.641513  0.218277  3.5696\n",
       "43353  0.00000 -11.641515  0.218277  3.5697\n",
       "43354  0.00000 -11.641503  0.218277  3.5696\n",
       "\n",
       "[43355 rows x 4 columns]"
      ]
     },
     "execution_count": 786,
     "metadata": {},
     "output_type": "execute_result"
    }
   ],
   "source": [
    "set1"
   ]
  },
  {
   "cell_type": "code",
   "execution_count": 789,
   "id": "8c5ae805",
   "metadata": {
    "ExecuteTime": {
     "end_time": "2021-10-06T11:35:53.574315Z",
     "start_time": "2021-10-06T11:35:53.565221Z"
    }
   },
   "outputs": [
    {
     "data": {
      "text/plain": [
       "<autokeras.tasks.structured_data.StructuredDataRegressor at 0x14df03580>"
      ]
     },
     "execution_count": 789,
     "metadata": {},
     "output_type": "execute_result"
    }
   ],
   "source": [
    "reg"
   ]
  },
  {
   "cell_type": "code",
   "execution_count": null,
   "id": "e0227448",
   "metadata": {},
   "outputs": [],
   "source": [
    "predicted_y = reg.predict(X_test)\n",
    "# Evaluate the best model with testing data.\n",
    "print(reg.evaluate(X_test, y_test))"
   ]
  },
  {
   "cell_type": "code",
   "execution_count": 790,
   "id": "1cde2fcc",
   "metadata": {
    "ExecuteTime": {
     "end_time": "2021-10-06T11:36:21.524646Z",
     "start_time": "2021-10-06T11:36:21.488051Z"
    }
   },
   "outputs": [
    {
     "data": {
      "text/html": [
       "<div>\n",
       "<style scoped>\n",
       "    .dataframe tbody tr th:only-of-type {\n",
       "        vertical-align: middle;\n",
       "    }\n",
       "\n",
       "    .dataframe tbody tr th {\n",
       "        vertical-align: top;\n",
       "    }\n",
       "\n",
       "    .dataframe thead th {\n",
       "        text-align: right;\n",
       "    }\n",
       "</style>\n",
       "<table border=\"1\" class=\"dataframe\">\n",
       "  <thead>\n",
       "    <tr style=\"text-align: right;\">\n",
       "      <th></th>\n",
       "      <th>curr_dens</th>\n",
       "      <th>Volts_tot</th>\n",
       "      <th>Temp_tot</th>\n",
       "      <th>t_tot</th>\n",
       "    </tr>\n",
       "  </thead>\n",
       "  <tbody>\n",
       "    <tr>\n",
       "      <th>1722</th>\n",
       "      <td>-11.711937</td>\n",
       "      <td>3.753963</td>\n",
       "      <td>274.694718</td>\n",
       "      <td>861.0</td>\n",
       "    </tr>\n",
       "    <tr>\n",
       "      <th>1723</th>\n",
       "      <td>-11.711937</td>\n",
       "      <td>3.753819</td>\n",
       "      <td>274.693645</td>\n",
       "      <td>861.5</td>\n",
       "    </tr>\n",
       "    <tr>\n",
       "      <th>1724</th>\n",
       "      <td>-8.689595</td>\n",
       "      <td>3.759700</td>\n",
       "      <td>274.691903</td>\n",
       "      <td>862.0</td>\n",
       "    </tr>\n",
       "    <tr>\n",
       "      <th>1725</th>\n",
       "      <td>-8.689595</td>\n",
       "      <td>3.759616</td>\n",
       "      <td>274.690140</td>\n",
       "      <td>862.5</td>\n",
       "    </tr>\n",
       "    <tr>\n",
       "      <th>1726</th>\n",
       "      <td>-8.689595</td>\n",
       "      <td>3.759536</td>\n",
       "      <td>274.688388</td>\n",
       "      <td>863.0</td>\n",
       "    </tr>\n",
       "    <tr>\n",
       "      <th>...</th>\n",
       "      <td>...</td>\n",
       "      <td>...</td>\n",
       "      <td>...</td>\n",
       "      <td>...</td>\n",
       "    </tr>\n",
       "    <tr>\n",
       "      <th>5543</th>\n",
       "      <td>8.920406</td>\n",
       "      <td>3.406472</td>\n",
       "      <td>317.898041</td>\n",
       "      <td>2771.5</td>\n",
       "    </tr>\n",
       "    <tr>\n",
       "      <th>5544</th>\n",
       "      <td>23.201588</td>\n",
       "      <td>3.443712</td>\n",
       "      <td>317.888330</td>\n",
       "      <td>2772.0</td>\n",
       "    </tr>\n",
       "    <tr>\n",
       "      <th>5545</th>\n",
       "      <td>23.201588</td>\n",
       "      <td>3.444352</td>\n",
       "      <td>317.878582</td>\n",
       "      <td>2772.5</td>\n",
       "    </tr>\n",
       "    <tr>\n",
       "      <th>5546</th>\n",
       "      <td>23.201588</td>\n",
       "      <td>3.444985</td>\n",
       "      <td>317.868878</td>\n",
       "      <td>2773.0</td>\n",
       "    </tr>\n",
       "    <tr>\n",
       "      <th>5547</th>\n",
       "      <td>23.201588</td>\n",
       "      <td>3.445613</td>\n",
       "      <td>317.859222</td>\n",
       "      <td>2773.5</td>\n",
       "    </tr>\n",
       "  </tbody>\n",
       "</table>\n",
       "<p>159750 rows × 4 columns</p>\n",
       "</div>"
      ],
      "text/plain": [
       "      curr_dens  Volts_tot    Temp_tot   t_tot\n",
       "1722 -11.711937   3.753963  274.694718   861.0\n",
       "1723 -11.711937   3.753819  274.693645   861.5\n",
       "1724  -8.689595   3.759700  274.691903   862.0\n",
       "1725  -8.689595   3.759616  274.690140   862.5\n",
       "1726  -8.689595   3.759536  274.688388   863.0\n",
       "...         ...        ...         ...     ...\n",
       "5543   8.920406   3.406472  317.898041  2771.5\n",
       "5544  23.201588   3.443712  317.888330  2772.0\n",
       "5545  23.201588   3.444352  317.878582  2772.5\n",
       "5546  23.201588   3.444985  317.868878  2773.0\n",
       "5547  23.201588   3.445613  317.859222  2773.5\n",
       "\n",
       "[159750 rows x 4 columns]"
      ]
     },
     "execution_count": 790,
     "metadata": {},
     "output_type": "execute_result"
    }
   ],
   "source": [
    "X_test"
   ]
  },
  {
   "cell_type": "code",
   "execution_count": 799,
   "id": "a3c9016a",
   "metadata": {
    "ExecuteTime": {
     "end_time": "2021-10-06T15:05:28.782749Z",
     "start_time": "2021-10-06T15:05:28.770586Z"
    }
   },
   "outputs": [],
   "source": [
    "import numpy as np\n",
    "from sklearn.linear_model import LinearRegression\n",
    "from fireTS.models import NARX\n",
    "\n",
    "x = np.random.randn(100, 1)\n",
    "y = np.random.randn(100)\n",
    "mdl = NARX(LinearRegression(), auto_order=2, exog_order=[2])\n",
    "mdl.fit(x, y)\n",
    "y_forecast = mdl.forecast(x, y, step=10, X_future=np.random.randn(9, 1))"
   ]
  },
  {
   "cell_type": "code",
   "execution_count": 800,
   "id": "5296c7b4",
   "metadata": {
    "ExecuteTime": {
     "end_time": "2021-10-06T15:05:28.945850Z",
     "start_time": "2021-10-06T15:05:28.939974Z"
    }
   },
   "outputs": [
    {
     "data": {
      "text/plain": [
       "array([-0.1855276 , -0.17507777, -0.11794143, -0.10775374, -0.1869565 ,\n",
       "        0.04251026, -0.12784002, -0.17774605, -0.27033761, -0.04847784])"
      ]
     },
     "execution_count": 800,
     "metadata": {},
     "output_type": "execute_result"
    }
   ],
   "source": [
    "y_forecast"
   ]
  },
  {
   "cell_type": "code",
   "execution_count": 801,
   "id": "970a5264",
   "metadata": {
    "ExecuteTime": {
     "end_time": "2021-10-06T15:05:56.448674Z",
     "start_time": "2021-10-06T15:05:54.657272Z"
    }
   },
   "outputs": [],
   "source": [
    "from fireTS.models import NARX, DirectAutoRegressor\n",
    "from sklearn.ensemble import RandomForestRegressor\n",
    "from xgboost import XGBRegressor\n",
    "import numpy as np\n",
    "\n",
    "# Random training data\n",
    "x = np.random.randn(100, 2)\n",
    "y = np.random.randn(100)\n",
    "\n",
    "# Build a non-linear autoregression model with exogenous inputs\n",
    "# using Random Forest regression as the base model\n",
    "mdl1 = NARX(\n",
    "    RandomForestRegressor(n_estimators=10),\n",
    "    auto_order=2,\n",
    "    exog_order=[2, 2],\n",
    "    exog_delay=[1, 1])\n",
    "mdl1.fit(x, y)\n",
    "ypred1 = mdl1.predict(x, y, step=3)\n",
    "\n",
    "# Build a general autoregression model and make multi-step prediction directly\n",
    "# using XGBRegressor as the base model\n",
    "mdl2 = DirectAutoRegressor(\n",
    "    XGBRegressor(n_estimators=10),\n",
    "    auto_order=2,\n",
    "    exog_order=[2, 2],\n",
    "    exog_delay=[1, 1],\n",
    "    pred_step=3)\n",
    "mdl2.fit(x, y)\n",
    "ypred2 = mdl2.predict(x, y)"
   ]
  },
  {
   "cell_type": "code",
   "execution_count": 804,
   "id": "3ca896f0",
   "metadata": {
    "ExecuteTime": {
     "end_time": "2021-10-06T15:06:21.493086Z",
     "start_time": "2021-10-06T15:06:21.473891Z"
    }
   },
   "outputs": [
    {
     "data": {
      "text/plain": [
       "array([        nan,         nan,         nan,         nan,         nan,\n",
       "       -1.29580081,  1.65478146, -0.48142457, -0.28710914, -0.16128962,\n",
       "        0.28202787, -0.65940768,  0.16470905,  0.39048028, -0.06335125,\n",
       "        1.1246953 ,  0.95230037, -0.54306138,  0.03485508,  1.29270792,\n",
       "       -0.15399429, -0.46718705, -1.02682769, -0.328796  , -0.26949033,\n",
       "       -0.17390478,  0.58713788,  1.37572265,  1.02483141, -0.77608395,\n",
       "        0.47695369, -0.48813525,  0.35071903,  0.2762439 , -0.00566045,\n",
       "        0.65195519,  1.77691936, -0.41010055, -0.1831688 , -0.24350058,\n",
       "       -0.09443863, -0.30256313, -0.06763548,  1.20820439, -0.05724703,\n",
       "        0.1943866 ,  0.3784323 ,  1.22590888,  0.72212166,  0.78532106,\n",
       "       -0.81223947, -0.62923354,  1.22240353,  1.32119858,  1.26765656,\n",
       "       -0.93134153,  1.2525214 , -0.32422462,  0.714329  ,  0.49455318,\n",
       "        1.0821625 , -0.33236399,  0.22849055, -0.08301827, -0.48456329,\n",
       "        0.26838681,  0.71354991,  0.91027409, -0.08701622,  0.19279961,\n",
       "       -0.14527848,  0.12816194,  0.55839813, -0.56123036,  0.30298778,\n",
       "       -1.24590707,  0.62617904,  0.48928705,  0.06164854, -0.1831688 ,\n",
       "       -0.44964603,  1.29927182,  1.1172452 , -0.91194117,  0.44524446,\n",
       "       -0.36089864,  0.50528026,  0.5284633 ,  0.5695858 , -0.05016517,\n",
       "       -0.3173677 , -0.24680811, -0.18171841,  1.23139131, -0.1427779 ,\n",
       "        0.12234919,  0.54855216,  1.39086473,  1.01366448, -0.24765408])"
      ]
     },
     "execution_count": 804,
     "metadata": {},
     "output_type": "execute_result"
    }
   ],
   "source": [
    "ypred2"
   ]
  },
  {
   "cell_type": "code",
   "execution_count": 805,
   "id": "2574270c",
   "metadata": {
    "ExecuteTime": {
     "end_time": "2021-10-06T17:31:41.769895Z",
     "start_time": "2021-10-06T17:31:41.723962Z"
    }
   },
   "outputs": [],
   "source": [
    "import xgboost\n",
    "from xgboost import XGBRegressor"
   ]
  },
  {
   "cell_type": "code",
   "execution_count": 818,
   "id": "a7134a08",
   "metadata": {
    "ExecuteTime": {
     "end_time": "2021-10-06T17:35:30.141211Z",
     "start_time": "2021-10-06T17:35:30.128337Z"
    }
   },
   "outputs": [
    {
     "data": {
      "text/html": [
       "<div>\n",
       "<style scoped>\n",
       "    .dataframe tbody tr th:only-of-type {\n",
       "        vertical-align: middle;\n",
       "    }\n",
       "\n",
       "    .dataframe tbody tr th {\n",
       "        vertical-align: top;\n",
       "    }\n",
       "\n",
       "    .dataframe thead th {\n",
       "        text-align: right;\n",
       "    }\n",
       "</style>\n",
       "<table border=\"1\" class=\"dataframe\">\n",
       "  <thead>\n",
       "    <tr style=\"text-align: right;\">\n",
       "      <th></th>\n",
       "      <th>curr_dens</th>\n",
       "      <th>Volts_tot</th>\n",
       "      <th>Temp_tot</th>\n",
       "      <th>t_tot</th>\n",
       "    </tr>\n",
       "  </thead>\n",
       "  <tbody>\n",
       "    <tr>\n",
       "      <th>0</th>\n",
       "      <td>-23.538367</td>\n",
       "      <td>3.963454</td>\n",
       "      <td>298.150000</td>\n",
       "      <td>0.0</td>\n",
       "    </tr>\n",
       "    <tr>\n",
       "      <th>1</th>\n",
       "      <td>-23.538367</td>\n",
       "      <td>3.963147</td>\n",
       "      <td>298.151811</td>\n",
       "      <td>0.5</td>\n",
       "    </tr>\n",
       "    <tr>\n",
       "      <th>2</th>\n",
       "      <td>-23.538367</td>\n",
       "      <td>3.962862</td>\n",
       "      <td>298.153755</td>\n",
       "      <td>1.0</td>\n",
       "    </tr>\n",
       "    <tr>\n",
       "      <th>3</th>\n",
       "      <td>-23.538367</td>\n",
       "      <td>3.962591</td>\n",
       "      <td>298.155722</td>\n",
       "      <td>1.5</td>\n",
       "    </tr>\n",
       "    <tr>\n",
       "      <th>4</th>\n",
       "      <td>-23.538367</td>\n",
       "      <td>3.962331</td>\n",
       "      <td>298.157708</td>\n",
       "      <td>2.0</td>\n",
       "    </tr>\n",
       "    <tr>\n",
       "      <th>...</th>\n",
       "      <td>...</td>\n",
       "      <td>...</td>\n",
       "      <td>...</td>\n",
       "      <td>...</td>\n",
       "    </tr>\n",
       "    <tr>\n",
       "      <th>2630</th>\n",
       "      <td>-2.474332</td>\n",
       "      <td>3.891637</td>\n",
       "      <td>298.965648</td>\n",
       "      <td>1315.0</td>\n",
       "    </tr>\n",
       "    <tr>\n",
       "      <th>2631</th>\n",
       "      <td>-2.474332</td>\n",
       "      <td>3.891640</td>\n",
       "      <td>298.963983</td>\n",
       "      <td>1315.5</td>\n",
       "    </tr>\n",
       "    <tr>\n",
       "      <th>2632</th>\n",
       "      <td>-2.474332</td>\n",
       "      <td>3.891643</td>\n",
       "      <td>298.962323</td>\n",
       "      <td>1316.0</td>\n",
       "    </tr>\n",
       "    <tr>\n",
       "      <th>2633</th>\n",
       "      <td>-35.985613</td>\n",
       "      <td>3.839624</td>\n",
       "      <td>298.967017</td>\n",
       "      <td>1316.5</td>\n",
       "    </tr>\n",
       "    <tr>\n",
       "      <th>2634</th>\n",
       "      <td>-35.985613</td>\n",
       "      <td>3.839228</td>\n",
       "      <td>298.972034</td>\n",
       "      <td>1317.0</td>\n",
       "    </tr>\n",
       "  </tbody>\n",
       "</table>\n",
       "<p>380802 rows × 4 columns</p>\n",
       "</div>"
      ],
      "text/plain": [
       "      curr_dens  Volts_tot    Temp_tot   t_tot\n",
       "0    -23.538367   3.963454  298.150000     0.0\n",
       "1    -23.538367   3.963147  298.151811     0.5\n",
       "2    -23.538367   3.962862  298.153755     1.0\n",
       "3    -23.538367   3.962591  298.155722     1.5\n",
       "4    -23.538367   3.962331  298.157708     2.0\n",
       "...         ...        ...         ...     ...\n",
       "2630  -2.474332   3.891637  298.965648  1315.0\n",
       "2631  -2.474332   3.891640  298.963983  1315.5\n",
       "2632  -2.474332   3.891643  298.962323  1316.0\n",
       "2633 -35.985613   3.839624  298.967017  1316.5\n",
       "2634 -35.985613   3.839228  298.972034  1317.0\n",
       "\n",
       "[380802 rows x 4 columns]"
      ]
     },
     "execution_count": 818,
     "metadata": {},
     "output_type": "execute_result"
    }
   ],
   "source": [
    "X_train"
   ]
  },
  {
   "cell_type": "code",
   "execution_count": 819,
   "id": "ecb01c58",
   "metadata": {
    "ExecuteTime": {
     "end_time": "2021-10-06T17:36:59.113552Z",
     "start_time": "2021-10-06T17:35:37.200271Z"
    }
   },
   "outputs": [
    {
     "data": {
      "text/plain": [
       "XGBRegressor(base_score=0.5, booster='gbtree', colsample_bylevel=1,\n",
       "             colsample_bynode=1, colsample_bytree=1, gamma=0, gpu_id=-1,\n",
       "             importance_type='gain', interaction_constraints='',\n",
       "             learning_rate=0.300000012, max_delta_step=0, max_depth=20,\n",
       "             min_child_weight=1, missing=nan, monotone_constraints='()',\n",
       "             n_estimators=100, n_jobs=6, num_parallel_tree=1,\n",
       "             objective='reg:squarederror', random_state=0, reg_alpha=0,\n",
       "             reg_lambda=1, scale_pos_weight=1, subsample=1, tree_method='exact',\n",
       "             validate_parameters=1, verbosity=None)"
      ]
     },
     "execution_count": 819,
     "metadata": {},
     "output_type": "execute_result"
    }
   ],
   "source": [
    "model = XGBRegressor(max_depth=20, n_jobs=6)\n",
    "model.fit(X_train, y_train)"
   ]
  },
  {
   "cell_type": "code",
   "execution_count": 820,
   "id": "cd4d29c5",
   "metadata": {
    "ExecuteTime": {
     "end_time": "2021-10-06T17:37:00.286998Z",
     "start_time": "2021-10-06T17:36:59.129600Z"
    }
   },
   "outputs": [],
   "source": [
    "y_pred=model.predict(X_test)"
   ]
  },
  {
   "cell_type": "code",
   "execution_count": 821,
   "id": "d591f315",
   "metadata": {
    "ExecuteTime": {
     "end_time": "2021-10-06T17:37:00.304026Z",
     "start_time": "2021-10-06T17:37:00.289822Z"
    }
   },
   "outputs": [],
   "source": [
    "from sklearn.metrics import mean_absolute_error"
   ]
  },
  {
   "cell_type": "code",
   "execution_count": 822,
   "id": "e50b2edb",
   "metadata": {
    "ExecuteTime": {
     "end_time": "2021-10-06T17:37:00.332187Z",
     "start_time": "2021-10-06T17:37:00.308121Z"
    }
   },
   "outputs": [
    {
     "data": {
      "text/plain": [
       "0.3631672761133296"
      ]
     },
     "execution_count": 822,
     "metadata": {},
     "output_type": "execute_result"
    }
   ],
   "source": [
    "mean_absolute_error(y_test,y_pred)"
   ]
  },
  {
   "cell_type": "code",
   "execution_count": 826,
   "id": "542c6e6a",
   "metadata": {
    "ExecuteTime": {
     "end_time": "2021-10-07T11:33:07.596138Z",
     "start_time": "2021-10-07T11:33:06.535029Z"
    }
   },
   "outputs": [
    {
     "data": {
      "image/png": "[encoded data removed]",
      "text/plain": [
       "<Figure size 1440x1440 with 1 Axes>"
      ]
     },
     "metadata": {
      "needs_background": "light"
     },
     "output_type": "display_data"
    }
   ],
   "source": [
    "X = np.linspace(0,25000,25000)\n",
    "plt.figure(figsize=(20,20))\n",
    "plt.plot(X,y_pred[0:25000], label='predicted_data')\n",
    "plt.plot(X,y_test[0:25000], label='real_data')\n",
    "plt.title('percentage of battery over discharge cycle')\n",
    "plt.xlabel('datapoints')\n",
    "plt.ylabel('percentage of battery')\n",
    "plt.legend()\n",
    "plt.show()"
   ]
  },
  {
   "cell_type": "code",
   "execution_count": 824,
   "id": "c5ab896c",
   "metadata": {
    "ExecuteTime": {
     "end_time": "2021-10-06T17:37:01.150744Z",
     "start_time": "2021-10-06T17:37:00.801729Z"
    }
   },
   "outputs": [
    {
     "data": {
      "image/png": "[encoded data removed]",
      "text/plain": [
       "<Figure size 1440x1440 with 1 Axes>"
      ]
     },
     "metadata": {
      "needs_background": "light"
     },
     "output_type": "display_data"
    }
   ],
   "source": [
    "X = np.linspace(0,10000,10000)\n",
    "plt.figure(figsize=(20,20))\n",
    "plt.plot(X,y_pred[0:10000], label='predicted_data')\n",
    "plt.plot(X,y_test[0:10000], label='real_data')\n",
    "plt.title('percentage of battery over discharge cycle')\n",
    "plt.xlabel('datapoints')\n",
    "plt.ylabel('percentage of battery')\n",
    "plt.legend()\n",
    "plt.show()"
   ]
  },
  {
   "cell_type": "code",
   "execution_count": null,
   "id": "fc51493c",
   "metadata": {},
   "outputs": [],
   "source": []
  }
 ],
 "metadata": {
  "kernelspec": {
   "display_name": "Python 3 (ipykernel)",
   "language": "python",
   "name": "python3"
  },
  "language_info": {
   "codemirror_mode": {
    "name": "ipython",
    "version": 3
   },
   "file_extension": ".py",
   "mimetype": "text/x-python",
   "name": "python",
   "nbconvert_exporter": "python",
   "pygments_lexer": "ipython3",
   "version": "3.8.6"
  },
  "toc": {
   "base_numbering": 1,
   "nav_menu": {},
   "number_sections": true,
   "sideBar": true,
   "skip_h1_title": false,
   "title_cell": "Table of Contents",
   "title_sidebar": "Contents",
   "toc_cell": false,
   "toc_position": {},
   "toc_section_display": true,
   "toc_window_display": false
  }
 },
 "nbformat": 4,
 "nbformat_minor": 5
}
