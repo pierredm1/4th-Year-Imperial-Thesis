{
 "cells": [
  {
   "cell_type": "code",
   "execution_count": 1,
   "id": "b9166023",
   "metadata": {
    "ExecuteTime": {
     "end_time": "2021-09-28T11:35:18.410594Z",
     "start_time": "2021-09-28T11:35:10.958781Z"
    }
   },
   "outputs": [],
   "source": [
    "import pandas as pd\n",
    "import glob\n",
    "import os\n",
    "import sklearn\n",
    "from sklearn.model_selection import train_test_split\n",
    "from sklearn.linear_model import LinearRegression\n",
    "from sklearn.metrics import mean_squared_error, r2_score\n",
    "import matplotlib.pyplot as plt\n",
    "import tensorflow \n",
    "import autokeras as ak"
   ]
  },
  {
   "cell_type": "code",
   "execution_count": 2,
   "id": "661cadb9",
   "metadata": {
    "ExecuteTime": {
     "end_time": "2021-09-28T11:35:18.417562Z",
     "start_time": "2021-09-28T11:35:18.412961Z"
    }
   },
   "outputs": [],
   "source": [
    "import tensorflow"
   ]
  },
  {
   "cell_type": "code",
   "execution_count": 191,
   "id": "61b01569",
   "metadata": {
    "ExecuteTime": {
     "end_time": "2021-09-30T12:16:28.314607Z",
     "start_time": "2021-09-30T12:16:27.259051Z"
    }
   },
   "outputs": [],
   "source": [
    "df = pd.concat(map(pd.read_csv, glob.glob(os.path.join('', \"../raw_data/Test/*.txt\"))))"
   ]
  },
  {
   "cell_type": "code",
   "execution_count": 192,
   "id": "e3e85fd2",
   "metadata": {
    "ExecuteTime": {
     "end_time": "2021-09-30T12:16:28.392075Z",
     "start_time": "2021-09-30T12:16:28.359239Z"
    },
    "scrolled": true
   },
   "outputs": [
    {
     "data": {
      "text/html": [
       "<div>\n",
       "<style scoped>\n",
       "    .dataframe tbody tr th:only-of-type {\n",
       "        vertical-align: middle;\n",
       "    }\n",
       "\n",
       "    .dataframe tbody tr th {\n",
       "        vertical-align: top;\n",
       "    }\n",
       "\n",
       "    .dataframe thead th {\n",
       "        text-align: right;\n",
       "    }\n",
       "</style>\n",
       "<table border=\"1\" class=\"dataframe\">\n",
       "  <thead>\n",
       "    <tr style=\"text-align: right;\">\n",
       "      <th></th>\n",
       "      <th>curr_dens</th>\n",
       "      <th>Volts_tot</th>\n",
       "      <th>Temp_tot</th>\n",
       "      <th>t_tot</th>\n",
       "      <th>SOC_tot</th>\n",
       "    </tr>\n",
       "  </thead>\n",
       "  <tbody>\n",
       "    <tr>\n",
       "      <th>0</th>\n",
       "      <td>20.042216</td>\n",
       "      <td>3.985313</td>\n",
       "      <td>298.150000</td>\n",
       "      <td>0.0</td>\n",
       "      <td>75.000000</td>\n",
       "    </tr>\n",
       "    <tr>\n",
       "      <th>1</th>\n",
       "      <td>20.042216</td>\n",
       "      <td>3.985557</td>\n",
       "      <td>298.149698</td>\n",
       "      <td>0.5</td>\n",
       "      <td>75.009523</td>\n",
       "    </tr>\n",
       "    <tr>\n",
       "      <th>2</th>\n",
       "      <td>20.042216</td>\n",
       "      <td>3.985784</td>\n",
       "      <td>298.149335</td>\n",
       "      <td>1.0</td>\n",
       "      <td>75.019046</td>\n",
       "    </tr>\n",
       "    <tr>\n",
       "      <th>3</th>\n",
       "      <td>20.042216</td>\n",
       "      <td>3.986000</td>\n",
       "      <td>298.148992</td>\n",
       "      <td>1.5</td>\n",
       "      <td>75.028569</td>\n",
       "    </tr>\n",
       "    <tr>\n",
       "      <th>4</th>\n",
       "      <td>20.042216</td>\n",
       "      <td>3.986208</td>\n",
       "      <td>298.148668</td>\n",
       "      <td>2.0</td>\n",
       "      <td>75.038092</td>\n",
       "    </tr>\n",
       "    <tr>\n",
       "      <th>...</th>\n",
       "      <td>...</td>\n",
       "      <td>...</td>\n",
       "      <td>...</td>\n",
       "      <td>...</td>\n",
       "      <td>...</td>\n",
       "    </tr>\n",
       "    <tr>\n",
       "      <th>5600</th>\n",
       "      <td>-1.177744</td>\n",
       "      <td>3.816955</td>\n",
       "      <td>299.184734</td>\n",
       "      <td>2800.0</td>\n",
       "      <td>50.479229</td>\n",
       "    </tr>\n",
       "    <tr>\n",
       "      <th>5601</th>\n",
       "      <td>-1.177744</td>\n",
       "      <td>3.817003</td>\n",
       "      <td>299.182497</td>\n",
       "      <td>2800.5</td>\n",
       "      <td>50.478670</td>\n",
       "    </tr>\n",
       "    <tr>\n",
       "      <th>5602</th>\n",
       "      <td>-1.177744</td>\n",
       "      <td>3.817049</td>\n",
       "      <td>299.180265</td>\n",
       "      <td>2801.0</td>\n",
       "      <td>50.478110</td>\n",
       "    </tr>\n",
       "    <tr>\n",
       "      <th>5603</th>\n",
       "      <td>-1.177744</td>\n",
       "      <td>3.817094</td>\n",
       "      <td>299.178036</td>\n",
       "      <td>2801.5</td>\n",
       "      <td>50.477551</td>\n",
       "    </tr>\n",
       "    <tr>\n",
       "      <th>5604</th>\n",
       "      <td>-1.177744</td>\n",
       "      <td>3.817137</td>\n",
       "      <td>299.175812</td>\n",
       "      <td>2802.0</td>\n",
       "      <td>50.476991</td>\n",
       "    </tr>\n",
       "  </tbody>\n",
       "</table>\n",
       "<p>5605 rows × 5 columns</p>\n",
       "</div>"
      ],
      "text/plain": [
       "      curr_dens  Volts_tot    Temp_tot   t_tot    SOC_tot\n",
       "0     20.042216   3.985313  298.150000     0.0  75.000000\n",
       "1     20.042216   3.985557  298.149698     0.5  75.009523\n",
       "2     20.042216   3.985784  298.149335     1.0  75.019046\n",
       "3     20.042216   3.986000  298.148992     1.5  75.028569\n",
       "4     20.042216   3.986208  298.148668     2.0  75.038092\n",
       "...         ...        ...         ...     ...        ...\n",
       "5600  -1.177744   3.816955  299.184734  2800.0  50.479229\n",
       "5601  -1.177744   3.817003  299.182497  2800.5  50.478670\n",
       "5602  -1.177744   3.817049  299.180265  2801.0  50.478110\n",
       "5603  -1.177744   3.817094  299.178036  2801.5  50.477551\n",
       "5604  -1.177744   3.817137  299.175812  2802.0  50.476991\n",
       "\n",
       "[5605 rows x 5 columns]"
      ]
     },
     "execution_count": 192,
     "metadata": {},
     "output_type": "execute_result"
    }
   ],
   "source": [
    "pd.read_csv('../raw_data/Test/results1.txt')"
   ]
  },
  {
   "cell_type": "code",
   "execution_count": 193,
   "id": "aa58a008",
   "metadata": {
    "ExecuteTime": {
     "end_time": "2021-09-30T12:16:28.693430Z",
     "start_time": "2021-09-30T12:16:28.641035Z"
    }
   },
   "outputs": [],
   "source": [
    "X=df.drop(columns=['SOC_tot'])\n",
    "y = df.SOC_tot\n",
    "X_train, X_test, y_train, y_test = train_test_split(X,y,test_size=0.3, shuffle=False)"
   ]
  },
  {
   "cell_type": "code",
   "execution_count": 9,
   "id": "56b69f89",
   "metadata": {
    "ExecuteTime": {
     "end_time": "2021-09-28T11:36:14.355804Z",
     "start_time": "2021-09-28T11:36:14.346413Z"
    }
   },
   "outputs": [
    {
     "data": {
      "text/plain": [
       "2635    66.499233\n",
       "2636    66.482135\n",
       "2637    66.465036\n",
       "2638    66.447938\n",
       "2639    66.430839\n",
       "          ...    \n",
       "5368    36.857142\n",
       "5369    36.843749\n",
       "5370    36.830355\n",
       "5371    36.816961\n",
       "5372    36.803568\n",
       "Name: SOC_tot, Length: 163202, dtype: float64"
      ]
     },
     "execution_count": 9,
     "metadata": {},
     "output_type": "execute_result"
    }
   ],
   "source": [
    "y_test"
   ]
  },
  {
   "cell_type": "code",
   "execution_count": 11,
   "id": "d2e06134",
   "metadata": {
    "ExecuteTime": {
     "end_time": "2021-09-28T11:36:29.324954Z",
     "start_time": "2021-09-28T11:36:29.033760Z"
    }
   },
   "outputs": [
    {
     "name": "stdout",
     "output_type": "stream",
     "text": [
      "Coefficients: \n",
      " [-2.70505434e-01  1.57167742e+02  2.78735704e+00 -2.09336454e-04]\n",
      "Mean squared error: 35.61\n",
      "Coefficient of determination: 0.90\n"
     ]
    },
    {
     "data": {
      "image/png": "[encoded data removed]",
      "text/plain": [
       "<Figure size 432x288 with 1 Axes>"
      ]
     },
     "metadata": {},
     "output_type": "display_data"
    }
   ],
   "source": [
    "regr = LinearRegression()\n",
    "regr.fit(X_train, y_train)\n",
    "\n",
    "# Make predictions using the testing set\n",
    "y_pred = regr.predict(X_test)\n",
    "\n",
    "# The coefficients\n",
    "print('Coefficients: \\n', regr.coef_)\n",
    "# The mean squared error\n",
    "print('Mean squared error: %.2f'\n",
    "      % mean_squared_error(y_test, y_pred))\n",
    "# The coefficient of determination: 1 is perfect prediction\n",
    "print('Coefficient of determination: %.2f'\n",
    "      % r2_score(y_test, y_pred))\n",
    "\n",
    "# Plot outputs\n",
    "plt.scatter(X_test['Volts_tot'], y_test,  color='black')\n",
    "#plt.plot(X_test['voltage'], color='blue', linewidth=3)\n",
    "\n",
    "plt.xticks(())\n",
    "plt.yticks(())\n",
    "\n",
    "plt.show()"
   ]
  },
  {
   "cell_type": "code",
   "execution_count": 6,
   "id": "12a28034",
   "metadata": {
    "ExecuteTime": {
     "end_time": "2021-09-14T09:29:28.803340Z",
     "start_time": "2021-09-14T09:29:28.755824Z"
    }
   },
   "outputs": [
    {
     "data": {
      "text/html": [
       "<div>\n",
       "<style scoped>\n",
       "    .dataframe tbody tr th:only-of-type {\n",
       "        vertical-align: middle;\n",
       "    }\n",
       "\n",
       "    .dataframe tbody tr th {\n",
       "        vertical-align: top;\n",
       "    }\n",
       "\n",
       "    .dataframe thead th {\n",
       "        text-align: right;\n",
       "    }\n",
       "</style>\n",
       "<table border=\"1\" class=\"dataframe\">\n",
       "  <thead>\n",
       "    <tr style=\"text-align: right;\">\n",
       "      <th></th>\n",
       "      <th>time</th>\n",
       "      <th>voltage</th>\n",
       "      <th>curr_density</th>\n",
       "      <th>temp</th>\n",
       "    </tr>\n",
       "  </thead>\n",
       "  <tbody>\n",
       "    <tr>\n",
       "      <th>734</th>\n",
       "      <td>367.0</td>\n",
       "      <td>3.012058</td>\n",
       "      <td>-29.50</td>\n",
       "      <td>288.283766</td>\n",
       "    </tr>\n",
       "    <tr>\n",
       "      <th>335</th>\n",
       "      <td>167.5</td>\n",
       "      <td>3.709120</td>\n",
       "      <td>-14.75</td>\n",
       "      <td>311.891725</td>\n",
       "    </tr>\n",
       "    <tr>\n",
       "      <th>284</th>\n",
       "      <td>142.0</td>\n",
       "      <td>3.457124</td>\n",
       "      <td>-14.75</td>\n",
       "      <td>311.331105</td>\n",
       "    </tr>\n",
       "    <tr>\n",
       "      <th>140</th>\n",
       "      <td>70.0</td>\n",
       "      <td>3.701728</td>\n",
       "      <td>-14.75</td>\n",
       "      <td>265.802300</td>\n",
       "    </tr>\n",
       "    <tr>\n",
       "      <th>76</th>\n",
       "      <td>38.0</td>\n",
       "      <td>3.784274</td>\n",
       "      <td>-29.50</td>\n",
       "      <td>323.397874</td>\n",
       "    </tr>\n",
       "    <tr>\n",
       "      <th>...</th>\n",
       "      <td>...</td>\n",
       "      <td>...</td>\n",
       "      <td>...</td>\n",
       "      <td>...</td>\n",
       "    </tr>\n",
       "    <tr>\n",
       "      <th>48</th>\n",
       "      <td>24.0</td>\n",
       "      <td>3.635964</td>\n",
       "      <td>-29.50</td>\n",
       "      <td>278.390773</td>\n",
       "    </tr>\n",
       "    <tr>\n",
       "      <th>717</th>\n",
       "      <td>358.5</td>\n",
       "      <td>3.806399</td>\n",
       "      <td>-29.50</td>\n",
       "      <td>288.186784</td>\n",
       "    </tr>\n",
       "    <tr>\n",
       "      <th>68</th>\n",
       "      <td>34.0</td>\n",
       "      <td>3.871705</td>\n",
       "      <td>-29.50</td>\n",
       "      <td>308.301898</td>\n",
       "    </tr>\n",
       "    <tr>\n",
       "      <th>736</th>\n",
       "      <td>368.0</td>\n",
       "      <td>3.555800</td>\n",
       "      <td>-29.50</td>\n",
       "      <td>302.251302</td>\n",
       "    </tr>\n",
       "    <tr>\n",
       "      <th>800</th>\n",
       "      <td>400.0</td>\n",
       "      <td>3.642831</td>\n",
       "      <td>-29.50</td>\n",
       "      <td>297.931439</td>\n",
       "    </tr>\n",
       "  </tbody>\n",
       "</table>\n",
       "<p>29510 rows × 4 columns</p>\n",
       "</div>"
      ],
      "text/plain": [
       "      time   voltage  curr_density        temp\n",
       "734  367.0  3.012058        -29.50  288.283766\n",
       "335  167.5  3.709120        -14.75  311.891725\n",
       "284  142.0  3.457124        -14.75  311.331105\n",
       "140   70.0  3.701728        -14.75  265.802300\n",
       "76    38.0  3.784274        -29.50  323.397874\n",
       "..     ...       ...           ...         ...\n",
       "48    24.0  3.635964        -29.50  278.390773\n",
       "717  358.5  3.806399        -29.50  288.186784\n",
       "68    34.0  3.871705        -29.50  308.301898\n",
       "736  368.0  3.555800        -29.50  302.251302\n",
       "800  400.0  3.642831        -29.50  297.931439\n",
       "\n",
       "[29510 rows x 4 columns]"
      ]
     },
     "execution_count": 6,
     "metadata": {},
     "output_type": "execute_result"
    }
   ],
   "source": [
    "X_test"
   ]
  },
  {
   "cell_type": "code",
   "execution_count": 7,
   "id": "dacfa212",
   "metadata": {
    "ExecuteTime": {
     "end_time": "2021-09-14T09:29:28.819945Z",
     "start_time": "2021-09-14T09:29:28.805515Z"
    }
   },
   "outputs": [
    {
     "data": {
      "text/plain": [
       "734     2.234668\n",
       "335    28.231656\n",
       "284     7.589079\n",
       "140    30.598304\n",
       "76     51.934713\n",
       "         ...    \n",
       "48     21.327187\n",
       "717    65.472967\n",
       "68     70.046848\n",
       "736    15.206656\n",
       "800    26.309575\n",
       "Name: SOC, Length: 29510, dtype: float64"
      ]
     },
     "execution_count": 7,
     "metadata": {},
     "output_type": "execute_result"
    }
   ],
   "source": [
    "y_test"
   ]
  },
  {
   "cell_type": "code",
   "execution_count": 12,
   "id": "c153109c",
   "metadata": {
    "ExecuteTime": {
     "end_time": "2021-09-28T11:36:35.900731Z",
     "start_time": "2021-09-28T11:36:35.896250Z"
    }
   },
   "outputs": [],
   "source": [
    "import autokeras"
   ]
  },
  {
   "cell_type": "code",
   "execution_count": 13,
   "id": "35cf5a4f",
   "metadata": {
    "ExecuteTime": {
     "end_time": "2021-09-28T15:06:13.811623Z",
     "start_time": "2021-09-28T11:36:38.685923Z"
    }
   },
   "outputs": [
    {
     "name": "stdout",
     "output_type": "stream",
     "text": [
      "Trial 30 Complete [00h 04m 16s]\n",
      "val_loss: 478.90435791015625\n",
      "\n",
      "Best val_loss So Far: 0.438973993062973\n",
      "Total elapsed time: 03h 20m 59s\n",
      "INFO:tensorflow:Oracle triggered exit\n",
      "Epoch 1/30\n",
      "11901/11901 [==============================] - 12s 986us/step - loss: 1422.7758 - mean_squared_error: 1422.7758s - loss: 1668.2704 - ETA: 0s - loss: 1540.1647 - mean_squared_error: - ETA: 0s - loss: 1501.8062 - mean_sq\n",
      "Epoch 2/30\n",
      "11901/11901 [==============================] - 11s 961us/step - loss: 2.7639 - mean_squared_error: 2.7639s -\n",
      "Epoch 3/30\n",
      "11901/11901 [==============================] - 12s 1ms/step - loss: 1.5575 - mean_squared_error: 1.5575A: 12s - loss: 2.3789 - mean_squa - ETA: 10s - loss: 1. - ETA: 4s - loss: 1.3163 - mean_squared_error:  - ETA: 4s - loss: 1.5305 -  - ETA: 0s - loss: 1.6287 -  - ETA: 0s - loss: 1.5552 - mean_squared_error\n",
      "Epoch 4/30\n",
      "11901/11901 [==============================] - 12s 976us/step - loss: 1.5127 - mean_squared_error: 1.5127s - loss: 1.5156 - mean_squared_err\n",
      "Epoch 5/30\n",
      "11901/11901 [==============================] - 15s 1ms/step - loss: 1.3820 - mean_squared_error: 1.3820 0s - loss: 1.3929 - mean_squared - ETA: 0s - loss: 1.3805 - mean_squared_err\n",
      "Epoch 6/30\n",
      "11901/11901 [==============================] - 12s 1ms/step - loss: 1.2582 - mean_squared_error: 1.2582 0s - loss: 1.3035 - \n",
      "Epoch 7/30\n",
      "11901/11901 [==============================] - 14s 1ms/step - loss: 1.1120 - mean_squared_error: 1.1120 0s - loss: 1.1189 - mean_squared_err\n",
      "Epoch 8/30\n",
      "11901/11901 [==============================] - 13s 1ms/step - loss: 0.9230 - mean_squared_error: 0.9230 0s - loss: 0.9349 - mean_squared_err\n",
      "Epoch 9/30\n",
      "11901/11901 [==============================] - 11s 937us/step - loss: 0.7965 - mean_squared_error: 0.7965s - loss: 0.9228 -  - ETA: 6s - loss: 0.8224 - mean_squ - ETA: 5s - loss: 0.7944 - mean_s - ETA: 5s - los - ETA: 1s - l - ETA: 0s - loss: 0.835\n",
      "Epoch 10/30\n",
      "11901/11901 [==============================] - 12s 967us/step - loss: 0.7109 - mean_squared_error: 0.7109s - loss: 0.6733 - mean_squ - ETA: 3s - loss: 0.6628 - mean_squared - ETA: 3s - loss: 0\n",
      "Epoch 11/30\n",
      "11901/11901 [==============================] - 13s 1ms/step - loss: 0.6392 - mean_squared_error: 0.6392 0s - loss: 0.6507 - mean_squar\n",
      "Epoch 12/30\n",
      "11901/11901 [==============================] - 12s 989us/step - loss: 0.6070 - mean_squared_error: 0.6070\n",
      "Epoch 13/30\n",
      "11901/11901 [==============================] - 11s 955us/step - loss: 0.5634 - mean_squared_error: 0.5634s - loss: 0.5891 - mean_s - ETA: 0s - loss: 0.5725 - mean_squared_err\n",
      "Epoch 14/30\n",
      "11901/11901 [==============================] - 12s 1ms/step - loss: 0.5305 - mean_squared_error: 0.5305\n",
      "Epoch 15/30\n",
      "11901/11901 [==============================] - 13s 1ms/step - loss: 0.5008 - mean_squared_error: 0.5008 0s - loss: 0.5129 - mean_squared_error - ETA: 0s - loss: 0.508\n",
      "Epoch 16/30\n",
      "11901/11901 [==============================] - 14s 1ms/step - loss: 0.4579 - mean_squared_error: 0.4579\n",
      "Epoch 17/30\n",
      "11901/11901 [==============================] - 17s 1ms/step - loss: 0.4159 - mean_squared_error: 0.4159 0s - loss: 0.4\n",
      "Epoch 18/30\n",
      "11901/11901 [==============================] - 18s 1ms/step - loss: 0.3850 - mean_squared_error: 0.3850 1s - los - ETA: 0s - loss: 0.3914 - mean\n",
      "Epoch 19/30\n",
      "11901/11901 [==============================] - 15s 1ms/step - loss: 0.3621 - mean_squared_error: 0.3621\n",
      "Epoch 20/30\n",
      "11901/11901 [==============================] - 13s 1ms/step - loss: 0.3512 - mean_squared_error: 0.3512 \n",
      "Epoch 21/30\n",
      "11901/11901 [==============================] - 17s 1ms/step - loss: 0.3363 - mean_squared_error: 0.3363 0s - loss: 0.3453 \n",
      "Epoch 22/30\n",
      "11901/11901 [==============================] - 19s 2ms/step - loss: 0.3279 - mean_squared_error: 0.3279\n",
      "Epoch 23/30\n",
      "11901/11901 [==============================] - 15s 1ms/step - loss: 0.3131 - mean_squared_error: 0.3131\n",
      "Epoch 24/30\n",
      "11901/11901 [==============================] - 13s 1ms/step - loss: 0.2919 - mean_squared_error: 0.2919\n",
      "Epoch 25/30\n",
      "11901/11901 [==============================] - 12s 1ms/step - loss: 0.2743 - mean_squared_error: 0.2743 0s - loss: 0.2773 - mean_squared_err - ETA: 0s - loss: 0.2755 - mean_squared_error: \n",
      "Epoch 26/30\n",
      "11901/11901 [==============================] - 12s 1ms/step - loss: 0.2638 - mean_squared_error: 0.2638 0s - loss: 0.2667 - mean_squared\n",
      "Epoch 27/30\n",
      "11901/11901 [==============================] - 12s 993us/step - loss: 0.2550 - mean_squared_error: 0.2550\n",
      "Epoch 28/30\n",
      "11901/11901 [==============================] - 12s 1ms/step - loss: 0.2533 - mean_squared_error: 0.2533 0s - loss: 0.2571 - mean_squ\n",
      "Epoch 29/30\n",
      "11901/11901 [==============================] - 12s 1ms/step - loss: 0.2659 - mean_squared_error: 0.2659\n",
      "Epoch 30/30\n",
      "11901/11901 [==============================] - 12s 1ms/step - loss: 0.3121 - mean_squared_error: 0.3121 3s - loss: 0.305 - E\n"
     ]
    },
    {
     "name": "stderr",
     "output_type": "stream",
     "text": [
      "2021-09-28 16:06:01.916170: W tensorflow/python/util/util.cc:348] Sets are not currently considered sequences, but this may change in the future, so consider avoiding using them.\n"
     ]
    },
    {
     "name": "stdout",
     "output_type": "stream",
     "text": [
      "INFO:tensorflow:Assets written to: ./structured_data_regressor/best_model/assets\n",
      "5101/5101 [==============================] - 4s 753us/step\n",
      "5101/5101 [==============================] - 4s 794us/step - loss: 0.2140 - mean_squared_error: 0.2140\n",
      "[0.21396014094352722, 0.21396014094352722]\n"
     ]
    }
   ],
   "source": [
    "# It tries 10 different models.\n",
    "reg = ak.StructuredDataRegressor(max_trials=30, overwrite=True)\n",
    "# Feed the structured data regressor with training data.\n",
    "reg.fit(X_train, y_train, epochs=30)\n",
    "# Predict with the best model.\n",
    "predicted_y = reg.predict(X_test)\n",
    "# Evaluate the best model with testing data.\n",
    "print(reg.evaluate(X_test, y_test))"
   ]
  },
  {
   "cell_type": "code",
   "execution_count": 14,
   "id": "0f13821c",
   "metadata": {
    "ExecuteTime": {
     "end_time": "2021-09-28T15:06:14.433655Z",
     "start_time": "2021-09-28T15:06:13.848660Z"
    }
   },
   "outputs": [],
   "source": [
    "model = reg.export_model()"
   ]
  },
  {
   "cell_type": "code",
   "execution_count": 15,
   "id": "cb68065f",
   "metadata": {
    "ExecuteTime": {
     "end_time": "2021-09-28T15:06:14.446893Z",
     "start_time": "2021-09-28T15:06:14.435702Z"
    }
   },
   "outputs": [
    {
     "name": "stdout",
     "output_type": "stream",
     "text": [
      "Model: \"model\"\n",
      "_________________________________________________________________\n",
      "Layer (type)                 Output Shape              Param #   \n",
      "=================================================================\n",
      "input_1 (InputLayer)         [(None, 4)]               0         \n",
      "_________________________________________________________________\n",
      "multi_category_encoding (Mul (None, 4)                 0         \n",
      "_________________________________________________________________\n",
      "normalization (Normalization (None, 4)                 9         \n",
      "_________________________________________________________________\n",
      "dense (Dense)                (None, 64)                320       \n",
      "_________________________________________________________________\n",
      "re_lu (ReLU)                 (None, 64)                0         \n",
      "_________________________________________________________________\n",
      "regression_head_1 (Dense)    (None, 1)                 65        \n",
      "=================================================================\n",
      "Total params: 394\n",
      "Trainable params: 385\n",
      "Non-trainable params: 9\n",
      "_________________________________________________________________\n"
     ]
    }
   ],
   "source": [
    "model.summary()"
   ]
  },
  {
   "cell_type": "code",
   "execution_count": 16,
   "id": "2742f315",
   "metadata": {
    "ExecuteTime": {
     "end_time": "2021-09-28T15:06:14.473590Z",
     "start_time": "2021-09-28T15:06:14.449649Z"
    }
   },
   "outputs": [
    {
     "data": {
      "text/plain": [
       "2635    66.499233\n",
       "2636    66.482135\n",
       "2637    66.465036\n",
       "2638    66.447938\n",
       "2639    66.430839\n",
       "2640    66.407558\n",
       "2641    66.384277\n",
       "2642    66.360997\n",
       "2643    66.337716\n",
       "2644    66.314435\n",
       "Name: SOC_tot, dtype: float64"
      ]
     },
     "execution_count": 16,
     "metadata": {},
     "output_type": "execute_result"
    }
   ],
   "source": [
    "y_test[0:10]"
   ]
  },
  {
   "cell_type": "code",
   "execution_count": 17,
   "id": "de172eca",
   "metadata": {
    "ExecuteTime": {
     "end_time": "2021-09-28T15:06:14.486539Z",
     "start_time": "2021-09-28T15:06:14.475202Z"
    }
   },
   "outputs": [
    {
     "name": "stdout",
     "output_type": "stream",
     "text": [
      "[[66.15457 ]\n",
      " [66.108406]\n",
      " [66.064896]\n",
      " [66.02353 ]\n",
      " [65.984314]\n",
      " [65.987976]\n",
      " [65.93561 ]\n",
      " [65.886314]\n",
      " [65.83967 ]\n",
      " [65.79542 ]]\n"
     ]
    }
   ],
   "source": [
    "print(predicted_y[0:10])"
   ]
  },
  {
   "cell_type": "code",
   "execution_count": 18,
   "id": "c52466a6",
   "metadata": {
    "ExecuteTime": {
     "end_time": "2021-09-28T15:06:14.493780Z",
     "start_time": "2021-09-28T15:06:14.488837Z"
    }
   },
   "outputs": [
    {
     "name": "stdout",
     "output_type": "stream",
     "text": [
      "<class 'tensorflow.python.keras.engine.functional.Functional'>\n"
     ]
    }
   ],
   "source": [
    "print(type(model))"
   ]
  },
  {
   "cell_type": "code",
   "execution_count": 19,
   "id": "e711cbeb",
   "metadata": {
    "ExecuteTime": {
     "end_time": "2021-09-28T15:06:15.163194Z",
     "start_time": "2021-09-28T15:06:14.497949Z"
    }
   },
   "outputs": [
    {
     "name": "stdout",
     "output_type": "stream",
     "text": [
      "INFO:tensorflow:Assets written to: model_autokeras/assets\n"
     ]
    }
   ],
   "source": [
    "model.save(\"model_autokeras\", save_format=\"tf\")"
   ]
  },
  {
   "cell_type": "code",
   "execution_count": 20,
   "id": "cde1cde8",
   "metadata": {
    "ExecuteTime": {
     "end_time": "2021-09-28T15:06:15.443950Z",
     "start_time": "2021-09-28T15:06:15.165704Z"
    }
   },
   "outputs": [],
   "source": [
    "from tensorflow.keras.models import load_model\n",
    "loaded_model = load_model(\"model_autokeras\", custom_objects=ak.CUSTOM_OBJECTS)"
   ]
  },
  {
   "cell_type": "code",
   "execution_count": 21,
   "id": "63501d4c",
   "metadata": {
    "ExecuteTime": {
     "end_time": "2021-09-28T15:06:15.454822Z",
     "start_time": "2021-09-28T15:06:15.445978Z"
    }
   },
   "outputs": [
    {
     "name": "stdout",
     "output_type": "stream",
     "text": [
      "Model: \"model\"\n",
      "_________________________________________________________________\n",
      "Layer (type)                 Output Shape              Param #   \n",
      "=================================================================\n",
      "input_1 (InputLayer)         [(None, 4)]               0         \n",
      "_________________________________________________________________\n",
      "multi_category_encoding (Mul (None, 4)                 0         \n",
      "_________________________________________________________________\n",
      "normalization (Normalization (None, 4)                 9         \n",
      "_________________________________________________________________\n",
      "dense (Dense)                (None, 64)                320       \n",
      "_________________________________________________________________\n",
      "re_lu (ReLU)                 (None, 64)                0         \n",
      "_________________________________________________________________\n",
      "regression_head_1 (Dense)    (None, 1)                 65        \n",
      "=================================================================\n",
      "Total params: 394\n",
      "Trainable params: 385\n",
      "Non-trainable params: 9\n",
      "_________________________________________________________________\n"
     ]
    }
   ],
   "source": [
    "loaded_model.summary()"
   ]
  },
  {
   "cell_type": "code",
   "execution_count": 22,
   "id": "2982a7c3",
   "metadata": {
    "ExecuteTime": {
     "end_time": "2021-09-28T15:06:18.130988Z",
     "start_time": "2021-09-28T15:06:15.459835Z"
    }
   },
   "outputs": [
    {
     "data": {
      "application/javascript": [
       "\n",
       "        if (window._pyforest_update_imports_cell) { window._pyforest_update_imports_cell('import tensorflow as tf'); }\n",
       "    "
      ],
      "text/plain": [
       "<IPython.core.display.Javascript object>"
      ]
     },
     "metadata": {},
     "output_type": "display_data"
    }
   ],
   "source": [
    "predicted_y = loaded_model.predict(tf.expand_dims(X_test, -1))"
   ]
  },
  {
   "cell_type": "code",
   "execution_count": 43,
   "id": "84c50c6b",
   "metadata": {
    "ExecuteTime": {
     "end_time": "2021-09-28T15:10:50.788656Z",
     "start_time": "2021-09-28T15:10:50.780194Z"
    }
   },
   "outputs": [
    {
     "data": {
      "text/plain": [
       "array([[66.15457 ],\n",
       "       [66.108406],\n",
       "       [66.064896],\n",
       "       ...,\n",
       "       [36.33899 ],\n",
       "       [36.296112],\n",
       "       [36.25589 ]], dtype=float32)"
      ]
     },
     "execution_count": 43,
     "metadata": {},
     "output_type": "execute_result"
    }
   ],
   "source": [
    "predicted_y"
   ]
  },
  {
   "cell_type": "code",
   "execution_count": 46,
   "id": "e3552465",
   "metadata": {
    "ExecuteTime": {
     "end_time": "2021-09-28T15:11:10.699531Z",
     "start_time": "2021-09-28T15:11:10.690944Z"
    }
   },
   "outputs": [
    {
     "data": {
      "text/plain": [
       "2635    66.499233\n",
       "2636    66.482135\n",
       "2637    66.465036\n",
       "2638    66.447938\n",
       "2639    66.430839\n",
       "          ...    \n",
       "5368    36.857142\n",
       "5369    36.843749\n",
       "5370    36.830355\n",
       "5371    36.816961\n",
       "5372    36.803568\n",
       "Name: SOC_tot, Length: 163202, dtype: float64"
      ]
     },
     "execution_count": 46,
     "metadata": {},
     "output_type": "execute_result"
    }
   ],
   "source": [
    "y_test"
   ]
  },
  {
   "cell_type": "code",
   "execution_count": 95,
   "id": "4edc6727",
   "metadata": {
    "ExecuteTime": {
     "end_time": "2021-09-29T13:42:46.215172Z",
     "start_time": "2021-09-29T13:42:46.133234Z"
    }
   },
   "outputs": [],
   "source": [
    "import matplotlib.pyplot as plt"
   ]
  },
  {
   "cell_type": "code",
   "execution_count": 91,
   "id": "da6d69cf",
   "metadata": {
    "ExecuteTime": {
     "end_time": "2021-09-28T15:30:59.489226Z",
     "start_time": "2021-09-28T15:30:59.150422Z"
    }
   },
   "outputs": [
    {
     "data": {
      "application/javascript": [
       "\n",
       "        if (window._pyforest_update_imports_cell) { window._pyforest_update_imports_cell('import numpy as np\\nimport tensorflow as tf'); }\n",
       "    "
      ],
      "text/plain": [
       "<IPython.core.display.Javascript object>"
      ]
     },
     "metadata": {},
     "output_type": "display_data"
    },
    {
     "data": {
      "image/png": "[encoded data removed]",
      "text/plain": [
       "<Figure size 1440x1440 with 1 Axes>"
      ]
     },
     "metadata": {
      "needs_background": "light"
     },
     "output_type": "display_data"
    }
   ],
   "source": [
    "X = np.linspace(0,2500,2500)\n",
    "\n",
    "plt.figure(figsize=(20,20))\n",
    "plt.plot(X,predicted_y[3000:5500], label='predicted_data')\n",
    "plt.plot(X,y_test[3000:5500], label='real_data')\n",
    "plt.title('percentage of battery over discharge cycle')\n",
    "plt.xlabel('datapoints')\n",
    "plt.ylabel('percentage of battery')\n",
    "plt.legend()\n",
    "plt.show()"
   ]
  },
  {
   "cell_type": "code",
   "execution_count": 129,
   "id": "71f4b87c",
   "metadata": {
    "ExecuteTime": {
     "end_time": "2021-09-29T15:49:11.601420Z",
     "start_time": "2021-09-29T15:49:11.256498Z"
    },
    "scrolled": true
   },
   "outputs": [
    {
     "data": {
      "application/javascript": [
       "\n",
       "        if (window._pyforest_update_imports_cell) { window._pyforest_update_imports_cell('import numpy as np\\nimport tensorflow as tf'); }\n",
       "    "
      ],
      "text/plain": [
       "<IPython.core.display.Javascript object>"
      ]
     },
     "metadata": {},
     "output_type": "display_data"
    },
    {
     "data": {
      "image/png": "[encoded data removed]",
      "text/plain": [
       "<Figure size 1440x1440 with 1 Axes>"
      ]
     },
     "metadata": {
      "needs_background": "light"
     },
     "output_type": "display_data"
    }
   ],
   "source": [
    "X = np.linspace(0,5350,5350)\n",
    "plt.figure(figsize=(20,20))\n",
    "plt.plot(X,predicted_y[3000:8350], label='predicted_data')\n",
    "plt.plot(X,y_test[3000:8350], label='real_data')\n",
    "plt.title('percentage of battery over discharge cycle')\n",
    "plt.xlabel('datapoints')\n",
    "plt.ylabel('percentage of battery')\n",
    "plt.legend()\n",
    "plt.show()"
   ]
  },
  {
   "cell_type": "code",
   "execution_count": 172,
   "id": "cb03f379",
   "metadata": {
    "ExecuteTime": {
     "end_time": "2021-09-30T12:11:56.586324Z",
     "start_time": "2021-09-30T12:11:56.577724Z"
    }
   },
   "outputs": [
    {
     "data": {
      "text/plain": [
       "380802"
      ]
     },
     "execution_count": 172,
     "metadata": {},
     "output_type": "execute_result"
    }
   ],
   "source": [
    "len(X_train)"
   ]
  },
  {
   "cell_type": "code",
   "execution_count": 169,
   "id": "c3596f66",
   "metadata": {
    "ExecuteTime": {
     "end_time": "2021-09-30T12:11:24.787844Z",
     "start_time": "2021-09-30T12:11:24.780457Z"
    }
   },
   "outputs": [],
   "source": [
    "X_train = X_train.to_numpy()"
   ]
  },
  {
   "cell_type": "code",
   "execution_count": 173,
   "id": "ec713c8d",
   "metadata": {
    "ExecuteTime": {
     "end_time": "2021-09-30T12:12:03.925868Z",
     "start_time": "2021-09-30T12:12:03.919189Z"
    }
   },
   "outputs": [],
   "source": [
    "X_train = X_train.reshape(1,380802,4)"
   ]
  },
  {
   "cell_type": "code",
   "execution_count": 179,
   "id": "762c09c2",
   "metadata": {
    "ExecuteTime": {
     "end_time": "2021-09-30T12:13:23.584104Z",
     "start_time": "2021-09-30T12:13:23.580541Z"
    }
   },
   "outputs": [],
   "source": [
    "y_train = y_train.to_numpy().reshape(1,380802,1)"
   ]
  },
  {
   "cell_type": "code",
   "execution_count": 186,
   "id": "879da6cd",
   "metadata": {
    "ExecuteTime": {
     "end_time": "2021-09-30T12:14:39.332857Z",
     "start_time": "2021-09-30T12:14:39.316495Z"
    }
   },
   "outputs": [],
   "source": [
    "from tensorflow.keras.models import Sequential\n",
    "from tensorflow.keras.layers import SimpleRNN, LSTM, GRU\n",
    "\n",
    "data_dim = 16\n",
    "timesteps = 8\n",
    "num_classes = 10\n",
    "\n",
    "###  Simple RNN  ###\n",
    "model2 = Sequential()\n",
    "model2.add(SimpleRNN(units=10, activation='tanh'))  \n",
    "\n",
    "###  LSTM   ###\n",
    "#model3 = Sequential()\n",
    "#model3.add(LSTM(units=10, activation='tanh',input_shape=(timesteps, data_dim)))\n",
    "\n",
    "###  GRU ###\n",
    "#model4 = Sequential()\n",
    "#model4.add(GRU(units=10,input_shape=(1, 4), activation='tanh'))\n",
    "\n",
    "# Compile with 'rmsprop' rather than 'adam' (recommended)\n",
    "model2.compile(loss='mse',\n",
    "              optimizer='rmsprop',\n",
    "              metrics= ['accuracy']) \n",
    "\n",
    "#model3.compile(loss='mse',\n",
    "             # optimizer='rmsprop',\n",
    "             # metrics= ['accuracy'])  \n",
    "\n",
    "#model4.compile(loss='mse',\n",
    "              #optimizer='rmsprop',\n",
    "              #metrics= ['accuracy'])  "
   ]
  },
  {
   "cell_type": "code",
   "execution_count": 196,
   "id": "49ee39a0",
   "metadata": {
    "ExecuteTime": {
     "end_time": "2021-10-01T14:40:55.359936Z",
     "start_time": "2021-10-01T14:40:55.287143Z"
    }
   },
   "outputs": [
    {
     "data": {
      "text/plain": [
       "(380802, 4)"
      ]
     },
     "execution_count": 196,
     "metadata": {},
     "output_type": "execute_result"
    }
   ],
   "source": [
    "X_train.shape"
   ]
  },
  {
   "cell_type": "code",
   "execution_count": 328,
   "id": "74e12795",
   "metadata": {
    "ExecuteTime": {
     "end_time": "2021-10-04T10:03:26.987818Z",
     "start_time": "2021-10-04T10:03:25.256827Z"
    }
   },
   "outputs": [],
   "source": [
    "df = pd.concat(map(pd.read_csv, glob.glob(os.path.join('', \"../raw_data/Test/*.txt\"))))"
   ]
  },
  {
   "cell_type": "code",
   "execution_count": 329,
   "id": "590629bd",
   "metadata": {
    "ExecuteTime": {
     "end_time": "2021-10-04T10:03:28.956375Z",
     "start_time": "2021-10-04T10:03:28.923004Z"
    }
   },
   "outputs": [
    {
     "data": {
      "text/html": [
       "<div>\n",
       "<style scoped>\n",
       "    .dataframe tbody tr th:only-of-type {\n",
       "        vertical-align: middle;\n",
       "    }\n",
       "\n",
       "    .dataframe tbody tr th {\n",
       "        vertical-align: top;\n",
       "    }\n",
       "\n",
       "    .dataframe thead th {\n",
       "        text-align: right;\n",
       "    }\n",
       "</style>\n",
       "<table border=\"1\" class=\"dataframe\">\n",
       "  <thead>\n",
       "    <tr style=\"text-align: right;\">\n",
       "      <th></th>\n",
       "      <th>curr_dens</th>\n",
       "      <th>Volts_tot</th>\n",
       "      <th>Temp_tot</th>\n",
       "      <th>t_tot</th>\n",
       "      <th>SOC_tot</th>\n",
       "    </tr>\n",
       "  </thead>\n",
       "  <tbody>\n",
       "    <tr>\n",
       "      <th>0</th>\n",
       "      <td>-23.538367</td>\n",
       "      <td>3.963454</td>\n",
       "      <td>298.150000</td>\n",
       "      <td>0.0</td>\n",
       "      <td>82.000000</td>\n",
       "    </tr>\n",
       "    <tr>\n",
       "      <th>1</th>\n",
       "      <td>-23.538367</td>\n",
       "      <td>3.963147</td>\n",
       "      <td>298.151811</td>\n",
       "      <td>0.5</td>\n",
       "      <td>81.988816</td>\n",
       "    </tr>\n",
       "    <tr>\n",
       "      <th>2</th>\n",
       "      <td>-23.538367</td>\n",
       "      <td>3.962862</td>\n",
       "      <td>298.153755</td>\n",
       "      <td>1.0</td>\n",
       "      <td>81.977631</td>\n",
       "    </tr>\n",
       "    <tr>\n",
       "      <th>3</th>\n",
       "      <td>-23.538367</td>\n",
       "      <td>3.962591</td>\n",
       "      <td>298.155722</td>\n",
       "      <td>1.5</td>\n",
       "      <td>81.966447</td>\n",
       "    </tr>\n",
       "    <tr>\n",
       "      <th>4</th>\n",
       "      <td>-23.538367</td>\n",
       "      <td>3.962331</td>\n",
       "      <td>298.157708</td>\n",
       "      <td>2.0</td>\n",
       "      <td>81.955263</td>\n",
       "    </tr>\n",
       "    <tr>\n",
       "      <th>...</th>\n",
       "      <td>...</td>\n",
       "      <td>...</td>\n",
       "      <td>...</td>\n",
       "      <td>...</td>\n",
       "      <td>...</td>\n",
       "    </tr>\n",
       "    <tr>\n",
       "      <th>5368</th>\n",
       "      <td>-1.243947</td>\n",
       "      <td>3.759022</td>\n",
       "      <td>299.532912</td>\n",
       "      <td>2684.0</td>\n",
       "      <td>36.857142</td>\n",
       "    </tr>\n",
       "    <tr>\n",
       "      <th>5369</th>\n",
       "      <td>-28.188080</td>\n",
       "      <td>3.715951</td>\n",
       "      <td>299.536224</td>\n",
       "      <td>2684.5</td>\n",
       "      <td>36.843749</td>\n",
       "    </tr>\n",
       "    <tr>\n",
       "      <th>5370</th>\n",
       "      <td>-28.188080</td>\n",
       "      <td>3.715737</td>\n",
       "      <td>299.539873</td>\n",
       "      <td>2685.0</td>\n",
       "      <td>36.830355</td>\n",
       "    </tr>\n",
       "    <tr>\n",
       "      <th>5371</th>\n",
       "      <td>-28.188080</td>\n",
       "      <td>3.715534</td>\n",
       "      <td>299.543545</td>\n",
       "      <td>2685.5</td>\n",
       "      <td>36.816961</td>\n",
       "    </tr>\n",
       "    <tr>\n",
       "      <th>5372</th>\n",
       "      <td>-28.188080</td>\n",
       "      <td>3.715342</td>\n",
       "      <td>299.547239</td>\n",
       "      <td>2686.0</td>\n",
       "      <td>36.803568</td>\n",
       "    </tr>\n",
       "  </tbody>\n",
       "</table>\n",
       "<p>544004 rows × 5 columns</p>\n",
       "</div>"
      ],
      "text/plain": [
       "      curr_dens  Volts_tot    Temp_tot   t_tot    SOC_tot\n",
       "0    -23.538367   3.963454  298.150000     0.0  82.000000\n",
       "1    -23.538367   3.963147  298.151811     0.5  81.988816\n",
       "2    -23.538367   3.962862  298.153755     1.0  81.977631\n",
       "3    -23.538367   3.962591  298.155722     1.5  81.966447\n",
       "4    -23.538367   3.962331  298.157708     2.0  81.955263\n",
       "...         ...        ...         ...     ...        ...\n",
       "5368  -1.243947   3.759022  299.532912  2684.0  36.857142\n",
       "5369 -28.188080   3.715951  299.536224  2684.5  36.843749\n",
       "5370 -28.188080   3.715737  299.539873  2685.0  36.830355\n",
       "5371 -28.188080   3.715534  299.543545  2685.5  36.816961\n",
       "5372 -28.188080   3.715342  299.547239  2686.0  36.803568\n",
       "\n",
       "[544004 rows x 5 columns]"
      ]
     },
     "execution_count": 329,
     "metadata": {},
     "output_type": "execute_result"
    }
   ],
   "source": [
    "df"
   ]
  },
  {
   "cell_type": "code",
   "execution_count": 333,
   "id": "f10834a5",
   "metadata": {
    "ExecuteTime": {
     "end_time": "2021-10-04T10:04:00.792815Z",
     "start_time": "2021-10-04T10:04:00.748191Z"
    }
   },
   "outputs": [],
   "source": [
    "X=df.drop(columns=['SOC_tot'])\n",
    "y = df.SOC_tot\n",
    "X_train, X_test, y_train, y_test = train_test_split(X,y,test_size=0.3, shuffle=False)"
   ]
  },
  {
   "cell_type": "code",
   "execution_count": 308,
   "id": "1c66cad6",
   "metadata": {
    "ExecuteTime": {
     "end_time": "2021-10-04T09:36:17.404988Z",
     "start_time": "2021-10-04T09:36:09.849120Z"
    }
   },
   "outputs": [
    {
     "data": {
      "application/javascript": [
       "\n",
       "        if (window._pyforest_update_imports_cell) { window._pyforest_update_imports_cell('import numpy as np\\nimport tensorflow as tf'); }\n",
       "    "
      ],
      "text/plain": [
       "<IPython.core.display.Javascript object>"
      ]
     },
     "metadata": {},
     "output_type": "display_data"
    },
    {
     "data": {
      "application/javascript": [
       "\n",
       "        if (window._pyforest_update_imports_cell) { window._pyforest_update_imports_cell('import numpy as np\\nimport tensorflow as tf'); }\n",
       "    "
      ],
      "text/plain": [
       "<IPython.core.display.Javascript object>"
      ]
     },
     "metadata": {},
     "output_type": "display_data"
    },
    {
     "data": {
      "application/javascript": [
       "\n",
       "        if (window._pyforest_update_imports_cell) { window._pyforest_update_imports_cell('import numpy as np\\nimport tensorflow as tf'); }\n",
       "    "
      ],
      "text/plain": [
       "<IPython.core.display.Javascript object>"
      ]
     },
     "metadata": {},
     "output_type": "display_data"
    },
    {
     "data": {
      "application/javascript": [
       "\n",
       "        if (window._pyforest_update_imports_cell) { window._pyforest_update_imports_cell('import numpy as np\\nimport tensorflow as tf'); }\n",
       "    "
      ],
      "text/plain": [
       "<IPython.core.display.Javascript object>"
      ]
     },
     "metadata": {},
     "output_type": "display_data"
    },
    {
     "data": {
      "application/javascript": [
       "\n",
       "        if (window._pyforest_update_imports_cell) { window._pyforest_update_imports_cell('import numpy as np\\nimport tensorflow as tf'); }\n",
       "    "
      ],
      "text/plain": [
       "<IPython.core.display.Javascript object>"
      ]
     },
     "metadata": {},
     "output_type": "display_data"
    },
    {
     "data": {
      "application/javascript": [
       "\n",
       "        if (window._pyforest_update_imports_cell) { window._pyforest_update_imports_cell('import numpy as np\\nimport tensorflow as tf'); }\n",
       "    "
      ],
      "text/plain": [
       "<IPython.core.display.Javascript object>"
      ]
     },
     "metadata": {},
     "output_type": "display_data"
    },
    {
     "data": {
      "application/javascript": [
       "\n",
       "        if (window._pyforest_update_imports_cell) { window._pyforest_update_imports_cell('import numpy as np\\nimport tensorflow as tf'); }\n",
       "    "
      ],
      "text/plain": [
       "<IPython.core.display.Javascript object>"
      ]
     },
     "metadata": {},
     "output_type": "display_data"
    },
    {
     "data": {
      "application/javascript": [
       "\n",
       "        if (window._pyforest_update_imports_cell) { window._pyforest_update_imports_cell('import numpy as np\\nimport tensorflow as tf'); }\n",
       "    "
      ],
      "text/plain": [
       "<IPython.core.display.Javascript object>"
      ]
     },
     "metadata": {},
     "output_type": "display_data"
    },
    {
     "data": {
      "application/javascript": [
       "\n",
       "        if (window._pyforest_update_imports_cell) { window._pyforest_update_imports_cell('import numpy as np\\nimport tensorflow as tf'); }\n",
       "    "
      ],
      "text/plain": [
       "<IPython.core.display.Javascript object>"
      ]
     },
     "metadata": {},
     "output_type": "display_data"
    },
    {
     "data": {
      "application/javascript": [
       "\n",
       "        if (window._pyforest_update_imports_cell) { window._pyforest_update_imports_cell('import numpy as np\\nimport tensorflow as tf'); }\n",
       "    "
      ],
      "text/plain": [
       "<IPython.core.display.Javascript object>"
      ]
     },
     "metadata": {},
     "output_type": "display_data"
    },
    {
     "data": {
      "application/javascript": [
       "\n",
       "        if (window._pyforest_update_imports_cell) { window._pyforest_update_imports_cell('import numpy as np\\nimport tensorflow as tf'); }\n",
       "    "
      ],
      "text/plain": [
       "<IPython.core.display.Javascript object>"
      ]
     },
     "metadata": {},
     "output_type": "display_data"
    },
    {
     "data": {
      "application/javascript": [
       "\n",
       "        if (window._pyforest_update_imports_cell) { window._pyforest_update_imports_cell('import numpy as np\\nimport tensorflow as tf'); }\n",
       "    "
      ],
      "text/plain": [
       "<IPython.core.display.Javascript object>"
      ]
     },
     "metadata": {},
     "output_type": "display_data"
    },
    {
     "data": {
      "application/javascript": [
       "\n",
       "        if (window._pyforest_update_imports_cell) { window._pyforest_update_imports_cell('import numpy as np\\nimport tensorflow as tf'); }\n",
       "    "
      ],
      "text/plain": [
       "<IPython.core.display.Javascript object>"
      ]
     },
     "metadata": {},
     "output_type": "display_data"
    },
    {
     "data": {
      "application/javascript": [
       "\n",
       "        if (window._pyforest_update_imports_cell) { window._pyforest_update_imports_cell('import numpy as np\\nimport tensorflow as tf'); }\n",
       "    "
      ],
      "text/plain": [
       "<IPython.core.display.Javascript object>"
      ]
     },
     "metadata": {},
     "output_type": "display_data"
    },
    {
     "data": {
      "application/javascript": [
       "\n",
       "        if (window._pyforest_update_imports_cell) { window._pyforest_update_imports_cell('import numpy as np\\nimport tensorflow as tf'); }\n",
       "    "
      ],
      "text/plain": [
       "<IPython.core.display.Javascript object>"
      ]
     },
     "metadata": {},
     "output_type": "display_data"
    },
    {
     "data": {
      "application/javascript": [
       "\n",
       "        if (window._pyforest_update_imports_cell) { window._pyforest_update_imports_cell('import numpy as np\\nimport tensorflow as tf'); }\n",
       "    "
      ],
      "text/plain": [
       "<IPython.core.display.Javascript object>"
      ]
     },
     "metadata": {},
     "output_type": "display_data"
    },
    {
     "data": {
      "application/javascript": [
       "\n",
       "        if (window._pyforest_update_imports_cell) { window._pyforest_update_imports_cell('import numpy as np\\nimport tensorflow as tf'); }\n",
       "    "
      ],
      "text/plain": [
       "<IPython.core.display.Javascript object>"
      ]
     },
     "metadata": {},
     "output_type": "display_data"
    },
    {
     "data": {
      "application/javascript": [
       "\n",
       "        if (window._pyforest_update_imports_cell) { window._pyforest_update_imports_cell('import numpy as np\\nimport tensorflow as tf'); }\n",
       "    "
      ],
      "text/plain": [
       "<IPython.core.display.Javascript object>"
      ]
     },
     "metadata": {},
     "output_type": "display_data"
    },
    {
     "data": {
      "application/javascript": [
       "\n",
       "        if (window._pyforest_update_imports_cell) { window._pyforest_update_imports_cell('import numpy as np\\nimport tensorflow as tf'); }\n",
       "    "
      ],
      "text/plain": [
       "<IPython.core.display.Javascript object>"
      ]
     },
     "metadata": {},
     "output_type": "display_data"
    },
    {
     "data": {
      "application/javascript": [
       "\n",
       "        if (window._pyforest_update_imports_cell) { window._pyforest_update_imports_cell('import numpy as np\\nimport tensorflow as tf'); }\n",
       "    "
      ],
      "text/plain": [
       "<IPython.core.display.Javascript object>"
      ]
     },
     "metadata": {},
     "output_type": "display_data"
    },
    {
     "data": {
      "application/javascript": [
       "\n",
       "        if (window._pyforest_update_imports_cell) { window._pyforest_update_imports_cell('import numpy as np\\nimport tensorflow as tf'); }\n",
       "    "
      ],
      "text/plain": [
       "<IPython.core.display.Javascript object>"
      ]
     },
     "metadata": {},
     "output_type": "display_data"
    },
    {
     "data": {
      "application/javascript": [
       "\n",
       "        if (window._pyforest_update_imports_cell) { window._pyforest_update_imports_cell('import numpy as np\\nimport tensorflow as tf'); }\n",
       "    "
      ],
      "text/plain": [
       "<IPython.core.display.Javascript object>"
      ]
     },
     "metadata": {},
     "output_type": "display_data"
    },
    {
     "data": {
      "application/javascript": [
       "\n",
       "        if (window._pyforest_update_imports_cell) { window._pyforest_update_imports_cell('import numpy as np\\nimport tensorflow as tf'); }\n",
       "    "
      ],
      "text/plain": [
       "<IPython.core.display.Javascript object>"
      ]
     },
     "metadata": {},
     "output_type": "display_data"
    },
    {
     "data": {
      "application/javascript": [
       "\n",
       "        if (window._pyforest_update_imports_cell) { window._pyforest_update_imports_cell('import numpy as np\\nimport tensorflow as tf'); }\n",
       "    "
      ],
      "text/plain": [
       "<IPython.core.display.Javascript object>"
      ]
     },
     "metadata": {},
     "output_type": "display_data"
    },
    {
     "data": {
      "application/javascript": [
       "\n",
       "        if (window._pyforest_update_imports_cell) { window._pyforest_update_imports_cell('import numpy as np\\nimport tensorflow as tf'); }\n",
       "    "
      ],
      "text/plain": [
       "<IPython.core.display.Javascript object>"
      ]
     },
     "metadata": {},
     "output_type": "display_data"
    },
    {
     "data": {
      "application/javascript": [
       "\n",
       "        if (window._pyforest_update_imports_cell) { window._pyforest_update_imports_cell('import numpy as np\\nimport tensorflow as tf'); }\n",
       "    "
      ],
      "text/plain": [
       "<IPython.core.display.Javascript object>"
      ]
     },
     "metadata": {},
     "output_type": "display_data"
    },
    {
     "data": {
      "application/javascript": [
       "\n",
       "        if (window._pyforest_update_imports_cell) { window._pyforest_update_imports_cell('import numpy as np\\nimport tensorflow as tf'); }\n",
       "    "
      ],
      "text/plain": [
       "<IPython.core.display.Javascript object>"
      ]
     },
     "metadata": {},
     "output_type": "display_data"
    },
    {
     "data": {
      "application/javascript": [
       "\n",
       "        if (window._pyforest_update_imports_cell) { window._pyforest_update_imports_cell('import numpy as np\\nimport tensorflow as tf'); }\n",
       "    "
      ],
      "text/plain": [
       "<IPython.core.display.Javascript object>"
      ]
     },
     "metadata": {},
     "output_type": "display_data"
    },
    {
     "data": {
      "application/javascript": [
       "\n",
       "        if (window._pyforest_update_imports_cell) { window._pyforest_update_imports_cell('import numpy as np\\nimport tensorflow as tf'); }\n",
       "    "
      ],
      "text/plain": [
       "<IPython.core.display.Javascript object>"
      ]
     },
     "metadata": {},
     "output_type": "display_data"
    },
    {
     "data": {
      "application/javascript": [
       "\n",
       "        if (window._pyforest_update_imports_cell) { window._pyforest_update_imports_cell('import numpy as np\\nimport tensorflow as tf'); }\n",
       "    "
      ],
      "text/plain": [
       "<IPython.core.display.Javascript object>"
      ]
     },
     "metadata": {},
     "output_type": "display_data"
    },
    {
     "data": {
      "application/javascript": [
       "\n",
       "        if (window._pyforest_update_imports_cell) { window._pyforest_update_imports_cell('import numpy as np\\nimport tensorflow as tf'); }\n",
       "    "
      ],
      "text/plain": [
       "<IPython.core.display.Javascript object>"
      ]
     },
     "metadata": {},
     "output_type": "display_data"
    },
    {
     "data": {
      "application/javascript": [
       "\n",
       "        if (window._pyforest_update_imports_cell) { window._pyforest_update_imports_cell('import numpy as np\\nimport tensorflow as tf'); }\n",
       "    "
      ],
      "text/plain": [
       "<IPython.core.display.Javascript object>"
      ]
     },
     "metadata": {},
     "output_type": "display_data"
    },
    {
     "data": {
      "application/javascript": [
       "\n",
       "        if (window._pyforest_update_imports_cell) { window._pyforest_update_imports_cell('import numpy as np\\nimport tensorflow as tf'); }\n",
       "    "
      ],
      "text/plain": [
       "<IPython.core.display.Javascript object>"
      ]
     },
     "metadata": {},
     "output_type": "display_data"
    },
    {
     "data": {
      "application/javascript": [
       "\n",
       "        if (window._pyforest_update_imports_cell) { window._pyforest_update_imports_cell('import numpy as np\\nimport tensorflow as tf'); }\n",
       "    "
      ],
      "text/plain": [
       "<IPython.core.display.Javascript object>"
      ]
     },
     "metadata": {},
     "output_type": "display_data"
    },
    {
     "data": {
      "application/javascript": [
       "\n",
       "        if (window._pyforest_update_imports_cell) { window._pyforest_update_imports_cell('import numpy as np\\nimport tensorflow as tf'); }\n",
       "    "
      ],
      "text/plain": [
       "<IPython.core.display.Javascript object>"
      ]
     },
     "metadata": {},
     "output_type": "display_data"
    },
    {
     "data": {
      "application/javascript": [
       "\n",
       "        if (window._pyforest_update_imports_cell) { window._pyforest_update_imports_cell('import numpy as np\\nimport tensorflow as tf'); }\n",
       "    "
      ],
      "text/plain": [
       "<IPython.core.display.Javascript object>"
      ]
     },
     "metadata": {},
     "output_type": "display_data"
    },
    {
     "data": {
      "application/javascript": [
       "\n",
       "        if (window._pyforest_update_imports_cell) { window._pyforest_update_imports_cell('import numpy as np\\nimport tensorflow as tf'); }\n",
       "    "
      ],
      "text/plain": [
       "<IPython.core.display.Javascript object>"
      ]
     },
     "metadata": {},
     "output_type": "display_data"
    },
    {
     "data": {
      "application/javascript": [
       "\n",
       "        if (window._pyforest_update_imports_cell) { window._pyforest_update_imports_cell('import numpy as np\\nimport tensorflow as tf'); }\n",
       "    "
      ],
      "text/plain": [
       "<IPython.core.display.Javascript object>"
      ]
     },
     "metadata": {},
     "output_type": "display_data"
    },
    {
     "data": {
      "application/javascript": [
       "\n",
       "        if (window._pyforest_update_imports_cell) { window._pyforest_update_imports_cell('import numpy as np\\nimport tensorflow as tf'); }\n",
       "    "
      ],
      "text/plain": [
       "<IPython.core.display.Javascript object>"
      ]
     },
     "metadata": {},
     "output_type": "display_data"
    },
    {
     "data": {
      "application/javascript": [
       "\n",
       "        if (window._pyforest_update_imports_cell) { window._pyforest_update_imports_cell('import numpy as np\\nimport tensorflow as tf'); }\n",
       "    "
      ],
      "text/plain": [
       "<IPython.core.display.Javascript object>"
      ]
     },
     "metadata": {},
     "output_type": "display_data"
    },
    {
     "data": {
      "application/javascript": [
       "\n",
       "        if (window._pyforest_update_imports_cell) { window._pyforest_update_imports_cell('import numpy as np\\nimport tensorflow as tf'); }\n",
       "    "
      ],
      "text/plain": [
       "<IPython.core.display.Javascript object>"
      ]
     },
     "metadata": {},
     "output_type": "display_data"
    },
    {
     "data": {
      "application/javascript": [
       "\n",
       "        if (window._pyforest_update_imports_cell) { window._pyforest_update_imports_cell('import numpy as np\\nimport tensorflow as tf'); }\n",
       "    "
      ],
      "text/plain": [
       "<IPython.core.display.Javascript object>"
      ]
     },
     "metadata": {},
     "output_type": "display_data"
    },
    {
     "data": {
      "application/javascript": [
       "\n",
       "        if (window._pyforest_update_imports_cell) { window._pyforest_update_imports_cell('import numpy as np\\nimport tensorflow as tf'); }\n",
       "    "
      ],
      "text/plain": [
       "<IPython.core.display.Javascript object>"
      ]
     },
     "metadata": {},
     "output_type": "display_data"
    },
    {
     "data": {
      "application/javascript": [
       "\n",
       "        if (window._pyforest_update_imports_cell) { window._pyforest_update_imports_cell('import numpy as np\\nimport tensorflow as tf'); }\n",
       "    "
      ],
      "text/plain": [
       "<IPython.core.display.Javascript object>"
      ]
     },
     "metadata": {},
     "output_type": "display_data"
    },
    {
     "data": {
      "application/javascript": [
       "\n",
       "        if (window._pyforest_update_imports_cell) { window._pyforest_update_imports_cell('import numpy as np\\nimport tensorflow as tf'); }\n",
       "    "
      ],
      "text/plain": [
       "<IPython.core.display.Javascript object>"
      ]
     },
     "metadata": {},
     "output_type": "display_data"
    },
    {
     "data": {
      "application/javascript": [
       "\n",
       "        if (window._pyforest_update_imports_cell) { window._pyforest_update_imports_cell('import numpy as np\\nimport tensorflow as tf'); }\n",
       "    "
      ],
      "text/plain": [
       "<IPython.core.display.Javascript object>"
      ]
     },
     "metadata": {},
     "output_type": "display_data"
    },
    {
     "data": {
      "application/javascript": [
       "\n",
       "        if (window._pyforest_update_imports_cell) { window._pyforest_update_imports_cell('import numpy as np\\nimport tensorflow as tf'); }\n",
       "    "
      ],
      "text/plain": [
       "<IPython.core.display.Javascript object>"
      ]
     },
     "metadata": {},
     "output_type": "display_data"
    },
    {
     "data": {
      "application/javascript": [
       "\n",
       "        if (window._pyforest_update_imports_cell) { window._pyforest_update_imports_cell('import numpy as np\\nimport tensorflow as tf'); }\n",
       "    "
      ],
      "text/plain": [
       "<IPython.core.display.Javascript object>"
      ]
     },
     "metadata": {},
     "output_type": "display_data"
    },
    {
     "data": {
      "application/javascript": [
       "\n",
       "        if (window._pyforest_update_imports_cell) { window._pyforest_update_imports_cell('import numpy as np\\nimport tensorflow as tf'); }\n",
       "    "
      ],
      "text/plain": [
       "<IPython.core.display.Javascript object>"
      ]
     },
     "metadata": {},
     "output_type": "display_data"
    },
    {
     "data": {
      "application/javascript": [
       "\n",
       "        if (window._pyforest_update_imports_cell) { window._pyforest_update_imports_cell('import numpy as np\\nimport tensorflow as tf'); }\n",
       "    "
      ],
      "text/plain": [
       "<IPython.core.display.Javascript object>"
      ]
     },
     "metadata": {},
     "output_type": "display_data"
    },
    {
     "data": {
      "application/javascript": [
       "\n",
       "        if (window._pyforest_update_imports_cell) { window._pyforest_update_imports_cell('import numpy as np\\nimport tensorflow as tf'); }\n",
       "    "
      ],
      "text/plain": [
       "<IPython.core.display.Javascript object>"
      ]
     },
     "metadata": {},
     "output_type": "display_data"
    },
    {
     "data": {
      "application/javascript": [
       "\n",
       "        if (window._pyforest_update_imports_cell) { window._pyforest_update_imports_cell('import numpy as np\\nimport tensorflow as tf'); }\n",
       "    "
      ],
      "text/plain": [
       "<IPython.core.display.Javascript object>"
      ]
     },
     "metadata": {},
     "output_type": "display_data"
    },
    {
     "data": {
      "application/javascript": [
       "\n",
       "        if (window._pyforest_update_imports_cell) { window._pyforest_update_imports_cell('import numpy as np\\nimport tensorflow as tf'); }\n",
       "    "
      ],
      "text/plain": [
       "<IPython.core.display.Javascript object>"
      ]
     },
     "metadata": {},
     "output_type": "display_data"
    },
    {
     "data": {
      "application/javascript": [
       "\n",
       "        if (window._pyforest_update_imports_cell) { window._pyforest_update_imports_cell('import numpy as np\\nimport tensorflow as tf'); }\n",
       "    "
      ],
      "text/plain": [
       "<IPython.core.display.Javascript object>"
      ]
     },
     "metadata": {},
     "output_type": "display_data"
    },
    {
     "data": {
      "application/javascript": [
       "\n",
       "        if (window._pyforest_update_imports_cell) { window._pyforest_update_imports_cell('import numpy as np\\nimport tensorflow as tf'); }\n",
       "    "
      ],
      "text/plain": [
       "<IPython.core.display.Javascript object>"
      ]
     },
     "metadata": {},
     "output_type": "display_data"
    },
    {
     "data": {
      "application/javascript": [
       "\n",
       "        if (window._pyforest_update_imports_cell) { window._pyforest_update_imports_cell('import numpy as np\\nimport tensorflow as tf'); }\n",
       "    "
      ],
      "text/plain": [
       "<IPython.core.display.Javascript object>"
      ]
     },
     "metadata": {},
     "output_type": "display_data"
    },
    {
     "data": {
      "application/javascript": [
       "\n",
       "        if (window._pyforest_update_imports_cell) { window._pyforest_update_imports_cell('import numpy as np\\nimport tensorflow as tf'); }\n",
       "    "
      ],
      "text/plain": [
       "<IPython.core.display.Javascript object>"
      ]
     },
     "metadata": {},
     "output_type": "display_data"
    },
    {
     "data": {
      "application/javascript": [
       "\n",
       "        if (window._pyforest_update_imports_cell) { window._pyforest_update_imports_cell('import numpy as np\\nimport tensorflow as tf'); }\n",
       "    "
      ],
      "text/plain": [
       "<IPython.core.display.Javascript object>"
      ]
     },
     "metadata": {},
     "output_type": "display_data"
    },
    {
     "data": {
      "application/javascript": [
       "\n",
       "        if (window._pyforest_update_imports_cell) { window._pyforest_update_imports_cell('import numpy as np\\nimport tensorflow as tf'); }\n",
       "    "
      ],
      "text/plain": [
       "<IPython.core.display.Javascript object>"
      ]
     },
     "metadata": {},
     "output_type": "display_data"
    },
    {
     "data": {
      "application/javascript": [
       "\n",
       "        if (window._pyforest_update_imports_cell) { window._pyforest_update_imports_cell('import numpy as np\\nimport tensorflow as tf'); }\n",
       "    "
      ],
      "text/plain": [
       "<IPython.core.display.Javascript object>"
      ]
     },
     "metadata": {},
     "output_type": "display_data"
    },
    {
     "data": {
      "application/javascript": [
       "\n",
       "        if (window._pyforest_update_imports_cell) { window._pyforest_update_imports_cell('import numpy as np\\nimport tensorflow as tf'); }\n",
       "    "
      ],
      "text/plain": [
       "<IPython.core.display.Javascript object>"
      ]
     },
     "metadata": {},
     "output_type": "display_data"
    },
    {
     "data": {
      "application/javascript": [
       "\n",
       "        if (window._pyforest_update_imports_cell) { window._pyforest_update_imports_cell('import numpy as np\\nimport tensorflow as tf'); }\n",
       "    "
      ],
      "text/plain": [
       "<IPython.core.display.Javascript object>"
      ]
     },
     "metadata": {},
     "output_type": "display_data"
    },
    {
     "data": {
      "application/javascript": [
       "\n",
       "        if (window._pyforest_update_imports_cell) { window._pyforest_update_imports_cell('import numpy as np\\nimport tensorflow as tf'); }\n",
       "    "
      ],
      "text/plain": [
       "<IPython.core.display.Javascript object>"
      ]
     },
     "metadata": {},
     "output_type": "display_data"
    },
    {
     "data": {
      "application/javascript": [
       "\n",
       "        if (window._pyforest_update_imports_cell) { window._pyforest_update_imports_cell('import numpy as np\\nimport tensorflow as tf'); }\n",
       "    "
      ],
      "text/plain": [
       "<IPython.core.display.Javascript object>"
      ]
     },
     "metadata": {},
     "output_type": "display_data"
    },
    {
     "data": {
      "application/javascript": [
       "\n",
       "        if (window._pyforest_update_imports_cell) { window._pyforest_update_imports_cell('import numpy as np\\nimport tensorflow as tf'); }\n",
       "    "
      ],
      "text/plain": [
       "<IPython.core.display.Javascript object>"
      ]
     },
     "metadata": {},
     "output_type": "display_data"
    },
    {
     "data": {
      "application/javascript": [
       "\n",
       "        if (window._pyforest_update_imports_cell) { window._pyforest_update_imports_cell('import numpy as np\\nimport tensorflow as tf'); }\n",
       "    "
      ],
      "text/plain": [
       "<IPython.core.display.Javascript object>"
      ]
     },
     "metadata": {},
     "output_type": "display_data"
    },
    {
     "data": {
      "application/javascript": [
       "\n",
       "        if (window._pyforest_update_imports_cell) { window._pyforest_update_imports_cell('import numpy as np\\nimport tensorflow as tf'); }\n",
       "    "
      ],
      "text/plain": [
       "<IPython.core.display.Javascript object>"
      ]
     },
     "metadata": {},
     "output_type": "display_data"
    },
    {
     "data": {
      "application/javascript": [
       "\n",
       "        if (window._pyforest_update_imports_cell) { window._pyforest_update_imports_cell('import numpy as np\\nimport tensorflow as tf'); }\n",
       "    "
      ],
      "text/plain": [
       "<IPython.core.display.Javascript object>"
      ]
     },
     "metadata": {},
     "output_type": "display_data"
    },
    {
     "data": {
      "application/javascript": [
       "\n",
       "        if (window._pyforest_update_imports_cell) { window._pyforest_update_imports_cell('import numpy as np\\nimport tensorflow as tf'); }\n",
       "    "
      ],
      "text/plain": [
       "<IPython.core.display.Javascript object>"
      ]
     },
     "metadata": {},
     "output_type": "display_data"
    },
    {
     "data": {
      "application/javascript": [
       "\n",
       "        if (window._pyforest_update_imports_cell) { window._pyforest_update_imports_cell('import numpy as np\\nimport tensorflow as tf'); }\n",
       "    "
      ],
      "text/plain": [
       "<IPython.core.display.Javascript object>"
      ]
     },
     "metadata": {},
     "output_type": "display_data"
    },
    {
     "data": {
      "application/javascript": [
       "\n",
       "        if (window._pyforest_update_imports_cell) { window._pyforest_update_imports_cell('import numpy as np\\nimport tensorflow as tf'); }\n",
       "    "
      ],
      "text/plain": [
       "<IPython.core.display.Javascript object>"
      ]
     },
     "metadata": {},
     "output_type": "display_data"
    },
    {
     "data": {
      "application/javascript": [
       "\n",
       "        if (window._pyforest_update_imports_cell) { window._pyforest_update_imports_cell('import numpy as np\\nimport tensorflow as tf'); }\n",
       "    "
      ],
      "text/plain": [
       "<IPython.core.display.Javascript object>"
      ]
     },
     "metadata": {},
     "output_type": "display_data"
    },
    {
     "data": {
      "application/javascript": [
       "\n",
       "        if (window._pyforest_update_imports_cell) { window._pyforest_update_imports_cell('import numpy as np\\nimport tensorflow as tf'); }\n",
       "    "
      ],
      "text/plain": [
       "<IPython.core.display.Javascript object>"
      ]
     },
     "metadata": {},
     "output_type": "display_data"
    },
    {
     "data": {
      "application/javascript": [
       "\n",
       "        if (window._pyforest_update_imports_cell) { window._pyforest_update_imports_cell('import numpy as np\\nimport tensorflow as tf'); }\n",
       "    "
      ],
      "text/plain": [
       "<IPython.core.display.Javascript object>"
      ]
     },
     "metadata": {},
     "output_type": "display_data"
    },
    {
     "data": {
      "application/javascript": [
       "\n",
       "        if (window._pyforest_update_imports_cell) { window._pyforest_update_imports_cell('import numpy as np\\nimport tensorflow as tf'); }\n",
       "    "
      ],
      "text/plain": [
       "<IPython.core.display.Javascript object>"
      ]
     },
     "metadata": {},
     "output_type": "display_data"
    },
    {
     "data": {
      "application/javascript": [
       "\n",
       "        if (window._pyforest_update_imports_cell) { window._pyforest_update_imports_cell('import numpy as np\\nimport tensorflow as tf'); }\n",
       "    "
      ],
      "text/plain": [
       "<IPython.core.display.Javascript object>"
      ]
     },
     "metadata": {},
     "output_type": "display_data"
    },
    {
     "data": {
      "application/javascript": [
       "\n",
       "        if (window._pyforest_update_imports_cell) { window._pyforest_update_imports_cell('import numpy as np\\nimport tensorflow as tf'); }\n",
       "    "
      ],
      "text/plain": [
       "<IPython.core.display.Javascript object>"
      ]
     },
     "metadata": {},
     "output_type": "display_data"
    },
    {
     "data": {
      "application/javascript": [
       "\n",
       "        if (window._pyforest_update_imports_cell) { window._pyforest_update_imports_cell('import numpy as np\\nimport tensorflow as tf'); }\n",
       "    "
      ],
      "text/plain": [
       "<IPython.core.display.Javascript object>"
      ]
     },
     "metadata": {},
     "output_type": "display_data"
    },
    {
     "data": {
      "application/javascript": [
       "\n",
       "        if (window._pyforest_update_imports_cell) { window._pyforest_update_imports_cell('import numpy as np\\nimport tensorflow as tf'); }\n",
       "    "
      ],
      "text/plain": [
       "<IPython.core.display.Javascript object>"
      ]
     },
     "metadata": {},
     "output_type": "display_data"
    },
    {
     "data": {
      "application/javascript": [
       "\n",
       "        if (window._pyforest_update_imports_cell) { window._pyforest_update_imports_cell('import numpy as np\\nimport tensorflow as tf'); }\n",
       "    "
      ],
      "text/plain": [
       "<IPython.core.display.Javascript object>"
      ]
     },
     "metadata": {},
     "output_type": "display_data"
    },
    {
     "data": {
      "application/javascript": [
       "\n",
       "        if (window._pyforest_update_imports_cell) { window._pyforest_update_imports_cell('import numpy as np\\nimport tensorflow as tf'); }\n",
       "    "
      ],
      "text/plain": [
       "<IPython.core.display.Javascript object>"
      ]
     },
     "metadata": {},
     "output_type": "display_data"
    },
    {
     "data": {
      "application/javascript": [
       "\n",
       "        if (window._pyforest_update_imports_cell) { window._pyforest_update_imports_cell('import numpy as np\\nimport tensorflow as tf'); }\n",
       "    "
      ],
      "text/plain": [
       "<IPython.core.display.Javascript object>"
      ]
     },
     "metadata": {},
     "output_type": "display_data"
    },
    {
     "data": {
      "application/javascript": [
       "\n",
       "        if (window._pyforest_update_imports_cell) { window._pyforest_update_imports_cell('import numpy as np\\nimport tensorflow as tf'); }\n",
       "    "
      ],
      "text/plain": [
       "<IPython.core.display.Javascript object>"
      ]
     },
     "metadata": {},
     "output_type": "display_data"
    },
    {
     "data": {
      "application/javascript": [
       "\n",
       "        if (window._pyforest_update_imports_cell) { window._pyforest_update_imports_cell('import numpy as np\\nimport tensorflow as tf'); }\n",
       "    "
      ],
      "text/plain": [
       "<IPython.core.display.Javascript object>"
      ]
     },
     "metadata": {},
     "output_type": "display_data"
    },
    {
     "data": {
      "application/javascript": [
       "\n",
       "        if (window._pyforest_update_imports_cell) { window._pyforest_update_imports_cell('import numpy as np\\nimport tensorflow as tf'); }\n",
       "    "
      ],
      "text/plain": [
       "<IPython.core.display.Javascript object>"
      ]
     },
     "metadata": {},
     "output_type": "display_data"
    },
    {
     "data": {
      "application/javascript": [
       "\n",
       "        if (window._pyforest_update_imports_cell) { window._pyforest_update_imports_cell('import numpy as np\\nimport tensorflow as tf'); }\n",
       "    "
      ],
      "text/plain": [
       "<IPython.core.display.Javascript object>"
      ]
     },
     "metadata": {},
     "output_type": "display_data"
    },
    {
     "data": {
      "application/javascript": [
       "\n",
       "        if (window._pyforest_update_imports_cell) { window._pyforest_update_imports_cell('import numpy as np\\nimport tensorflow as tf'); }\n",
       "    "
      ],
      "text/plain": [
       "<IPython.core.display.Javascript object>"
      ]
     },
     "metadata": {},
     "output_type": "display_data"
    },
    {
     "data": {
      "application/javascript": [
       "\n",
       "        if (window._pyforest_update_imports_cell) { window._pyforest_update_imports_cell('import numpy as np\\nimport tensorflow as tf'); }\n",
       "    "
      ],
      "text/plain": [
       "<IPython.core.display.Javascript object>"
      ]
     },
     "metadata": {},
     "output_type": "display_data"
    },
    {
     "data": {
      "application/javascript": [
       "\n",
       "        if (window._pyforest_update_imports_cell) { window._pyforest_update_imports_cell('import numpy as np\\nimport tensorflow as tf'); }\n",
       "    "
      ],
      "text/plain": [
       "<IPython.core.display.Javascript object>"
      ]
     },
     "metadata": {},
     "output_type": "display_data"
    },
    {
     "data": {
      "application/javascript": [
       "\n",
       "        if (window._pyforest_update_imports_cell) { window._pyforest_update_imports_cell('import numpy as np\\nimport tensorflow as tf'); }\n",
       "    "
      ],
      "text/plain": [
       "<IPython.core.display.Javascript object>"
      ]
     },
     "metadata": {},
     "output_type": "display_data"
    },
    {
     "data": {
      "application/javascript": [
       "\n",
       "        if (window._pyforest_update_imports_cell) { window._pyforest_update_imports_cell('import numpy as np\\nimport tensorflow as tf'); }\n",
       "    "
      ],
      "text/plain": [
       "<IPython.core.display.Javascript object>"
      ]
     },
     "metadata": {},
     "output_type": "display_data"
    },
    {
     "data": {
      "application/javascript": [
       "\n",
       "        if (window._pyforest_update_imports_cell) { window._pyforest_update_imports_cell('import numpy as np\\nimport tensorflow as tf'); }\n",
       "    "
      ],
      "text/plain": [
       "<IPython.core.display.Javascript object>"
      ]
     },
     "metadata": {},
     "output_type": "display_data"
    },
    {
     "data": {
      "application/javascript": [
       "\n",
       "        if (window._pyforest_update_imports_cell) { window._pyforest_update_imports_cell('import numpy as np\\nimport tensorflow as tf'); }\n",
       "    "
      ],
      "text/plain": [
       "<IPython.core.display.Javascript object>"
      ]
     },
     "metadata": {},
     "output_type": "display_data"
    },
    {
     "data": {
      "application/javascript": [
       "\n",
       "        if (window._pyforest_update_imports_cell) { window._pyforest_update_imports_cell('import numpy as np\\nimport tensorflow as tf'); }\n",
       "    "
      ],
      "text/plain": [
       "<IPython.core.display.Javascript object>"
      ]
     },
     "metadata": {},
     "output_type": "display_data"
    },
    {
     "data": {
      "application/javascript": [
       "\n",
       "        if (window._pyforest_update_imports_cell) { window._pyforest_update_imports_cell('import numpy as np\\nimport tensorflow as tf'); }\n",
       "    "
      ],
      "text/plain": [
       "<IPython.core.display.Javascript object>"
      ]
     },
     "metadata": {},
     "output_type": "display_data"
    },
    {
     "data": {
      "application/javascript": [
       "\n",
       "        if (window._pyforest_update_imports_cell) { window._pyforest_update_imports_cell('import numpy as np\\nimport tensorflow as tf'); }\n",
       "    "
      ],
      "text/plain": [
       "<IPython.core.display.Javascript object>"
      ]
     },
     "metadata": {},
     "output_type": "display_data"
    },
    {
     "data": {
      "application/javascript": [
       "\n",
       "        if (window._pyforest_update_imports_cell) { window._pyforest_update_imports_cell('import numpy as np\\nimport tensorflow as tf'); }\n",
       "    "
      ],
      "text/plain": [
       "<IPython.core.display.Javascript object>"
      ]
     },
     "metadata": {},
     "output_type": "display_data"
    },
    {
     "data": {
      "application/javascript": [
       "\n",
       "        if (window._pyforest_update_imports_cell) { window._pyforest_update_imports_cell('import numpy as np\\nimport tensorflow as tf'); }\n",
       "    "
      ],
      "text/plain": [
       "<IPython.core.display.Javascript object>"
      ]
     },
     "metadata": {},
     "output_type": "display_data"
    },
    {
     "data": {
      "application/javascript": [
       "\n",
       "        if (window._pyforest_update_imports_cell) { window._pyforest_update_imports_cell('import numpy as np\\nimport tensorflow as tf'); }\n",
       "    "
      ],
      "text/plain": [
       "<IPython.core.display.Javascript object>"
      ]
     },
     "metadata": {},
     "output_type": "display_data"
    },
    {
     "data": {
      "application/javascript": [
       "\n",
       "        if (window._pyforest_update_imports_cell) { window._pyforest_update_imports_cell('import numpy as np\\nimport tensorflow as tf'); }\n",
       "    "
      ],
      "text/plain": [
       "<IPython.core.display.Javascript object>"
      ]
     },
     "metadata": {},
     "output_type": "display_data"
    },
    {
     "data": {
      "application/javascript": [
       "\n",
       "        if (window._pyforest_update_imports_cell) { window._pyforest_update_imports_cell('import numpy as np\\nimport tensorflow as tf'); }\n",
       "    "
      ],
      "text/plain": [
       "<IPython.core.display.Javascript object>"
      ]
     },
     "metadata": {},
     "output_type": "display_data"
    },
    {
     "data": {
      "application/javascript": [
       "\n",
       "        if (window._pyforest_update_imports_cell) { window._pyforest_update_imports_cell('import numpy as np\\nimport tensorflow as tf'); }\n",
       "    "
      ],
      "text/plain": [
       "<IPython.core.display.Javascript object>"
      ]
     },
     "metadata": {},
     "output_type": "display_data"
    },
    {
     "data": {
      "application/javascript": [
       "\n",
       "        if (window._pyforest_update_imports_cell) { window._pyforest_update_imports_cell('import numpy as np\\nimport tensorflow as tf'); }\n",
       "    "
      ],
      "text/plain": [
       "<IPython.core.display.Javascript object>"
      ]
     },
     "metadata": {},
     "output_type": "display_data"
    },
    {
     "data": {
      "application/javascript": [
       "\n",
       "        if (window._pyforest_update_imports_cell) { window._pyforest_update_imports_cell('import numpy as np\\nimport tensorflow as tf'); }\n",
       "    "
      ],
      "text/plain": [
       "<IPython.core.display.Javascript object>"
      ]
     },
     "metadata": {},
     "output_type": "display_data"
    },
    {
     "data": {
      "application/javascript": [
       "\n",
       "        if (window._pyforest_update_imports_cell) { window._pyforest_update_imports_cell('import numpy as np\\nimport tensorflow as tf'); }\n",
       "    "
      ],
      "text/plain": [
       "<IPython.core.display.Javascript object>"
      ]
     },
     "metadata": {},
     "output_type": "display_data"
    },
    {
     "data": {
      "application/javascript": [
       "\n",
       "        if (window._pyforest_update_imports_cell) { window._pyforest_update_imports_cell('import numpy as np\\nimport tensorflow as tf'); }\n",
       "    "
      ],
      "text/plain": [
       "<IPython.core.display.Javascript object>"
      ]
     },
     "metadata": {},
     "output_type": "display_data"
    },
    {
     "data": {
      "application/javascript": [
       "\n",
       "        if (window._pyforest_update_imports_cell) { window._pyforest_update_imports_cell('import numpy as np\\nimport tensorflow as tf'); }\n",
       "    "
      ],
      "text/plain": [
       "<IPython.core.display.Javascript object>"
      ]
     },
     "metadata": {},
     "output_type": "display_data"
    },
    {
     "data": {
      "application/javascript": [
       "\n",
       "        if (window._pyforest_update_imports_cell) { window._pyforest_update_imports_cell('import numpy as np\\nimport tensorflow as tf'); }\n",
       "    "
      ],
      "text/plain": [
       "<IPython.core.display.Javascript object>"
      ]
     },
     "metadata": {},
     "output_type": "display_data"
    },
    {
     "data": {
      "application/javascript": [
       "\n",
       "        if (window._pyforest_update_imports_cell) { window._pyforest_update_imports_cell('import numpy as np\\nimport tensorflow as tf'); }\n",
       "    "
      ],
      "text/plain": [
       "<IPython.core.display.Javascript object>"
      ]
     },
     "metadata": {},
     "output_type": "display_data"
    },
    {
     "data": {
      "application/javascript": [
       "\n",
       "        if (window._pyforest_update_imports_cell) { window._pyforest_update_imports_cell('import numpy as np\\nimport tensorflow as tf'); }\n",
       "    "
      ],
      "text/plain": [
       "<IPython.core.display.Javascript object>"
      ]
     },
     "metadata": {},
     "output_type": "display_data"
    },
    {
     "data": {
      "application/javascript": [
       "\n",
       "        if (window._pyforest_update_imports_cell) { window._pyforest_update_imports_cell('import numpy as np\\nimport tensorflow as tf'); }\n",
       "    "
      ],
      "text/plain": [
       "<IPython.core.display.Javascript object>"
      ]
     },
     "metadata": {},
     "output_type": "display_data"
    },
    {
     "data": {
      "application/javascript": [
       "\n",
       "        if (window._pyforest_update_imports_cell) { window._pyforest_update_imports_cell('import numpy as np\\nimport tensorflow as tf'); }\n",
       "    "
      ],
      "text/plain": [
       "<IPython.core.display.Javascript object>"
      ]
     },
     "metadata": {},
     "output_type": "display_data"
    },
    {
     "data": {
      "application/javascript": [
       "\n",
       "        if (window._pyforest_update_imports_cell) { window._pyforest_update_imports_cell('import numpy as np\\nimport tensorflow as tf'); }\n",
       "    "
      ],
      "text/plain": [
       "<IPython.core.display.Javascript object>"
      ]
     },
     "metadata": {},
     "output_type": "display_data"
    },
    {
     "data": {
      "application/javascript": [
       "\n",
       "        if (window._pyforest_update_imports_cell) { window._pyforest_update_imports_cell('import numpy as np\\nimport tensorflow as tf'); }\n",
       "    "
      ],
      "text/plain": [
       "<IPython.core.display.Javascript object>"
      ]
     },
     "metadata": {},
     "output_type": "display_data"
    },
    {
     "data": {
      "application/javascript": [
       "\n",
       "        if (window._pyforest_update_imports_cell) { window._pyforest_update_imports_cell('import numpy as np\\nimport tensorflow as tf'); }\n",
       "    "
      ],
      "text/plain": [
       "<IPython.core.display.Javascript object>"
      ]
     },
     "metadata": {},
     "output_type": "display_data"
    },
    {
     "data": {
      "application/javascript": [
       "\n",
       "        if (window._pyforest_update_imports_cell) { window._pyforest_update_imports_cell('import numpy as np\\nimport tensorflow as tf'); }\n",
       "    "
      ],
      "text/plain": [
       "<IPython.core.display.Javascript object>"
      ]
     },
     "metadata": {},
     "output_type": "display_data"
    },
    {
     "data": {
      "application/javascript": [
       "\n",
       "        if (window._pyforest_update_imports_cell) { window._pyforest_update_imports_cell('import numpy as np\\nimport tensorflow as tf'); }\n",
       "    "
      ],
      "text/plain": [
       "<IPython.core.display.Javascript object>"
      ]
     },
     "metadata": {},
     "output_type": "display_data"
    },
    {
     "data": {
      "application/javascript": [
       "\n",
       "        if (window._pyforest_update_imports_cell) { window._pyforest_update_imports_cell('import numpy as np\\nimport tensorflow as tf'); }\n",
       "    "
      ],
      "text/plain": [
       "<IPython.core.display.Javascript object>"
      ]
     },
     "metadata": {},
     "output_type": "display_data"
    },
    {
     "data": {
      "application/javascript": [
       "\n",
       "        if (window._pyforest_update_imports_cell) { window._pyforest_update_imports_cell('import numpy as np\\nimport tensorflow as tf'); }\n",
       "    "
      ],
      "text/plain": [
       "<IPython.core.display.Javascript object>"
      ]
     },
     "metadata": {},
     "output_type": "display_data"
    },
    {
     "data": {
      "application/javascript": [
       "\n",
       "        if (window._pyforest_update_imports_cell) { window._pyforest_update_imports_cell('import numpy as np\\nimport tensorflow as tf'); }\n",
       "    "
      ],
      "text/plain": [
       "<IPython.core.display.Javascript object>"
      ]
     },
     "metadata": {},
     "output_type": "display_data"
    },
    {
     "data": {
      "application/javascript": [
       "\n",
       "        if (window._pyforest_update_imports_cell) { window._pyforest_update_imports_cell('import numpy as np\\nimport tensorflow as tf'); }\n",
       "    "
      ],
      "text/plain": [
       "<IPython.core.display.Javascript object>"
      ]
     },
     "metadata": {},
     "output_type": "display_data"
    },
    {
     "data": {
      "application/javascript": [
       "\n",
       "        if (window._pyforest_update_imports_cell) { window._pyforest_update_imports_cell('import numpy as np\\nimport tensorflow as tf'); }\n",
       "    "
      ],
      "text/plain": [
       "<IPython.core.display.Javascript object>"
      ]
     },
     "metadata": {},
     "output_type": "display_data"
    },
    {
     "data": {
      "application/javascript": [
       "\n",
       "        if (window._pyforest_update_imports_cell) { window._pyforest_update_imports_cell('import numpy as np\\nimport tensorflow as tf'); }\n",
       "    "
      ],
      "text/plain": [
       "<IPython.core.display.Javascript object>"
      ]
     },
     "metadata": {},
     "output_type": "display_data"
    },
    {
     "data": {
      "application/javascript": [
       "\n",
       "        if (window._pyforest_update_imports_cell) { window._pyforest_update_imports_cell('import numpy as np\\nimport tensorflow as tf'); }\n",
       "    "
      ],
      "text/plain": [
       "<IPython.core.display.Javascript object>"
      ]
     },
     "metadata": {},
     "output_type": "display_data"
    },
    {
     "data": {
      "application/javascript": [
       "\n",
       "        if (window._pyforest_update_imports_cell) { window._pyforest_update_imports_cell('import numpy as np\\nimport tensorflow as tf'); }\n",
       "    "
      ],
      "text/plain": [
       "<IPython.core.display.Javascript object>"
      ]
     },
     "metadata": {},
     "output_type": "display_data"
    },
    {
     "data": {
      "application/javascript": [
       "\n",
       "        if (window._pyforest_update_imports_cell) { window._pyforest_update_imports_cell('import numpy as np\\nimport tensorflow as tf'); }\n",
       "    "
      ],
      "text/plain": [
       "<IPython.core.display.Javascript object>"
      ]
     },
     "metadata": {},
     "output_type": "display_data"
    },
    {
     "data": {
      "application/javascript": [
       "\n",
       "        if (window._pyforest_update_imports_cell) { window._pyforest_update_imports_cell('import numpy as np\\nimport tensorflow as tf'); }\n",
       "    "
      ],
      "text/plain": [
       "<IPython.core.display.Javascript object>"
      ]
     },
     "metadata": {},
     "output_type": "display_data"
    },
    {
     "data": {
      "application/javascript": [
       "\n",
       "        if (window._pyforest_update_imports_cell) { window._pyforest_update_imports_cell('import numpy as np\\nimport tensorflow as tf'); }\n",
       "    "
      ],
      "text/plain": [
       "<IPython.core.display.Javascript object>"
      ]
     },
     "metadata": {},
     "output_type": "display_data"
    },
    {
     "data": {
      "application/javascript": [
       "\n",
       "        if (window._pyforest_update_imports_cell) { window._pyforest_update_imports_cell('import numpy as np\\nimport tensorflow as tf'); }\n",
       "    "
      ],
      "text/plain": [
       "<IPython.core.display.Javascript object>"
      ]
     },
     "metadata": {},
     "output_type": "display_data"
    },
    {
     "data": {
      "application/javascript": [
       "\n",
       "        if (window._pyforest_update_imports_cell) { window._pyforest_update_imports_cell('import numpy as np\\nimport tensorflow as tf'); }\n",
       "    "
      ],
      "text/plain": [
       "<IPython.core.display.Javascript object>"
      ]
     },
     "metadata": {},
     "output_type": "display_data"
    },
    {
     "data": {
      "application/javascript": [
       "\n",
       "        if (window._pyforest_update_imports_cell) { window._pyforest_update_imports_cell('import numpy as np\\nimport tensorflow as tf'); }\n",
       "    "
      ],
      "text/plain": [
       "<IPython.core.display.Javascript object>"
      ]
     },
     "metadata": {},
     "output_type": "display_data"
    },
    {
     "data": {
      "application/javascript": [
       "\n",
       "        if (window._pyforest_update_imports_cell) { window._pyforest_update_imports_cell('import numpy as np\\nimport tensorflow as tf'); }\n",
       "    "
      ],
      "text/plain": [
       "<IPython.core.display.Javascript object>"
      ]
     },
     "metadata": {},
     "output_type": "display_data"
    },
    {
     "data": {
      "application/javascript": [
       "\n",
       "        if (window._pyforest_update_imports_cell) { window._pyforest_update_imports_cell('import numpy as np\\nimport tensorflow as tf'); }\n",
       "    "
      ],
      "text/plain": [
       "<IPython.core.display.Javascript object>"
      ]
     },
     "metadata": {},
     "output_type": "display_data"
    },
    {
     "data": {
      "application/javascript": [
       "\n",
       "        if (window._pyforest_update_imports_cell) { window._pyforest_update_imports_cell('import numpy as np\\nimport tensorflow as tf'); }\n",
       "    "
      ],
      "text/plain": [
       "<IPython.core.display.Javascript object>"
      ]
     },
     "metadata": {},
     "output_type": "display_data"
    },
    {
     "data": {
      "application/javascript": [
       "\n",
       "        if (window._pyforest_update_imports_cell) { window._pyforest_update_imports_cell('import numpy as np\\nimport tensorflow as tf'); }\n",
       "    "
      ],
      "text/plain": [
       "<IPython.core.display.Javascript object>"
      ]
     },
     "metadata": {},
     "output_type": "display_data"
    },
    {
     "data": {
      "application/javascript": [
       "\n",
       "        if (window._pyforest_update_imports_cell) { window._pyforest_update_imports_cell('import numpy as np\\nimport tensorflow as tf'); }\n",
       "    "
      ],
      "text/plain": [
       "<IPython.core.display.Javascript object>"
      ]
     },
     "metadata": {},
     "output_type": "display_data"
    },
    {
     "data": {
      "application/javascript": [
       "\n",
       "        if (window._pyforest_update_imports_cell) { window._pyforest_update_imports_cell('import numpy as np\\nimport tensorflow as tf'); }\n",
       "    "
      ],
      "text/plain": [
       "<IPython.core.display.Javascript object>"
      ]
     },
     "metadata": {},
     "output_type": "display_data"
    },
    {
     "data": {
      "application/javascript": [
       "\n",
       "        if (window._pyforest_update_imports_cell) { window._pyforest_update_imports_cell('import numpy as np\\nimport tensorflow as tf'); }\n",
       "    "
      ],
      "text/plain": [
       "<IPython.core.display.Javascript object>"
      ]
     },
     "metadata": {},
     "output_type": "display_data"
    },
    {
     "data": {
      "application/javascript": [
       "\n",
       "        if (window._pyforest_update_imports_cell) { window._pyforest_update_imports_cell('import numpy as np\\nimport tensorflow as tf'); }\n",
       "    "
      ],
      "text/plain": [
       "<IPython.core.display.Javascript object>"
      ]
     },
     "metadata": {},
     "output_type": "display_data"
    },
    {
     "data": {
      "application/javascript": [
       "\n",
       "        if (window._pyforest_update_imports_cell) { window._pyforest_update_imports_cell('import numpy as np\\nimport tensorflow as tf'); }\n",
       "    "
      ],
      "text/plain": [
       "<IPython.core.display.Javascript object>"
      ]
     },
     "metadata": {},
     "output_type": "display_data"
    },
    {
     "data": {
      "application/javascript": [
       "\n",
       "        if (window._pyforest_update_imports_cell) { window._pyforest_update_imports_cell('import numpy as np\\nimport tensorflow as tf'); }\n",
       "    "
      ],
      "text/plain": [
       "<IPython.core.display.Javascript object>"
      ]
     },
     "metadata": {},
     "output_type": "display_data"
    },
    {
     "data": {
      "application/javascript": [
       "\n",
       "        if (window._pyforest_update_imports_cell) { window._pyforest_update_imports_cell('import numpy as np\\nimport tensorflow as tf'); }\n",
       "    "
      ],
      "text/plain": [
       "<IPython.core.display.Javascript object>"
      ]
     },
     "metadata": {},
     "output_type": "display_data"
    },
    {
     "data": {
      "application/javascript": [
       "\n",
       "        if (window._pyforest_update_imports_cell) { window._pyforest_update_imports_cell('import numpy as np\\nimport tensorflow as tf'); }\n",
       "    "
      ],
      "text/plain": [
       "<IPython.core.display.Javascript object>"
      ]
     },
     "metadata": {},
     "output_type": "display_data"
    },
    {
     "data": {
      "application/javascript": [
       "\n",
       "        if (window._pyforest_update_imports_cell) { window._pyforest_update_imports_cell('import numpy as np\\nimport tensorflow as tf'); }\n",
       "    "
      ],
      "text/plain": [
       "<IPython.core.display.Javascript object>"
      ]
     },
     "metadata": {},
     "output_type": "display_data"
    },
    {
     "data": {
      "application/javascript": [
       "\n",
       "        if (window._pyforest_update_imports_cell) { window._pyforest_update_imports_cell('import numpy as np\\nimport tensorflow as tf'); }\n",
       "    "
      ],
      "text/plain": [
       "<IPython.core.display.Javascript object>"
      ]
     },
     "metadata": {},
     "output_type": "display_data"
    },
    {
     "data": {
      "application/javascript": [
       "\n",
       "        if (window._pyforest_update_imports_cell) { window._pyforest_update_imports_cell('import numpy as np\\nimport tensorflow as tf'); }\n",
       "    "
      ],
      "text/plain": [
       "<IPython.core.display.Javascript object>"
      ]
     },
     "metadata": {},
     "output_type": "display_data"
    },
    {
     "data": {
      "application/javascript": [
       "\n",
       "        if (window._pyforest_update_imports_cell) { window._pyforest_update_imports_cell('import numpy as np\\nimport tensorflow as tf'); }\n",
       "    "
      ],
      "text/plain": [
       "<IPython.core.display.Javascript object>"
      ]
     },
     "metadata": {},
     "output_type": "display_data"
    },
    {
     "data": {
      "application/javascript": [
       "\n",
       "        if (window._pyforest_update_imports_cell) { window._pyforest_update_imports_cell('import numpy as np\\nimport tensorflow as tf'); }\n",
       "    "
      ],
      "text/plain": [
       "<IPython.core.display.Javascript object>"
      ]
     },
     "metadata": {},
     "output_type": "display_data"
    },
    {
     "data": {
      "application/javascript": [
       "\n",
       "        if (window._pyforest_update_imports_cell) { window._pyforest_update_imports_cell('import numpy as np\\nimport tensorflow as tf'); }\n",
       "    "
      ],
      "text/plain": [
       "<IPython.core.display.Javascript object>"
      ]
     },
     "metadata": {},
     "output_type": "display_data"
    },
    {
     "data": {
      "application/javascript": [
       "\n",
       "        if (window._pyforest_update_imports_cell) { window._pyforest_update_imports_cell('import numpy as np\\nimport tensorflow as tf'); }\n",
       "    "
      ],
      "text/plain": [
       "<IPython.core.display.Javascript object>"
      ]
     },
     "metadata": {},
     "output_type": "display_data"
    },
    {
     "data": {
      "application/javascript": [
       "\n",
       "        if (window._pyforest_update_imports_cell) { window._pyforest_update_imports_cell('import numpy as np\\nimport tensorflow as tf'); }\n",
       "    "
      ],
      "text/plain": [
       "<IPython.core.display.Javascript object>"
      ]
     },
     "metadata": {},
     "output_type": "display_data"
    },
    {
     "data": {
      "application/javascript": [
       "\n",
       "        if (window._pyforest_update_imports_cell) { window._pyforest_update_imports_cell('import numpy as np\\nimport tensorflow as tf'); }\n",
       "    "
      ],
      "text/plain": [
       "<IPython.core.display.Javascript object>"
      ]
     },
     "metadata": {},
     "output_type": "display_data"
    },
    {
     "data": {
      "application/javascript": [
       "\n",
       "        if (window._pyforest_update_imports_cell) { window._pyforest_update_imports_cell('import numpy as np\\nimport tensorflow as tf'); }\n",
       "    "
      ],
      "text/plain": [
       "<IPython.core.display.Javascript object>"
      ]
     },
     "metadata": {},
     "output_type": "display_data"
    },
    {
     "data": {
      "application/javascript": [
       "\n",
       "        if (window._pyforest_update_imports_cell) { window._pyforest_update_imports_cell('import numpy as np\\nimport tensorflow as tf'); }\n",
       "    "
      ],
      "text/plain": [
       "<IPython.core.display.Javascript object>"
      ]
     },
     "metadata": {},
     "output_type": "display_data"
    },
    {
     "data": {
      "application/javascript": [
       "\n",
       "        if (window._pyforest_update_imports_cell) { window._pyforest_update_imports_cell('import numpy as np\\nimport tensorflow as tf'); }\n",
       "    "
      ],
      "text/plain": [
       "<IPython.core.display.Javascript object>"
      ]
     },
     "metadata": {},
     "output_type": "display_data"
    },
    {
     "data": {
      "application/javascript": [
       "\n",
       "        if (window._pyforest_update_imports_cell) { window._pyforest_update_imports_cell('import numpy as np\\nimport tensorflow as tf'); }\n",
       "    "
      ],
      "text/plain": [
       "<IPython.core.display.Javascript object>"
      ]
     },
     "metadata": {},
     "output_type": "display_data"
    },
    {
     "data": {
      "application/javascript": [
       "\n",
       "        if (window._pyforest_update_imports_cell) { window._pyforest_update_imports_cell('import numpy as np\\nimport tensorflow as tf'); }\n",
       "    "
      ],
      "text/plain": [
       "<IPython.core.display.Javascript object>"
      ]
     },
     "metadata": {},
     "output_type": "display_data"
    },
    {
     "data": {
      "application/javascript": [
       "\n",
       "        if (window._pyforest_update_imports_cell) { window._pyforest_update_imports_cell('import numpy as np\\nimport tensorflow as tf'); }\n",
       "    "
      ],
      "text/plain": [
       "<IPython.core.display.Javascript object>"
      ]
     },
     "metadata": {},
     "output_type": "display_data"
    },
    {
     "data": {
      "application/javascript": [
       "\n",
       "        if (window._pyforest_update_imports_cell) { window._pyforest_update_imports_cell('import numpy as np\\nimport tensorflow as tf'); }\n",
       "    "
      ],
      "text/plain": [
       "<IPython.core.display.Javascript object>"
      ]
     },
     "metadata": {},
     "output_type": "display_data"
    },
    {
     "data": {
      "application/javascript": [
       "\n",
       "        if (window._pyforest_update_imports_cell) { window._pyforest_update_imports_cell('import numpy as np\\nimport tensorflow as tf'); }\n",
       "    "
      ],
      "text/plain": [
       "<IPython.core.display.Javascript object>"
      ]
     },
     "metadata": {},
     "output_type": "display_data"
    },
    {
     "data": {
      "application/javascript": [
       "\n",
       "        if (window._pyforest_update_imports_cell) { window._pyforest_update_imports_cell('import numpy as np\\nimport tensorflow as tf'); }\n",
       "    "
      ],
      "text/plain": [
       "<IPython.core.display.Javascript object>"
      ]
     },
     "metadata": {},
     "output_type": "display_data"
    },
    {
     "data": {
      "application/javascript": [
       "\n",
       "        if (window._pyforest_update_imports_cell) { window._pyforest_update_imports_cell('import numpy as np\\nimport tensorflow as tf'); }\n",
       "    "
      ],
      "text/plain": [
       "<IPython.core.display.Javascript object>"
      ]
     },
     "metadata": {},
     "output_type": "display_data"
    },
    {
     "data": {
      "application/javascript": [
       "\n",
       "        if (window._pyforest_update_imports_cell) { window._pyforest_update_imports_cell('import numpy as np\\nimport tensorflow as tf'); }\n",
       "    "
      ],
      "text/plain": [
       "<IPython.core.display.Javascript object>"
      ]
     },
     "metadata": {},
     "output_type": "display_data"
    },
    {
     "data": {
      "application/javascript": [
       "\n",
       "        if (window._pyforest_update_imports_cell) { window._pyforest_update_imports_cell('import numpy as np\\nimport tensorflow as tf'); }\n",
       "    "
      ],
      "text/plain": [
       "<IPython.core.display.Javascript object>"
      ]
     },
     "metadata": {},
     "output_type": "display_data"
    },
    {
     "data": {
      "application/javascript": [
       "\n",
       "        if (window._pyforest_update_imports_cell) { window._pyforest_update_imports_cell('import numpy as np\\nimport tensorflow as tf'); }\n",
       "    "
      ],
      "text/plain": [
       "<IPython.core.display.Javascript object>"
      ]
     },
     "metadata": {},
     "output_type": "display_data"
    },
    {
     "data": {
      "application/javascript": [
       "\n",
       "        if (window._pyforest_update_imports_cell) { window._pyforest_update_imports_cell('import numpy as np\\nimport tensorflow as tf'); }\n",
       "    "
      ],
      "text/plain": [
       "<IPython.core.display.Javascript object>"
      ]
     },
     "metadata": {},
     "output_type": "display_data"
    },
    {
     "data": {
      "application/javascript": [
       "\n",
       "        if (window._pyforest_update_imports_cell) { window._pyforest_update_imports_cell('import numpy as np\\nimport tensorflow as tf'); }\n",
       "    "
      ],
      "text/plain": [
       "<IPython.core.display.Javascript object>"
      ]
     },
     "metadata": {},
     "output_type": "display_data"
    },
    {
     "data": {
      "application/javascript": [
       "\n",
       "        if (window._pyforest_update_imports_cell) { window._pyforest_update_imports_cell('import numpy as np\\nimport tensorflow as tf'); }\n",
       "    "
      ],
      "text/plain": [
       "<IPython.core.display.Javascript object>"
      ]
     },
     "metadata": {},
     "output_type": "display_data"
    },
    {
     "data": {
      "application/javascript": [
       "\n",
       "        if (window._pyforest_update_imports_cell) { window._pyforest_update_imports_cell('import numpy as np\\nimport tensorflow as tf'); }\n",
       "    "
      ],
      "text/plain": [
       "<IPython.core.display.Javascript object>"
      ]
     },
     "metadata": {},
     "output_type": "display_data"
    },
    {
     "data": {
      "application/javascript": [
       "\n",
       "        if (window._pyforest_update_imports_cell) { window._pyforest_update_imports_cell('import numpy as np\\nimport tensorflow as tf'); }\n",
       "    "
      ],
      "text/plain": [
       "<IPython.core.display.Javascript object>"
      ]
     },
     "metadata": {},
     "output_type": "display_data"
    },
    {
     "data": {
      "application/javascript": [
       "\n",
       "        if (window._pyforest_update_imports_cell) { window._pyforest_update_imports_cell('import numpy as np\\nimport tensorflow as tf'); }\n",
       "    "
      ],
      "text/plain": [
       "<IPython.core.display.Javascript object>"
      ]
     },
     "metadata": {},
     "output_type": "display_data"
    },
    {
     "data": {
      "application/javascript": [
       "\n",
       "        if (window._pyforest_update_imports_cell) { window._pyforest_update_imports_cell('import numpy as np\\nimport tensorflow as tf'); }\n",
       "    "
      ],
      "text/plain": [
       "<IPython.core.display.Javascript object>"
      ]
     },
     "metadata": {},
     "output_type": "display_data"
    },
    {
     "data": {
      "application/javascript": [
       "\n",
       "        if (window._pyforest_update_imports_cell) { window._pyforest_update_imports_cell('import numpy as np\\nimport tensorflow as tf'); }\n",
       "    "
      ],
      "text/plain": [
       "<IPython.core.display.Javascript object>"
      ]
     },
     "metadata": {},
     "output_type": "display_data"
    },
    {
     "data": {
      "application/javascript": [
       "\n",
       "        if (window._pyforest_update_imports_cell) { window._pyforest_update_imports_cell('import numpy as np\\nimport tensorflow as tf'); }\n",
       "    "
      ],
      "text/plain": [
       "<IPython.core.display.Javascript object>"
      ]
     },
     "metadata": {},
     "output_type": "display_data"
    },
    {
     "data": {
      "application/javascript": [
       "\n",
       "        if (window._pyforest_update_imports_cell) { window._pyforest_update_imports_cell('import numpy as np\\nimport tensorflow as tf'); }\n",
       "    "
      ],
      "text/plain": [
       "<IPython.core.display.Javascript object>"
      ]
     },
     "metadata": {},
     "output_type": "display_data"
    },
    {
     "data": {
      "application/javascript": [
       "\n",
       "        if (window._pyforest_update_imports_cell) { window._pyforest_update_imports_cell('import numpy as np\\nimport tensorflow as tf'); }\n",
       "    "
      ],
      "text/plain": [
       "<IPython.core.display.Javascript object>"
      ]
     },
     "metadata": {},
     "output_type": "display_data"
    },
    {
     "data": {
      "application/javascript": [
       "\n",
       "        if (window._pyforest_update_imports_cell) { window._pyforest_update_imports_cell('import numpy as np\\nimport tensorflow as tf'); }\n",
       "    "
      ],
      "text/plain": [
       "<IPython.core.display.Javascript object>"
      ]
     },
     "metadata": {},
     "output_type": "display_data"
    },
    {
     "data": {
      "application/javascript": [
       "\n",
       "        if (window._pyforest_update_imports_cell) { window._pyforest_update_imports_cell('import numpy as np\\nimport tensorflow as tf'); }\n",
       "    "
      ],
      "text/plain": [
       "<IPython.core.display.Javascript object>"
      ]
     },
     "metadata": {},
     "output_type": "display_data"
    },
    {
     "data": {
      "application/javascript": [
       "\n",
       "        if (window._pyforest_update_imports_cell) { window._pyforest_update_imports_cell('import numpy as np\\nimport tensorflow as tf'); }\n",
       "    "
      ],
      "text/plain": [
       "<IPython.core.display.Javascript object>"
      ]
     },
     "metadata": {},
     "output_type": "display_data"
    },
    {
     "data": {
      "application/javascript": [
       "\n",
       "        if (window._pyforest_update_imports_cell) { window._pyforest_update_imports_cell('import numpy as np\\nimport tensorflow as tf'); }\n",
       "    "
      ],
      "text/plain": [
       "<IPython.core.display.Javascript object>"
      ]
     },
     "metadata": {},
     "output_type": "display_data"
    },
    {
     "data": {
      "application/javascript": [
       "\n",
       "        if (window._pyforest_update_imports_cell) { window._pyforest_update_imports_cell('import numpy as np\\nimport tensorflow as tf'); }\n",
       "    "
      ],
      "text/plain": [
       "<IPython.core.display.Javascript object>"
      ]
     },
     "metadata": {},
     "output_type": "display_data"
    },
    {
     "data": {
      "application/javascript": [
       "\n",
       "        if (window._pyforest_update_imports_cell) { window._pyforest_update_imports_cell('import numpy as np\\nimport tensorflow as tf'); }\n",
       "    "
      ],
      "text/plain": [
       "<IPython.core.display.Javascript object>"
      ]
     },
     "metadata": {},
     "output_type": "display_data"
    },
    {
     "data": {
      "application/javascript": [
       "\n",
       "        if (window._pyforest_update_imports_cell) { window._pyforest_update_imports_cell('import numpy as np\\nimport tensorflow as tf'); }\n",
       "    "
      ],
      "text/plain": [
       "<IPython.core.display.Javascript object>"
      ]
     },
     "metadata": {},
     "output_type": "display_data"
    },
    {
     "data": {
      "application/javascript": [
       "\n",
       "        if (window._pyforest_update_imports_cell) { window._pyforest_update_imports_cell('import numpy as np\\nimport tensorflow as tf'); }\n",
       "    "
      ],
      "text/plain": [
       "<IPython.core.display.Javascript object>"
      ]
     },
     "metadata": {},
     "output_type": "display_data"
    },
    {
     "data": {
      "application/javascript": [
       "\n",
       "        if (window._pyforest_update_imports_cell) { window._pyforest_update_imports_cell('import numpy as np\\nimport tensorflow as tf'); }\n",
       "    "
      ],
      "text/plain": [
       "<IPython.core.display.Javascript object>"
      ]
     },
     "metadata": {},
     "output_type": "display_data"
    },
    {
     "data": {
      "application/javascript": [
       "\n",
       "        if (window._pyforest_update_imports_cell) { window._pyforest_update_imports_cell('import numpy as np\\nimport tensorflow as tf'); }\n",
       "    "
      ],
      "text/plain": [
       "<IPython.core.display.Javascript object>"
      ]
     },
     "metadata": {},
     "output_type": "display_data"
    },
    {
     "data": {
      "application/javascript": [
       "\n",
       "        if (window._pyforest_update_imports_cell) { window._pyforest_update_imports_cell('import numpy as np\\nimport tensorflow as tf'); }\n",
       "    "
      ],
      "text/plain": [
       "<IPython.core.display.Javascript object>"
      ]
     },
     "metadata": {},
     "output_type": "display_data"
    },
    {
     "data": {
      "application/javascript": [
       "\n",
       "        if (window._pyforest_update_imports_cell) { window._pyforest_update_imports_cell('import numpy as np\\nimport tensorflow as tf'); }\n",
       "    "
      ],
      "text/plain": [
       "<IPython.core.display.Javascript object>"
      ]
     },
     "metadata": {},
     "output_type": "display_data"
    },
    {
     "data": {
      "application/javascript": [
       "\n",
       "        if (window._pyforest_update_imports_cell) { window._pyforest_update_imports_cell('import numpy as np\\nimport tensorflow as tf'); }\n",
       "    "
      ],
      "text/plain": [
       "<IPython.core.display.Javascript object>"
      ]
     },
     "metadata": {},
     "output_type": "display_data"
    },
    {
     "data": {
      "application/javascript": [
       "\n",
       "        if (window._pyforest_update_imports_cell) { window._pyforest_update_imports_cell('import numpy as np\\nimport tensorflow as tf'); }\n",
       "    "
      ],
      "text/plain": [
       "<IPython.core.display.Javascript object>"
      ]
     },
     "metadata": {},
     "output_type": "display_data"
    },
    {
     "data": {
      "application/javascript": [
       "\n",
       "        if (window._pyforest_update_imports_cell) { window._pyforest_update_imports_cell('import numpy as np\\nimport tensorflow as tf'); }\n",
       "    "
      ],
      "text/plain": [
       "<IPython.core.display.Javascript object>"
      ]
     },
     "metadata": {},
     "output_type": "display_data"
    },
    {
     "data": {
      "application/javascript": [
       "\n",
       "        if (window._pyforest_update_imports_cell) { window._pyforest_update_imports_cell('import numpy as np\\nimport tensorflow as tf'); }\n",
       "    "
      ],
      "text/plain": [
       "<IPython.core.display.Javascript object>"
      ]
     },
     "metadata": {},
     "output_type": "display_data"
    },
    {
     "data": {
      "application/javascript": [
       "\n",
       "        if (window._pyforest_update_imports_cell) { window._pyforest_update_imports_cell('import numpy as np\\nimport tensorflow as tf'); }\n",
       "    "
      ],
      "text/plain": [
       "<IPython.core.display.Javascript object>"
      ]
     },
     "metadata": {},
     "output_type": "display_data"
    },
    {
     "data": {
      "application/javascript": [
       "\n",
       "        if (window._pyforest_update_imports_cell) { window._pyforest_update_imports_cell('import numpy as np\\nimport tensorflow as tf'); }\n",
       "    "
      ],
      "text/plain": [
       "<IPython.core.display.Javascript object>"
      ]
     },
     "metadata": {},
     "output_type": "display_data"
    },
    {
     "data": {
      "application/javascript": [
       "\n",
       "        if (window._pyforest_update_imports_cell) { window._pyforest_update_imports_cell('import numpy as np\\nimport tensorflow as tf'); }\n",
       "    "
      ],
      "text/plain": [
       "<IPython.core.display.Javascript object>"
      ]
     },
     "metadata": {},
     "output_type": "display_data"
    },
    {
     "data": {
      "application/javascript": [
       "\n",
       "        if (window._pyforest_update_imports_cell) { window._pyforest_update_imports_cell('import numpy as np\\nimport tensorflow as tf'); }\n",
       "    "
      ],
      "text/plain": [
       "<IPython.core.display.Javascript object>"
      ]
     },
     "metadata": {},
     "output_type": "display_data"
    },
    {
     "data": {
      "application/javascript": [
       "\n",
       "        if (window._pyforest_update_imports_cell) { window._pyforest_update_imports_cell('import numpy as np\\nimport tensorflow as tf'); }\n",
       "    "
      ],
      "text/plain": [
       "<IPython.core.display.Javascript object>"
      ]
     },
     "metadata": {},
     "output_type": "display_data"
    },
    {
     "data": {
      "application/javascript": [
       "\n",
       "        if (window._pyforest_update_imports_cell) { window._pyforest_update_imports_cell('import numpy as np\\nimport tensorflow as tf'); }\n",
       "    "
      ],
      "text/plain": [
       "<IPython.core.display.Javascript object>"
      ]
     },
     "metadata": {},
     "output_type": "display_data"
    },
    {
     "data": {
      "application/javascript": [
       "\n",
       "        if (window._pyforest_update_imports_cell) { window._pyforest_update_imports_cell('import numpy as np\\nimport tensorflow as tf'); }\n",
       "    "
      ],
      "text/plain": [
       "<IPython.core.display.Javascript object>"
      ]
     },
     "metadata": {},
     "output_type": "display_data"
    },
    {
     "data": {
      "application/javascript": [
       "\n",
       "        if (window._pyforest_update_imports_cell) { window._pyforest_update_imports_cell('import numpy as np\\nimport tensorflow as tf'); }\n",
       "    "
      ],
      "text/plain": [
       "<IPython.core.display.Javascript object>"
      ]
     },
     "metadata": {},
     "output_type": "display_data"
    },
    {
     "data": {
      "application/javascript": [
       "\n",
       "        if (window._pyforest_update_imports_cell) { window._pyforest_update_imports_cell('import numpy as np\\nimport tensorflow as tf'); }\n",
       "    "
      ],
      "text/plain": [
       "<IPython.core.display.Javascript object>"
      ]
     },
     "metadata": {},
     "output_type": "display_data"
    },
    {
     "data": {
      "application/javascript": [
       "\n",
       "        if (window._pyforest_update_imports_cell) { window._pyforest_update_imports_cell('import numpy as np\\nimport tensorflow as tf'); }\n",
       "    "
      ],
      "text/plain": [
       "<IPython.core.display.Javascript object>"
      ]
     },
     "metadata": {},
     "output_type": "display_data"
    }
   ],
   "source": [
    "from numpy import genfromtxt\n",
    "X = []\n",
    "y = []\n",
    "for i in range(1,101):\n",
    "    my_data = genfromtxt(f'../raw_data/Test/results{i}.txt', delimiter=',')[1:]\n",
    "    temp_x = []\n",
    "    temp_y = []\n",
    "    for i in range(len(my_data)):\n",
    "        temp_x.append(my_data[i][:4])\n",
    "        temp_y.append(my_data[i][4])\n",
    "    X.append(temp_x)\n",
    "    y.append(temp_y)\n",
    "y=np.array([np.array(xi) for xi in y])\n",
    "X=np.array([np.array(xi) for xi in X])"
   ]
  },
  {
   "cell_type": "code",
   "execution_count": 309,
   "id": "2fee7017",
   "metadata": {
    "ExecuteTime": {
     "end_time": "2021-10-04T09:36:17.460026Z",
     "start_time": "2021-10-04T09:36:17.414604Z"
    }
   },
   "outputs": [],
   "source": [
    "X_train, X_test, y_train, y_test = train_test_split(X,y,test_size=0.3, shuffle=False)"
   ]
  },
  {
   "cell_type": "code",
   "execution_count": 331,
   "id": "cdc54385",
   "metadata": {
    "ExecuteTime": {
     "end_time": "2021-10-04T10:03:53.579554Z",
     "start_time": "2021-10-04T10:03:53.557933Z"
    }
   },
   "outputs": [],
   "source": [
    "from tensorflow.keras.models import Sequential\n",
    "from tensorflow.keras.layers import SimpleRNN, LSTM, GRU\n",
    "\n",
    "model2 = Sequential()\n",
    "model2.add(SimpleRNN(units=10, activation='tanh'))  \n",
    "\n",
    "model2.compile(loss='mse',\n",
    "              optimizer='rmsprop',\n",
    "              metrics= ['accuracy']) \n",
    "model2.fit(X_train, y_train,validation_data=(X_test,y_test))"
   ]
  },
  {
   "cell_type": "code",
   "execution_count": 332,
   "id": "914c9c27",
   "metadata": {
    "ExecuteTime": {
     "end_time": "2021-10-04T10:03:54.388392Z",
     "start_time": "2021-10-04T10:03:54.157311Z"
    }
   },
   "outputs": [
    {
     "ename": "ValueError",
     "evalue": "in user code:\n\n    /Users/monmac/.pyenv/versions/3.8.6/envs/lewagon/lib/python3.8/site-packages/tensorflow/python/keras/engine/training.py:855 train_function  *\n        return step_function(self, iterator)\n    /Users/monmac/.pyenv/versions/3.8.6/envs/lewagon/lib/python3.8/site-packages/tensorflow/python/keras/engine/training.py:845 step_function  **\n        outputs = model.distribute_strategy.run(run_step, args=(data,))\n    /Users/monmac/.pyenv/versions/3.8.6/envs/lewagon/lib/python3.8/site-packages/tensorflow/python/distribute/distribute_lib.py:1285 run\n        return self._extended.call_for_each_replica(fn, args=args, kwargs=kwargs)\n    /Users/monmac/.pyenv/versions/3.8.6/envs/lewagon/lib/python3.8/site-packages/tensorflow/python/distribute/distribute_lib.py:2833 call_for_each_replica\n        return self._call_for_each_replica(fn, args, kwargs)\n    /Users/monmac/.pyenv/versions/3.8.6/envs/lewagon/lib/python3.8/site-packages/tensorflow/python/distribute/distribute_lib.py:3608 _call_for_each_replica\n        return fn(*args, **kwargs)\n    /Users/monmac/.pyenv/versions/3.8.6/envs/lewagon/lib/python3.8/site-packages/tensorflow/python/keras/engine/training.py:838 run_step  **\n        outputs = model.train_step(data)\n    /Users/monmac/.pyenv/versions/3.8.6/envs/lewagon/lib/python3.8/site-packages/tensorflow/python/keras/engine/training.py:795 train_step\n        y_pred = self(x, training=True)\n    /Users/monmac/.pyenv/versions/3.8.6/envs/lewagon/lib/python3.8/site-packages/tensorflow/python/keras/engine/base_layer.py:1013 __call__\n        input_spec.assert_input_compatibility(self.input_spec, inputs, self.name)\n    /Users/monmac/.pyenv/versions/3.8.6/envs/lewagon/lib/python3.8/site-packages/tensorflow/python/keras/engine/input_spec.py:215 assert_input_compatibility\n        raise ValueError('Input ' + str(input_index) + ' of layer ' +\n\n    ValueError: Input 0 of layer sequential_18 is incompatible with the layer: expected ndim=3, found ndim=2. Full shape received: (None, 2)\n",
     "output_type": "error",
     "traceback": [
      "\u001b[0;31m---------------------------------------------------------------------------\u001b[0m",
      "\u001b[0;31mValueError\u001b[0m                                Traceback (most recent call last)",
      "\u001b[0;32m/var/folders/p2/6ddwj2812811pbqjm8t6brv80000gn/T/ipykernel_59170/995082846.py\u001b[0m in \u001b[0;36m<module>\u001b[0;34m\u001b[0m\n\u001b[0;32m----> 1\u001b[0;31m \u001b[0mmodel2\u001b[0m\u001b[0;34m.\u001b[0m\u001b[0mfit\u001b[0m\u001b[0;34m(\u001b[0m\u001b[0mX_train\u001b[0m\u001b[0;34m,\u001b[0m \u001b[0my_train\u001b[0m\u001b[0;34m,\u001b[0m\u001b[0mvalidation_data\u001b[0m\u001b[0;34m=\u001b[0m\u001b[0;34m(\u001b[0m\u001b[0mX_test\u001b[0m\u001b[0;34m,\u001b[0m\u001b[0my_test\u001b[0m\u001b[0;34m)\u001b[0m\u001b[0;34m)\u001b[0m\u001b[0;34m\u001b[0m\u001b[0;34m\u001b[0m\u001b[0m\n\u001b[0m\u001b[1;32m      2\u001b[0m \u001b[0;31m#model3.fit(X_train, y_train,validation_data=(X_test,y_test))\u001b[0m\u001b[0;34m\u001b[0m\u001b[0;34m\u001b[0m\u001b[0;34m\u001b[0m\u001b[0m\n\u001b[1;32m      3\u001b[0m \u001b[0;31m#model4.fit(X_train, y_train,validation_data=(X_test,y_test))\u001b[0m\u001b[0;34m\u001b[0m\u001b[0;34m\u001b[0m\u001b[0;34m\u001b[0m\u001b[0m\n",
      "\u001b[0;32m~/.pyenv/versions/3.8.6/envs/lewagon/lib/python3.8/site-packages/tensorflow/python/keras/engine/training.py\u001b[0m in \u001b[0;36mfit\u001b[0;34m(self, x, y, batch_size, epochs, verbose, callbacks, validation_split, validation_data, shuffle, class_weight, sample_weight, initial_epoch, steps_per_epoch, validation_steps, validation_batch_size, validation_freq, max_queue_size, workers, use_multiprocessing)\u001b[0m\n\u001b[1;32m   1181\u001b[0m                 _r=1):\n\u001b[1;32m   1182\u001b[0m               \u001b[0mcallbacks\u001b[0m\u001b[0;34m.\u001b[0m\u001b[0mon_train_batch_begin\u001b[0m\u001b[0;34m(\u001b[0m\u001b[0mstep\u001b[0m\u001b[0;34m)\u001b[0m\u001b[0;34m\u001b[0m\u001b[0;34m\u001b[0m\u001b[0m\n\u001b[0;32m-> 1183\u001b[0;31m               \u001b[0mtmp_logs\u001b[0m \u001b[0;34m=\u001b[0m \u001b[0mself\u001b[0m\u001b[0;34m.\u001b[0m\u001b[0mtrain_function\u001b[0m\u001b[0;34m(\u001b[0m\u001b[0miterator\u001b[0m\u001b[0;34m)\u001b[0m\u001b[0;34m\u001b[0m\u001b[0;34m\u001b[0m\u001b[0m\n\u001b[0m\u001b[1;32m   1184\u001b[0m               \u001b[0;32mif\u001b[0m \u001b[0mdata_handler\u001b[0m\u001b[0;34m.\u001b[0m\u001b[0mshould_sync\u001b[0m\u001b[0;34m:\u001b[0m\u001b[0;34m\u001b[0m\u001b[0;34m\u001b[0m\u001b[0m\n\u001b[1;32m   1185\u001b[0m                 \u001b[0mcontext\u001b[0m\u001b[0;34m.\u001b[0m\u001b[0masync_wait\u001b[0m\u001b[0;34m(\u001b[0m\u001b[0;34m)\u001b[0m\u001b[0;34m\u001b[0m\u001b[0;34m\u001b[0m\u001b[0m\n",
      "\u001b[0;32m~/.pyenv/versions/3.8.6/envs/lewagon/lib/python3.8/site-packages/tensorflow/python/eager/def_function.py\u001b[0m in \u001b[0;36m__call__\u001b[0;34m(self, *args, **kwds)\u001b[0m\n\u001b[1;32m    887\u001b[0m \u001b[0;34m\u001b[0m\u001b[0m\n\u001b[1;32m    888\u001b[0m       \u001b[0;32mwith\u001b[0m \u001b[0mOptionalXlaContext\u001b[0m\u001b[0;34m(\u001b[0m\u001b[0mself\u001b[0m\u001b[0;34m.\u001b[0m\u001b[0m_jit_compile\u001b[0m\u001b[0;34m)\u001b[0m\u001b[0;34m:\u001b[0m\u001b[0;34m\u001b[0m\u001b[0;34m\u001b[0m\u001b[0m\n\u001b[0;32m--> 889\u001b[0;31m         \u001b[0mresult\u001b[0m \u001b[0;34m=\u001b[0m \u001b[0mself\u001b[0m\u001b[0;34m.\u001b[0m\u001b[0m_call\u001b[0m\u001b[0;34m(\u001b[0m\u001b[0;34m*\u001b[0m\u001b[0margs\u001b[0m\u001b[0;34m,\u001b[0m \u001b[0;34m**\u001b[0m\u001b[0mkwds\u001b[0m\u001b[0;34m)\u001b[0m\u001b[0;34m\u001b[0m\u001b[0;34m\u001b[0m\u001b[0m\n\u001b[0m\u001b[1;32m    890\u001b[0m \u001b[0;34m\u001b[0m\u001b[0m\n\u001b[1;32m    891\u001b[0m       \u001b[0mnew_tracing_count\u001b[0m \u001b[0;34m=\u001b[0m \u001b[0mself\u001b[0m\u001b[0;34m.\u001b[0m\u001b[0mexperimental_get_tracing_count\u001b[0m\u001b[0;34m(\u001b[0m\u001b[0;34m)\u001b[0m\u001b[0;34m\u001b[0m\u001b[0;34m\u001b[0m\u001b[0m\n",
      "\u001b[0;32m~/.pyenv/versions/3.8.6/envs/lewagon/lib/python3.8/site-packages/tensorflow/python/eager/def_function.py\u001b[0m in \u001b[0;36m_call\u001b[0;34m(self, *args, **kwds)\u001b[0m\n\u001b[1;32m    931\u001b[0m       \u001b[0;31m# This is the first call of __call__, so we have to initialize.\u001b[0m\u001b[0;34m\u001b[0m\u001b[0;34m\u001b[0m\u001b[0;34m\u001b[0m\u001b[0m\n\u001b[1;32m    932\u001b[0m       \u001b[0minitializers\u001b[0m \u001b[0;34m=\u001b[0m \u001b[0;34m[\u001b[0m\u001b[0;34m]\u001b[0m\u001b[0;34m\u001b[0m\u001b[0;34m\u001b[0m\u001b[0m\n\u001b[0;32m--> 933\u001b[0;31m       \u001b[0mself\u001b[0m\u001b[0;34m.\u001b[0m\u001b[0m_initialize\u001b[0m\u001b[0;34m(\u001b[0m\u001b[0margs\u001b[0m\u001b[0;34m,\u001b[0m \u001b[0mkwds\u001b[0m\u001b[0;34m,\u001b[0m \u001b[0madd_initializers_to\u001b[0m\u001b[0;34m=\u001b[0m\u001b[0minitializers\u001b[0m\u001b[0;34m)\u001b[0m\u001b[0;34m\u001b[0m\u001b[0;34m\u001b[0m\u001b[0m\n\u001b[0m\u001b[1;32m    934\u001b[0m     \u001b[0;32mfinally\u001b[0m\u001b[0;34m:\u001b[0m\u001b[0;34m\u001b[0m\u001b[0;34m\u001b[0m\u001b[0m\n\u001b[1;32m    935\u001b[0m       \u001b[0;31m# At this point we know that the initialization is complete (or less\u001b[0m\u001b[0;34m\u001b[0m\u001b[0;34m\u001b[0m\u001b[0;34m\u001b[0m\u001b[0m\n",
      "\u001b[0;32m~/.pyenv/versions/3.8.6/envs/lewagon/lib/python3.8/site-packages/tensorflow/python/eager/def_function.py\u001b[0m in \u001b[0;36m_initialize\u001b[0;34m(self, args, kwds, add_initializers_to)\u001b[0m\n\u001b[1;32m    761\u001b[0m     \u001b[0mself\u001b[0m\u001b[0;34m.\u001b[0m\u001b[0m_graph_deleter\u001b[0m \u001b[0;34m=\u001b[0m \u001b[0mFunctionDeleter\u001b[0m\u001b[0;34m(\u001b[0m\u001b[0mself\u001b[0m\u001b[0;34m.\u001b[0m\u001b[0m_lifted_initializer_graph\u001b[0m\u001b[0;34m)\u001b[0m\u001b[0;34m\u001b[0m\u001b[0;34m\u001b[0m\u001b[0m\n\u001b[1;32m    762\u001b[0m     self._concrete_stateful_fn = (\n\u001b[0;32m--> 763\u001b[0;31m         self._stateful_fn._get_concrete_function_internal_garbage_collected(  # pylint: disable=protected-access\n\u001b[0m\u001b[1;32m    764\u001b[0m             *args, **kwds))\n\u001b[1;32m    765\u001b[0m \u001b[0;34m\u001b[0m\u001b[0m\n",
      "\u001b[0;32m~/.pyenv/versions/3.8.6/envs/lewagon/lib/python3.8/site-packages/tensorflow/python/eager/function.py\u001b[0m in \u001b[0;36m_get_concrete_function_internal_garbage_collected\u001b[0;34m(self, *args, **kwargs)\u001b[0m\n\u001b[1;32m   3048\u001b[0m       \u001b[0margs\u001b[0m\u001b[0;34m,\u001b[0m \u001b[0mkwargs\u001b[0m \u001b[0;34m=\u001b[0m \u001b[0;32mNone\u001b[0m\u001b[0;34m,\u001b[0m \u001b[0;32mNone\u001b[0m\u001b[0;34m\u001b[0m\u001b[0;34m\u001b[0m\u001b[0m\n\u001b[1;32m   3049\u001b[0m     \u001b[0;32mwith\u001b[0m \u001b[0mself\u001b[0m\u001b[0;34m.\u001b[0m\u001b[0m_lock\u001b[0m\u001b[0;34m:\u001b[0m\u001b[0;34m\u001b[0m\u001b[0;34m\u001b[0m\u001b[0m\n\u001b[0;32m-> 3050\u001b[0;31m       \u001b[0mgraph_function\u001b[0m\u001b[0;34m,\u001b[0m \u001b[0m_\u001b[0m \u001b[0;34m=\u001b[0m \u001b[0mself\u001b[0m\u001b[0;34m.\u001b[0m\u001b[0m_maybe_define_function\u001b[0m\u001b[0;34m(\u001b[0m\u001b[0margs\u001b[0m\u001b[0;34m,\u001b[0m \u001b[0mkwargs\u001b[0m\u001b[0;34m)\u001b[0m\u001b[0;34m\u001b[0m\u001b[0;34m\u001b[0m\u001b[0m\n\u001b[0m\u001b[1;32m   3051\u001b[0m     \u001b[0;32mreturn\u001b[0m \u001b[0mgraph_function\u001b[0m\u001b[0;34m\u001b[0m\u001b[0;34m\u001b[0m\u001b[0m\n\u001b[1;32m   3052\u001b[0m \u001b[0;34m\u001b[0m\u001b[0m\n",
      "\u001b[0;32m~/.pyenv/versions/3.8.6/envs/lewagon/lib/python3.8/site-packages/tensorflow/python/eager/function.py\u001b[0m in \u001b[0;36m_maybe_define_function\u001b[0;34m(self, args, kwargs)\u001b[0m\n\u001b[1;32m   3442\u001b[0m \u001b[0;34m\u001b[0m\u001b[0m\n\u001b[1;32m   3443\u001b[0m           \u001b[0mself\u001b[0m\u001b[0;34m.\u001b[0m\u001b[0m_function_cache\u001b[0m\u001b[0;34m.\u001b[0m\u001b[0mmissed\u001b[0m\u001b[0;34m.\u001b[0m\u001b[0madd\u001b[0m\u001b[0;34m(\u001b[0m\u001b[0mcall_context_key\u001b[0m\u001b[0;34m)\u001b[0m\u001b[0;34m\u001b[0m\u001b[0;34m\u001b[0m\u001b[0m\n\u001b[0;32m-> 3444\u001b[0;31m           \u001b[0mgraph_function\u001b[0m \u001b[0;34m=\u001b[0m \u001b[0mself\u001b[0m\u001b[0;34m.\u001b[0m\u001b[0m_create_graph_function\u001b[0m\u001b[0;34m(\u001b[0m\u001b[0margs\u001b[0m\u001b[0;34m,\u001b[0m \u001b[0mkwargs\u001b[0m\u001b[0;34m)\u001b[0m\u001b[0;34m\u001b[0m\u001b[0;34m\u001b[0m\u001b[0m\n\u001b[0m\u001b[1;32m   3445\u001b[0m           \u001b[0mself\u001b[0m\u001b[0;34m.\u001b[0m\u001b[0m_function_cache\u001b[0m\u001b[0;34m.\u001b[0m\u001b[0mprimary\u001b[0m\u001b[0;34m[\u001b[0m\u001b[0mcache_key\u001b[0m\u001b[0;34m]\u001b[0m \u001b[0;34m=\u001b[0m \u001b[0mgraph_function\u001b[0m\u001b[0;34m\u001b[0m\u001b[0;34m\u001b[0m\u001b[0m\n\u001b[1;32m   3446\u001b[0m \u001b[0;34m\u001b[0m\u001b[0m\n",
      "\u001b[0;32m~/.pyenv/versions/3.8.6/envs/lewagon/lib/python3.8/site-packages/tensorflow/python/eager/function.py\u001b[0m in \u001b[0;36m_create_graph_function\u001b[0;34m(self, args, kwargs, override_flat_arg_shapes)\u001b[0m\n\u001b[1;32m   3277\u001b[0m     \u001b[0marg_names\u001b[0m \u001b[0;34m=\u001b[0m \u001b[0mbase_arg_names\u001b[0m \u001b[0;34m+\u001b[0m \u001b[0mmissing_arg_names\u001b[0m\u001b[0;34m\u001b[0m\u001b[0;34m\u001b[0m\u001b[0m\n\u001b[1;32m   3278\u001b[0m     graph_function = ConcreteFunction(\n\u001b[0;32m-> 3279\u001b[0;31m         func_graph_module.func_graph_from_py_func(\n\u001b[0m\u001b[1;32m   3280\u001b[0m             \u001b[0mself\u001b[0m\u001b[0;34m.\u001b[0m\u001b[0m_name\u001b[0m\u001b[0;34m,\u001b[0m\u001b[0;34m\u001b[0m\u001b[0;34m\u001b[0m\u001b[0m\n\u001b[1;32m   3281\u001b[0m             \u001b[0mself\u001b[0m\u001b[0;34m.\u001b[0m\u001b[0m_python_function\u001b[0m\u001b[0;34m,\u001b[0m\u001b[0;34m\u001b[0m\u001b[0;34m\u001b[0m\u001b[0m\n",
      "\u001b[0;32m~/.pyenv/versions/3.8.6/envs/lewagon/lib/python3.8/site-packages/tensorflow/python/framework/func_graph.py\u001b[0m in \u001b[0;36mfunc_graph_from_py_func\u001b[0;34m(name, python_func, args, kwargs, signature, func_graph, autograph, autograph_options, add_control_dependencies, arg_names, op_return_value, collections, capture_by_value, override_flat_arg_shapes)\u001b[0m\n\u001b[1;32m    997\u001b[0m         \u001b[0m_\u001b[0m\u001b[0;34m,\u001b[0m \u001b[0moriginal_func\u001b[0m \u001b[0;34m=\u001b[0m \u001b[0mtf_decorator\u001b[0m\u001b[0;34m.\u001b[0m\u001b[0munwrap\u001b[0m\u001b[0;34m(\u001b[0m\u001b[0mpython_func\u001b[0m\u001b[0;34m)\u001b[0m\u001b[0;34m\u001b[0m\u001b[0;34m\u001b[0m\u001b[0m\n\u001b[1;32m    998\u001b[0m \u001b[0;34m\u001b[0m\u001b[0m\n\u001b[0;32m--> 999\u001b[0;31m       \u001b[0mfunc_outputs\u001b[0m \u001b[0;34m=\u001b[0m \u001b[0mpython_func\u001b[0m\u001b[0;34m(\u001b[0m\u001b[0;34m*\u001b[0m\u001b[0mfunc_args\u001b[0m\u001b[0;34m,\u001b[0m \u001b[0;34m**\u001b[0m\u001b[0mfunc_kwargs\u001b[0m\u001b[0;34m)\u001b[0m\u001b[0;34m\u001b[0m\u001b[0;34m\u001b[0m\u001b[0m\n\u001b[0m\u001b[1;32m   1000\u001b[0m \u001b[0;34m\u001b[0m\u001b[0m\n\u001b[1;32m   1001\u001b[0m       \u001b[0;31m# invariant: `func_outputs` contains only Tensors, CompositeTensors,\u001b[0m\u001b[0;34m\u001b[0m\u001b[0;34m\u001b[0m\u001b[0;34m\u001b[0m\u001b[0m\n",
      "\u001b[0;32m~/.pyenv/versions/3.8.6/envs/lewagon/lib/python3.8/site-packages/tensorflow/python/eager/def_function.py\u001b[0m in \u001b[0;36mwrapped_fn\u001b[0;34m(*args, **kwds)\u001b[0m\n\u001b[1;32m    670\u001b[0m         \u001b[0;31m# the function a weak reference to itself to avoid a reference cycle.\u001b[0m\u001b[0;34m\u001b[0m\u001b[0;34m\u001b[0m\u001b[0;34m\u001b[0m\u001b[0m\n\u001b[1;32m    671\u001b[0m         \u001b[0;32mwith\u001b[0m \u001b[0mOptionalXlaContext\u001b[0m\u001b[0;34m(\u001b[0m\u001b[0mcompile_with_xla\u001b[0m\u001b[0;34m)\u001b[0m\u001b[0;34m:\u001b[0m\u001b[0;34m\u001b[0m\u001b[0;34m\u001b[0m\u001b[0m\n\u001b[0;32m--> 672\u001b[0;31m           \u001b[0mout\u001b[0m \u001b[0;34m=\u001b[0m \u001b[0mweak_wrapped_fn\u001b[0m\u001b[0;34m(\u001b[0m\u001b[0;34m)\u001b[0m\u001b[0;34m.\u001b[0m\u001b[0m__wrapped__\u001b[0m\u001b[0;34m(\u001b[0m\u001b[0;34m*\u001b[0m\u001b[0margs\u001b[0m\u001b[0;34m,\u001b[0m \u001b[0;34m**\u001b[0m\u001b[0mkwds\u001b[0m\u001b[0;34m)\u001b[0m\u001b[0;34m\u001b[0m\u001b[0;34m\u001b[0m\u001b[0m\n\u001b[0m\u001b[1;32m    673\u001b[0m         \u001b[0;32mreturn\u001b[0m \u001b[0mout\u001b[0m\u001b[0;34m\u001b[0m\u001b[0;34m\u001b[0m\u001b[0m\n\u001b[1;32m    674\u001b[0m \u001b[0;34m\u001b[0m\u001b[0m\n",
      "\u001b[0;32m~/.pyenv/versions/3.8.6/envs/lewagon/lib/python3.8/site-packages/tensorflow/python/framework/func_graph.py\u001b[0m in \u001b[0;36mwrapper\u001b[0;34m(*args, **kwargs)\u001b[0m\n\u001b[1;32m    984\u001b[0m           \u001b[0;32mexcept\u001b[0m \u001b[0mException\u001b[0m \u001b[0;32mas\u001b[0m \u001b[0me\u001b[0m\u001b[0;34m:\u001b[0m  \u001b[0;31m# pylint:disable=broad-except\u001b[0m\u001b[0;34m\u001b[0m\u001b[0;34m\u001b[0m\u001b[0m\n\u001b[1;32m    985\u001b[0m             \u001b[0;32mif\u001b[0m \u001b[0mhasattr\u001b[0m\u001b[0;34m(\u001b[0m\u001b[0me\u001b[0m\u001b[0;34m,\u001b[0m \u001b[0;34m\"ag_error_metadata\"\u001b[0m\u001b[0;34m)\u001b[0m\u001b[0;34m:\u001b[0m\u001b[0;34m\u001b[0m\u001b[0;34m\u001b[0m\u001b[0m\n\u001b[0;32m--> 986\u001b[0;31m               \u001b[0;32mraise\u001b[0m \u001b[0me\u001b[0m\u001b[0;34m.\u001b[0m\u001b[0mag_error_metadata\u001b[0m\u001b[0;34m.\u001b[0m\u001b[0mto_exception\u001b[0m\u001b[0;34m(\u001b[0m\u001b[0me\u001b[0m\u001b[0;34m)\u001b[0m\u001b[0;34m\u001b[0m\u001b[0;34m\u001b[0m\u001b[0m\n\u001b[0m\u001b[1;32m    987\u001b[0m             \u001b[0;32melse\u001b[0m\u001b[0;34m:\u001b[0m\u001b[0;34m\u001b[0m\u001b[0;34m\u001b[0m\u001b[0m\n\u001b[1;32m    988\u001b[0m               \u001b[0;32mraise\u001b[0m\u001b[0;34m\u001b[0m\u001b[0;34m\u001b[0m\u001b[0m\n",
      "\u001b[0;31mValueError\u001b[0m: in user code:\n\n    /Users/monmac/.pyenv/versions/3.8.6/envs/lewagon/lib/python3.8/site-packages/tensorflow/python/keras/engine/training.py:855 train_function  *\n        return step_function(self, iterator)\n    /Users/monmac/.pyenv/versions/3.8.6/envs/lewagon/lib/python3.8/site-packages/tensorflow/python/keras/engine/training.py:845 step_function  **\n        outputs = model.distribute_strategy.run(run_step, args=(data,))\n    /Users/monmac/.pyenv/versions/3.8.6/envs/lewagon/lib/python3.8/site-packages/tensorflow/python/distribute/distribute_lib.py:1285 run\n        return self._extended.call_for_each_replica(fn, args=args, kwargs=kwargs)\n    /Users/monmac/.pyenv/versions/3.8.6/envs/lewagon/lib/python3.8/site-packages/tensorflow/python/distribute/distribute_lib.py:2833 call_for_each_replica\n        return self._call_for_each_replica(fn, args, kwargs)\n    /Users/monmac/.pyenv/versions/3.8.6/envs/lewagon/lib/python3.8/site-packages/tensorflow/python/distribute/distribute_lib.py:3608 _call_for_each_replica\n        return fn(*args, **kwargs)\n    /Users/monmac/.pyenv/versions/3.8.6/envs/lewagon/lib/python3.8/site-packages/tensorflow/python/keras/engine/training.py:838 run_step  **\n        outputs = model.train_step(data)\n    /Users/monmac/.pyenv/versions/3.8.6/envs/lewagon/lib/python3.8/site-packages/tensorflow/python/keras/engine/training.py:795 train_step\n        y_pred = self(x, training=True)\n    /Users/monmac/.pyenv/versions/3.8.6/envs/lewagon/lib/python3.8/site-packages/tensorflow/python/keras/engine/base_layer.py:1013 __call__\n        input_spec.assert_input_compatibility(self.input_spec, inputs, self.name)\n    /Users/monmac/.pyenv/versions/3.8.6/envs/lewagon/lib/python3.8/site-packages/tensorflow/python/keras/engine/input_spec.py:215 assert_input_compatibility\n        raise ValueError('Input ' + str(input_index) + ' of layer ' +\n\n    ValueError: Input 0 of layer sequential_18 is incompatible with the layer: expected ndim=3, found ndim=2. Full shape received: (None, 2)\n"
     ]
    }
   ],
   "source": [
    "model2.fit(X_train, y_train,validation_data=(X_test,y_test))\n",
    "#model3.fit(X_train, y_train,validation_data=(X_test,y_test))\n",
    "#model4.fit(X_train, y_train,validation_data=(X_test,y_test))"
   ]
  },
  {
   "cell_type": "code",
   "execution_count": 324,
   "id": "f503bf5f",
   "metadata": {
    "ExecuteTime": {
     "end_time": "2021-10-04T09:49:31.660641Z",
     "start_time": "2021-10-04T09:49:31.561467Z"
    }
   },
   "outputs": [
    {
     "data": {
      "text/plain": [
       "array([array([[ 2.00422164e+01,  3.98531329e+00,  2.98150000e+02,\n",
       "         0.00000000e+00],\n",
       "       [ 2.00422164e+01,  3.98555732e+00,  2.98149698e+02,\n",
       "         5.00000000e-01],\n",
       "       [ 2.00422164e+01,  3.98578379e+00,  2.98149335e+02,\n",
       "         1.00000000e+00],\n",
       "       ...,\n",
       "       [-1.17774394e+00,  3.81704902e+00,  2.99180265e+02,\n",
       "         2.80100000e+03],\n",
       "       [-1.17774394e+00,  3.81709368e+00,  2.99178036e+02,\n",
       "         2.80150000e+03],\n",
       "       [-1.17774394e+00,  3.81713691e+00,  2.99175812e+02,\n",
       "         2.80200000e+03]]),\n",
       "       array([[-2.35383670e+01,  3.96345359e+00,  2.98150000e+02,\n",
       "         0.00000000e+00],\n",
       "       [-2.35383670e+01,  3.96314670e+00,  2.98151811e+02,\n",
       "         5.00000000e-01],\n",
       "       [-2.35383670e+01,  3.96286239e+00,  2.98153755e+02,\n",
       "         1.00000000e+00],\n",
       "       ...,\n",
       "       [-1.86104653e+01,  3.84839764e+00,  2.98920350e+02,\n",
       "         2.81050000e+03],\n",
       "       [-1.86104653e+01,  3.84826035e+00,  2.98921477e+02,\n",
       "         2.81100000e+03],\n",
       "       [-1.86104653e+01,  3.84812613e+00,  2.98922612e+02,\n",
       "         2.81150000e+03]]),\n",
       "       array([[-4.00980236e+00,  3.90475940e+00,  2.98150000e+02,\n",
       "         0.00000000e+00],\n",
       "       [-4.00980236e+00,  3.90471085e+00,  2.98150358e+02,\n",
       "         5.00000000e-01],\n",
       "       [-4.00980236e+00,  3.90466617e+00,  2.98150740e+02,\n",
       "         1.00000000e+00],\n",
       "       ...,\n",
       "       [-9.67102635e+00,  3.78427774e+00,  2.99213804e+02,\n",
       "         2.68800000e+03],\n",
       "       [-9.67102635e+00,  3.78423620e+00,  2.99212863e+02,\n",
       "         2.68850000e+03],\n",
       "       [-9.67102635e+00,  3.78419632e+00,  2.99211926e+02,\n",
       "         2.68900000e+03]]),\n",
       "       array([[-3.10990037e+00,  3.97522532e+00,  2.98150000e+02,\n",
       "         0.00000000e+00],\n",
       "       [-3.10990037e+00,  3.97518606e+00,  2.98150149e+02,\n",
       "         5.00000000e-01],\n",
       "       [-3.10990037e+00,  3.97514963e+00,  2.98150312e+02,\n",
       "         1.00000000e+00],\n",
       "       ...,\n",
       "       [ 1.57161703e+01,  3.87923647e+00,  2.99138723e+02,\n",
       "         2.71000000e+03],\n",
       "       [-4.03096702e+00,  3.84907539e+00,  2.99136738e+02,\n",
       "         2.71050000e+03],\n",
       "       [-4.03096702e+00,  3.84903147e+00,  2.99134896e+02,\n",
       "         2.71100000e+03]]),\n",
       "       array([[-2.50578675e+00,  3.65841230e+00,  2.98150000e+02,\n",
       "         0.00000000e+00],\n",
       "       [-2.50578675e+00,  3.65837753e+00,  2.98150544e+02,\n",
       "         5.00000000e-01],\n",
       "       [-2.50578675e+00,  3.65834452e+00,  2.98151113e+02,\n",
       "         1.00000000e+00],\n",
       "       ...,\n",
       "       [-4.28165075e+01,  2.89722901e+00,  3.00304845e+02,\n",
       "         1.70501558e+03],\n",
       "       [-4.28165075e+01,  2.89715225e+00,  3.00305039e+02,\n",
       "         1.70502337e+03],\n",
       "       [-4.28165075e+01,  2.89699870e+00,  3.00305491e+02,\n",
       "         1.70503895e+03]]),\n",
       "       array([[ 2.27970081e+01,  3.73871054e+00,  2.98150000e+02,\n",
       "         0.00000000e+00],\n",
       "       [ 2.27970081e+01,  3.73896827e+00,  2.98146918e+02,\n",
       "         5.00000000e-01],\n",
       "       [ 2.27970081e+01,  3.73920970e+00,  2.98143664e+02,\n",
       "         1.00000000e+00],\n",
       "       ...,\n",
       "       [-6.10388422e+00,  3.26138213e+00,  3.00124829e+02,\n",
       "         2.67550000e+03],\n",
       "       [-6.10388422e+00,  3.26120188e+00,  3.00122252e+02,\n",
       "         2.67600000e+03],\n",
       "       [-6.10388422e+00,  3.26102065e+00,  3.00119681e+02,\n",
       "         2.67650000e+03]]),\n",
       "       array([[ 3.43567487e+01,  3.90174513e+00,  2.98150000e+02,\n",
       "         0.00000000e+00],\n",
       "       [ 3.43567487e+01,  3.90212163e+00,  2.98149018e+02,\n",
       "         5.00000000e-01],\n",
       "       [ 3.43567487e+01,  3.90246805e+00,  2.98147894e+02,\n",
       "         1.00000000e+00],\n",
       "       ...,\n",
       "       [-1.26115986e+01,  3.72622541e+00,  2.99422360e+02,\n",
       "         2.73650000e+03],\n",
       "       [-1.26115986e+01,  3.72619801e+00,  2.99421995e+02,\n",
       "         2.73700000e+03],\n",
       "       [-1.26115986e+01,  3.72616604e+00,  2.99421630e+02,\n",
       "         2.73750000e+03]]),\n",
       "       array([[-3.94330196e+01,  3.89780602e+00,  2.98150000e+02,\n",
       "         0.00000000e+00],\n",
       "       [-3.94330196e+01,  3.89729225e+00,  2.98155490e+02,\n",
       "         5.00000000e-01],\n",
       "       [-3.85305330e+01,  3.89824008e+00,  2.98161097e+02,\n",
       "         1.00000000e+00],\n",
       "       ...,\n",
       "       [-1.24950880e+01,  3.79755242e+00,  2.99267703e+02,\n",
       "         2.79800000e+03],\n",
       "       [-1.24950880e+01,  3.79758025e+00,  2.99267361e+02,\n",
       "         2.79850000e+03],\n",
       "       [-1.24950880e+01,  3.79759697e+00,  2.99267008e+02,\n",
       "         2.79900000e+03]]),\n",
       "       array([[-1.64538127e+01,  3.85292974e+00,  2.98150000e+02,\n",
       "         0.00000000e+00],\n",
       "       [-1.64538127e+01,  3.85273184e+00,  2.98152156e+02,\n",
       "         5.00000000e-01],\n",
       "       [-1.64538127e+01,  3.85255056e+00,  2.98154436e+02,\n",
       "         1.00000000e+00],\n",
       "       ...,\n",
       "       [-4.54879580e+00,  3.75623512e+00,  2.99508295e+02,\n",
       "         2.79700000e+03],\n",
       "       [-4.54879580e+00,  3.75624301e+00,  2.99505994e+02,\n",
       "         2.79750000e+03],\n",
       "       [-4.54879580e+00,  3.75625229e+00,  2.99503698e+02,\n",
       "         2.79800000e+03]]),\n",
       "       array([[1.79383264e+01, 3.89099432e+00, 2.98150000e+02, 0.00000000e+00],\n",
       "       [1.79383264e+01, 3.89119737e+00, 2.98148843e+02, 5.00000000e-01],\n",
       "       [1.79383264e+01, 3.89138409e+00, 2.98147598e+02, 1.00000000e+00],\n",
       "       ...,\n",
       "       [1.28685376e+01, 3.79185851e+00, 2.99244179e+02, 2.76100000e+03],\n",
       "       [1.28685376e+01, 3.79200403e+00, 2.99239854e+02, 2.76150000e+03],\n",
       "       [1.28685376e+01, 3.79214501e+00, 2.99235548e+02, 2.76200000e+03]]),\n",
       "       array([[-2.28660491e+01,  3.85346035e+00,  2.98150000e+02,\n",
       "         0.00000000e+00],\n",
       "       [-2.28660491e+01,  3.85318038e+00,  2.98153193e+02,\n",
       "         5.00000000e-01],\n",
       "       [-2.28660491e+01,  3.85292407e+00,  2.98156566e+02,\n",
       "         1.00000000e+00],\n",
       "       ...,\n",
       "       [-3.19101001e+01,  3.72056389e+00,  2.99332425e+02,\n",
       "         2.74500000e+03],\n",
       "       [-3.19101001e+01,  3.72033966e+00,  2.99337452e+02,\n",
       "         2.74550000e+03],\n",
       "       [-3.19101001e+01,  3.72012267e+00,  2.99342500e+02,\n",
       "         2.74600000e+03]]),\n",
       "       array([[-2.20445586e+01,  3.77690623e+00,  2.98150000e+02,\n",
       "         0.00000000e+00],\n",
       "       [-2.20445586e+01,  3.77665440e+00,  2.98153306e+02,\n",
       "         5.00000000e-01],\n",
       "       [-2.20445586e+01,  3.77642565e+00,  2.98156834e+02,\n",
       "         1.00000000e+00],\n",
       "       ...,\n",
       "       [ 1.24231089e+01,  3.72963701e+00,  2.99646388e+02,\n",
       "         2.76900000e+03],\n",
       "       [ 1.24231089e+01,  3.72979387e+00,  2.99640425e+02,\n",
       "         2.76950000e+03],\n",
       "       [ 1.24231089e+01,  3.72994712e+00,  2.99634484e+02,\n",
       "         2.77000000e+03]]),\n",
       "       array([[-9.79059999e+00,  3.72959685e+00,  2.98150000e+02,\n",
       "         0.00000000e+00],\n",
       "       [-9.79059999e+00,  3.72949041e+00,  2.98151601e+02,\n",
       "         5.00000000e-01],\n",
       "       [-9.79059999e+00,  3.72939289e+00,  2.98153305e+02,\n",
       "         1.00000000e+00],\n",
       "       ...,\n",
       "       [-1.59728003e+00,  3.49883416e+00,  2.99720336e+02,\n",
       "         2.73350000e+03],\n",
       "       [-1.59728003e+00,  3.49886490e+00,  2.99716929e+02,\n",
       "         2.73400000e+03],\n",
       "       [-1.59728003e+00,  3.49889485e+00,  2.99713530e+02,\n",
       "         2.73450000e+03]]),\n",
       "       array([[ 5.13245136e+01,  3.85352777e+00,  2.98150000e+02,\n",
       "         0.00000000e+00],\n",
       "       [ 5.13245136e+01,  3.85402480e+00,  2.98149273e+02,\n",
       "         5.00000000e-01],\n",
       "       [ 5.13245136e+01,  3.85447988e+00,  2.98148307e+02,\n",
       "         1.00000000e+00],\n",
       "       ...,\n",
       "       [-1.83677777e+01,  3.58208539e+00,  2.99372055e+02,\n",
       "         2.80700000e+03],\n",
       "       [-1.83677777e+01,  3.58180178e+00,  2.99374566e+02,\n",
       "         2.80750000e+03],\n",
       "       [-1.83677777e+01,  3.58152486e+00,  2.99377085e+02,\n",
       "         2.80800000e+03]]),\n",
       "       array([[-2.74239746e+01,  3.96440086e+00,  2.98150000e+02,\n",
       "         0.00000000e+00],\n",
       "       [-2.74239746e+01,  3.96404061e+00,  2.98152177e+02,\n",
       "         5.00000000e-01],\n",
       "       [-2.74239746e+01,  3.96370676e+00,  2.98154512e+02,\n",
       "         1.00000000e+00],\n",
       "       ...,\n",
       "       [ 3.60491916e+01,  3.94107799e+00,  2.99060318e+02,\n",
       "         2.78000000e+03],\n",
       "       [ 3.60491916e+01,  3.94144621e+00,  2.99056648e+02,\n",
       "         2.78050000e+03],\n",
       "       [ 3.60491916e+01,  3.94180524e+00,  2.99053031e+02,\n",
       "         2.78100000e+03]]),\n",
       "       array([[2.01059836e-01, 3.95387964e+00, 2.98150000e+02, 0.00000000e+00],\n",
       "       [2.01059836e-01, 3.95388214e+00, 2.98149988e+02, 5.00000000e-01],\n",
       "       [2.01059836e-01, 3.95388444e+00, 2.98149976e+02, 1.00000000e+00],\n",
       "       ...,\n",
       "       [1.69569756e+01, 3.85679232e+00, 2.99332612e+02, 2.75200000e+03],\n",
       "       [1.69569756e+01, 3.85697449e+00, 2.99328241e+02, 2.75250000e+03],\n",
       "       [1.69569756e+01, 3.85715169e+00, 2.99323889e+02, 2.75300000e+03]]),\n",
       "       array([[-2.64847774e+01,  3.82253884e+00,  2.98150000e+02,\n",
       "         0.00000000e+00],\n",
       "       [-2.64847774e+01,  3.82221874e+00,  2.98154174e+02,\n",
       "         5.00000000e-01],\n",
       "       [-2.64847774e+01,  3.82192673e+00,  2.98158578e+02,\n",
       "         1.00000000e+00],\n",
       "       ...,\n",
       "       [-2.81880804e+01,  3.71573655e+00,  2.99539873e+02,\n",
       "         2.68500000e+03],\n",
       "       [-2.81880804e+01,  3.71553412e+00,  2.99543545e+02,\n",
       "         2.68550000e+03],\n",
       "       [-2.81880804e+01,  3.71534157e+00,  2.99547239e+02,\n",
       "         2.68600000e+03]]),\n",
       "       array([[-6.14027316e+00,  3.80534083e+00,  2.98150000e+02,\n",
       "         0.00000000e+00],\n",
       "       [-6.14027316e+00,  3.80527263e+00,  2.98150710e+02,\n",
       "         5.00000000e-01],\n",
       "       [-6.14027316e+00,  3.80521051e+00,  2.98151473e+02,\n",
       "         1.00000000e+00],\n",
       "       ...,\n",
       "       [ 1.52211513e+01,  3.73917694e+00,  2.99675605e+02,\n",
       "         2.78500000e+03],\n",
       "       [ 1.52211513e+01,  3.73942658e+00,  2.99669191e+02,\n",
       "         2.78550000e+03],\n",
       "       [ 1.52211513e+01,  3.73966642e+00,  2.99662802e+02,\n",
       "         2.78600000e+03]]),\n",
       "       array([[-2.82052817e+00,  4.05152275e+00,  2.98150000e+02,\n",
       "         0.00000000e+00],\n",
       "       [-2.82052817e+00,  4.05148537e+00,  2.98149880e+02,\n",
       "         5.00000000e-01],\n",
       "       [-2.82052817e+00,  4.05145040e+00,  2.98149763e+02,\n",
       "         1.00000000e+00],\n",
       "       ...,\n",
       "       [-8.79140100e+00,  3.87761422e+00,  2.99111301e+02,\n",
       "         2.75550000e+03],\n",
       "       [-8.79140100e+00,  3.87755830e+00,  2.99110196e+02,\n",
       "         2.75600000e+03],\n",
       "       [-8.79140100e+00,  3.87750418e+00,  2.99109096e+02,\n",
       "         2.75650000e+03]]),\n",
       "       array([[-1.91842786e+01,  3.87547427e+00,  2.98150000e+02,\n",
       "         0.00000000e+00],\n",
       "       [-1.91842786e+01,  3.87523809e+00,  2.98152381e+02,\n",
       "         5.00000000e-01],\n",
       "       [-1.91842786e+01,  3.87502140e+00,  2.98154902e+02,\n",
       "         1.00000000e+00],\n",
       "       ...,\n",
       "       [ 2.41467778e+00,  3.80766429e+00,  2.99080047e+02,\n",
       "         2.78550000e+03],\n",
       "       [ 2.41467778e+00,  3.80776768e+00,  2.99077451e+02,\n",
       "         2.78600000e+03],\n",
       "       [ 2.41467778e+00,  3.80786488e+00,  2.99074859e+02,\n",
       "         2.78650000e+03]]),\n",
       "       array([[3.75302483e+01, 3.91605419e+00, 2.98150000e+02, 0.00000000e+00],\n",
       "       [3.75302483e+01, 3.91646945e+00, 2.98149081e+02, 5.00000000e-01],\n",
       "       [3.75302483e+01, 3.91685213e+00, 2.98148033e+02, 1.00000000e+00],\n",
       "       ...,\n",
       "       [5.98658400e+00, 3.75977207e+00, 2.99412213e+02, 2.72450000e+03],\n",
       "       [5.98658400e+00, 3.75993554e+00, 2.99408298e+02, 2.72500000e+03],\n",
       "       [5.98658400e+00, 3.76009104e+00, 2.99404390e+02, 2.72550000e+03]]),\n",
       "       array([[-1.58097181e+01,  3.73155573e+00,  2.98150000e+02,\n",
       "         0.00000000e+00],\n",
       "       [-1.58097181e+01,  3.73138289e+00,  2.98152698e+02,\n",
       "         5.00000000e-01],\n",
       "       [ 1.15762106e+01,  3.77536865e+00,  2.98151582e+02,\n",
       "         1.00000000e+00],\n",
       "       ...,\n",
       "       [ 6.45031826e+00,  3.60919067e+00,  2.99596209e+02,\n",
       "         2.66750000e+03],\n",
       "       [ 6.45031826e+00,  3.60940844e+00,  2.99590935e+02,\n",
       "         2.66800000e+03],\n",
       "       [ 6.45031826e+00,  3.60961573e+00,  2.99585671e+02,\n",
       "         2.66850000e+03]]),\n",
       "       array([[-5.70997553e+00,  3.81001745e+00,  2.98150000e+02,\n",
       "         0.00000000e+00],\n",
       "       [-5.70997553e+00,  3.80995378e+00,  2.98150654e+02,\n",
       "         5.00000000e-01],\n",
       "       [-5.70997553e+00,  3.80989575e+00,  2.98151357e+02,\n",
       "         1.00000000e+00],\n",
       "       ...,\n",
       "       [ 9.16636437e+00,  3.74518261e+00,  2.99320432e+02,\n",
       "         2.75550000e+03],\n",
       "       [ 9.16636437e+00,  3.74531035e+00,  2.99316006e+02,\n",
       "         2.75600000e+03],\n",
       "       [ 9.16636437e+00,  3.74543252e+00,  2.99311595e+02,\n",
       "         2.75650000e+03]]),\n",
       "       array([[-4.03924406e+01,  3.89631035e+00,  2.98150000e+02,\n",
       "         0.00000000e+00],\n",
       "       [-4.03924406e+01,  3.89578340e+00,  2.98155706e+02,\n",
       "         5.00000000e-01],\n",
       "       [-4.03924406e+01,  3.89529819e+00,  2.98161741e+02,\n",
       "         1.00000000e+00],\n",
       "       ...,\n",
       "       [-1.85809980e+01,  3.79954555e+00,  2.99161277e+02,\n",
       "         2.79800000e+03],\n",
       "       [-1.85809980e+01,  3.79946668e+00,  2.99162437e+02,\n",
       "         2.79850000e+03],\n",
       "       [-1.85809980e+01,  3.79938821e+00,  2.99163599e+02,\n",
       "         2.79900000e+03]]),\n",
       "       array([[ 9.92577146e+00,  3.97583195e+00,  2.98150000e+02,\n",
       "         0.00000000e+00],\n",
       "       [ 9.92577146e+00,  3.97595429e+00,  2.98149674e+02,\n",
       "         5.00000000e-01],\n",
       "       [ 9.92577146e+00,  3.97606775e+00,  2.98149309e+02,\n",
       "         1.00000000e+00],\n",
       "       ...,\n",
       "       [-3.47305083e+01,  3.76445043e+00,  2.99317752e+02,\n",
       "         2.76500000e+03],\n",
       "       [-3.47305083e+01,  3.76419027e+00,  2.99322641e+02,\n",
       "         2.76550000e+03],\n",
       "       [-3.47305083e+01,  3.76393808e+00,  2.99327560e+02,\n",
       "         2.76600000e+03]]),\n",
       "       array([[-1.05529270e+01,  4.03033307e+00,  2.98150000e+02,\n",
       "         0.00000000e+00],\n",
       "       [-1.05529270e+01,  4.03019338e+00,  2.98149917e+02,\n",
       "         5.00000000e-01],\n",
       "       [-1.05529270e+01,  4.03006294e+00,  2.98149860e+02,\n",
       "         1.00000000e+00],\n",
       "       ...,\n",
       "       [-1.08809259e+01,  3.85896627e+00,  2.99189107e+02,\n",
       "         2.76400000e+03],\n",
       "       [-1.08809259e+01,  3.85896243e+00,  2.99188557e+02,\n",
       "         2.76450000e+03],\n",
       "       [-1.08809259e+01,  3.85895735e+00,  2.99188006e+02,\n",
       "         2.76500000e+03]]),\n",
       "       array([[-1.31356480e+00,  3.82927610e+00,  2.98150000e+02,\n",
       "         0.00000000e+00],\n",
       "       [-1.31356480e+00,  3.82926137e+00,  2.98150138e+02,\n",
       "         5.00000000e-01],\n",
       "       [-1.31356480e+00,  3.82924792e+00,  2.98150285e+02,\n",
       "         1.00000000e+00],\n",
       "       ...,\n",
       "       [ 2.64361138e+00,  3.74516795e+00,  2.99485364e+02,\n",
       "         2.76900000e+03],\n",
       "       [ 2.64361138e+00,  3.74522088e+00,  2.99481700e+02,\n",
       "         2.76950000e+03],\n",
       "       [ 2.64361138e+00,  3.74527233e+00,  2.99478045e+02,\n",
       "         2.77000000e+03]]),\n",
       "       array([[-1.68752331e+01,  3.89042412e+00,  2.98150000e+02,\n",
       "         0.00000000e+00],\n",
       "       [-1.68752331e+01,  3.89021556e+00,  2.98151919e+02,\n",
       "         5.00000000e-01],\n",
       "       [-1.68752331e+01,  3.89002374e+00,  2.98153955e+02,\n",
       "         1.00000000e+00],\n",
       "       ...,\n",
       "       [-1.89889192e+01,  3.78431503e+00,  2.98894902e+02,\n",
       "         2.72700000e+03],\n",
       "       [-1.89889192e+01,  3.78413609e+00,  2.98896266e+02,\n",
       "         2.72750000e+03],\n",
       "       [-1.89889192e+01,  3.78396916e+00,  2.98897646e+02,\n",
       "         2.72800000e+03]]),\n",
       "       array([[5.18563516e+00, 3.78610812e+00, 2.98150000e+02, 0.00000000e+00],\n",
       "       [5.18563516e+00, 3.78616214e+00, 2.98149423e+02, 5.00000000e-01],\n",
       "       [5.18563516e+00, 3.78621138e+00, 2.98148801e+02, 1.00000000e+00],\n",
       "       ...,\n",
       "       [1.46033944e+01, 3.69534409e+00, 2.99293331e+02, 2.78850000e+03],\n",
       "       [1.46033944e+01, 3.69556645e+00, 2.99287453e+02, 2.78900000e+03],\n",
       "       [1.46033944e+01, 3.69578417e+00, 2.99281595e+02, 2.78950000e+03]]),\n",
       "       array([[-2.00975753e+01,  3.94806447e+00,  2.98150000e+02,\n",
       "         0.00000000e+00],\n",
       "       [-2.00975753e+01,  3.94780621e+00,  2.98151713e+02,\n",
       "         5.00000000e-01],\n",
       "       [-2.00975753e+01,  3.94756738e+00,  2.98153546e+02,\n",
       "         1.00000000e+00],\n",
       "       ...,\n",
       "       [-2.64964979e+01,  3.81270822e+00,  2.99019797e+02,\n",
       "         2.79400000e+03],\n",
       "       [-2.64964979e+01,  3.81249174e+00,  2.99022678e+02,\n",
       "         2.79450000e+03],\n",
       "       [-2.64964979e+01,  3.81228301e+00,  2.99025579e+02,\n",
       "         2.79500000e+03]]),\n",
       "       array([[ 1.33855001e+01,  3.86511162e+00,  2.98150000e+02,\n",
       "         0.00000000e+00],\n",
       "       [ 1.33855001e+01,  3.86526078e+00,  2.98149043e+02,\n",
       "         5.00000000e-01],\n",
       "       [ 1.33855001e+01,  3.86539748e+00,  2.98148006e+02,\n",
       "         1.00000000e+00],\n",
       "       ...,\n",
       "       [-2.75344586e+01,  3.70696630e+00,  2.99084577e+02,\n",
       "         2.80750000e+03],\n",
       "       [-2.75344586e+01,  3.70681101e+00,  2.99089008e+02,\n",
       "         2.80800000e+03],\n",
       "       [-1.72125161e+01,  3.72342178e+00,  2.99090670e+02,\n",
       "         2.80850000e+03]]),\n",
       "       array([[ 2.39093809e+01,  4.05531921e+00,  2.98150000e+02,\n",
       "         0.00000000e+00],\n",
       "       [ 2.39093809e+01,  4.05562262e+00,  2.98151130e+02,\n",
       "         5.00000000e-01],\n",
       "       [ 2.39093809e+01,  4.05590624e+00,  2.98152241e+02,\n",
       "         1.00000000e+00],\n",
       "       ...,\n",
       "       [ 1.21723424e+01,  3.90417718e+00,  2.99007841e+02,\n",
       "         2.74700000e+03],\n",
       "       [ 1.21723424e+01,  3.90434849e+00,  2.99004613e+02,\n",
       "         2.74750000e+03],\n",
       "       [-1.74661029e+01,  3.85842942e+00,  2.99005162e+02,\n",
       "         2.74800000e+03]]),\n",
       "       array([[ 1.01249738e+01,  3.74020934e+00,  2.98150000e+02,\n",
       "         0.00000000e+00],\n",
       "       [ 1.01249738e+01,  3.74031858e+00,  2.98148587e+02,\n",
       "         5.00000000e-01],\n",
       "       [ 1.01249738e+01,  3.74041978e+00,  2.98147084e+02,\n",
       "         1.00000000e+00],\n",
       "       ...,\n",
       "       [-1.30570364e+01,  3.09619843e+00,  3.01040510e+02,\n",
       "         2.61914282e+03],\n",
       "       [-1.30570364e+01,  3.09609028e+00,  3.01040331e+02,\n",
       "         2.61919995e+03],\n",
       "       [-1.30570364e+01,  3.09598203e+00,  3.01040152e+02,\n",
       "         2.61925708e+03]]),\n",
       "       array([[-4.86710857e+01,  3.69492841e+00,  2.98150000e+02,\n",
       "         0.00000000e+00],\n",
       "       [-4.86710857e+01,  3.69435011e+00,  2.98161412e+02,\n",
       "         5.00000000e-01],\n",
       "       [-4.86710857e+01,  3.69382658e+00,  2.98173476e+02,\n",
       "         1.00000000e+00],\n",
       "       ...,\n",
       "       [ 4.73818918e+01,  3.66927808e+00,  3.00294473e+02,\n",
       "         2.76250000e+03],\n",
       "       [ 1.39719086e+01,  3.60217498e+00,  3.00285400e+02,\n",
       "         2.76300000e+03],\n",
       "       [-3.06775801e+00,  3.56584355e+00,  3.00281035e+02,\n",
       "         2.76350000e+03]]),\n",
       "       array([[-2.70313485e+01,  3.93032950e+00,  2.98150000e+02,\n",
       "         0.00000000e+00],\n",
       "       [-2.70313485e+01,  3.92998050e+00,  2.98152833e+02,\n",
       "         5.00000000e-01],\n",
       "       [-2.70313485e+01,  3.92965831e+00,  2.98155846e+02,\n",
       "         1.00000000e+00],\n",
       "       ...,\n",
       "       [ 1.56631817e+01,  3.88312484e+00,  2.98906565e+02,\n",
       "         2.73650000e+03],\n",
       "       [ 1.56631817e+01,  3.88330793e+00,  2.98903346e+02,\n",
       "         2.73700000e+03],\n",
       "       [ 1.56631817e+01,  3.88348357e+00,  2.98900145e+02,\n",
       "         2.73750000e+03]]),\n",
       "       array([[-1.75748285e+01,  4.02689593e+00,  2.98150000e+02,\n",
       "         0.00000000e+00],\n",
       "       [-1.75748285e+01,  4.02666082e+00,  2.98149925e+02,\n",
       "         5.00000000e-01],\n",
       "       [-1.75748285e+01,  4.02644124e+00,  2.98149898e+02,\n",
       "         1.00000000e+00],\n",
       "       ...,\n",
       "       [-7.27212304e+00,  3.90620967e+00,  2.98732055e+02,\n",
       "         2.75250000e+03],\n",
       "       [-3.08002381e+01,  3.86938068e+00,  2.98735404e+02,\n",
       "         2.75300000e+03],\n",
       "       [-3.08002381e+01,  3.86904707e+00,  2.98738964e+02,\n",
       "         2.75350000e+03]]),\n",
       "       array([[-8.66261165e+00,  3.70838911e+00,  2.98150000e+02,\n",
       "         0.00000000e+00],\n",
       "       [-8.66261165e+00,  3.70829038e+00,  2.98151596e+02,\n",
       "         5.00000000e-01],\n",
       "       [-8.66261165e+00,  3.70819904e+00,  2.98153283e+02,\n",
       "         1.00000000e+00],\n",
       "       ...,\n",
       "       [-2.00761800e+01,  3.40372239e+00,  2.99733167e+02,\n",
       "         2.75600000e+03],\n",
       "       [-2.00761800e+01,  3.40323927e+00,  2.99737417e+02,\n",
       "         2.75650000e+03],\n",
       "       [ 2.76105163e+01,  3.52554775e+00,  2.99726205e+02,\n",
       "         2.75700000e+03]]),\n",
       "       array([[ 1.92952520e+00,  3.93775676e+00,  2.98150000e+02,\n",
       "         0.00000000e+00],\n",
       "       [ 1.92952520e+00,  3.93778033e+00,  2.98149875e+02,\n",
       "         5.00000000e-01],\n",
       "       [ 1.92952520e+00,  3.93780212e+00,  2.98149741e+02,\n",
       "         1.00000000e+00],\n",
       "       ...,\n",
       "       [-2.40441996e+01,  3.78196294e+00,  2.99495539e+02,\n",
       "         2.71300000e+03],\n",
       "       [-2.40441996e+01,  3.78178183e+00,  2.99497384e+02,\n",
       "         2.71350000e+03],\n",
       "       [-2.40441996e+01,  3.78161226e+00,  2.99499249e+02,\n",
       "         2.71400000e+03]]),\n",
       "       array([[ 1.46540317e+01,  3.89088905e+00,  2.98150000e+02,\n",
       "         0.00000000e+00],\n",
       "       [ 1.46540317e+01,  3.89105641e+00,  2.98148977e+02,\n",
       "         5.00000000e-01],\n",
       "       [-1.38834826e+01,  3.84680737e+00,  2.98150683e+02,\n",
       "         1.00000000e+00],\n",
       "       ...,\n",
       "       [ 3.30765179e+01,  3.81828962e+00,  2.99139139e+02,\n",
       "         2.80800000e+03],\n",
       "       [ 3.30765179e+01,  3.81869325e+00,  2.99133711e+02,\n",
       "         2.80850000e+03],\n",
       "       [ 2.45120821e+01,  3.80582485e+00,  2.99128595e+02,\n",
       "         2.80900000e+03]]),\n",
       "       array([[ 1.05338343e+01,  4.01852034e+00,  2.98150000e+02,\n",
       "         0.00000000e+00],\n",
       "       [ 1.05338343e+01,  4.01865361e+00,  2.98150002e+02,\n",
       "         5.00000000e-01],\n",
       "       [ 1.05338343e+01,  4.01877778e+00,  2.98149976e+02,\n",
       "         1.00000000e+00],\n",
       "       ...,\n",
       "       [-8.67038977e+00,  3.84416649e+00,  2.99192834e+02,\n",
       "         2.71500000e+03],\n",
       "       [-8.67038977e+00,  3.84413374e+00,  2.99191665e+02,\n",
       "         2.71550000e+03],\n",
       "       [-8.67038977e+00,  3.84410178e+00,  2.99190501e+02,\n",
       "         2.71600000e+03]]),\n",
       "       array([[-2.61020231e+01,  3.79991741e+00,  2.98150000e+02,\n",
       "         0.00000000e+00],\n",
       "       [-2.61020231e+01,  3.79960829e+00,  2.98154054e+02,\n",
       "         5.00000000e-01],\n",
       "       [-2.61020231e+01,  3.79932703e+00,  2.98158356e+02,\n",
       "         1.00000000e+00],\n",
       "       ...,\n",
       "       [-3.36964177e-01,  3.75387366e+00,  2.99257562e+02,\n",
       "         2.78050000e+03],\n",
       "       [-3.36964177e-01,  3.75393946e+00,  2.99254972e+02,\n",
       "         2.78100000e+03],\n",
       "       [-3.36964177e-01,  3.75400279e+00,  2.99252387e+02,\n",
       "         2.78150000e+03]]),\n",
       "       array([[ 1.13591345e+01,  3.90651870e+00,  2.98150000e+02,\n",
       "         0.00000000e+00],\n",
       "       [ 1.13591345e+01,  3.90665144e+00,  2.98149235e+02,\n",
       "         5.00000000e-01],\n",
       "       [-5.02258602e+01,  3.81117180e+00,  2.98159012e+02,\n",
       "         1.00000000e+00],\n",
       "       ...,\n",
       "       [-2.24376686e+01,  3.75847386e+00,  2.99083374e+02,\n",
       "         2.69800000e+03],\n",
       "       [-2.24376686e+01,  3.75837360e+00,  2.99085653e+02,\n",
       "         2.69850000e+03],\n",
       "       [-2.24376686e+01,  3.75827167e+00,  2.99087933e+02,\n",
       "         2.69900000e+03]]),\n",
       "       array([[-1.21507365e+01,  3.81691386e+00,  2.98150000e+02,\n",
       "         0.00000000e+00],\n",
       "       [-1.21507365e+01,  3.81677420e+00,  2.98151542e+02,\n",
       "         5.00000000e-01],\n",
       "       [-1.21507365e+01,  3.81664686e+00,  2.98153185e+02,\n",
       "         1.00000000e+00],\n",
       "       ...,\n",
       "       [-5.65060289e+01,  3.60707235e+00,  3.00276593e+02,\n",
       "         2.82450000e+03],\n",
       "       [-5.65060289e+01,  3.60647721e+00,  3.00293226e+02,\n",
       "         2.82500000e+03],\n",
       "       [-5.65060289e+01,  3.60589403e+00,  3.00309939e+02,\n",
       "         2.82550000e+03]]),\n",
       "       array([[-2.92097935e+01,  3.98386078e+00,  2.98150000e+02,\n",
       "         0.00000000e+00],\n",
       "       [-2.92097935e+01,  3.98347198e+00,  2.98151753e+02,\n",
       "         5.00000000e-01],\n",
       "       [-2.92097935e+01,  3.98311060e+00,  2.98153655e+02,\n",
       "         1.00000000e+00],\n",
       "       ...,\n",
       "       [-2.46554724e+01,  3.82162522e+00,  2.99793224e+02,\n",
       "         2.74400000e+03],\n",
       "       [-2.46554724e+01,  3.82149620e+00,  2.99794800e+02,\n",
       "         2.74450000e+03],\n",
       "       [-2.46554724e+01,  3.82136871e+00,  2.99796383e+02,\n",
       "         2.74500000e+03]]),\n",
       "       array([[-9.64887708e+00,  3.73767887e+00,  2.98150000e+02,\n",
       "         0.00000000e+00],\n",
       "       [-9.64887708e+00,  3.73757491e+00,  2.98151531e+02,\n",
       "         5.00000000e-01],\n",
       "       [-9.64887708e+00,  3.73747991e+00,  2.98153163e+02,\n",
       "         1.00000000e+00],\n",
       "       ...,\n",
       "       [-1.48461256e+01,  3.58436645e+00,  2.99448816e+02,\n",
       "         2.76550000e+03],\n",
       "       [-1.48461256e+01,  3.58417082e+00,  2.99450245e+02,\n",
       "         2.76600000e+03],\n",
       "       [-1.48461256e+01,  3.58398251e+00,  2.99451681e+02,\n",
       "         2.76650000e+03]]),\n",
       "       array([[-1.18092207e+00,  3.75862002e+00,  2.98150000e+02,\n",
       "         0.00000000e+00],\n",
       "       [-1.18092207e+00,  3.75860762e+00,  2.98150161e+02,\n",
       "         5.00000000e-01],\n",
       "       [-1.18092207e+00,  3.75859630e+00,  2.98150332e+02,\n",
       "         1.00000000e+00],\n",
       "       ...,\n",
       "       [-5.52835845e+00,  3.61998190e+00,  2.99568803e+02,\n",
       "         2.76450000e+03],\n",
       "       [-2.34506273e+01,  3.58391234e+00,  2.99572601e+02,\n",
       "         2.76500000e+03],\n",
       "       [-2.34506273e+01,  3.58359101e+00,  2.99576622e+02,\n",
       "         2.76550000e+03]]),\n",
       "       array([[ 3.70779593e+01,  4.01879982e+00,  2.98150000e+02,\n",
       "         0.00000000e+00],\n",
       "       [ 3.70779593e+01,  4.01924932e+00,  2.98150960e+02,\n",
       "         5.00000000e-01],\n",
       "       [ 3.70779593e+01,  4.01966790e+00,  2.98151865e+02,\n",
       "         1.00000000e+00],\n",
       "       ...,\n",
       "       [-3.23901576e+01,  3.77791263e+00,  2.99370392e+02,\n",
       "         2.76750000e+03],\n",
       "       [-1.91273930e+01,  3.79775267e+00,  2.99370903e+02,\n",
       "         2.76800000e+03],\n",
       "       [-1.91273930e+01,  3.79748965e+00,  2.99371300e+02,\n",
       "         2.76850000e+03]]),\n",
       "       array([[-4.78683998e+01,  3.87839584e+00,  2.98150000e+02,\n",
       "         0.00000000e+00],\n",
       "       [-4.78683998e+01,  3.87776698e+00,  2.98157684e+02,\n",
       "         5.00000000e-01],\n",
       "       [-4.78683998e+01,  3.87718896e+00,  2.98165796e+02,\n",
       "         1.00000000e+00],\n",
       "       ...,\n",
       "       [ 8.79828248e+00,  3.83313123e+00,  2.99391059e+02,\n",
       "         2.73100000e+03],\n",
       "       [ 8.79828248e+00,  3.83338032e+00,  2.99387140e+02,\n",
       "         2.73150000e+03],\n",
       "       [ 8.79828248e+00,  3.83360738e+00,  2.99383224e+02,\n",
       "         2.73200000e+03]]),\n",
       "       array([[ 4.08178720e+01,  3.83443864e+00,  2.98150000e+02,\n",
       "         0.00000000e+00],\n",
       "       [ 4.08178720e+01,  3.83483627e+00,  2.98148432e+02,\n",
       "         5.00000000e-01],\n",
       "       [ 4.08178720e+01,  3.83520013e+00,  2.98146634e+02,\n",
       "         1.00000000e+00],\n",
       "       ...,\n",
       "       [-1.00100778e+01,  3.62607832e+00,  2.99327839e+02,\n",
       "         2.76100000e+03],\n",
       "       [-1.00100778e+01,  3.62600847e+00,  2.99327730e+02,\n",
       "         2.76150000e+03],\n",
       "       [-1.00100778e+01,  3.62593826e+00,  2.99327623e+02,\n",
       "         2.76200000e+03]]),\n",
       "       array([[-7.93909086e+00,  3.92222508e+00,  2.98150000e+02,\n",
       "         0.00000000e+00],\n",
       "       [-7.93909086e+00,  3.92212694e+00,  2.98150681e+02,\n",
       "         5.00000000e-01],\n",
       "       [-7.93909086e+00,  3.92203650e+00,  2.98151408e+02,\n",
       "         1.00000000e+00],\n",
       "       ...,\n",
       "       [-2.30565837e+01,  3.78641368e+00,  2.99384627e+02,\n",
       "         2.66750000e+03],\n",
       "       [-2.30565837e+01,  3.78630743e+00,  2.99386538e+02,\n",
       "         2.66800000e+03],\n",
       "       [-2.30565837e+01,  3.78620192e+00,  2.99388452e+02,\n",
       "         2.66850000e+03]]),\n",
       "       array([[-4.42364814e+01,  3.87166868e+00,  2.98150000e+02,\n",
       "         0.00000000e+00],\n",
       "       [-4.42364814e+01,  3.87109358e+00,  2.98157053e+02,\n",
       "         5.00000000e-01],\n",
       "       [-4.42364814e+01,  3.87056538e+00,  2.98164498e+02,\n",
       "         1.00000000e+00],\n",
       "       ...,\n",
       "       [-3.78021852e+01,  3.75069077e+00,  2.99415955e+02,\n",
       "         2.70800000e+03],\n",
       "       [-3.78021852e+01,  3.75032214e+00,  2.99421920e+02,\n",
       "         2.70850000e+03],\n",
       "       [-3.78021852e+01,  3.74998183e+00,  2.99427946e+02,\n",
       "         2.70900000e+03]]),\n",
       "       array([[1.42218929e+01, 3.77960582e+00, 2.98150000e+02, 0.00000000e+00],\n",
       "       [1.42218929e+01, 3.77974985e+00, 2.98148530e+02, 5.00000000e-01],\n",
       "       [1.42218929e+01, 3.77988160e+00, 2.98146943e+02, 1.00000000e+00],\n",
       "       ...,\n",
       "       [1.71071290e+01, 3.67395925e+00, 2.99602380e+02, 2.76250000e+03],\n",
       "       [1.71071290e+01, 3.67423015e+00, 2.99595075e+02, 2.76300000e+03],\n",
       "       [1.71071290e+01, 3.67449563e+00, 2.99587800e+02, 2.76350000e+03]]),\n",
       "       array([[-9.71146191e+00,  3.89020609e+00,  2.98150000e+02,\n",
       "         0.00000000e+00],\n",
       "       [-9.71146191e+00,  3.89008811e+00,  2.98151011e+02,\n",
       "         5.00000000e-01],\n",
       "       [-9.71146191e+00,  3.88997965e+00,  2.98152085e+02,\n",
       "         1.00000000e+00],\n",
       "       ...,\n",
       "       [-8.53713125e+00,  3.77276671e+00,  2.99218341e+02,\n",
       "         2.70350000e+03],\n",
       "       [-8.53713125e+00,  3.77274226e+00,  2.99217217e+02,\n",
       "         2.70400000e+03],\n",
       "       [-8.53713125e+00,  3.77271627e+00,  2.99216095e+02,\n",
       "         2.70450000e+03]]),\n",
       "       array([[-6.99358555e+00,  3.69975261e+00,  2.98150000e+02,\n",
       "         0.00000000e+00],\n",
       "       [-6.99358555e+00,  3.69967041e+00,  2.98151358e+02,\n",
       "         5.00000000e-01],\n",
       "       [-6.99358555e+00,  3.69959395e+00,  2.98152788e+02,\n",
       "         1.00000000e+00],\n",
       "       ...,\n",
       "       [-5.94742312e+00,  3.12927228e+00,  2.99660240e+02,\n",
       "         2.65500000e+03],\n",
       "       [-5.94742312e+00,  3.12887651e+00,  2.99658556e+02,\n",
       "         2.65550000e+03],\n",
       "       [-5.94742312e+00,  3.12847885e+00,  2.99656875e+02,\n",
       "         2.65600000e+03]]),\n",
       "       array([[3.50177888e+00, 4.05370898e+00, 2.98150000e+02, 0.00000000e+00],\n",
       "       [3.50177888e+00, 4.05375492e+00, 2.98150153e+02, 5.00000000e-01],\n",
       "       [3.50177888e+00, 4.05379792e+00, 2.98150302e+02, 1.00000000e+00],\n",
       "       ...,\n",
       "       [1.30665072e+00, 3.90297118e+00, 2.99027143e+02, 2.79850000e+03],\n",
       "       [1.30665072e+00, 3.90312157e+00, 2.99024925e+02, 2.79900000e+03],\n",
       "       [1.30665072e+00, 3.90325631e+00, 2.99022704e+02, 2.79950000e+03]]),\n",
       "       array([[-2.71126620e+00,  3.99706390e+00,  2.98150000e+02,\n",
       "         0.00000000e+00],\n",
       "       [-2.71126620e+00,  3.99702926e+00,  2.98150081e+02,\n",
       "         5.00000000e-01],\n",
       "       [ 1.09994672e+01,  4.01938177e+00,  2.98150103e+02,\n",
       "         1.00000000e+00],\n",
       "       ...,\n",
       "       [-2.53018896e+01,  3.83515141e+00,  2.99029355e+02,\n",
       "         2.72450000e+03],\n",
       "       [-2.53018896e+01,  3.83496314e+00,  2.99032044e+02,\n",
       "         2.72500000e+03],\n",
       "       [-2.05460831e+00,  3.87090161e+00,  2.99030502e+02,\n",
       "         2.72550000e+03]]),\n",
       "       array([[2.30200373e+01, 3.88915499e+00, 2.98150000e+02, 0.00000000e+00],\n",
       "       [2.30200373e+01, 3.88941141e+00, 2.98148770e+02, 5.00000000e-01],\n",
       "       [2.30200373e+01, 3.88964699e+00, 2.98147429e+02, 1.00000000e+00],\n",
       "       ...,\n",
       "       [1.55341954e+01, 3.80325740e+00, 2.98908915e+02, 2.76950000e+03],\n",
       "       [1.55341954e+01, 3.80340872e+00, 2.98905286e+02, 2.77000000e+03],\n",
       "       [1.55341954e+01, 3.80355583e+00, 2.98901677e+02, 2.77050000e+03]]),\n",
       "       array([[-3.40001200e+01,  3.59816939e+00,  2.98150000e+02,\n",
       "         0.00000000e+00],\n",
       "       [-3.40001200e+01,  3.59764706e+00,  2.98160080e+02,\n",
       "         5.00000000e-01],\n",
       "       [-3.40001200e+01,  3.59715041e+00,  2.98170576e+02,\n",
       "         1.00000000e+00],\n",
       "       ...,\n",
       "       [-7.17878153e+00,  3.09184904e+00,  2.99612872e+02,\n",
       "         1.85860371e+03],\n",
       "       [-7.17878153e+00,  3.09179087e+00,  2.99612752e+02,\n",
       "         1.85865557e+03],\n",
       "       [-7.17878153e+00,  3.09167445e+00,  2.99612511e+02,\n",
       "         1.85875928e+03]]),\n",
       "       array([[ 2.01453599e+01,  3.82687931e+00,  2.98150000e+02,\n",
       "         0.00000000e+00],\n",
       "       [ 2.01453599e+01,  3.82708759e+00,  2.98148672e+02,\n",
       "         5.00000000e-01],\n",
       "       [ 2.01453599e+01,  3.82727778e+00,  2.98147205e+02,\n",
       "         1.00000000e+00],\n",
       "       ...,\n",
       "       [-2.18744341e+01,  3.63359635e+00,  2.99476698e+02,\n",
       "         2.78850000e+03],\n",
       "       [-2.18744341e+01,  3.63336061e+00,  2.99479897e+02,\n",
       "         2.78900000e+03],\n",
       "       [-2.18744341e+01,  3.63313034e+00,  2.99483107e+02,\n",
       "         2.78950000e+03]]),\n",
       "       array([[ 2.41433759e+01,  4.00510033e+00,  2.98150000e+02,\n",
       "         0.00000000e+00],\n",
       "       [ 2.41433759e+01,  4.00539625e+00,  2.98150057e+02,\n",
       "         5.00000000e-01],\n",
       "       [ 7.26351146e+00,  3.97860461e+00,  2.98149726e+02,\n",
       "         1.00000000e+00],\n",
       "       ...,\n",
       "       [-2.52117414e+01,  3.79301689e+00,  2.99519851e+02,\n",
       "         2.70000000e+03],\n",
       "       [-2.52117414e+01,  3.79283955e+00,  2.99521912e+02,\n",
       "         2.70050000e+03],\n",
       "       [-2.52117414e+01,  3.79266908e+00,  2.99523991e+02,\n",
       "         2.70100000e+03]]),\n",
       "       array([[-8.22285158e+00,  3.98814569e+00,  2.98150000e+02,\n",
       "         0.00000000e+00],\n",
       "       [-8.22285158e+00,  3.98804007e+00,  2.98150349e+02,\n",
       "         5.00000000e-01],\n",
       "       [-8.22285158e+00,  3.98794206e+00,  2.98150734e+02,\n",
       "         1.00000000e+00],\n",
       "       ...,\n",
       "       [-2.00376715e+01,  3.81716374e+00,  2.99492590e+02,\n",
       "         2.81950000e+03],\n",
       "       [-2.00376715e+01,  3.81703234e+00,  2.99493360e+02,\n",
       "         2.82000000e+03],\n",
       "       [-2.00376715e+01,  3.81690784e+00,  2.99494141e+02,\n",
       "         2.82050000e+03]]),\n",
       "       array([[-1.67168302e+01,  3.75180678e+00,  2.98150000e+02,\n",
       "         0.00000000e+00],\n",
       "       [-1.67168302e+01,  3.75162348e+00,  2.98152668e+02,\n",
       "         5.00000000e-01],\n",
       "       [-1.67168302e+01,  3.75145684e+00,  2.98155510e+02,\n",
       "         1.00000000e+00],\n",
       "       ...,\n",
       "       [-1.24795418e+01,  3.64011150e+00,  2.99627236e+02,\n",
       "         2.81100000e+03],\n",
       "       [-1.24795418e+01,  3.63999345e+00,  2.99627232e+02,\n",
       "         2.81150000e+03],\n",
       "       [-1.24795418e+01,  3.63988002e+00,  2.99627234e+02,\n",
       "         2.81200000e+03]]),\n",
       "       array([[-2.30486610e+01,  3.73832753e+00,  2.98150000e+02,\n",
       "         0.00000000e+00],\n",
       "       [-2.30486610e+01,  3.73807109e+00,  2.98154058e+02,\n",
       "         5.00000000e-01],\n",
       "       [-2.30486610e+01,  3.73783826e+00,  2.98158371e+02,\n",
       "         1.00000000e+00],\n",
       "       ...,\n",
       "       [-8.09860717e+00,  3.64391295e+00,  2.99505224e+02,\n",
       "         2.73350000e+03],\n",
       "       [-8.09860717e+00,  3.64383531e+00,  2.99504070e+02,\n",
       "         2.73400000e+03],\n",
       "       [ 1.22549470e+01,  3.68217803e+00,  2.99498216e+02,\n",
       "         2.73450000e+03]]),\n",
       "       array([[-2.43794484e+01,  3.74343984e+00,  2.98150000e+02,\n",
       "         0.00000000e+00],\n",
       "       [-2.43794484e+01,  3.74316677e+00,  2.98154235e+02,\n",
       "         5.00000000e-01],\n",
       "       [-2.43794484e+01,  3.74291900e+00,  2.98158739e+02,\n",
       "         1.00000000e+00],\n",
       "       ...,\n",
       "       [ 3.63130110e+01,  3.74513524e+00,  2.99394451e+02,\n",
       "         2.76200000e+03],\n",
       "       [ 3.63130110e+01,  3.74553381e+00,  2.99385980e+02,\n",
       "         2.76250000e+03],\n",
       "       [ 3.63130110e+01,  3.74592501e+00,  2.99377575e+02,\n",
       "         2.76300000e+03]]),\n",
       "       array([[-1.40077485e+01,  3.70947365e+00,  2.98150000e+02,\n",
       "         0.00000000e+00],\n",
       "       [-1.40077485e+01,  3.70931556e+00,  2.98152588e+02,\n",
       "         5.00000000e-01],\n",
       "       [-1.39584745e+01,  3.70925296e+00,  2.98155319e+02,\n",
       "         1.00000000e+00],\n",
       "       ...,\n",
       "       [ 1.77130660e+01,  3.39613189e+00,  3.00992550e+02,\n",
       "         2.78650000e+03],\n",
       "       [ 1.77130660e+01,  3.39681292e+00,  3.00979057e+02,\n",
       "         2.78700000e+03],\n",
       "       [ 1.77130660e+01,  3.39748456e+00,  3.00965599e+02,\n",
       "         2.78750000e+03]]),\n",
       "       array([[-1.56556008e+01,  3.79068338e+00,  2.98150000e+02,\n",
       "         0.00000000e+00],\n",
       "       [-1.56556008e+01,  3.79050618e+00,  2.98152127e+02,\n",
       "         5.00000000e-01],\n",
       "       [-1.56556008e+01,  3.79034500e+00,  2.98154400e+02,\n",
       "         1.00000000e+00],\n",
       "       ...,\n",
       "       [ 6.66183110e+00,  3.73144155e+00,  2.99400057e+02,\n",
       "         2.65900000e+03],\n",
       "       [ 6.66183110e+00,  3.73155836e+00,  2.99395757e+02,\n",
       "         2.65950000e+03],\n",
       "       [ 6.66183110e+00,  3.73167147e+00,  2.99391470e+02,\n",
       "         2.66000000e+03]]),\n",
       "       array([[-5.05986138e+01,  3.76733539e+00,  2.98150000e+02,\n",
       "         0.00000000e+00],\n",
       "       [-5.05986138e+01,  3.76670574e+00,  2.98160384e+02,\n",
       "         5.00000000e-01],\n",
       "       [-5.05986138e+01,  3.76613449e+00,  2.98171351e+02,\n",
       "         1.00000000e+00],\n",
       "       ...,\n",
       "       [ 1.07814173e+01,  3.77534631e+00,  2.99164679e+02,\n",
       "         2.71700000e+03],\n",
       "       [-3.16905993e-01,  3.75776959e+00,  2.99162225e+02,\n",
       "         2.71750000e+03],\n",
       "       [-3.16905993e-01,  3.75781558e+00,  2.99159884e+02,\n",
       "         2.71800000e+03]]),\n",
       "       array([[-2.14393221e+01,  3.75523361e+00,  2.98150000e+02,\n",
       "         0.00000000e+00],\n",
       "       [-2.14393221e+01,  3.75499402e+00,  2.98153465e+02,\n",
       "         5.00000000e-01],\n",
       "       [-2.14393221e+01,  3.75477653e+00,  2.98157157e+02,\n",
       "         1.00000000e+00],\n",
       "       ...,\n",
       "       [ 2.18531840e+00,  3.71796816e+00,  2.99094959e+02,\n",
       "         2.75600000e+03],\n",
       "       [ 2.18531840e+00,  3.71800182e+00,  2.99092157e+02,\n",
       "         2.75650000e+03],\n",
       "       [ 2.18531840e+00,  3.71803573e+00,  2.99089360e+02,\n",
       "         2.75700000e+03]]),\n",
       "       array([[ 3.89493733e+00,  3.84161629e+00,  2.98150000e+02,\n",
       "         0.00000000e+00],\n",
       "       [ 3.89493733e+00,  3.84165984e+00,  2.98149638e+02,\n",
       "         5.00000000e-01],\n",
       "       [ 3.89493733e+00,  3.84169964e+00,  2.98149248e+02,\n",
       "         1.00000000e+00],\n",
       "       ...,\n",
       "       [-3.46363966e+01,  3.69081514e+00,  2.99372753e+02,\n",
       "         2.74400000e+03],\n",
       "       [-3.46363966e+01,  3.69056944e+00,  2.99379025e+02,\n",
       "         2.74450000e+03],\n",
       "       [-3.46363966e+01,  3.69033021e+00,  2.99385318e+02,\n",
       "         2.74500000e+03]]),\n",
       "       array([[-2.14969154e+01,  4.01221573e+00,  2.98150000e+02,\n",
       "         0.00000000e+00],\n",
       "       [-2.14969154e+01,  4.01192888e+00,  2.98150421e+02,\n",
       "         5.00000000e-01],\n",
       "       [-2.14969154e+01,  4.01166148e+00,  2.98150918e+02,\n",
       "         1.00000000e+00],\n",
       "       ...,\n",
       "       [-2.02043750e+01,  3.86720848e+00,  2.98929018e+02,\n",
       "         2.80000000e+03],\n",
       "       [ 2.75221064e-01,  3.89897570e+00,  2.98927246e+02,\n",
       "         2.80050000e+03],\n",
       "       [ 2.75221064e-01,  3.89904449e+00,  2.98925332e+02,\n",
       "         2.80100000e+03]])], dtype=object)"
      ]
     },
     "execution_count": 324,
     "metadata": {},
     "output_type": "execute_result"
    }
   ],
   "source": [
    "X_train"
   ]
  },
  {
   "cell_type": "code",
   "execution_count": 312,
   "id": "24053351",
   "metadata": {
    "ExecuteTime": {
     "end_time": "2021-10-04T09:36:38.381812Z",
     "start_time": "2021-10-04T09:36:38.326302Z"
    }
   },
   "outputs": [],
   "source": [
    "model3 = Sequential()\n",
    "model3.add(LSTM(units=10, activation='tanh'))\n",
    "\n",
    "model3.compile(loss='mse',\n",
    "               optimizer='rmsprop',\n",
    "               metrics= ['accuracy']) "
   ]
  },
  {
   "cell_type": "code",
   "execution_count": 313,
   "id": "827bed85",
   "metadata": {
    "ExecuteTime": {
     "end_time": "2021-10-04T09:36:38.799234Z",
     "start_time": "2021-10-04T09:36:38.746736Z"
    }
   },
   "outputs": [
    {
     "ename": "ValueError",
     "evalue": "Failed to convert a NumPy array to a Tensor (Unsupported object type numpy.ndarray).",
     "output_type": "error",
     "traceback": [
      "\u001b[0;31m---------------------------------------------------------------------------\u001b[0m",
      "\u001b[0;31mValueError\u001b[0m                                Traceback (most recent call last)",
      "\u001b[0;32m/var/folders/p2/6ddwj2812811pbqjm8t6brv80000gn/T/ipykernel_59170/1405887451.py\u001b[0m in \u001b[0;36m<module>\u001b[0;34m\u001b[0m\n\u001b[0;32m----> 1\u001b[0;31m \u001b[0mmodel3\u001b[0m\u001b[0;34m.\u001b[0m\u001b[0mfit\u001b[0m\u001b[0;34m(\u001b[0m\u001b[0mX_train\u001b[0m\u001b[0;34m,\u001b[0m \u001b[0my_train\u001b[0m\u001b[0;34m,\u001b[0m\u001b[0mvalidation_data\u001b[0m\u001b[0;34m=\u001b[0m\u001b[0;34m(\u001b[0m\u001b[0mX_test\u001b[0m\u001b[0;34m,\u001b[0m\u001b[0my_test\u001b[0m\u001b[0;34m)\u001b[0m\u001b[0;34m)\u001b[0m\u001b[0;34m\u001b[0m\u001b[0;34m\u001b[0m\u001b[0m\n\u001b[0m",
      "\u001b[0;32m~/.pyenv/versions/3.8.6/envs/lewagon/lib/python3.8/site-packages/tensorflow/python/keras/engine/training.py\u001b[0m in \u001b[0;36mfit\u001b[0;34m(self, x, y, batch_size, epochs, verbose, callbacks, validation_split, validation_data, shuffle, class_weight, sample_weight, initial_epoch, steps_per_epoch, validation_steps, validation_batch_size, validation_freq, max_queue_size, workers, use_multiprocessing)\u001b[0m\n\u001b[1;32m   1131\u001b[0m          \u001b[0mtraining_utils\u001b[0m\u001b[0;34m.\u001b[0m\u001b[0mRespectCompiledTrainableState\u001b[0m\u001b[0;34m(\u001b[0m\u001b[0mself\u001b[0m\u001b[0;34m)\u001b[0m\u001b[0;34m:\u001b[0m\u001b[0;34m\u001b[0m\u001b[0;34m\u001b[0m\u001b[0m\n\u001b[1;32m   1132\u001b[0m       \u001b[0;31m# Creates a `tf.data.Dataset` and handles batch and epoch iteration.\u001b[0m\u001b[0;34m\u001b[0m\u001b[0;34m\u001b[0m\u001b[0;34m\u001b[0m\u001b[0m\n\u001b[0;32m-> 1133\u001b[0;31m       data_handler = data_adapter.get_data_handler(\n\u001b[0m\u001b[1;32m   1134\u001b[0m           \u001b[0mx\u001b[0m\u001b[0;34m=\u001b[0m\u001b[0mx\u001b[0m\u001b[0;34m,\u001b[0m\u001b[0;34m\u001b[0m\u001b[0;34m\u001b[0m\u001b[0m\n\u001b[1;32m   1135\u001b[0m           \u001b[0my\u001b[0m\u001b[0;34m=\u001b[0m\u001b[0my\u001b[0m\u001b[0;34m,\u001b[0m\u001b[0;34m\u001b[0m\u001b[0;34m\u001b[0m\u001b[0m\n",
      "\u001b[0;32m~/.pyenv/versions/3.8.6/envs/lewagon/lib/python3.8/site-packages/tensorflow/python/keras/engine/data_adapter.py\u001b[0m in \u001b[0;36mget_data_handler\u001b[0;34m(*args, **kwargs)\u001b[0m\n\u001b[1;32m   1362\u001b[0m   \u001b[0;32mif\u001b[0m \u001b[0mgetattr\u001b[0m\u001b[0;34m(\u001b[0m\u001b[0mkwargs\u001b[0m\u001b[0;34m[\u001b[0m\u001b[0;34m\"model\"\u001b[0m\u001b[0;34m]\u001b[0m\u001b[0;34m,\u001b[0m \u001b[0;34m\"_cluster_coordinator\"\u001b[0m\u001b[0;34m,\u001b[0m \u001b[0;32mNone\u001b[0m\u001b[0;34m)\u001b[0m\u001b[0;34m:\u001b[0m\u001b[0;34m\u001b[0m\u001b[0;34m\u001b[0m\u001b[0m\n\u001b[1;32m   1363\u001b[0m     \u001b[0;32mreturn\u001b[0m \u001b[0m_ClusterCoordinatorDataHandler\u001b[0m\u001b[0;34m(\u001b[0m\u001b[0;34m*\u001b[0m\u001b[0margs\u001b[0m\u001b[0;34m,\u001b[0m \u001b[0;34m**\u001b[0m\u001b[0mkwargs\u001b[0m\u001b[0;34m)\u001b[0m\u001b[0;34m\u001b[0m\u001b[0;34m\u001b[0m\u001b[0m\n\u001b[0;32m-> 1364\u001b[0;31m   \u001b[0;32mreturn\u001b[0m \u001b[0mDataHandler\u001b[0m\u001b[0;34m(\u001b[0m\u001b[0;34m*\u001b[0m\u001b[0margs\u001b[0m\u001b[0;34m,\u001b[0m \u001b[0;34m**\u001b[0m\u001b[0mkwargs\u001b[0m\u001b[0;34m)\u001b[0m\u001b[0;34m\u001b[0m\u001b[0;34m\u001b[0m\u001b[0m\n\u001b[0m\u001b[1;32m   1365\u001b[0m \u001b[0;34m\u001b[0m\u001b[0m\n\u001b[1;32m   1366\u001b[0m \u001b[0;34m\u001b[0m\u001b[0m\n",
      "\u001b[0;32m~/.pyenv/versions/3.8.6/envs/lewagon/lib/python3.8/site-packages/tensorflow/python/keras/engine/data_adapter.py\u001b[0m in \u001b[0;36m__init__\u001b[0;34m(self, x, y, sample_weight, batch_size, steps_per_epoch, initial_epoch, epochs, shuffle, class_weight, max_queue_size, workers, use_multiprocessing, model, steps_per_execution, distribute)\u001b[0m\n\u001b[1;32m   1152\u001b[0m     \u001b[0madapter_cls\u001b[0m \u001b[0;34m=\u001b[0m \u001b[0mselect_data_adapter\u001b[0m\u001b[0;34m(\u001b[0m\u001b[0mx\u001b[0m\u001b[0;34m,\u001b[0m \u001b[0my\u001b[0m\u001b[0;34m)\u001b[0m\u001b[0;34m\u001b[0m\u001b[0;34m\u001b[0m\u001b[0m\n\u001b[1;32m   1153\u001b[0m     \u001b[0mself\u001b[0m\u001b[0;34m.\u001b[0m\u001b[0m_verify_data_adapter_compatibility\u001b[0m\u001b[0;34m(\u001b[0m\u001b[0madapter_cls\u001b[0m\u001b[0;34m)\u001b[0m\u001b[0;34m\u001b[0m\u001b[0;34m\u001b[0m\u001b[0m\n\u001b[0;32m-> 1154\u001b[0;31m     self._adapter = adapter_cls(\n\u001b[0m\u001b[1;32m   1155\u001b[0m         \u001b[0mx\u001b[0m\u001b[0;34m,\u001b[0m\u001b[0;34m\u001b[0m\u001b[0;34m\u001b[0m\u001b[0m\n\u001b[1;32m   1156\u001b[0m         \u001b[0my\u001b[0m\u001b[0;34m,\u001b[0m\u001b[0;34m\u001b[0m\u001b[0;34m\u001b[0m\u001b[0m\n",
      "\u001b[0;32m~/.pyenv/versions/3.8.6/envs/lewagon/lib/python3.8/site-packages/tensorflow/python/keras/engine/data_adapter.py\u001b[0m in \u001b[0;36m__init__\u001b[0;34m(self, x, y, sample_weights, sample_weight_modes, batch_size, epochs, steps, shuffle, **kwargs)\u001b[0m\n\u001b[1;32m    245\u001b[0m                **kwargs):\n\u001b[1;32m    246\u001b[0m     \u001b[0msuper\u001b[0m\u001b[0;34m(\u001b[0m\u001b[0mTensorLikeDataAdapter\u001b[0m\u001b[0;34m,\u001b[0m \u001b[0mself\u001b[0m\u001b[0;34m)\u001b[0m\u001b[0;34m.\u001b[0m\u001b[0m__init__\u001b[0m\u001b[0;34m(\u001b[0m\u001b[0mx\u001b[0m\u001b[0;34m,\u001b[0m \u001b[0my\u001b[0m\u001b[0;34m,\u001b[0m \u001b[0;34m**\u001b[0m\u001b[0mkwargs\u001b[0m\u001b[0;34m)\u001b[0m\u001b[0;34m\u001b[0m\u001b[0;34m\u001b[0m\u001b[0m\n\u001b[0;32m--> 247\u001b[0;31m     \u001b[0mx\u001b[0m\u001b[0;34m,\u001b[0m \u001b[0my\u001b[0m\u001b[0;34m,\u001b[0m \u001b[0msample_weights\u001b[0m \u001b[0;34m=\u001b[0m \u001b[0m_process_tensorlike\u001b[0m\u001b[0;34m(\u001b[0m\u001b[0;34m(\u001b[0m\u001b[0mx\u001b[0m\u001b[0;34m,\u001b[0m \u001b[0my\u001b[0m\u001b[0;34m,\u001b[0m \u001b[0msample_weights\u001b[0m\u001b[0;34m)\u001b[0m\u001b[0;34m)\u001b[0m\u001b[0;34m\u001b[0m\u001b[0;34m\u001b[0m\u001b[0m\n\u001b[0m\u001b[1;32m    248\u001b[0m     sample_weight_modes = broadcast_sample_weight_modes(\n\u001b[1;32m    249\u001b[0m         sample_weights, sample_weight_modes)\n",
      "\u001b[0;32m~/.pyenv/versions/3.8.6/envs/lewagon/lib/python3.8/site-packages/tensorflow/python/keras/engine/data_adapter.py\u001b[0m in \u001b[0;36m_process_tensorlike\u001b[0;34m(inputs)\u001b[0m\n\u001b[1;32m   1044\u001b[0m     \u001b[0;32mreturn\u001b[0m \u001b[0mx\u001b[0m\u001b[0;34m\u001b[0m\u001b[0;34m\u001b[0m\u001b[0m\n\u001b[1;32m   1045\u001b[0m \u001b[0;34m\u001b[0m\u001b[0m\n\u001b[0;32m-> 1046\u001b[0;31m   \u001b[0minputs\u001b[0m \u001b[0;34m=\u001b[0m \u001b[0mnest\u001b[0m\u001b[0;34m.\u001b[0m\u001b[0mmap_structure\u001b[0m\u001b[0;34m(\u001b[0m\u001b[0m_convert_numpy_and_scipy\u001b[0m\u001b[0;34m,\u001b[0m \u001b[0minputs\u001b[0m\u001b[0;34m)\u001b[0m\u001b[0;34m\u001b[0m\u001b[0;34m\u001b[0m\u001b[0m\n\u001b[0m\u001b[1;32m   1047\u001b[0m   \u001b[0;32mreturn\u001b[0m \u001b[0mnest\u001b[0m\u001b[0;34m.\u001b[0m\u001b[0mlist_to_tuple\u001b[0m\u001b[0;34m(\u001b[0m\u001b[0minputs\u001b[0m\u001b[0;34m)\u001b[0m\u001b[0;34m\u001b[0m\u001b[0;34m\u001b[0m\u001b[0m\n\u001b[1;32m   1048\u001b[0m \u001b[0;34m\u001b[0m\u001b[0m\n",
      "\u001b[0;32m~/.pyenv/versions/3.8.6/envs/lewagon/lib/python3.8/site-packages/tensorflow/python/util/nest.py\u001b[0m in \u001b[0;36mmap_structure\u001b[0;34m(func, *structure, **kwargs)\u001b[0m\n\u001b[1;32m    865\u001b[0m \u001b[0;34m\u001b[0m\u001b[0m\n\u001b[1;32m    866\u001b[0m   return pack_sequence_as(\n\u001b[0;32m--> 867\u001b[0;31m       \u001b[0mstructure\u001b[0m\u001b[0;34m[\u001b[0m\u001b[0;36m0\u001b[0m\u001b[0;34m]\u001b[0m\u001b[0;34m,\u001b[0m \u001b[0;34m[\u001b[0m\u001b[0mfunc\u001b[0m\u001b[0;34m(\u001b[0m\u001b[0;34m*\u001b[0m\u001b[0mx\u001b[0m\u001b[0;34m)\u001b[0m \u001b[0;32mfor\u001b[0m \u001b[0mx\u001b[0m \u001b[0;32min\u001b[0m \u001b[0mentries\u001b[0m\u001b[0;34m]\u001b[0m\u001b[0;34m,\u001b[0m\u001b[0;34m\u001b[0m\u001b[0;34m\u001b[0m\u001b[0m\n\u001b[0m\u001b[1;32m    868\u001b[0m       expand_composites=expand_composites)\n\u001b[1;32m    869\u001b[0m \u001b[0;34m\u001b[0m\u001b[0m\n",
      "\u001b[0;32m~/.pyenv/versions/3.8.6/envs/lewagon/lib/python3.8/site-packages/tensorflow/python/util/nest.py\u001b[0m in \u001b[0;36m<listcomp>\u001b[0;34m(.0)\u001b[0m\n\u001b[1;32m    865\u001b[0m \u001b[0;34m\u001b[0m\u001b[0m\n\u001b[1;32m    866\u001b[0m   return pack_sequence_as(\n\u001b[0;32m--> 867\u001b[0;31m       \u001b[0mstructure\u001b[0m\u001b[0;34m[\u001b[0m\u001b[0;36m0\u001b[0m\u001b[0;34m]\u001b[0m\u001b[0;34m,\u001b[0m \u001b[0;34m[\u001b[0m\u001b[0mfunc\u001b[0m\u001b[0;34m(\u001b[0m\u001b[0;34m*\u001b[0m\u001b[0mx\u001b[0m\u001b[0;34m)\u001b[0m \u001b[0;32mfor\u001b[0m \u001b[0mx\u001b[0m \u001b[0;32min\u001b[0m \u001b[0mentries\u001b[0m\u001b[0;34m]\u001b[0m\u001b[0;34m,\u001b[0m\u001b[0;34m\u001b[0m\u001b[0;34m\u001b[0m\u001b[0m\n\u001b[0m\u001b[1;32m    868\u001b[0m       expand_composites=expand_composites)\n\u001b[1;32m    869\u001b[0m \u001b[0;34m\u001b[0m\u001b[0m\n",
      "\u001b[0;32m~/.pyenv/versions/3.8.6/envs/lewagon/lib/python3.8/site-packages/tensorflow/python/keras/engine/data_adapter.py\u001b[0m in \u001b[0;36m_convert_numpy_and_scipy\u001b[0;34m(x)\u001b[0m\n\u001b[1;32m   1039\u001b[0m       \u001b[0;32mif\u001b[0m \u001b[0missubclass\u001b[0m\u001b[0;34m(\u001b[0m\u001b[0mx\u001b[0m\u001b[0;34m.\u001b[0m\u001b[0mdtype\u001b[0m\u001b[0;34m.\u001b[0m\u001b[0mtype\u001b[0m\u001b[0;34m,\u001b[0m \u001b[0mnp\u001b[0m\u001b[0;34m.\u001b[0m\u001b[0mfloating\u001b[0m\u001b[0;34m)\u001b[0m\u001b[0;34m:\u001b[0m\u001b[0;34m\u001b[0m\u001b[0;34m\u001b[0m\u001b[0m\n\u001b[1;32m   1040\u001b[0m         \u001b[0mdtype\u001b[0m \u001b[0;34m=\u001b[0m \u001b[0mbackend\u001b[0m\u001b[0;34m.\u001b[0m\u001b[0mfloatx\u001b[0m\u001b[0;34m(\u001b[0m\u001b[0;34m)\u001b[0m\u001b[0;34m\u001b[0m\u001b[0;34m\u001b[0m\u001b[0m\n\u001b[0;32m-> 1041\u001b[0;31m       \u001b[0;32mreturn\u001b[0m \u001b[0mops\u001b[0m\u001b[0;34m.\u001b[0m\u001b[0mconvert_to_tensor_v2_with_dispatch\u001b[0m\u001b[0;34m(\u001b[0m\u001b[0mx\u001b[0m\u001b[0;34m,\u001b[0m \u001b[0mdtype\u001b[0m\u001b[0;34m=\u001b[0m\u001b[0mdtype\u001b[0m\u001b[0;34m)\u001b[0m\u001b[0;34m\u001b[0m\u001b[0;34m\u001b[0m\u001b[0m\n\u001b[0m\u001b[1;32m   1042\u001b[0m     \u001b[0;32melif\u001b[0m \u001b[0m_is_scipy_sparse\u001b[0m\u001b[0;34m(\u001b[0m\u001b[0mx\u001b[0m\u001b[0;34m)\u001b[0m\u001b[0;34m:\u001b[0m\u001b[0;34m\u001b[0m\u001b[0;34m\u001b[0m\u001b[0m\n\u001b[1;32m   1043\u001b[0m       \u001b[0;32mreturn\u001b[0m \u001b[0m_scipy_sparse_to_sparse_tensor\u001b[0m\u001b[0;34m(\u001b[0m\u001b[0mx\u001b[0m\u001b[0;34m)\u001b[0m\u001b[0;34m\u001b[0m\u001b[0;34m\u001b[0m\u001b[0m\n",
      "\u001b[0;32m~/.pyenv/versions/3.8.6/envs/lewagon/lib/python3.8/site-packages/tensorflow/python/util/dispatch.py\u001b[0m in \u001b[0;36mwrapper\u001b[0;34m(*args, **kwargs)\u001b[0m\n\u001b[1;32m    204\u001b[0m     \u001b[0;34m\"\"\"Call target, and fall back on dispatchers if there is a TypeError.\"\"\"\u001b[0m\u001b[0;34m\u001b[0m\u001b[0;34m\u001b[0m\u001b[0m\n\u001b[1;32m    205\u001b[0m     \u001b[0;32mtry\u001b[0m\u001b[0;34m:\u001b[0m\u001b[0;34m\u001b[0m\u001b[0;34m\u001b[0m\u001b[0m\n\u001b[0;32m--> 206\u001b[0;31m       \u001b[0;32mreturn\u001b[0m \u001b[0mtarget\u001b[0m\u001b[0;34m(\u001b[0m\u001b[0;34m*\u001b[0m\u001b[0margs\u001b[0m\u001b[0;34m,\u001b[0m \u001b[0;34m**\u001b[0m\u001b[0mkwargs\u001b[0m\u001b[0;34m)\u001b[0m\u001b[0;34m\u001b[0m\u001b[0;34m\u001b[0m\u001b[0m\n\u001b[0m\u001b[1;32m    207\u001b[0m     \u001b[0;32mexcept\u001b[0m \u001b[0;34m(\u001b[0m\u001b[0mTypeError\u001b[0m\u001b[0;34m,\u001b[0m \u001b[0mValueError\u001b[0m\u001b[0;34m)\u001b[0m\u001b[0;34m:\u001b[0m\u001b[0;34m\u001b[0m\u001b[0;34m\u001b[0m\u001b[0m\n\u001b[1;32m    208\u001b[0m       \u001b[0;31m# Note: convert_to_eager_tensor currently raises a ValueError, not a\u001b[0m\u001b[0;34m\u001b[0m\u001b[0;34m\u001b[0m\u001b[0;34m\u001b[0m\u001b[0m\n",
      "\u001b[0;32m~/.pyenv/versions/3.8.6/envs/lewagon/lib/python3.8/site-packages/tensorflow/python/framework/ops.py\u001b[0m in \u001b[0;36mconvert_to_tensor_v2_with_dispatch\u001b[0;34m(value, dtype, dtype_hint, name)\u001b[0m\n\u001b[1;32m   1428\u001b[0m     \u001b[0mValueError\u001b[0m\u001b[0;34m:\u001b[0m \u001b[0mIf\u001b[0m \u001b[0mthe\u001b[0m\u001b[0;31m \u001b[0m\u001b[0;31m`\u001b[0m\u001b[0mvalue\u001b[0m\u001b[0;31m`\u001b[0m \u001b[0;32mis\u001b[0m \u001b[0ma\u001b[0m \u001b[0mtensor\u001b[0m \u001b[0;32mnot\u001b[0m \u001b[0mof\u001b[0m \u001b[0mgiven\u001b[0m\u001b[0;31m \u001b[0m\u001b[0;31m`\u001b[0m\u001b[0mdtype\u001b[0m\u001b[0;31m`\u001b[0m \u001b[0;32min\u001b[0m \u001b[0mgraph\u001b[0m \u001b[0mmode\u001b[0m\u001b[0;34m.\u001b[0m\u001b[0;34m\u001b[0m\u001b[0;34m\u001b[0m\u001b[0m\n\u001b[1;32m   1429\u001b[0m   \"\"\"\n\u001b[0;32m-> 1430\u001b[0;31m   return convert_to_tensor_v2(\n\u001b[0m\u001b[1;32m   1431\u001b[0m       value, dtype=dtype, dtype_hint=dtype_hint, name=name)\n\u001b[1;32m   1432\u001b[0m \u001b[0;34m\u001b[0m\u001b[0m\n",
      "\u001b[0;32m~/.pyenv/versions/3.8.6/envs/lewagon/lib/python3.8/site-packages/tensorflow/python/framework/ops.py\u001b[0m in \u001b[0;36mconvert_to_tensor_v2\u001b[0;34m(value, dtype, dtype_hint, name)\u001b[0m\n\u001b[1;32m   1434\u001b[0m \u001b[0;32mdef\u001b[0m \u001b[0mconvert_to_tensor_v2\u001b[0m\u001b[0;34m(\u001b[0m\u001b[0mvalue\u001b[0m\u001b[0;34m,\u001b[0m \u001b[0mdtype\u001b[0m\u001b[0;34m=\u001b[0m\u001b[0;32mNone\u001b[0m\u001b[0;34m,\u001b[0m \u001b[0mdtype_hint\u001b[0m\u001b[0;34m=\u001b[0m\u001b[0;32mNone\u001b[0m\u001b[0;34m,\u001b[0m \u001b[0mname\u001b[0m\u001b[0;34m=\u001b[0m\u001b[0;32mNone\u001b[0m\u001b[0;34m)\u001b[0m\u001b[0;34m:\u001b[0m\u001b[0;34m\u001b[0m\u001b[0;34m\u001b[0m\u001b[0m\n\u001b[1;32m   1435\u001b[0m   \u001b[0;34m\"\"\"Converts the given `value` to a `Tensor`.\"\"\"\u001b[0m\u001b[0;34m\u001b[0m\u001b[0;34m\u001b[0m\u001b[0m\n\u001b[0;32m-> 1436\u001b[0;31m   return convert_to_tensor(\n\u001b[0m\u001b[1;32m   1437\u001b[0m       \u001b[0mvalue\u001b[0m\u001b[0;34m=\u001b[0m\u001b[0mvalue\u001b[0m\u001b[0;34m,\u001b[0m\u001b[0;34m\u001b[0m\u001b[0;34m\u001b[0m\u001b[0m\n\u001b[1;32m   1438\u001b[0m       \u001b[0mdtype\u001b[0m\u001b[0;34m=\u001b[0m\u001b[0mdtype\u001b[0m\u001b[0;34m,\u001b[0m\u001b[0;34m\u001b[0m\u001b[0;34m\u001b[0m\u001b[0m\n",
      "\u001b[0;32m~/.pyenv/versions/3.8.6/envs/lewagon/lib/python3.8/site-packages/tensorflow/python/profiler/trace.py\u001b[0m in \u001b[0;36mwrapped\u001b[0;34m(*args, **kwargs)\u001b[0m\n\u001b[1;32m    161\u001b[0m         \u001b[0;32mwith\u001b[0m \u001b[0mTrace\u001b[0m\u001b[0;34m(\u001b[0m\u001b[0mtrace_name\u001b[0m\u001b[0;34m,\u001b[0m \u001b[0;34m**\u001b[0m\u001b[0mtrace_kwargs\u001b[0m\u001b[0;34m)\u001b[0m\u001b[0;34m:\u001b[0m\u001b[0;34m\u001b[0m\u001b[0;34m\u001b[0m\u001b[0m\n\u001b[1;32m    162\u001b[0m           \u001b[0;32mreturn\u001b[0m \u001b[0mfunc\u001b[0m\u001b[0;34m(\u001b[0m\u001b[0;34m*\u001b[0m\u001b[0margs\u001b[0m\u001b[0;34m,\u001b[0m \u001b[0;34m**\u001b[0m\u001b[0mkwargs\u001b[0m\u001b[0;34m)\u001b[0m\u001b[0;34m\u001b[0m\u001b[0;34m\u001b[0m\u001b[0m\n\u001b[0;32m--> 163\u001b[0;31m       \u001b[0;32mreturn\u001b[0m \u001b[0mfunc\u001b[0m\u001b[0;34m(\u001b[0m\u001b[0;34m*\u001b[0m\u001b[0margs\u001b[0m\u001b[0;34m,\u001b[0m \u001b[0;34m**\u001b[0m\u001b[0mkwargs\u001b[0m\u001b[0;34m)\u001b[0m\u001b[0;34m\u001b[0m\u001b[0;34m\u001b[0m\u001b[0m\n\u001b[0m\u001b[1;32m    164\u001b[0m \u001b[0;34m\u001b[0m\u001b[0m\n\u001b[1;32m    165\u001b[0m     \u001b[0;32mreturn\u001b[0m \u001b[0mwrapped\u001b[0m\u001b[0;34m\u001b[0m\u001b[0;34m\u001b[0m\u001b[0m\n",
      "\u001b[0;32m~/.pyenv/versions/3.8.6/envs/lewagon/lib/python3.8/site-packages/tensorflow/python/framework/ops.py\u001b[0m in \u001b[0;36mconvert_to_tensor\u001b[0;34m(value, dtype, name, as_ref, preferred_dtype, dtype_hint, ctx, accepted_result_types)\u001b[0m\n\u001b[1;32m   1564\u001b[0m \u001b[0;34m\u001b[0m\u001b[0m\n\u001b[1;32m   1565\u001b[0m     \u001b[0;32mif\u001b[0m \u001b[0mret\u001b[0m \u001b[0;32mis\u001b[0m \u001b[0;32mNone\u001b[0m\u001b[0;34m:\u001b[0m\u001b[0;34m\u001b[0m\u001b[0;34m\u001b[0m\u001b[0m\n\u001b[0;32m-> 1566\u001b[0;31m       \u001b[0mret\u001b[0m \u001b[0;34m=\u001b[0m \u001b[0mconversion_func\u001b[0m\u001b[0;34m(\u001b[0m\u001b[0mvalue\u001b[0m\u001b[0;34m,\u001b[0m \u001b[0mdtype\u001b[0m\u001b[0;34m=\u001b[0m\u001b[0mdtype\u001b[0m\u001b[0;34m,\u001b[0m \u001b[0mname\u001b[0m\u001b[0;34m=\u001b[0m\u001b[0mname\u001b[0m\u001b[0;34m,\u001b[0m \u001b[0mas_ref\u001b[0m\u001b[0;34m=\u001b[0m\u001b[0mas_ref\u001b[0m\u001b[0;34m)\u001b[0m\u001b[0;34m\u001b[0m\u001b[0;34m\u001b[0m\u001b[0m\n\u001b[0m\u001b[1;32m   1567\u001b[0m \u001b[0;34m\u001b[0m\u001b[0m\n\u001b[1;32m   1568\u001b[0m     \u001b[0;32mif\u001b[0m \u001b[0mret\u001b[0m \u001b[0;32mis\u001b[0m \u001b[0mNotImplemented\u001b[0m\u001b[0;34m:\u001b[0m\u001b[0;34m\u001b[0m\u001b[0;34m\u001b[0m\u001b[0m\n",
      "\u001b[0;32m~/.pyenv/versions/3.8.6/envs/lewagon/lib/python3.8/site-packages/tensorflow/python/framework/tensor_conversion_registry.py\u001b[0m in \u001b[0;36m_default_conversion_function\u001b[0;34m(***failed resolving arguments***)\u001b[0m\n\u001b[1;32m     50\u001b[0m \u001b[0;32mdef\u001b[0m \u001b[0m_default_conversion_function\u001b[0m\u001b[0;34m(\u001b[0m\u001b[0mvalue\u001b[0m\u001b[0;34m,\u001b[0m \u001b[0mdtype\u001b[0m\u001b[0;34m,\u001b[0m \u001b[0mname\u001b[0m\u001b[0;34m,\u001b[0m \u001b[0mas_ref\u001b[0m\u001b[0;34m)\u001b[0m\u001b[0;34m:\u001b[0m\u001b[0;34m\u001b[0m\u001b[0;34m\u001b[0m\u001b[0m\n\u001b[1;32m     51\u001b[0m   \u001b[0;32mdel\u001b[0m \u001b[0mas_ref\u001b[0m  \u001b[0;31m# Unused.\u001b[0m\u001b[0;34m\u001b[0m\u001b[0;34m\u001b[0m\u001b[0m\n\u001b[0;32m---> 52\u001b[0;31m   \u001b[0;32mreturn\u001b[0m \u001b[0mconstant_op\u001b[0m\u001b[0;34m.\u001b[0m\u001b[0mconstant\u001b[0m\u001b[0;34m(\u001b[0m\u001b[0mvalue\u001b[0m\u001b[0;34m,\u001b[0m \u001b[0mdtype\u001b[0m\u001b[0;34m,\u001b[0m \u001b[0mname\u001b[0m\u001b[0;34m=\u001b[0m\u001b[0mname\u001b[0m\u001b[0;34m)\u001b[0m\u001b[0;34m\u001b[0m\u001b[0;34m\u001b[0m\u001b[0m\n\u001b[0m\u001b[1;32m     53\u001b[0m \u001b[0;34m\u001b[0m\u001b[0m\n\u001b[1;32m     54\u001b[0m \u001b[0;34m\u001b[0m\u001b[0m\n",
      "\u001b[0;32m~/.pyenv/versions/3.8.6/envs/lewagon/lib/python3.8/site-packages/tensorflow/python/framework/constant_op.py\u001b[0m in \u001b[0;36mconstant\u001b[0;34m(value, dtype, shape, name)\u001b[0m\n\u001b[1;32m    262\u001b[0m     \u001b[0mValueError\u001b[0m\u001b[0;34m:\u001b[0m \u001b[0;32mif\u001b[0m \u001b[0mcalled\u001b[0m \u001b[0mon\u001b[0m \u001b[0ma\u001b[0m \u001b[0msymbolic\u001b[0m \u001b[0mtensor\u001b[0m\u001b[0;34m.\u001b[0m\u001b[0;34m\u001b[0m\u001b[0;34m\u001b[0m\u001b[0m\n\u001b[1;32m    263\u001b[0m   \"\"\"\n\u001b[0;32m--> 264\u001b[0;31m   return _constant_impl(value, dtype, shape, name, verify_shape=False,\n\u001b[0m\u001b[1;32m    265\u001b[0m                         allow_broadcast=True)\n\u001b[1;32m    266\u001b[0m \u001b[0;34m\u001b[0m\u001b[0m\n",
      "\u001b[0;32m~/.pyenv/versions/3.8.6/envs/lewagon/lib/python3.8/site-packages/tensorflow/python/framework/constant_op.py\u001b[0m in \u001b[0;36m_constant_impl\u001b[0;34m(value, dtype, shape, name, verify_shape, allow_broadcast)\u001b[0m\n\u001b[1;32m    274\u001b[0m       \u001b[0;32mwith\u001b[0m \u001b[0mtrace\u001b[0m\u001b[0;34m.\u001b[0m\u001b[0mTrace\u001b[0m\u001b[0;34m(\u001b[0m\u001b[0;34m\"tf.constant\"\u001b[0m\u001b[0;34m)\u001b[0m\u001b[0;34m:\u001b[0m\u001b[0;34m\u001b[0m\u001b[0;34m\u001b[0m\u001b[0m\n\u001b[1;32m    275\u001b[0m         \u001b[0;32mreturn\u001b[0m \u001b[0m_constant_eager_impl\u001b[0m\u001b[0;34m(\u001b[0m\u001b[0mctx\u001b[0m\u001b[0;34m,\u001b[0m \u001b[0mvalue\u001b[0m\u001b[0;34m,\u001b[0m \u001b[0mdtype\u001b[0m\u001b[0;34m,\u001b[0m \u001b[0mshape\u001b[0m\u001b[0;34m,\u001b[0m \u001b[0mverify_shape\u001b[0m\u001b[0;34m)\u001b[0m\u001b[0;34m\u001b[0m\u001b[0;34m\u001b[0m\u001b[0m\n\u001b[0;32m--> 276\u001b[0;31m     \u001b[0;32mreturn\u001b[0m \u001b[0m_constant_eager_impl\u001b[0m\u001b[0;34m(\u001b[0m\u001b[0mctx\u001b[0m\u001b[0;34m,\u001b[0m \u001b[0mvalue\u001b[0m\u001b[0;34m,\u001b[0m \u001b[0mdtype\u001b[0m\u001b[0;34m,\u001b[0m \u001b[0mshape\u001b[0m\u001b[0;34m,\u001b[0m \u001b[0mverify_shape\u001b[0m\u001b[0;34m)\u001b[0m\u001b[0;34m\u001b[0m\u001b[0;34m\u001b[0m\u001b[0m\n\u001b[0m\u001b[1;32m    277\u001b[0m \u001b[0;34m\u001b[0m\u001b[0m\n\u001b[1;32m    278\u001b[0m   \u001b[0mg\u001b[0m \u001b[0;34m=\u001b[0m \u001b[0mops\u001b[0m\u001b[0;34m.\u001b[0m\u001b[0mget_default_graph\u001b[0m\u001b[0;34m(\u001b[0m\u001b[0;34m)\u001b[0m\u001b[0;34m\u001b[0m\u001b[0;34m\u001b[0m\u001b[0m\n",
      "\u001b[0;32m~/.pyenv/versions/3.8.6/envs/lewagon/lib/python3.8/site-packages/tensorflow/python/framework/constant_op.py\u001b[0m in \u001b[0;36m_constant_eager_impl\u001b[0;34m(ctx, value, dtype, shape, verify_shape)\u001b[0m\n\u001b[1;32m    299\u001b[0m \u001b[0;32mdef\u001b[0m \u001b[0m_constant_eager_impl\u001b[0m\u001b[0;34m(\u001b[0m\u001b[0mctx\u001b[0m\u001b[0;34m,\u001b[0m \u001b[0mvalue\u001b[0m\u001b[0;34m,\u001b[0m \u001b[0mdtype\u001b[0m\u001b[0;34m,\u001b[0m \u001b[0mshape\u001b[0m\u001b[0;34m,\u001b[0m \u001b[0mverify_shape\u001b[0m\u001b[0;34m)\u001b[0m\u001b[0;34m:\u001b[0m\u001b[0;34m\u001b[0m\u001b[0;34m\u001b[0m\u001b[0m\n\u001b[1;32m    300\u001b[0m   \u001b[0;34m\"\"\"Implementation of eager constant.\"\"\"\u001b[0m\u001b[0;34m\u001b[0m\u001b[0;34m\u001b[0m\u001b[0m\n\u001b[0;32m--> 301\u001b[0;31m   \u001b[0mt\u001b[0m \u001b[0;34m=\u001b[0m \u001b[0mconvert_to_eager_tensor\u001b[0m\u001b[0;34m(\u001b[0m\u001b[0mvalue\u001b[0m\u001b[0;34m,\u001b[0m \u001b[0mctx\u001b[0m\u001b[0;34m,\u001b[0m \u001b[0mdtype\u001b[0m\u001b[0;34m)\u001b[0m\u001b[0;34m\u001b[0m\u001b[0;34m\u001b[0m\u001b[0m\n\u001b[0m\u001b[1;32m    302\u001b[0m   \u001b[0;32mif\u001b[0m \u001b[0mshape\u001b[0m \u001b[0;32mis\u001b[0m \u001b[0;32mNone\u001b[0m\u001b[0;34m:\u001b[0m\u001b[0;34m\u001b[0m\u001b[0;34m\u001b[0m\u001b[0m\n\u001b[1;32m    303\u001b[0m     \u001b[0;32mreturn\u001b[0m \u001b[0mt\u001b[0m\u001b[0;34m\u001b[0m\u001b[0;34m\u001b[0m\u001b[0m\n",
      "\u001b[0;32m~/.pyenv/versions/3.8.6/envs/lewagon/lib/python3.8/site-packages/tensorflow/python/framework/constant_op.py\u001b[0m in \u001b[0;36mconvert_to_eager_tensor\u001b[0;34m(value, ctx, dtype)\u001b[0m\n\u001b[1;32m     96\u001b[0m       \u001b[0mdtype\u001b[0m \u001b[0;34m=\u001b[0m \u001b[0mdtypes\u001b[0m\u001b[0;34m.\u001b[0m\u001b[0mas_dtype\u001b[0m\u001b[0;34m(\u001b[0m\u001b[0mdtype\u001b[0m\u001b[0;34m)\u001b[0m\u001b[0;34m.\u001b[0m\u001b[0mas_datatype_enum\u001b[0m\u001b[0;34m\u001b[0m\u001b[0;34m\u001b[0m\u001b[0m\n\u001b[1;32m     97\u001b[0m   \u001b[0mctx\u001b[0m\u001b[0;34m.\u001b[0m\u001b[0mensure_initialized\u001b[0m\u001b[0;34m(\u001b[0m\u001b[0;34m)\u001b[0m\u001b[0;34m\u001b[0m\u001b[0;34m\u001b[0m\u001b[0m\n\u001b[0;32m---> 98\u001b[0;31m   \u001b[0;32mreturn\u001b[0m \u001b[0mops\u001b[0m\u001b[0;34m.\u001b[0m\u001b[0mEagerTensor\u001b[0m\u001b[0;34m(\u001b[0m\u001b[0mvalue\u001b[0m\u001b[0;34m,\u001b[0m \u001b[0mctx\u001b[0m\u001b[0;34m.\u001b[0m\u001b[0mdevice_name\u001b[0m\u001b[0;34m,\u001b[0m \u001b[0mdtype\u001b[0m\u001b[0;34m)\u001b[0m\u001b[0;34m\u001b[0m\u001b[0;34m\u001b[0m\u001b[0m\n\u001b[0m\u001b[1;32m     99\u001b[0m \u001b[0;34m\u001b[0m\u001b[0m\n\u001b[1;32m    100\u001b[0m \u001b[0;34m\u001b[0m\u001b[0m\n",
      "\u001b[0;31mValueError\u001b[0m: Failed to convert a NumPy array to a Tensor (Unsupported object type numpy.ndarray)."
     ]
    }
   ],
   "source": [
    "model3.fit(X_train, y_train,validation_data=(X_test,y_test))"
   ]
  },
  {
   "cell_type": "code",
   "execution_count": 306,
   "id": "3acf8b81",
   "metadata": {
    "ExecuteTime": {
     "end_time": "2021-10-01T16:25:52.687468Z",
     "start_time": "2021-10-01T16:25:52.435641Z"
    }
   },
   "outputs": [],
   "source": [
    "model4 = Sequential()\n",
    "model4.add(GRU(units=10,input_shape=(1, 4), activation='tanh'))\n",
    "model4.compile(loss='mse',\n",
    "               optimizer='rmsprop',\n",
    "               metrics= ['accuracy'])  "
   ]
  },
  {
   "cell_type": "code",
   "execution_count": 307,
   "id": "902c151e",
   "metadata": {
    "ExecuteTime": {
     "end_time": "2021-10-01T16:25:53.233613Z",
     "start_time": "2021-10-01T16:25:53.190703Z"
    }
   },
   "outputs": [
    {
     "ename": "ValueError",
     "evalue": "Failed to convert a NumPy array to a Tensor (Unsupported object type numpy.ndarray).",
     "output_type": "error",
     "traceback": [
      "\u001b[0;31m---------------------------------------------------------------------------\u001b[0m",
      "\u001b[0;31mValueError\u001b[0m                                Traceback (most recent call last)",
      "\u001b[0;32m/var/folders/p2/6ddwj2812811pbqjm8t6brv80000gn/T/ipykernel_59170/2991051276.py\u001b[0m in \u001b[0;36m<module>\u001b[0;34m\u001b[0m\n\u001b[0;32m----> 1\u001b[0;31m \u001b[0mmodel4\u001b[0m\u001b[0;34m.\u001b[0m\u001b[0mfit\u001b[0m\u001b[0;34m(\u001b[0m\u001b[0mX_train\u001b[0m\u001b[0;34m,\u001b[0m \u001b[0my_train\u001b[0m\u001b[0;34m,\u001b[0m\u001b[0mvalidation_data\u001b[0m\u001b[0;34m=\u001b[0m\u001b[0;34m(\u001b[0m\u001b[0mX_test\u001b[0m\u001b[0;34m,\u001b[0m\u001b[0my_test\u001b[0m\u001b[0;34m)\u001b[0m\u001b[0;34m)\u001b[0m\u001b[0;34m\u001b[0m\u001b[0;34m\u001b[0m\u001b[0m\n\u001b[0m",
      "\u001b[0;32m~/.pyenv/versions/3.8.6/envs/lewagon/lib/python3.8/site-packages/tensorflow/python/keras/engine/training.py\u001b[0m in \u001b[0;36mfit\u001b[0;34m(self, x, y, batch_size, epochs, verbose, callbacks, validation_split, validation_data, shuffle, class_weight, sample_weight, initial_epoch, steps_per_epoch, validation_steps, validation_batch_size, validation_freq, max_queue_size, workers, use_multiprocessing)\u001b[0m\n\u001b[1;32m   1131\u001b[0m          \u001b[0mtraining_utils\u001b[0m\u001b[0;34m.\u001b[0m\u001b[0mRespectCompiledTrainableState\u001b[0m\u001b[0;34m(\u001b[0m\u001b[0mself\u001b[0m\u001b[0;34m)\u001b[0m\u001b[0;34m:\u001b[0m\u001b[0;34m\u001b[0m\u001b[0;34m\u001b[0m\u001b[0m\n\u001b[1;32m   1132\u001b[0m       \u001b[0;31m# Creates a `tf.data.Dataset` and handles batch and epoch iteration.\u001b[0m\u001b[0;34m\u001b[0m\u001b[0;34m\u001b[0m\u001b[0;34m\u001b[0m\u001b[0m\n\u001b[0;32m-> 1133\u001b[0;31m       data_handler = data_adapter.get_data_handler(\n\u001b[0m\u001b[1;32m   1134\u001b[0m           \u001b[0mx\u001b[0m\u001b[0;34m=\u001b[0m\u001b[0mx\u001b[0m\u001b[0;34m,\u001b[0m\u001b[0;34m\u001b[0m\u001b[0;34m\u001b[0m\u001b[0m\n\u001b[1;32m   1135\u001b[0m           \u001b[0my\u001b[0m\u001b[0;34m=\u001b[0m\u001b[0my\u001b[0m\u001b[0;34m,\u001b[0m\u001b[0;34m\u001b[0m\u001b[0;34m\u001b[0m\u001b[0m\n",
      "\u001b[0;32m~/.pyenv/versions/3.8.6/envs/lewagon/lib/python3.8/site-packages/tensorflow/python/keras/engine/data_adapter.py\u001b[0m in \u001b[0;36mget_data_handler\u001b[0;34m(*args, **kwargs)\u001b[0m\n\u001b[1;32m   1362\u001b[0m   \u001b[0;32mif\u001b[0m \u001b[0mgetattr\u001b[0m\u001b[0;34m(\u001b[0m\u001b[0mkwargs\u001b[0m\u001b[0;34m[\u001b[0m\u001b[0;34m\"model\"\u001b[0m\u001b[0;34m]\u001b[0m\u001b[0;34m,\u001b[0m \u001b[0;34m\"_cluster_coordinator\"\u001b[0m\u001b[0;34m,\u001b[0m \u001b[0;32mNone\u001b[0m\u001b[0;34m)\u001b[0m\u001b[0;34m:\u001b[0m\u001b[0;34m\u001b[0m\u001b[0;34m\u001b[0m\u001b[0m\n\u001b[1;32m   1363\u001b[0m     \u001b[0;32mreturn\u001b[0m \u001b[0m_ClusterCoordinatorDataHandler\u001b[0m\u001b[0;34m(\u001b[0m\u001b[0;34m*\u001b[0m\u001b[0margs\u001b[0m\u001b[0;34m,\u001b[0m \u001b[0;34m**\u001b[0m\u001b[0mkwargs\u001b[0m\u001b[0;34m)\u001b[0m\u001b[0;34m\u001b[0m\u001b[0;34m\u001b[0m\u001b[0m\n\u001b[0;32m-> 1364\u001b[0;31m   \u001b[0;32mreturn\u001b[0m \u001b[0mDataHandler\u001b[0m\u001b[0;34m(\u001b[0m\u001b[0;34m*\u001b[0m\u001b[0margs\u001b[0m\u001b[0;34m,\u001b[0m \u001b[0;34m**\u001b[0m\u001b[0mkwargs\u001b[0m\u001b[0;34m)\u001b[0m\u001b[0;34m\u001b[0m\u001b[0;34m\u001b[0m\u001b[0m\n\u001b[0m\u001b[1;32m   1365\u001b[0m \u001b[0;34m\u001b[0m\u001b[0m\n\u001b[1;32m   1366\u001b[0m \u001b[0;34m\u001b[0m\u001b[0m\n",
      "\u001b[0;32m~/.pyenv/versions/3.8.6/envs/lewagon/lib/python3.8/site-packages/tensorflow/python/keras/engine/data_adapter.py\u001b[0m in \u001b[0;36m__init__\u001b[0;34m(self, x, y, sample_weight, batch_size, steps_per_epoch, initial_epoch, epochs, shuffle, class_weight, max_queue_size, workers, use_multiprocessing, model, steps_per_execution, distribute)\u001b[0m\n\u001b[1;32m   1152\u001b[0m     \u001b[0madapter_cls\u001b[0m \u001b[0;34m=\u001b[0m \u001b[0mselect_data_adapter\u001b[0m\u001b[0;34m(\u001b[0m\u001b[0mx\u001b[0m\u001b[0;34m,\u001b[0m \u001b[0my\u001b[0m\u001b[0;34m)\u001b[0m\u001b[0;34m\u001b[0m\u001b[0;34m\u001b[0m\u001b[0m\n\u001b[1;32m   1153\u001b[0m     \u001b[0mself\u001b[0m\u001b[0;34m.\u001b[0m\u001b[0m_verify_data_adapter_compatibility\u001b[0m\u001b[0;34m(\u001b[0m\u001b[0madapter_cls\u001b[0m\u001b[0;34m)\u001b[0m\u001b[0;34m\u001b[0m\u001b[0;34m\u001b[0m\u001b[0m\n\u001b[0;32m-> 1154\u001b[0;31m     self._adapter = adapter_cls(\n\u001b[0m\u001b[1;32m   1155\u001b[0m         \u001b[0mx\u001b[0m\u001b[0;34m,\u001b[0m\u001b[0;34m\u001b[0m\u001b[0;34m\u001b[0m\u001b[0m\n\u001b[1;32m   1156\u001b[0m         \u001b[0my\u001b[0m\u001b[0;34m,\u001b[0m\u001b[0;34m\u001b[0m\u001b[0;34m\u001b[0m\u001b[0m\n",
      "\u001b[0;32m~/.pyenv/versions/3.8.6/envs/lewagon/lib/python3.8/site-packages/tensorflow/python/keras/engine/data_adapter.py\u001b[0m in \u001b[0;36m__init__\u001b[0;34m(self, x, y, sample_weights, sample_weight_modes, batch_size, epochs, steps, shuffle, **kwargs)\u001b[0m\n\u001b[1;32m    245\u001b[0m                **kwargs):\n\u001b[1;32m    246\u001b[0m     \u001b[0msuper\u001b[0m\u001b[0;34m(\u001b[0m\u001b[0mTensorLikeDataAdapter\u001b[0m\u001b[0;34m,\u001b[0m \u001b[0mself\u001b[0m\u001b[0;34m)\u001b[0m\u001b[0;34m.\u001b[0m\u001b[0m__init__\u001b[0m\u001b[0;34m(\u001b[0m\u001b[0mx\u001b[0m\u001b[0;34m,\u001b[0m \u001b[0my\u001b[0m\u001b[0;34m,\u001b[0m \u001b[0;34m**\u001b[0m\u001b[0mkwargs\u001b[0m\u001b[0;34m)\u001b[0m\u001b[0;34m\u001b[0m\u001b[0;34m\u001b[0m\u001b[0m\n\u001b[0;32m--> 247\u001b[0;31m     \u001b[0mx\u001b[0m\u001b[0;34m,\u001b[0m \u001b[0my\u001b[0m\u001b[0;34m,\u001b[0m \u001b[0msample_weights\u001b[0m \u001b[0;34m=\u001b[0m \u001b[0m_process_tensorlike\u001b[0m\u001b[0;34m(\u001b[0m\u001b[0;34m(\u001b[0m\u001b[0mx\u001b[0m\u001b[0;34m,\u001b[0m \u001b[0my\u001b[0m\u001b[0;34m,\u001b[0m \u001b[0msample_weights\u001b[0m\u001b[0;34m)\u001b[0m\u001b[0;34m)\u001b[0m\u001b[0;34m\u001b[0m\u001b[0;34m\u001b[0m\u001b[0m\n\u001b[0m\u001b[1;32m    248\u001b[0m     sample_weight_modes = broadcast_sample_weight_modes(\n\u001b[1;32m    249\u001b[0m         sample_weights, sample_weight_modes)\n",
      "\u001b[0;32m~/.pyenv/versions/3.8.6/envs/lewagon/lib/python3.8/site-packages/tensorflow/python/keras/engine/data_adapter.py\u001b[0m in \u001b[0;36m_process_tensorlike\u001b[0;34m(inputs)\u001b[0m\n\u001b[1;32m   1044\u001b[0m     \u001b[0;32mreturn\u001b[0m \u001b[0mx\u001b[0m\u001b[0;34m\u001b[0m\u001b[0;34m\u001b[0m\u001b[0m\n\u001b[1;32m   1045\u001b[0m \u001b[0;34m\u001b[0m\u001b[0m\n\u001b[0;32m-> 1046\u001b[0;31m   \u001b[0minputs\u001b[0m \u001b[0;34m=\u001b[0m \u001b[0mnest\u001b[0m\u001b[0;34m.\u001b[0m\u001b[0mmap_structure\u001b[0m\u001b[0;34m(\u001b[0m\u001b[0m_convert_numpy_and_scipy\u001b[0m\u001b[0;34m,\u001b[0m \u001b[0minputs\u001b[0m\u001b[0;34m)\u001b[0m\u001b[0;34m\u001b[0m\u001b[0;34m\u001b[0m\u001b[0m\n\u001b[0m\u001b[1;32m   1047\u001b[0m   \u001b[0;32mreturn\u001b[0m \u001b[0mnest\u001b[0m\u001b[0;34m.\u001b[0m\u001b[0mlist_to_tuple\u001b[0m\u001b[0;34m(\u001b[0m\u001b[0minputs\u001b[0m\u001b[0;34m)\u001b[0m\u001b[0;34m\u001b[0m\u001b[0;34m\u001b[0m\u001b[0m\n\u001b[1;32m   1048\u001b[0m \u001b[0;34m\u001b[0m\u001b[0m\n",
      "\u001b[0;32m~/.pyenv/versions/3.8.6/envs/lewagon/lib/python3.8/site-packages/tensorflow/python/util/nest.py\u001b[0m in \u001b[0;36mmap_structure\u001b[0;34m(func, *structure, **kwargs)\u001b[0m\n\u001b[1;32m    865\u001b[0m \u001b[0;34m\u001b[0m\u001b[0m\n\u001b[1;32m    866\u001b[0m   return pack_sequence_as(\n\u001b[0;32m--> 867\u001b[0;31m       \u001b[0mstructure\u001b[0m\u001b[0;34m[\u001b[0m\u001b[0;36m0\u001b[0m\u001b[0;34m]\u001b[0m\u001b[0;34m,\u001b[0m \u001b[0;34m[\u001b[0m\u001b[0mfunc\u001b[0m\u001b[0;34m(\u001b[0m\u001b[0;34m*\u001b[0m\u001b[0mx\u001b[0m\u001b[0;34m)\u001b[0m \u001b[0;32mfor\u001b[0m \u001b[0mx\u001b[0m \u001b[0;32min\u001b[0m \u001b[0mentries\u001b[0m\u001b[0;34m]\u001b[0m\u001b[0;34m,\u001b[0m\u001b[0;34m\u001b[0m\u001b[0;34m\u001b[0m\u001b[0m\n\u001b[0m\u001b[1;32m    868\u001b[0m       expand_composites=expand_composites)\n\u001b[1;32m    869\u001b[0m \u001b[0;34m\u001b[0m\u001b[0m\n",
      "\u001b[0;32m~/.pyenv/versions/3.8.6/envs/lewagon/lib/python3.8/site-packages/tensorflow/python/util/nest.py\u001b[0m in \u001b[0;36m<listcomp>\u001b[0;34m(.0)\u001b[0m\n\u001b[1;32m    865\u001b[0m \u001b[0;34m\u001b[0m\u001b[0m\n\u001b[1;32m    866\u001b[0m   return pack_sequence_as(\n\u001b[0;32m--> 867\u001b[0;31m       \u001b[0mstructure\u001b[0m\u001b[0;34m[\u001b[0m\u001b[0;36m0\u001b[0m\u001b[0;34m]\u001b[0m\u001b[0;34m,\u001b[0m \u001b[0;34m[\u001b[0m\u001b[0mfunc\u001b[0m\u001b[0;34m(\u001b[0m\u001b[0;34m*\u001b[0m\u001b[0mx\u001b[0m\u001b[0;34m)\u001b[0m \u001b[0;32mfor\u001b[0m \u001b[0mx\u001b[0m \u001b[0;32min\u001b[0m \u001b[0mentries\u001b[0m\u001b[0;34m]\u001b[0m\u001b[0;34m,\u001b[0m\u001b[0;34m\u001b[0m\u001b[0;34m\u001b[0m\u001b[0m\n\u001b[0m\u001b[1;32m    868\u001b[0m       expand_composites=expand_composites)\n\u001b[1;32m    869\u001b[0m \u001b[0;34m\u001b[0m\u001b[0m\n",
      "\u001b[0;32m~/.pyenv/versions/3.8.6/envs/lewagon/lib/python3.8/site-packages/tensorflow/python/keras/engine/data_adapter.py\u001b[0m in \u001b[0;36m_convert_numpy_and_scipy\u001b[0;34m(x)\u001b[0m\n\u001b[1;32m   1039\u001b[0m       \u001b[0;32mif\u001b[0m \u001b[0missubclass\u001b[0m\u001b[0;34m(\u001b[0m\u001b[0mx\u001b[0m\u001b[0;34m.\u001b[0m\u001b[0mdtype\u001b[0m\u001b[0;34m.\u001b[0m\u001b[0mtype\u001b[0m\u001b[0;34m,\u001b[0m \u001b[0mnp\u001b[0m\u001b[0;34m.\u001b[0m\u001b[0mfloating\u001b[0m\u001b[0;34m)\u001b[0m\u001b[0;34m:\u001b[0m\u001b[0;34m\u001b[0m\u001b[0;34m\u001b[0m\u001b[0m\n\u001b[1;32m   1040\u001b[0m         \u001b[0mdtype\u001b[0m \u001b[0;34m=\u001b[0m \u001b[0mbackend\u001b[0m\u001b[0;34m.\u001b[0m\u001b[0mfloatx\u001b[0m\u001b[0;34m(\u001b[0m\u001b[0;34m)\u001b[0m\u001b[0;34m\u001b[0m\u001b[0;34m\u001b[0m\u001b[0m\n\u001b[0;32m-> 1041\u001b[0;31m       \u001b[0;32mreturn\u001b[0m \u001b[0mops\u001b[0m\u001b[0;34m.\u001b[0m\u001b[0mconvert_to_tensor_v2_with_dispatch\u001b[0m\u001b[0;34m(\u001b[0m\u001b[0mx\u001b[0m\u001b[0;34m,\u001b[0m \u001b[0mdtype\u001b[0m\u001b[0;34m=\u001b[0m\u001b[0mdtype\u001b[0m\u001b[0;34m)\u001b[0m\u001b[0;34m\u001b[0m\u001b[0;34m\u001b[0m\u001b[0m\n\u001b[0m\u001b[1;32m   1042\u001b[0m     \u001b[0;32melif\u001b[0m \u001b[0m_is_scipy_sparse\u001b[0m\u001b[0;34m(\u001b[0m\u001b[0mx\u001b[0m\u001b[0;34m)\u001b[0m\u001b[0;34m:\u001b[0m\u001b[0;34m\u001b[0m\u001b[0;34m\u001b[0m\u001b[0m\n\u001b[1;32m   1043\u001b[0m       \u001b[0;32mreturn\u001b[0m \u001b[0m_scipy_sparse_to_sparse_tensor\u001b[0m\u001b[0;34m(\u001b[0m\u001b[0mx\u001b[0m\u001b[0;34m)\u001b[0m\u001b[0;34m\u001b[0m\u001b[0;34m\u001b[0m\u001b[0m\n",
      "\u001b[0;32m~/.pyenv/versions/3.8.6/envs/lewagon/lib/python3.8/site-packages/tensorflow/python/util/dispatch.py\u001b[0m in \u001b[0;36mwrapper\u001b[0;34m(*args, **kwargs)\u001b[0m\n\u001b[1;32m    204\u001b[0m     \u001b[0;34m\"\"\"Call target, and fall back on dispatchers if there is a TypeError.\"\"\"\u001b[0m\u001b[0;34m\u001b[0m\u001b[0;34m\u001b[0m\u001b[0m\n\u001b[1;32m    205\u001b[0m     \u001b[0;32mtry\u001b[0m\u001b[0;34m:\u001b[0m\u001b[0;34m\u001b[0m\u001b[0;34m\u001b[0m\u001b[0m\n\u001b[0;32m--> 206\u001b[0;31m       \u001b[0;32mreturn\u001b[0m \u001b[0mtarget\u001b[0m\u001b[0;34m(\u001b[0m\u001b[0;34m*\u001b[0m\u001b[0margs\u001b[0m\u001b[0;34m,\u001b[0m \u001b[0;34m**\u001b[0m\u001b[0mkwargs\u001b[0m\u001b[0;34m)\u001b[0m\u001b[0;34m\u001b[0m\u001b[0;34m\u001b[0m\u001b[0m\n\u001b[0m\u001b[1;32m    207\u001b[0m     \u001b[0;32mexcept\u001b[0m \u001b[0;34m(\u001b[0m\u001b[0mTypeError\u001b[0m\u001b[0;34m,\u001b[0m \u001b[0mValueError\u001b[0m\u001b[0;34m)\u001b[0m\u001b[0;34m:\u001b[0m\u001b[0;34m\u001b[0m\u001b[0;34m\u001b[0m\u001b[0m\n\u001b[1;32m    208\u001b[0m       \u001b[0;31m# Note: convert_to_eager_tensor currently raises a ValueError, not a\u001b[0m\u001b[0;34m\u001b[0m\u001b[0;34m\u001b[0m\u001b[0;34m\u001b[0m\u001b[0m\n",
      "\u001b[0;32m~/.pyenv/versions/3.8.6/envs/lewagon/lib/python3.8/site-packages/tensorflow/python/framework/ops.py\u001b[0m in \u001b[0;36mconvert_to_tensor_v2_with_dispatch\u001b[0;34m(value, dtype, dtype_hint, name)\u001b[0m\n\u001b[1;32m   1428\u001b[0m     \u001b[0mValueError\u001b[0m\u001b[0;34m:\u001b[0m \u001b[0mIf\u001b[0m \u001b[0mthe\u001b[0m\u001b[0;31m \u001b[0m\u001b[0;31m`\u001b[0m\u001b[0mvalue\u001b[0m\u001b[0;31m`\u001b[0m \u001b[0;32mis\u001b[0m \u001b[0ma\u001b[0m \u001b[0mtensor\u001b[0m \u001b[0;32mnot\u001b[0m \u001b[0mof\u001b[0m \u001b[0mgiven\u001b[0m\u001b[0;31m \u001b[0m\u001b[0;31m`\u001b[0m\u001b[0mdtype\u001b[0m\u001b[0;31m`\u001b[0m \u001b[0;32min\u001b[0m \u001b[0mgraph\u001b[0m \u001b[0mmode\u001b[0m\u001b[0;34m.\u001b[0m\u001b[0;34m\u001b[0m\u001b[0;34m\u001b[0m\u001b[0m\n\u001b[1;32m   1429\u001b[0m   \"\"\"\n\u001b[0;32m-> 1430\u001b[0;31m   return convert_to_tensor_v2(\n\u001b[0m\u001b[1;32m   1431\u001b[0m       value, dtype=dtype, dtype_hint=dtype_hint, name=name)\n\u001b[1;32m   1432\u001b[0m \u001b[0;34m\u001b[0m\u001b[0m\n",
      "\u001b[0;32m~/.pyenv/versions/3.8.6/envs/lewagon/lib/python3.8/site-packages/tensorflow/python/framework/ops.py\u001b[0m in \u001b[0;36mconvert_to_tensor_v2\u001b[0;34m(value, dtype, dtype_hint, name)\u001b[0m\n\u001b[1;32m   1434\u001b[0m \u001b[0;32mdef\u001b[0m \u001b[0mconvert_to_tensor_v2\u001b[0m\u001b[0;34m(\u001b[0m\u001b[0mvalue\u001b[0m\u001b[0;34m,\u001b[0m \u001b[0mdtype\u001b[0m\u001b[0;34m=\u001b[0m\u001b[0;32mNone\u001b[0m\u001b[0;34m,\u001b[0m \u001b[0mdtype_hint\u001b[0m\u001b[0;34m=\u001b[0m\u001b[0;32mNone\u001b[0m\u001b[0;34m,\u001b[0m \u001b[0mname\u001b[0m\u001b[0;34m=\u001b[0m\u001b[0;32mNone\u001b[0m\u001b[0;34m)\u001b[0m\u001b[0;34m:\u001b[0m\u001b[0;34m\u001b[0m\u001b[0;34m\u001b[0m\u001b[0m\n\u001b[1;32m   1435\u001b[0m   \u001b[0;34m\"\"\"Converts the given `value` to a `Tensor`.\"\"\"\u001b[0m\u001b[0;34m\u001b[0m\u001b[0;34m\u001b[0m\u001b[0m\n\u001b[0;32m-> 1436\u001b[0;31m   return convert_to_tensor(\n\u001b[0m\u001b[1;32m   1437\u001b[0m       \u001b[0mvalue\u001b[0m\u001b[0;34m=\u001b[0m\u001b[0mvalue\u001b[0m\u001b[0;34m,\u001b[0m\u001b[0;34m\u001b[0m\u001b[0;34m\u001b[0m\u001b[0m\n\u001b[1;32m   1438\u001b[0m       \u001b[0mdtype\u001b[0m\u001b[0;34m=\u001b[0m\u001b[0mdtype\u001b[0m\u001b[0;34m,\u001b[0m\u001b[0;34m\u001b[0m\u001b[0;34m\u001b[0m\u001b[0m\n",
      "\u001b[0;32m~/.pyenv/versions/3.8.6/envs/lewagon/lib/python3.8/site-packages/tensorflow/python/profiler/trace.py\u001b[0m in \u001b[0;36mwrapped\u001b[0;34m(*args, **kwargs)\u001b[0m\n\u001b[1;32m    161\u001b[0m         \u001b[0;32mwith\u001b[0m \u001b[0mTrace\u001b[0m\u001b[0;34m(\u001b[0m\u001b[0mtrace_name\u001b[0m\u001b[0;34m,\u001b[0m \u001b[0;34m**\u001b[0m\u001b[0mtrace_kwargs\u001b[0m\u001b[0;34m)\u001b[0m\u001b[0;34m:\u001b[0m\u001b[0;34m\u001b[0m\u001b[0;34m\u001b[0m\u001b[0m\n\u001b[1;32m    162\u001b[0m           \u001b[0;32mreturn\u001b[0m \u001b[0mfunc\u001b[0m\u001b[0;34m(\u001b[0m\u001b[0;34m*\u001b[0m\u001b[0margs\u001b[0m\u001b[0;34m,\u001b[0m \u001b[0;34m**\u001b[0m\u001b[0mkwargs\u001b[0m\u001b[0;34m)\u001b[0m\u001b[0;34m\u001b[0m\u001b[0;34m\u001b[0m\u001b[0m\n\u001b[0;32m--> 163\u001b[0;31m       \u001b[0;32mreturn\u001b[0m \u001b[0mfunc\u001b[0m\u001b[0;34m(\u001b[0m\u001b[0;34m*\u001b[0m\u001b[0margs\u001b[0m\u001b[0;34m,\u001b[0m \u001b[0;34m**\u001b[0m\u001b[0mkwargs\u001b[0m\u001b[0;34m)\u001b[0m\u001b[0;34m\u001b[0m\u001b[0;34m\u001b[0m\u001b[0m\n\u001b[0m\u001b[1;32m    164\u001b[0m \u001b[0;34m\u001b[0m\u001b[0m\n\u001b[1;32m    165\u001b[0m     \u001b[0;32mreturn\u001b[0m \u001b[0mwrapped\u001b[0m\u001b[0;34m\u001b[0m\u001b[0;34m\u001b[0m\u001b[0m\n",
      "\u001b[0;32m~/.pyenv/versions/3.8.6/envs/lewagon/lib/python3.8/site-packages/tensorflow/python/framework/ops.py\u001b[0m in \u001b[0;36mconvert_to_tensor\u001b[0;34m(value, dtype, name, as_ref, preferred_dtype, dtype_hint, ctx, accepted_result_types)\u001b[0m\n\u001b[1;32m   1564\u001b[0m \u001b[0;34m\u001b[0m\u001b[0m\n\u001b[1;32m   1565\u001b[0m     \u001b[0;32mif\u001b[0m \u001b[0mret\u001b[0m \u001b[0;32mis\u001b[0m \u001b[0;32mNone\u001b[0m\u001b[0;34m:\u001b[0m\u001b[0;34m\u001b[0m\u001b[0;34m\u001b[0m\u001b[0m\n\u001b[0;32m-> 1566\u001b[0;31m       \u001b[0mret\u001b[0m \u001b[0;34m=\u001b[0m \u001b[0mconversion_func\u001b[0m\u001b[0;34m(\u001b[0m\u001b[0mvalue\u001b[0m\u001b[0;34m,\u001b[0m \u001b[0mdtype\u001b[0m\u001b[0;34m=\u001b[0m\u001b[0mdtype\u001b[0m\u001b[0;34m,\u001b[0m \u001b[0mname\u001b[0m\u001b[0;34m=\u001b[0m\u001b[0mname\u001b[0m\u001b[0;34m,\u001b[0m \u001b[0mas_ref\u001b[0m\u001b[0;34m=\u001b[0m\u001b[0mas_ref\u001b[0m\u001b[0;34m)\u001b[0m\u001b[0;34m\u001b[0m\u001b[0;34m\u001b[0m\u001b[0m\n\u001b[0m\u001b[1;32m   1567\u001b[0m \u001b[0;34m\u001b[0m\u001b[0m\n\u001b[1;32m   1568\u001b[0m     \u001b[0;32mif\u001b[0m \u001b[0mret\u001b[0m \u001b[0;32mis\u001b[0m \u001b[0mNotImplemented\u001b[0m\u001b[0;34m:\u001b[0m\u001b[0;34m\u001b[0m\u001b[0;34m\u001b[0m\u001b[0m\n",
      "\u001b[0;32m~/.pyenv/versions/3.8.6/envs/lewagon/lib/python3.8/site-packages/tensorflow/python/framework/tensor_conversion_registry.py\u001b[0m in \u001b[0;36m_default_conversion_function\u001b[0;34m(***failed resolving arguments***)\u001b[0m\n\u001b[1;32m     50\u001b[0m \u001b[0;32mdef\u001b[0m \u001b[0m_default_conversion_function\u001b[0m\u001b[0;34m(\u001b[0m\u001b[0mvalue\u001b[0m\u001b[0;34m,\u001b[0m \u001b[0mdtype\u001b[0m\u001b[0;34m,\u001b[0m \u001b[0mname\u001b[0m\u001b[0;34m,\u001b[0m \u001b[0mas_ref\u001b[0m\u001b[0;34m)\u001b[0m\u001b[0;34m:\u001b[0m\u001b[0;34m\u001b[0m\u001b[0;34m\u001b[0m\u001b[0m\n\u001b[1;32m     51\u001b[0m   \u001b[0;32mdel\u001b[0m \u001b[0mas_ref\u001b[0m  \u001b[0;31m# Unused.\u001b[0m\u001b[0;34m\u001b[0m\u001b[0;34m\u001b[0m\u001b[0m\n\u001b[0;32m---> 52\u001b[0;31m   \u001b[0;32mreturn\u001b[0m \u001b[0mconstant_op\u001b[0m\u001b[0;34m.\u001b[0m\u001b[0mconstant\u001b[0m\u001b[0;34m(\u001b[0m\u001b[0mvalue\u001b[0m\u001b[0;34m,\u001b[0m \u001b[0mdtype\u001b[0m\u001b[0;34m,\u001b[0m \u001b[0mname\u001b[0m\u001b[0;34m=\u001b[0m\u001b[0mname\u001b[0m\u001b[0;34m)\u001b[0m\u001b[0;34m\u001b[0m\u001b[0;34m\u001b[0m\u001b[0m\n\u001b[0m\u001b[1;32m     53\u001b[0m \u001b[0;34m\u001b[0m\u001b[0m\n\u001b[1;32m     54\u001b[0m \u001b[0;34m\u001b[0m\u001b[0m\n",
      "\u001b[0;32m~/.pyenv/versions/3.8.6/envs/lewagon/lib/python3.8/site-packages/tensorflow/python/framework/constant_op.py\u001b[0m in \u001b[0;36mconstant\u001b[0;34m(value, dtype, shape, name)\u001b[0m\n\u001b[1;32m    262\u001b[0m     \u001b[0mValueError\u001b[0m\u001b[0;34m:\u001b[0m \u001b[0;32mif\u001b[0m \u001b[0mcalled\u001b[0m \u001b[0mon\u001b[0m \u001b[0ma\u001b[0m \u001b[0msymbolic\u001b[0m \u001b[0mtensor\u001b[0m\u001b[0;34m.\u001b[0m\u001b[0;34m\u001b[0m\u001b[0;34m\u001b[0m\u001b[0m\n\u001b[1;32m    263\u001b[0m   \"\"\"\n\u001b[0;32m--> 264\u001b[0;31m   return _constant_impl(value, dtype, shape, name, verify_shape=False,\n\u001b[0m\u001b[1;32m    265\u001b[0m                         allow_broadcast=True)\n\u001b[1;32m    266\u001b[0m \u001b[0;34m\u001b[0m\u001b[0m\n",
      "\u001b[0;32m~/.pyenv/versions/3.8.6/envs/lewagon/lib/python3.8/site-packages/tensorflow/python/framework/constant_op.py\u001b[0m in \u001b[0;36m_constant_impl\u001b[0;34m(value, dtype, shape, name, verify_shape, allow_broadcast)\u001b[0m\n\u001b[1;32m    274\u001b[0m       \u001b[0;32mwith\u001b[0m \u001b[0mtrace\u001b[0m\u001b[0;34m.\u001b[0m\u001b[0mTrace\u001b[0m\u001b[0;34m(\u001b[0m\u001b[0;34m\"tf.constant\"\u001b[0m\u001b[0;34m)\u001b[0m\u001b[0;34m:\u001b[0m\u001b[0;34m\u001b[0m\u001b[0;34m\u001b[0m\u001b[0m\n\u001b[1;32m    275\u001b[0m         \u001b[0;32mreturn\u001b[0m \u001b[0m_constant_eager_impl\u001b[0m\u001b[0;34m(\u001b[0m\u001b[0mctx\u001b[0m\u001b[0;34m,\u001b[0m \u001b[0mvalue\u001b[0m\u001b[0;34m,\u001b[0m \u001b[0mdtype\u001b[0m\u001b[0;34m,\u001b[0m \u001b[0mshape\u001b[0m\u001b[0;34m,\u001b[0m \u001b[0mverify_shape\u001b[0m\u001b[0;34m)\u001b[0m\u001b[0;34m\u001b[0m\u001b[0;34m\u001b[0m\u001b[0m\n\u001b[0;32m--> 276\u001b[0;31m     \u001b[0;32mreturn\u001b[0m \u001b[0m_constant_eager_impl\u001b[0m\u001b[0;34m(\u001b[0m\u001b[0mctx\u001b[0m\u001b[0;34m,\u001b[0m \u001b[0mvalue\u001b[0m\u001b[0;34m,\u001b[0m \u001b[0mdtype\u001b[0m\u001b[0;34m,\u001b[0m \u001b[0mshape\u001b[0m\u001b[0;34m,\u001b[0m \u001b[0mverify_shape\u001b[0m\u001b[0;34m)\u001b[0m\u001b[0;34m\u001b[0m\u001b[0;34m\u001b[0m\u001b[0m\n\u001b[0m\u001b[1;32m    277\u001b[0m \u001b[0;34m\u001b[0m\u001b[0m\n\u001b[1;32m    278\u001b[0m   \u001b[0mg\u001b[0m \u001b[0;34m=\u001b[0m \u001b[0mops\u001b[0m\u001b[0;34m.\u001b[0m\u001b[0mget_default_graph\u001b[0m\u001b[0;34m(\u001b[0m\u001b[0;34m)\u001b[0m\u001b[0;34m\u001b[0m\u001b[0;34m\u001b[0m\u001b[0m\n",
      "\u001b[0;32m~/.pyenv/versions/3.8.6/envs/lewagon/lib/python3.8/site-packages/tensorflow/python/framework/constant_op.py\u001b[0m in \u001b[0;36m_constant_eager_impl\u001b[0;34m(ctx, value, dtype, shape, verify_shape)\u001b[0m\n\u001b[1;32m    299\u001b[0m \u001b[0;32mdef\u001b[0m \u001b[0m_constant_eager_impl\u001b[0m\u001b[0;34m(\u001b[0m\u001b[0mctx\u001b[0m\u001b[0;34m,\u001b[0m \u001b[0mvalue\u001b[0m\u001b[0;34m,\u001b[0m \u001b[0mdtype\u001b[0m\u001b[0;34m,\u001b[0m \u001b[0mshape\u001b[0m\u001b[0;34m,\u001b[0m \u001b[0mverify_shape\u001b[0m\u001b[0;34m)\u001b[0m\u001b[0;34m:\u001b[0m\u001b[0;34m\u001b[0m\u001b[0;34m\u001b[0m\u001b[0m\n\u001b[1;32m    300\u001b[0m   \u001b[0;34m\"\"\"Implementation of eager constant.\"\"\"\u001b[0m\u001b[0;34m\u001b[0m\u001b[0;34m\u001b[0m\u001b[0m\n\u001b[0;32m--> 301\u001b[0;31m   \u001b[0mt\u001b[0m \u001b[0;34m=\u001b[0m \u001b[0mconvert_to_eager_tensor\u001b[0m\u001b[0;34m(\u001b[0m\u001b[0mvalue\u001b[0m\u001b[0;34m,\u001b[0m \u001b[0mctx\u001b[0m\u001b[0;34m,\u001b[0m \u001b[0mdtype\u001b[0m\u001b[0;34m)\u001b[0m\u001b[0;34m\u001b[0m\u001b[0;34m\u001b[0m\u001b[0m\n\u001b[0m\u001b[1;32m    302\u001b[0m   \u001b[0;32mif\u001b[0m \u001b[0mshape\u001b[0m \u001b[0;32mis\u001b[0m \u001b[0;32mNone\u001b[0m\u001b[0;34m:\u001b[0m\u001b[0;34m\u001b[0m\u001b[0;34m\u001b[0m\u001b[0m\n\u001b[1;32m    303\u001b[0m     \u001b[0;32mreturn\u001b[0m \u001b[0mt\u001b[0m\u001b[0;34m\u001b[0m\u001b[0;34m\u001b[0m\u001b[0m\n",
      "\u001b[0;32m~/.pyenv/versions/3.8.6/envs/lewagon/lib/python3.8/site-packages/tensorflow/python/framework/constant_op.py\u001b[0m in \u001b[0;36mconvert_to_eager_tensor\u001b[0;34m(value, ctx, dtype)\u001b[0m\n\u001b[1;32m     96\u001b[0m       \u001b[0mdtype\u001b[0m \u001b[0;34m=\u001b[0m \u001b[0mdtypes\u001b[0m\u001b[0;34m.\u001b[0m\u001b[0mas_dtype\u001b[0m\u001b[0;34m(\u001b[0m\u001b[0mdtype\u001b[0m\u001b[0;34m)\u001b[0m\u001b[0;34m.\u001b[0m\u001b[0mas_datatype_enum\u001b[0m\u001b[0;34m\u001b[0m\u001b[0;34m\u001b[0m\u001b[0m\n\u001b[1;32m     97\u001b[0m   \u001b[0mctx\u001b[0m\u001b[0;34m.\u001b[0m\u001b[0mensure_initialized\u001b[0m\u001b[0;34m(\u001b[0m\u001b[0;34m)\u001b[0m\u001b[0;34m\u001b[0m\u001b[0;34m\u001b[0m\u001b[0m\n\u001b[0;32m---> 98\u001b[0;31m   \u001b[0;32mreturn\u001b[0m \u001b[0mops\u001b[0m\u001b[0;34m.\u001b[0m\u001b[0mEagerTensor\u001b[0m\u001b[0;34m(\u001b[0m\u001b[0mvalue\u001b[0m\u001b[0;34m,\u001b[0m \u001b[0mctx\u001b[0m\u001b[0;34m.\u001b[0m\u001b[0mdevice_name\u001b[0m\u001b[0;34m,\u001b[0m \u001b[0mdtype\u001b[0m\u001b[0;34m)\u001b[0m\u001b[0;34m\u001b[0m\u001b[0;34m\u001b[0m\u001b[0m\n\u001b[0m\u001b[1;32m     99\u001b[0m \u001b[0;34m\u001b[0m\u001b[0m\n\u001b[1;32m    100\u001b[0m \u001b[0;34m\u001b[0m\u001b[0m\n",
      "\u001b[0;31mValueError\u001b[0m: Failed to convert a NumPy array to a Tensor (Unsupported object type numpy.ndarray)."
     ]
    }
   ],
   "source": [
    "model4.fit(X_train, y_train,validation_data=(X_test,y_test))"
   ]
  },
  {
   "cell_type": "code",
   "execution_count": null,
   "id": "590fcd8b",
   "metadata": {},
   "outputs": [],
   "source": []
  }
 ],
 "metadata": {
  "kernelspec": {
   "display_name": "Python 3 (ipykernel)",
   "language": "python",
   "name": "python3"
  },
  "language_info": {
   "codemirror_mode": {
    "name": "ipython",
    "version": 3
   },
   "file_extension": ".py",
   "mimetype": "text/x-python",
   "name": "python",
   "nbconvert_exporter": "python",
   "pygments_lexer": "ipython3",
   "version": "3.8.6"
  },
  "toc": {
   "base_numbering": 1,
   "nav_menu": {},
   "number_sections": true,
   "sideBar": true,
   "skip_h1_title": false,
   "title_cell": "Table of Contents",
   "title_sidebar": "Contents",
   "toc_cell": false,
   "toc_position": {},
   "toc_section_display": true,
   "toc_window_display": false
  }
 },
 "nbformat": 4,
 "nbformat_minor": 5
}
