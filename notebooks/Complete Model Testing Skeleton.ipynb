{
 "cells": [
  {
   "cell_type": "markdown",
   "id": "c8db458e",
   "metadata": {
    "heading_collapsed": true
   },
   "source": [
    "# IMPORTS AND DATA"
   ]
  },
  {
   "cell_type": "code",
   "execution_count": 34,
   "id": "ac2e6ca1",
   "metadata": {
    "ExecuteTime": {
     "end_time": "2021-11-05T19:04:44.491053Z",
     "start_time": "2021-11-05T19:04:44.481025Z"
    },
    "hidden": true
   },
   "outputs": [],
   "source": [
    "from fireTS.models import NARX, DirectAutoRegressor\n",
    "from sklearn.ensemble import RandomForestRegressor\n",
    "from xgboost import XGBRegressor\n",
    "import numpy as np\n",
    "from sklearn.metrics import mean_absolute_error, mean_squared_error\n",
    "from sklearn.svm import SVR, LinearSVR\n",
    "from sklearn.model_selection import train_test_split\n",
    "from sklearn.linear_model import SGDRegressor\n",
    "from keras.preprocessing.sequence import TimeseriesGenerator\n",
    "from keras import Sequential\n",
    "from keras.layers import Conv1D, MaxPooling1D, LSTM, Dense"
   ]
  },
  {
   "cell_type": "code",
   "execution_count": 228,
   "id": "9d1e59ca",
   "metadata": {
    "ExecuteTime": {
     "end_time": "2021-11-11T12:30:44.618938Z",
     "start_time": "2021-11-11T12:30:42.761901Z"
    },
    "hidden": true
   },
   "outputs": [],
   "source": [
    "import pandas as pd\n",
    "import glob\n",
    "import os\n",
    "import sklearn\n",
    "from sklearn.model_selection import train_test_split\n",
    "from sklearn.linear_model import LinearRegression\n",
    "from sklearn.metrics import mean_squared_error, r2_score, mean_absolute_error\n",
    "import matplotlib.pyplot as plt\n",
    "import tensorflow \n",
    "#import autokeras as ak\n",
    "import scipy.io\n",
    "from xgboost import XGBRegressor\n",
    "import pandas as pd\n",
    "import numpy as np\n",
    "import keras\n",
    "import matplotlib.pyplot as plt\n",
    "from sklearn.preprocessing import MinMaxScaler\n",
    "from pandas.plotting import register_matplotlib_converters\n",
    "register_matplotlib_converters()\n",
    "from keras.preprocessing.sequence import TimeseriesGenerator\n",
    "from keras.models import Sequential\n",
    "from keras.layers import Dense\n",
    "from keras.layers import LSTM, SimpleRNN"
   ]
  },
  {
   "cell_type": "code",
   "execution_count": 327,
   "id": "2bdeb029",
   "metadata": {
    "ExecuteTime": {
     "end_time": "2021-11-11T17:03:45.832371Z",
     "start_time": "2021-11-11T17:03:45.565505Z"
    },
    "hidden": true
   },
   "outputs": [],
   "source": [
    "df = pd.concat(map(pd.read_csv, glob.glob(os.path.join('', \"../raw_data/Results2/*.txt\"))))\n",
    "X=df.drop(columns=['SOC_tot'])\n",
    "y=df.SOC_tot\n",
    "X_train, X_test, y_train, y_test = train_test_split(X,y,test_size=0.2, shuffle=False)"
   ]
  },
  {
   "cell_type": "code",
   "execution_count": 321,
   "id": "afd82a29",
   "metadata": {
    "ExecuteTime": {
     "end_time": "2021-11-11T17:03:14.897000Z",
     "start_time": "2021-11-11T17:03:14.620386Z"
    },
    "hidden": true
   },
   "outputs": [],
   "source": [
    "df = pd.concat(map(pd.read_csv, glob.glob(os.path.join('', \"../raw_data/Test2/*.txt\"))))\n",
    "X_train=df.drop(columns=['SOC_tot'])\n",
    "y_train = df.SOC_tot\n",
    "\n",
    "df_test = pd.read_csv('../raw_data/CSVs/hwy.csv')\n",
    "X_test=df_test.drop(columns=['SOC_tot'])\n",
    "y_test = df_test.SOC_tot"
   ]
  },
  {
   "cell_type": "markdown",
   "id": "b64b7d45",
   "metadata": {
    "heading_collapsed": true
   },
   "source": [
    "# NARX"
   ]
  },
  {
   "cell_type": "code",
   "execution_count": 330,
   "id": "db4279e9",
   "metadata": {
    "ExecuteTime": {
     "end_time": "2021-11-11T17:04:19.934395Z",
     "start_time": "2021-11-11T17:04:05.463834Z"
    },
    "hidden": true
   },
   "outputs": [
    {
     "name": "stderr",
     "output_type": "stream",
     "text": [
      "/Users/monmac/.pyenv/versions/3.8.6/envs/lewagon/lib/python3.8/site-packages/sklearn/svm/_base.py:946: ConvergenceWarning: Liblinear failed to converge, increase the number of iterations.\n",
      "  warnings.warn(\"Liblinear failed to converge, increase \"\n"
     ]
    }
   ],
   "source": [
    "mdl1 = NARX(\n",
    "    LinearSVR(),\n",
    "    auto_order=6,\n",
    "    exog_order=[1,1,1,1],\n",
    "    )\n",
    "\n",
    "mdl1.fit(X_train, y_train)\n",
    "ypred1 = mdl1.predict(X_test, y_test, step=3)"
   ]
  },
  {
   "cell_type": "code",
   "execution_count": 331,
   "id": "7eb35f37",
   "metadata": {
    "ExecuteTime": {
     "end_time": "2021-11-11T17:04:19.962552Z",
     "start_time": "2021-11-11T17:04:19.938535Z"
    },
    "hidden": true
   },
   "outputs": [
    {
     "name": "stdout",
     "output_type": "stream",
     "text": [
      "0.10035587074359405\n",
      "1.6496690692522888\n"
     ]
    }
   ],
   "source": [
    "len1 = len(ypred1[11:])\n",
    "\n",
    "\n",
    "X_len1 = np.linspace(0,len1,len1)\n",
    "print(mean_absolute_error(ypred1[11:],y_test[11:]))\n",
    "print(mean_squared_error(ypred1[11:],y_test[11:], squared=False))"
   ]
  },
  {
   "cell_type": "code",
   "execution_count": 235,
   "id": "a03cb6b4",
   "metadata": {
    "ExecuteTime": {
     "end_time": "2021-11-11T12:49:05.468536Z",
     "start_time": "2021-11-11T12:49:05.420841Z"
    },
    "hidden": true
   },
   "outputs": [],
   "source": [
    "ypred_test = mdl1.forecast(X_test, y_test, step=10)"
   ]
  },
  {
   "cell_type": "code",
   "execution_count": null,
   "id": "2f8bccf2",
   "metadata": {
    "ExecuteTime": {
     "end_time": "2021-11-04T14:11:33.781598Z",
     "start_time": "2021-11-04T14:11:33.591267Z"
    },
    "hidden": true
   },
   "outputs": [],
   "source": [
    "mdl2 = DirectAutoRegressor(\n",
    "    LinearRegression(),\n",
    "    auto_order=6,\n",
    "    exog_order=[1, 1,1,1],\n",
    "    pred_step=3)\n",
    "\n",
    "mdl2.fit(X_train, y_train)\n",
    "ypred2 = mdl2.predict(X_test, y_test)"
   ]
  },
  {
   "cell_type": "code",
   "execution_count": null,
   "id": "451fcb03",
   "metadata": {
    "ExecuteTime": {
     "start_time": "2021-11-04T13:14:20.830Z"
    },
    "hidden": true
   },
   "outputs": [],
   "source": [
    "mdl3 = NARX(\n",
    "    SVR(),\n",
    "    auto_order=1,\n",
    "    exog_order=[1, 1,1,1]\n",
    "    )\n",
    "\n",
    "mdl3.fit(X_train, y_train)\n",
    "ypred3 = mdl3.predict(X_test, y_test)"
   ]
  },
  {
   "cell_type": "code",
   "execution_count": null,
   "id": "7449b085",
   "metadata": {
    "ExecuteTime": {
     "end_time": "2021-11-04T14:00:28.046058Z",
     "start_time": "2021-11-04T14:00:28.027909Z"
    },
    "hidden": true
   },
   "outputs": [],
   "source": [
    "print(mdl1.score(X_test,y_test, method='mse'))\n",
    "print(mdl2.score(X_test,y_test, method='mse'))\n",
    "#print(mdl3.score(X_test,y_test, method='mse'))"
   ]
  },
  {
   "cell_type": "markdown",
   "id": "59870b1f",
   "metadata": {
    "heading_collapsed": true
   },
   "source": [
    "# PLOTS"
   ]
  },
  {
   "cell_type": "code",
   "execution_count": 225,
   "id": "4a3ea551",
   "metadata": {
    "ExecuteTime": {
     "end_time": "2021-11-08T18:41:56.612711Z",
     "start_time": "2021-11-08T18:41:56.197799Z"
    },
    "hidden": true
   },
   "outputs": [
    {
     "name": "stdout",
     "output_type": "stream",
     "text": [
      "0.050529497933736144\n",
      "0.060030554992211084\n"
     ]
    },
    {
     "data": {
      "application/javascript": [
       "\n",
       "        if (window._pyforest_update_imports_cell) { window._pyforest_update_imports_cell('import pandas as pd\\nimport tensorflow as tf\\nimport glob\\nimport os\\nimport matplotlib.pyplot as plt\\nfrom sklearn.preprocessing import MinMaxScaler'); }\n",
       "    "
      ],
      "text/plain": [
       "<IPython.core.display.Javascript object>"
      ]
     },
     "metadata": {},
     "output_type": "display_data"
    },
    {
     "data": {
      "application/javascript": [
       "\n",
       "        if (window._pyforest_update_imports_cell) { window._pyforest_update_imports_cell('import pandas as pd\\nimport tensorflow as tf\\nimport glob\\nimport os\\nimport matplotlib.pyplot as plt\\nfrom sklearn.preprocessing import MinMaxScaler'); }\n",
       "    "
      ],
      "text/plain": [
       "<IPython.core.display.Javascript object>"
      ]
     },
     "metadata": {},
     "output_type": "display_data"
    },
    {
     "data": {
      "application/javascript": [
       "\n",
       "        if (window._pyforest_update_imports_cell) { window._pyforest_update_imports_cell('import pandas as pd\\nimport tensorflow as tf\\nimport glob\\nimport os\\nimport matplotlib.pyplot as plt\\nfrom sklearn.preprocessing import MinMaxScaler'); }\n",
       "    "
      ],
      "text/plain": [
       "<IPython.core.display.Javascript object>"
      ]
     },
     "metadata": {},
     "output_type": "display_data"
    },
    {
     "data": {
      "application/javascript": [
       "\n",
       "        if (window._pyforest_update_imports_cell) { window._pyforest_update_imports_cell('import pandas as pd\\nimport tensorflow as tf\\nimport glob\\nimport os\\nimport matplotlib.pyplot as plt\\nfrom sklearn.preprocessing import MinMaxScaler'); }\n",
       "    "
      ],
      "text/plain": [
       "<IPython.core.display.Javascript object>"
      ]
     },
     "metadata": {},
     "output_type": "display_data"
    },
    {
     "data": {
      "application/javascript": [
       "\n",
       "        if (window._pyforest_update_imports_cell) { window._pyforest_update_imports_cell('import pandas as pd\\nimport tensorflow as tf\\nimport glob\\nimport os\\nimport matplotlib.pyplot as plt\\nfrom sklearn.preprocessing import MinMaxScaler'); }\n",
       "    "
      ],
      "text/plain": [
       "<IPython.core.display.Javascript object>"
      ]
     },
     "metadata": {},
     "output_type": "display_data"
    },
    {
     "data": {
      "application/javascript": [
       "\n",
       "        if (window._pyforest_update_imports_cell) { window._pyforest_update_imports_cell('import pandas as pd\\nimport tensorflow as tf\\nimport glob\\nimport os\\nimport matplotlib.pyplot as plt\\nfrom sklearn.preprocessing import MinMaxScaler'); }\n",
       "    "
      ],
      "text/plain": [
       "<IPython.core.display.Javascript object>"
      ]
     },
     "metadata": {},
     "output_type": "display_data"
    },
    {
     "data": {
      "application/javascript": [
       "\n",
       "        if (window._pyforest_update_imports_cell) { window._pyforest_update_imports_cell('import pandas as pd\\nimport tensorflow as tf\\nimport glob\\nimport os\\nimport matplotlib.pyplot as plt\\nfrom sklearn.preprocessing import MinMaxScaler'); }\n",
       "    "
      ],
      "text/plain": [
       "<IPython.core.display.Javascript object>"
      ]
     },
     "metadata": {},
     "output_type": "display_data"
    },
    {
     "data": {
      "application/javascript": [
       "\n",
       "        if (window._pyforest_update_imports_cell) { window._pyforest_update_imports_cell('import pandas as pd\\nimport tensorflow as tf\\nimport glob\\nimport os\\nimport matplotlib.pyplot as plt\\nfrom sklearn.preprocessing import MinMaxScaler'); }\n",
       "    "
      ],
      "text/plain": [
       "<IPython.core.display.Javascript object>"
      ]
     },
     "metadata": {},
     "output_type": "display_data"
    },
    {
     "data": {
      "application/javascript": [
       "\n",
       "        if (window._pyforest_update_imports_cell) { window._pyforest_update_imports_cell('import pandas as pd\\nimport tensorflow as tf\\nimport glob\\nimport os\\nimport matplotlib.pyplot as plt\\nfrom sklearn.preprocessing import MinMaxScaler'); }\n",
       "    "
      ],
      "text/plain": [
       "<IPython.core.display.Javascript object>"
      ]
     },
     "metadata": {},
     "output_type": "display_data"
    },
    {
     "data": {
      "image/png": "[encoded data removed]",
      "text/plain": [
       "<Figure size 1440x1440 with 1 Axes>"
      ]
     },
     "metadata": {
      "needs_background": "light"
     },
     "output_type": "display_data"
    }
   ],
   "source": [
    "len1 = len(ypred1[11:])\n",
    "\n",
    "\n",
    "X_len1 = np.linspace(0,len1,len1)\n",
    "\n",
    "print(mean_absolute_error(ypred1[11:],y_test[11:]))\n",
    "print(mean_squared_error(ypred1[11:],y_test[11:], squared=False))\n",
    "\n",
    "plt.figure(figsize=(20,20))\n",
    "plt.plot(X_len1,ypred1[11:], label='predicted_data')\n",
    "plt.plot(X_len1,y_test[11:], label='real_data')\n",
    "plt.title('SOC and timesteps')\n",
    "plt.xlabel('timesteps')\n",
    "plt.ylabel('SOC')\n",
    "plt.legend()\n",
    "plt.ylim(55,81)\n",
    "plt.show()"
   ]
  },
  {
   "cell_type": "code",
   "execution_count": null,
   "id": "e50384a6",
   "metadata": {
    "ExecuteTime": {
     "end_time": "2021-11-04T14:11:35.778938Z",
     "start_time": "2021-11-04T14:11:35.495800Z"
    },
    "hidden": true
   },
   "outputs": [],
   "source": [
    "len1 = len(ypred2[10:])\n",
    "\n",
    "\n",
    "X_len1 = np.linspace(0,len1,len1)\n",
    "print(mean_absolute_error(ypred2[10:],y_test[10:]))\n",
    "print(mean_squared_error(ypred2[10:],y_test[10:], squared=False))\n",
    "\n",
    "plt.figure(figsize=(10,10))\n",
    "plt.plot(X_len1,ypred2[10:], label='predicted_data')\n",
    "plt.plot(X_len1,y_test[10:], label='real_data')\n",
    "plt.title('percentage of battery over discharge cycle')\n",
    "plt.xlabel('datapoints')\n",
    "plt.ylabel('percentage of battery')\n",
    "plt.legend()\n",
    "plt.ylim(70,82)\n",
    "plt.show()"
   ]
  },
  {
   "cell_type": "code",
   "execution_count": null,
   "id": "260088aa",
   "metadata": {
    "ExecuteTime": {
     "end_time": "2021-11-04T14:00:36.743854Z",
     "start_time": "2021-11-04T14:00:36.618250Z"
    },
    "hidden": true
   },
   "outputs": [],
   "source": [
    "len1 = len(ypred3[10:])\n",
    "\n",
    "\n",
    "X_len1 = np.linspace(0,len1,len1)\n",
    "print(mean_absolute_error(ypred3[10:],y_test[10:]))\n",
    "print(mean_squared_error(ypred3[10:],y_test[10:], squared=False))\n",
    "\n",
    "plt.figure(figsize=(20,20))\n",
    "plt.plot(X_len1,ypred3[10:], label='predicted_data')\n",
    "plt.plot(X_len1,y_test[10:], label='real_data')\n",
    "plt.title('percentage of battery over discharge cycle')\n",
    "plt.xlabel('datapoints')\n",
    "plt.ylabel('percentage of battery')\n",
    "plt.legend()\n",
    "plt.ylim(77,82)\n",
    "plt.show()"
   ]
  },
  {
   "cell_type": "markdown",
   "id": "76e413f3",
   "metadata": {
    "heading_collapsed": true
   },
   "source": [
    "# CNN-LSTM"
   ]
  },
  {
   "cell_type": "code",
   "execution_count": 365,
   "id": "49baac88",
   "metadata": {
    "ExecuteTime": {
     "end_time": "2021-11-11T17:25:13.639303Z",
     "start_time": "2021-11-11T17:25:13.556802Z"
    },
    "hidden": true
   },
   "outputs": [],
   "source": [
    "def cnn_lstm():\n",
    "\n",
    "    # train, test = train_test_split(df, shuffle=True, test_size=0.2)\n",
    "    epochs=10\n",
    "    df = pd.concat(map(pd.read_csv, glob.glob(os.path.join('', \"../../thesis/raw_data/Results2/*.txt\")))) # read data \n",
    "    y_col='SOC_tot' # define y variable, i.e., what we want to predict\n",
    "\n",
    "    test_size = int(len(df) * 0.1) # here I ask that the test data will be 10% (0.1) of the entire data\n",
    "    \n",
    "    train = df.iloc[:-test_size,:].copy() \n",
    "    # Try using .loc[row_index,col_indexer] = value instead\n",
    "    test = df.iloc[-test_size:,:].copy()\n",
    "    y_col='SOC_tot' # define y variable, i.e., what we want to predict\n",
    "\n",
    "    X_train = train.drop(y_col, axis=1).copy()\n",
    "    y_train = train[[y_col]].copy() # the double brackets here are to keep the y in dataframe format, otherwise it will be pandas Series\n",
    "    \n",
    "    Xscaler = MinMaxScaler(feature_range=(0, 1)) # scale so that all the X data will range from 0 to 1\n",
    "    Xscaler.fit(X_train)\n",
    "    scaled_X_train = Xscaler.transform(X_train)\n",
    "    \n",
    "    Yscaler = MinMaxScaler(feature_range=(0, 1))\n",
    "    Yscaler.fit(y_train)\n",
    "    scaled_y_train = Yscaler.transform(y_train)\n",
    "    scaled_y_train = scaled_y_train.reshape(-1) # remove the second dimension from y so the shape changes from (n,1) to (n,)\n",
    "\n",
    "    scaled_y_train = np.insert(scaled_y_train, 0, 0)\n",
    "    scaled_y_train = np.delete(scaled_y_train, -1)\n",
    "\n",
    "    n_input = 10 # how many samples/rows/timesteps to look in the past in order to forecast the next sample\n",
    "    n_features = X_train.shape[1] # how many predictors/Xs/features we have to predict y\n",
    "    b_size = 25 # Number of timeseries samples in each batch\n",
    "    X_train, y_train = np.array(X_train), np.array(y_train)\n",
    "\n",
    "    generator = TimeseriesGenerator(scaled_X_train, scaled_y_train, length=n_input, batch_size=b_size)\n",
    "    X_test = test.drop(y_col, axis=1).copy()\n",
    "    y_test = test[[y_col]].copy()\n",
    "\n",
    "    scaled_X_test = Xscaler.transform(X_test)\n",
    "    Yscaler.fit(y_test)\n",
    "    scaled_y_test = Yscaler.transform(y_test)\n",
    "    scaled_y_test = scaled_y_test.reshape(-1)\n",
    "    test_generator = TimeseriesGenerator(scaled_X_test, scaled_y_test, length=n_input, batch_size=b_size)\n",
    "\n",
    "    # building the model\n",
    "\n",
    "    model = Sequential()\n",
    "\n",
    "    # convolutional layers\n",
    "\n",
    "    model.add(Conv1D(filters=32, kernel_size=3, padding='same', activation='relu', input_shape=(n_input, n_features)))\n",
    "    model.add(Conv1D(filters=32, kernel_size=3, padding='same', activation='relu'))\n",
    "    model.add(MaxPooling1D(pool_size=2))\n",
    "\n",
    "    # model.add(Flatten())\n",
    "\n",
    "    # lstm layers\n",
    "\n",
    "    model.add(LSTM(12, activation='relu', return_sequences=False))\n",
    "\n",
    "    # dense layers\n",
    "\n",
    "    model.add(Dense(1))\n",
    "    tf.keras.optimizers.Adagrad(learning_rate=0.001,initial_accumulator_value=0.1,epsilon=1e-07,name=\"Adagrad\")\n",
    "    tf.keras.optimizers.Adam(learning_rate=0.0001,name=\"Adam\")\n",
    "\n",
    "    model.compile(optimizer='Adam', loss='mae')\n",
    "\n",
    "    # fitting the model\n",
    "\n",
    "    model.fit(generator, epochs=epochs, verbose=1, validation_data=test_generator)\n",
    "\n",
    "    # generating a pandas dataframe of results\n",
    "\n",
    "    y_pred_scaled = model.predict(test_generator)\n",
    "    y_pred = Yscaler.inverse_transform(y_pred_scaled)\n",
    "    results = pd.DataFrame({'y_true': test[y_col].values[n_input:], 'y_pred': y_pred.ravel()})\n",
    "\n",
    "    return model, results"
   ]
  },
  {
   "cell_type": "code",
   "execution_count": 366,
   "id": "c5148fe4",
   "metadata": {
    "ExecuteTime": {
     "end_time": "2021-11-11T17:25:50.710777Z",
     "start_time": "2021-11-11T17:25:22.087359Z"
    },
    "collapsed": true,
    "hidden": true
   },
   "outputs": [
    {
     "data": {
      "application/javascript": [
       "\n",
       "        if (window._pyforest_update_imports_cell) { window._pyforest_update_imports_cell('import pandas as pd\\nimport tensorflow as tf\\nimport glob\\nimport os\\nimport matplotlib.pyplot as plt\\nfrom sklearn.preprocessing import MinMaxScaler'); }\n",
       "    "
      ],
      "text/plain": [
       "<IPython.core.display.Javascript object>"
      ]
     },
     "metadata": {},
     "output_type": "display_data"
    },
    {
     "data": {
      "application/javascript": [
       "\n",
       "        if (window._pyforest_update_imports_cell) { window._pyforest_update_imports_cell('import pandas as pd\\nimport tensorflow as tf\\nimport glob\\nimport os\\nimport matplotlib.pyplot as plt\\nfrom sklearn.preprocessing import MinMaxScaler'); }\n",
       "    "
      ],
      "text/plain": [
       "<IPython.core.display.Javascript object>"
      ]
     },
     "metadata": {},
     "output_type": "display_data"
    },
    {
     "name": "stdout",
     "output_type": "stream",
     "text": [
      "Epoch 1/10\n",
      "3604/3604 [==============================] - 25s 5ms/step - loss: 0.0832 - val_loss: 0.0814\n",
      "Epoch 2/10\n",
      "  43/3604 [..............................] - ETA: 27s - loss: 0.0184"
     ]
    },
    {
     "ename": "KeyboardInterrupt",
     "evalue": "",
     "output_type": "error",
     "traceback": [
      "\u001b[0;31m---------------------------------------------------------------------------\u001b[0m",
      "\u001b[0;31mKeyboardInterrupt\u001b[0m                         Traceback (most recent call last)",
      "\u001b[0;32m/var/folders/p2/6ddwj2812811pbqjm8t6brv80000gn/T/ipykernel_17564/2245658386.py\u001b[0m in \u001b[0;36m<module>\u001b[0;34m\u001b[0m\n\u001b[0;32m----> 1\u001b[0;31m \u001b[0mmodel\u001b[0m\u001b[0;34m,\u001b[0m\u001b[0mresults\u001b[0m\u001b[0;34m=\u001b[0m\u001b[0mcnn_lstm\u001b[0m\u001b[0;34m(\u001b[0m\u001b[0;34m)\u001b[0m\u001b[0;34m\u001b[0m\u001b[0;34m\u001b[0m\u001b[0m\n\u001b[0m",
      "\u001b[0;32m/var/folders/p2/6ddwj2812811pbqjm8t6brv80000gn/T/ipykernel_17564/93654321.py\u001b[0m in \u001b[0;36mcnn_lstm\u001b[0;34m()\u001b[0m\n\u001b[1;32m     69\u001b[0m     \u001b[0;31m# fitting the model\u001b[0m\u001b[0;34m\u001b[0m\u001b[0;34m\u001b[0m\u001b[0;34m\u001b[0m\u001b[0m\n\u001b[1;32m     70\u001b[0m \u001b[0;34m\u001b[0m\u001b[0m\n\u001b[0;32m---> 71\u001b[0;31m     \u001b[0mmodel\u001b[0m\u001b[0;34m.\u001b[0m\u001b[0mfit\u001b[0m\u001b[0;34m(\u001b[0m\u001b[0mgenerator\u001b[0m\u001b[0;34m,\u001b[0m \u001b[0mepochs\u001b[0m\u001b[0;34m=\u001b[0m\u001b[0mepochs\u001b[0m\u001b[0;34m,\u001b[0m \u001b[0mverbose\u001b[0m\u001b[0;34m=\u001b[0m\u001b[0;36m1\u001b[0m\u001b[0;34m,\u001b[0m \u001b[0mvalidation_data\u001b[0m\u001b[0;34m=\u001b[0m\u001b[0mtest_generator\u001b[0m\u001b[0;34m)\u001b[0m\u001b[0;34m\u001b[0m\u001b[0;34m\u001b[0m\u001b[0m\n\u001b[0m\u001b[1;32m     72\u001b[0m \u001b[0;34m\u001b[0m\u001b[0m\n\u001b[1;32m     73\u001b[0m     \u001b[0;31m# generating a pandas dataframe of results\u001b[0m\u001b[0;34m\u001b[0m\u001b[0;34m\u001b[0m\u001b[0;34m\u001b[0m\u001b[0m\n",
      "\u001b[0;32m~/.pyenv/versions/3.8.6/envs/lewagon/lib/python3.8/site-packages/keras/engine/training.py\u001b[0m in \u001b[0;36mfit\u001b[0;34m(self, x, y, batch_size, epochs, verbose, callbacks, validation_split, validation_data, shuffle, class_weight, sample_weight, initial_epoch, steps_per_epoch, validation_steps, validation_batch_size, validation_freq, max_queue_size, workers, use_multiprocessing)\u001b[0m\n\u001b[1;32m   1156\u001b[0m                 _r=1):\n\u001b[1;32m   1157\u001b[0m               \u001b[0mcallbacks\u001b[0m\u001b[0;34m.\u001b[0m\u001b[0mon_train_batch_begin\u001b[0m\u001b[0;34m(\u001b[0m\u001b[0mstep\u001b[0m\u001b[0;34m)\u001b[0m\u001b[0;34m\u001b[0m\u001b[0;34m\u001b[0m\u001b[0m\n\u001b[0;32m-> 1158\u001b[0;31m               \u001b[0mtmp_logs\u001b[0m \u001b[0;34m=\u001b[0m \u001b[0mself\u001b[0m\u001b[0;34m.\u001b[0m\u001b[0mtrain_function\u001b[0m\u001b[0;34m(\u001b[0m\u001b[0miterator\u001b[0m\u001b[0;34m)\u001b[0m\u001b[0;34m\u001b[0m\u001b[0;34m\u001b[0m\u001b[0m\n\u001b[0m\u001b[1;32m   1159\u001b[0m               \u001b[0;32mif\u001b[0m \u001b[0mdata_handler\u001b[0m\u001b[0;34m.\u001b[0m\u001b[0mshould_sync\u001b[0m\u001b[0;34m:\u001b[0m\u001b[0;34m\u001b[0m\u001b[0;34m\u001b[0m\u001b[0m\n\u001b[1;32m   1160\u001b[0m                 \u001b[0mcontext\u001b[0m\u001b[0;34m.\u001b[0m\u001b[0masync_wait\u001b[0m\u001b[0;34m(\u001b[0m\u001b[0;34m)\u001b[0m\u001b[0;34m\u001b[0m\u001b[0;34m\u001b[0m\u001b[0m\n",
      "\u001b[0;32m~/.pyenv/versions/3.8.6/envs/lewagon/lib/python3.8/site-packages/tensorflow/python/eager/def_function.py\u001b[0m in \u001b[0;36m__call__\u001b[0;34m(self, *args, **kwds)\u001b[0m\n\u001b[1;32m    887\u001b[0m \u001b[0;34m\u001b[0m\u001b[0m\n\u001b[1;32m    888\u001b[0m       \u001b[0;32mwith\u001b[0m \u001b[0mOptionalXlaContext\u001b[0m\u001b[0;34m(\u001b[0m\u001b[0mself\u001b[0m\u001b[0;34m.\u001b[0m\u001b[0m_jit_compile\u001b[0m\u001b[0;34m)\u001b[0m\u001b[0;34m:\u001b[0m\u001b[0;34m\u001b[0m\u001b[0;34m\u001b[0m\u001b[0m\n\u001b[0;32m--> 889\u001b[0;31m         \u001b[0mresult\u001b[0m \u001b[0;34m=\u001b[0m \u001b[0mself\u001b[0m\u001b[0;34m.\u001b[0m\u001b[0m_call\u001b[0m\u001b[0;34m(\u001b[0m\u001b[0;34m*\u001b[0m\u001b[0margs\u001b[0m\u001b[0;34m,\u001b[0m \u001b[0;34m**\u001b[0m\u001b[0mkwds\u001b[0m\u001b[0;34m)\u001b[0m\u001b[0;34m\u001b[0m\u001b[0;34m\u001b[0m\u001b[0m\n\u001b[0m\u001b[1;32m    890\u001b[0m \u001b[0;34m\u001b[0m\u001b[0m\n\u001b[1;32m    891\u001b[0m       \u001b[0mnew_tracing_count\u001b[0m \u001b[0;34m=\u001b[0m \u001b[0mself\u001b[0m\u001b[0;34m.\u001b[0m\u001b[0mexperimental_get_tracing_count\u001b[0m\u001b[0;34m(\u001b[0m\u001b[0;34m)\u001b[0m\u001b[0;34m\u001b[0m\u001b[0;34m\u001b[0m\u001b[0m\n",
      "\u001b[0;32m~/.pyenv/versions/3.8.6/envs/lewagon/lib/python3.8/site-packages/tensorflow/python/eager/def_function.py\u001b[0m in \u001b[0;36m_call\u001b[0;34m(self, *args, **kwds)\u001b[0m\n\u001b[1;32m    915\u001b[0m       \u001b[0;31m# In this case we have created variables on the first call, so we run the\u001b[0m\u001b[0;34m\u001b[0m\u001b[0;34m\u001b[0m\u001b[0;34m\u001b[0m\u001b[0m\n\u001b[1;32m    916\u001b[0m       \u001b[0;31m# defunned version which is guaranteed to never create variables.\u001b[0m\u001b[0;34m\u001b[0m\u001b[0;34m\u001b[0m\u001b[0;34m\u001b[0m\u001b[0m\n\u001b[0;32m--> 917\u001b[0;31m       \u001b[0;32mreturn\u001b[0m \u001b[0mself\u001b[0m\u001b[0;34m.\u001b[0m\u001b[0m_stateless_fn\u001b[0m\u001b[0;34m(\u001b[0m\u001b[0;34m*\u001b[0m\u001b[0margs\u001b[0m\u001b[0;34m,\u001b[0m \u001b[0;34m**\u001b[0m\u001b[0mkwds\u001b[0m\u001b[0;34m)\u001b[0m  \u001b[0;31m# pylint: disable=not-callable\u001b[0m\u001b[0;34m\u001b[0m\u001b[0;34m\u001b[0m\u001b[0m\n\u001b[0m\u001b[1;32m    918\u001b[0m     \u001b[0;32melif\u001b[0m \u001b[0mself\u001b[0m\u001b[0;34m.\u001b[0m\u001b[0m_stateful_fn\u001b[0m \u001b[0;32mis\u001b[0m \u001b[0;32mnot\u001b[0m \u001b[0;32mNone\u001b[0m\u001b[0;34m:\u001b[0m\u001b[0;34m\u001b[0m\u001b[0;34m\u001b[0m\u001b[0m\n\u001b[1;32m    919\u001b[0m       \u001b[0;31m# Release the lock early so that multiple threads can perform the call\u001b[0m\u001b[0;34m\u001b[0m\u001b[0;34m\u001b[0m\u001b[0;34m\u001b[0m\u001b[0m\n",
      "\u001b[0;32m~/.pyenv/versions/3.8.6/envs/lewagon/lib/python3.8/site-packages/tensorflow/python/eager/function.py\u001b[0m in \u001b[0;36m__call__\u001b[0;34m(self, *args, **kwargs)\u001b[0m\n\u001b[1;32m   3021\u001b[0m       (graph_function,\n\u001b[1;32m   3022\u001b[0m        filtered_flat_args) = self._maybe_define_function(args, kwargs)\n\u001b[0;32m-> 3023\u001b[0;31m     return graph_function._call_flat(\n\u001b[0m\u001b[1;32m   3024\u001b[0m         filtered_flat_args, captured_inputs=graph_function.captured_inputs)  # pylint: disable=protected-access\n\u001b[1;32m   3025\u001b[0m \u001b[0;34m\u001b[0m\u001b[0m\n",
      "\u001b[0;32m~/.pyenv/versions/3.8.6/envs/lewagon/lib/python3.8/site-packages/tensorflow/python/eager/function.py\u001b[0m in \u001b[0;36m_call_flat\u001b[0;34m(self, args, captured_inputs, cancellation_manager)\u001b[0m\n\u001b[1;32m   1958\u001b[0m         and executing_eagerly):\n\u001b[1;32m   1959\u001b[0m       \u001b[0;31m# No tape is watching; skip to running the function.\u001b[0m\u001b[0;34m\u001b[0m\u001b[0;34m\u001b[0m\u001b[0;34m\u001b[0m\u001b[0m\n\u001b[0;32m-> 1960\u001b[0;31m       return self._build_call_outputs(self._inference_function.call(\n\u001b[0m\u001b[1;32m   1961\u001b[0m           ctx, args, cancellation_manager=cancellation_manager))\n\u001b[1;32m   1962\u001b[0m     forward_backward = self._select_forward_and_backward_functions(\n",
      "\u001b[0;32m~/.pyenv/versions/3.8.6/envs/lewagon/lib/python3.8/site-packages/tensorflow/python/eager/function.py\u001b[0m in \u001b[0;36mcall\u001b[0;34m(self, ctx, args, cancellation_manager)\u001b[0m\n\u001b[1;32m    589\u001b[0m       \u001b[0;32mwith\u001b[0m \u001b[0m_InterpolateFunctionError\u001b[0m\u001b[0;34m(\u001b[0m\u001b[0mself\u001b[0m\u001b[0;34m)\u001b[0m\u001b[0;34m:\u001b[0m\u001b[0;34m\u001b[0m\u001b[0;34m\u001b[0m\u001b[0m\n\u001b[1;32m    590\u001b[0m         \u001b[0;32mif\u001b[0m \u001b[0mcancellation_manager\u001b[0m \u001b[0;32mis\u001b[0m \u001b[0;32mNone\u001b[0m\u001b[0;34m:\u001b[0m\u001b[0;34m\u001b[0m\u001b[0;34m\u001b[0m\u001b[0m\n\u001b[0;32m--> 591\u001b[0;31m           outputs = execute.execute(\n\u001b[0m\u001b[1;32m    592\u001b[0m               \u001b[0mstr\u001b[0m\u001b[0;34m(\u001b[0m\u001b[0mself\u001b[0m\u001b[0;34m.\u001b[0m\u001b[0msignature\u001b[0m\u001b[0;34m.\u001b[0m\u001b[0mname\u001b[0m\u001b[0;34m)\u001b[0m\u001b[0;34m,\u001b[0m\u001b[0;34m\u001b[0m\u001b[0;34m\u001b[0m\u001b[0m\n\u001b[1;32m    593\u001b[0m               \u001b[0mnum_outputs\u001b[0m\u001b[0;34m=\u001b[0m\u001b[0mself\u001b[0m\u001b[0;34m.\u001b[0m\u001b[0m_num_outputs\u001b[0m\u001b[0;34m,\u001b[0m\u001b[0;34m\u001b[0m\u001b[0;34m\u001b[0m\u001b[0m\n",
      "\u001b[0;32m~/.pyenv/versions/3.8.6/envs/lewagon/lib/python3.8/site-packages/tensorflow/python/eager/execute.py\u001b[0m in \u001b[0;36mquick_execute\u001b[0;34m(op_name, num_outputs, inputs, attrs, ctx, name)\u001b[0m\n\u001b[1;32m     57\u001b[0m   \u001b[0;32mtry\u001b[0m\u001b[0;34m:\u001b[0m\u001b[0;34m\u001b[0m\u001b[0;34m\u001b[0m\u001b[0m\n\u001b[1;32m     58\u001b[0m     \u001b[0mctx\u001b[0m\u001b[0;34m.\u001b[0m\u001b[0mensure_initialized\u001b[0m\u001b[0;34m(\u001b[0m\u001b[0;34m)\u001b[0m\u001b[0;34m\u001b[0m\u001b[0;34m\u001b[0m\u001b[0m\n\u001b[0;32m---> 59\u001b[0;31m     tensors = pywrap_tfe.TFE_Py_Execute(ctx._handle, device_name, op_name,\n\u001b[0m\u001b[1;32m     60\u001b[0m                                         inputs, attrs, num_outputs)\n\u001b[1;32m     61\u001b[0m   \u001b[0;32mexcept\u001b[0m \u001b[0mcore\u001b[0m\u001b[0;34m.\u001b[0m\u001b[0m_NotOkStatusException\u001b[0m \u001b[0;32mas\u001b[0m \u001b[0me\u001b[0m\u001b[0;34m:\u001b[0m\u001b[0;34m\u001b[0m\u001b[0;34m\u001b[0m\u001b[0m\n",
      "\u001b[0;31mKeyboardInterrupt\u001b[0m: "
     ]
    }
   ],
   "source": [
    "model,results=cnn_lstm()"
   ]
  },
  {
   "cell_type": "code",
   "execution_count": 50,
   "id": "e46b1336",
   "metadata": {
    "ExecuteTime": {
     "end_time": "2021-11-05T19:29:07.348476Z",
     "start_time": "2021-11-05T19:29:07.323147Z"
    },
    "hidden": true
   },
   "outputs": [
    {
     "name": "stdout",
     "output_type": "stream",
     "text": [
      "4.647042881211473\n",
      "6.220620515455582\n"
     ]
    }
   ],
   "source": [
    "print(mean_absolute_error(results['y_true'],results['y_pred']))\n",
    "print(mean_squared_error(results['y_true'],results['y_pred'], squared=False))"
   ]
  },
  {
   "cell_type": "code",
   "execution_count": 370,
   "id": "ae94d2e5",
   "metadata": {
    "ExecuteTime": {
     "end_time": "2021-11-11T17:31:53.488855Z",
     "start_time": "2021-11-11T17:31:53.460634Z"
    },
    "hidden": true
   },
   "outputs": [],
   "source": [
    "def cnn_lstm():\n",
    "\n",
    "    # train, test = train_test_split(df, shuffle=True, test_size=0.2)\n",
    "    epochs=10\n",
    "    df = pd.concat(map(pd.read_csv, glob.glob(os.path.join('', \"../../thesis/raw_data/Results2/*.txt\")))) # read data \n",
    "\n",
    "    df_test = pd.read_csv('../raw_data/CSVs/udds.csv')\n",
    "    y_col='SOC_tot' # define y variable, i.e., what we want to predict\n",
    "\n",
    "    train = df.iloc[:,:].copy() \n",
    "    test = df_test.iloc[:,:].copy() \n",
    "\n",
    "    X_train = train.drop(y_col, axis=1).copy()\n",
    "    y_train = train[[y_col]].copy() # the double brackets here are to keep the y in dataframe format, otherwise it will be pandas Series\n",
    "    \n",
    "    Xscaler = MinMaxScaler(feature_range=(0, 1)) # scale so that all the X data will range from 0 to 1\n",
    "    Xscaler.fit(X_train)\n",
    "    scaled_X_train = Xscaler.transform(X_train)\n",
    "    \n",
    "    Yscaler = MinMaxScaler(feature_range=(0, 1))\n",
    "    Yscaler.fit(y_train)\n",
    "    scaled_y_train = Yscaler.transform(y_train)\n",
    "    scaled_y_train = scaled_y_train.reshape(-1) # remove the second dimension from y so the shape changes from (n,1) to (n,)\n",
    "\n",
    "    scaled_y_train = np.insert(scaled_y_train, 0, 0)\n",
    "    scaled_y_train = np.delete(scaled_y_train, -1)\n",
    "\n",
    "    n_input = 10 # how many samples/rows/timesteps to look in the past in order to forecast the next sample\n",
    "    n_features = X_train.shape[1] # how many predictors/Xs/features we have to predict y\n",
    "    b_size = 25 # Number of timeseries samples in each batch\n",
    "    X_train, y_train = np.array(X_train), np.array(y_train)\n",
    "\n",
    "    generator = TimeseriesGenerator(scaled_X_train, scaled_y_train, length=n_input, batch_size=b_size)\n",
    "    X_test = test.drop(y_col, axis=1).copy()\n",
    "    y_test = test[[y_col]].copy()\n",
    "\n",
    "    scaled_X_test = Xscaler.transform(X_test)\n",
    "    Yscaler.fit(y_test)\n",
    "    scaled_y_test = Yscaler.transform(y_test)\n",
    "    scaled_y_test = scaled_y_test.reshape(-1)\n",
    "    test_generator = TimeseriesGenerator(scaled_X_test, scaled_y_test, length=n_input, batch_size=b_size)\n",
    "\n",
    "    # building the model\n",
    "\n",
    "    model = Sequential()\n",
    "\n",
    "    # convolutional layers\n",
    "\n",
    "    model.add(Conv1D(filters=32, kernel_size=3, padding='same', activation='relu', input_shape=(n_input, n_features)))\n",
    "    model.add(Conv1D(filters=32, kernel_size=3, padding='same', activation='relu'))\n",
    "    model.add(MaxPooling1D(pool_size=2))\n",
    "\n",
    "    # model.add(Flatten())\n",
    "\n",
    "    # lstm layers\n",
    "\n",
    "    model.add(LSTM(12, activation='relu', return_sequences=False))\n",
    "\n",
    "    # dense layers\n",
    "\n",
    "    model.add(Dense(1))\n",
    "    tf.keras.optimizers.Adagrad(learning_rate=0.001,initial_accumulator_value=0.1,epsilon=1e-07,name=\"Adagrad\")\n",
    "    tf.keras.optimizers.Adam(learning_rate=0.0001,name=\"Adam\")\n",
    "\n",
    "    model.compile(optimizer='Adam', loss='mae')\n",
    "\n",
    "    # fitting the model\n",
    "\n",
    "    model.fit(generator, epochs=epochs, verbose=1, validation_data=test_generator)\n",
    "\n",
    "    # generating a pandas dataframe of results\n",
    "\n",
    "    y_pred_scaled = model.predict(test_generator)\n",
    "    y_pred = Yscaler.inverse_transform(y_pred_scaled)\n",
    "    results = pd.DataFrame({'y_true': test[y_col].values[n_input:], 'y_pred': y_pred.ravel()})\n",
    "\n",
    "    return model, results"
   ]
  },
  {
   "cell_type": "code",
   "execution_count": 371,
   "id": "897d8d18",
   "metadata": {
    "ExecuteTime": {
     "end_time": "2021-11-11T17:34:55.991102Z",
     "start_time": "2021-11-11T17:31:54.102142Z"
    },
    "hidden": true
   },
   "outputs": [
    {
     "data": {
      "application/javascript": [
       "\n",
       "        if (window._pyforest_update_imports_cell) { window._pyforest_update_imports_cell('import pandas as pd\\nimport tensorflow as tf\\nimport glob\\nimport os\\nimport matplotlib.pyplot as plt\\nfrom sklearn.preprocessing import MinMaxScaler'); }\n",
       "    "
      ],
      "text/plain": [
       "<IPython.core.display.Javascript object>"
      ]
     },
     "metadata": {},
     "output_type": "display_data"
    },
    {
     "data": {
      "application/javascript": [
       "\n",
       "        if (window._pyforest_update_imports_cell) { window._pyforest_update_imports_cell('import pandas as pd\\nimport tensorflow as tf\\nimport glob\\nimport os\\nimport matplotlib.pyplot as plt\\nfrom sklearn.preprocessing import MinMaxScaler'); }\n",
       "    "
      ],
      "text/plain": [
       "<IPython.core.display.Javascript object>"
      ]
     },
     "metadata": {},
     "output_type": "display_data"
    },
    {
     "name": "stdout",
     "output_type": "stream",
     "text": [
      "Epoch 1/10\n",
      "4004/4004 [==============================] - 17s 3ms/step - loss: 0.0639 - val_loss: 0.4091\n",
      "Epoch 2/10\n",
      "4004/4004 [==============================] - 17s 4ms/step - loss: 0.0195 - val_loss: 0.3773\n",
      "Epoch 3/10\n",
      "4004/4004 [==============================] - 20s 5ms/step - loss: 0.0166 - val_loss: 0.4123\n",
      "Epoch 4/10\n",
      "4004/4004 [==============================] - 18s 4ms/step - loss: 0.0160 - val_loss: 0.4012\n",
      "Epoch 5/10\n",
      "4004/4004 [==============================] - 17s 4ms/step - loss: 0.0142 - val_loss: 0.3767\n",
      "Epoch 6/10\n",
      "4004/4004 [==============================] - 16s 4ms/step - loss: 0.0130 - val_loss: 0.4014\n",
      "Epoch 7/10\n",
      "4004/4004 [==============================] - 19s 5ms/step - loss: 0.0121 - val_loss: 0.4224\n",
      "Epoch 8/10\n",
      "4004/4004 [==============================] - 17s 4ms/step - loss: 0.0110 - val_loss: 0.4050\n",
      "Epoch 9/10\n",
      "4004/4004 [==============================] - 15s 4ms/step - loss: 0.0105 - val_loss: 0.3893\n",
      "Epoch 10/10\n",
      "4004/4004 [==============================] - 13s 3ms/step - loss: 0.0099 - val_loss: 0.4072\n"
     ]
    }
   ],
   "source": [
    "model,results=cnn_lstm()"
   ]
  },
  {
   "cell_type": "code",
   "execution_count": 372,
   "id": "51457130",
   "metadata": {
    "ExecuteTime": {
     "end_time": "2021-11-11T17:34:56.003017Z",
     "start_time": "2021-11-11T17:34:55.993538Z"
    },
    "hidden": true
   },
   "outputs": [
    {
     "name": "stdout",
     "output_type": "stream",
     "text": [
      "2.3472847041888723\n",
      "2.8270100247333207\n"
     ]
    }
   ],
   "source": [
    "print(mean_absolute_error(results['y_true'],results['y_pred']))\n",
    "print(mean_squared_error(results['y_true'],results['y_pred'], squared=False))"
   ]
  },
  {
   "cell_type": "markdown",
   "id": "54ba1678",
   "metadata": {
    "heading_collapsed": true
   },
   "source": [
    "# PYBAMM"
   ]
  },
  {
   "cell_type": "code",
   "execution_count": 124,
   "id": "1e34d55c",
   "metadata": {
    "ExecuteTime": {
     "end_time": "2021-11-06T16:54:36.980600Z",
     "start_time": "2021-11-06T16:54:36.490161Z"
    },
    "hidden": true
   },
   "outputs": [
    {
     "ename": "ModuleNotFoundError",
     "evalue": "No module named 'pybamm'",
     "output_type": "error",
     "traceback": [
      "\u001b[0;31m---------------------------------------------------------------------------\u001b[0m",
      "\u001b[0;31mModuleNotFoundError\u001b[0m                       Traceback (most recent call last)",
      "\u001b[0;32m/var/folders/p2/6ddwj2812811pbqjm8t6brv80000gn/T/ipykernel_17564/3056550887.py\u001b[0m in \u001b[0;36m<module>\u001b[0;34m\u001b[0m\n\u001b[0;32m----> 1\u001b[0;31m \u001b[0;32mimport\u001b[0m \u001b[0mpybamm\u001b[0m\u001b[0;34m\u001b[0m\u001b[0;34m\u001b[0m\u001b[0m\n\u001b[0m\u001b[1;32m      2\u001b[0m \u001b[0;32mimport\u001b[0m \u001b[0mnumpy\u001b[0m \u001b[0;32mas\u001b[0m \u001b[0mnp\u001b[0m\u001b[0;34m\u001b[0m\u001b[0;34m\u001b[0m\u001b[0m\n\u001b[1;32m      3\u001b[0m \u001b[0;32mimport\u001b[0m \u001b[0mpandas\u001b[0m \u001b[0;32mas\u001b[0m \u001b[0mpd\u001b[0m\u001b[0;34m\u001b[0m\u001b[0;34m\u001b[0m\u001b[0m\n\u001b[1;32m      4\u001b[0m \u001b[0;34m\u001b[0m\u001b[0m\n\u001b[1;32m      5\u001b[0m \u001b[0mpybamm\u001b[0m\u001b[0;34m.\u001b[0m\u001b[0mset_logging_level\u001b[0m\u001b[0;34m(\u001b[0m\u001b[0;34m\"NOTICE\"\u001b[0m\u001b[0;34m)\u001b[0m\u001b[0;34m\u001b[0m\u001b[0;34m\u001b[0m\u001b[0m\n",
      "\u001b[0;31mModuleNotFoundError\u001b[0m: No module named 'pybamm'"
     ]
    }
   ],
   "source": [
    "import pybamm\n",
    "import numpy as np\n",
    "import pandas as pd\n",
    "\n",
    "pybamm.set_logging_level(\"NOTICE\")\n",
    "\n",
    "model = pybamm.lithium_ion.SPMe()\n",
    "\n",
    "parameter_values = pybamm.ParameterValues(chemistry=pybamm.parameter_sets.Chen2020)\n",
    "\n",
    "experiment = pybamm.Experiment([\n",
    "    \"Rest for 320 seconds\",\n",
    "    \"Discharge at 1.25A for 560 seconds\",\n",
    "    \"Discharge at 2.5A for 240 seconds\",\n",
    "    \"Charge at 1.25A for 160 seconds\",\n",
    "    \"Rest for 320 seconds\",\n",
    "    \"Discharge at 1.25A for 480 seconds\",\n",
    "    \"Discharge at 2.5A for 240 seconds\",\n",
    "    \"Charge at 1.25A for 160 seconds\",\n",
    "    \"Rest for 320 seconds\",\n",
    "    \"Discharge at 1.25A for 480 seconds\",\n",
    "    \"Discharge at 2.5A for 240 seconds\",\n",
    "    \"Charge at 1.25A for 160 seconds\",\n",
    "    \"Rest for 320 seconds\",\n",
    "    \"Discharge at 1.25A for 720 seconds\",\n",
    "    \"Discharge at 10A for 160 seconds\",\n",
    "    \"Discharge at 6.25A for 480 seconds\",\n",
    "    \"Charge at 2.5A for 160 seconds\",\n",
    "    \"Discharge at 2.5A for 640 seconds\",\n",
    "    \"Rest for 880 seconds\"\n",
    "])\n",
    "\n",
    "sim = pybamm.Simulation(model, experiment=experiment, parameter_values=parameter_values)\n",
    "\n",
    "filename = \"DST_test\"\n",
    "\n",
    "pybamm.Solution.save_data(sim.solve(),\n",
    "                          filename=filename,\n",
    "                          variables=[\"Total current density [A.m-2]\",\n",
    "                                     \"Terminal voltage [V]\",\n",
    "                                     \"Ambient temperature [K]\",\n",
    "                                     \"Time [s]\",\n",
    "                                     \"Negative electrode SOC\"],\n",
    "                          to_format='csv')\n",
    "\n",
    "sim.plot([\"Total current density [A.m-2]\", \"Terminal voltage [V]\", \"Ambient temperature [K]\", \"Time [s]\",\n",
    "          \"Negative electrode SOC\"])"
   ]
  },
  {
   "cell_type": "markdown",
   "id": "9d5e2bd0",
   "metadata": {
    "heading_collapsed": true
   },
   "source": [
    "# REGRESSORS"
   ]
  },
  {
   "cell_type": "code",
   "execution_count": null,
   "id": "df486084",
   "metadata": {
    "hidden": true
   },
   "outputs": [],
   "source": [
    "# It tries 10 different models.\n",
    "reg = ak.StructuredDataRegressor(max_trials=30, overwrite=True)\n",
    "# Feed the structured data regressor with training data.\n",
    "reg.fit(X_train, y_train, epochs=30)\n",
    "# Predict with the best model.\n",
    "predicted_y = reg.predict(X_test)\n",
    "# Evaluate the best model with testing data.\n",
    "print(reg.evaluate(X_test, y_test))"
   ]
  },
  {
   "cell_type": "code",
   "execution_count": null,
   "id": "1450cdf2",
   "metadata": {
    "hidden": true
   },
   "outputs": [],
   "source": [
    "model = reg.export_model()\n",
    "model.summary()"
   ]
  },
  {
   "cell_type": "code",
   "execution_count": null,
   "id": "e354281d",
   "metadata": {
    "hidden": true
   },
   "outputs": [],
   "source": [
    "model.save(\"model_autokeras_v2\", save_format=\"tf\")"
   ]
  },
  {
   "cell_type": "code",
   "execution_count": null,
   "id": "0bdd40a6",
   "metadata": {
    "hidden": true
   },
   "outputs": [],
   "source": [
    "from tensorflow.keras.models import load_model\n",
    "\n",
    "predicted_y = loaded_model.predict(tf.expand_dims(X_test, -1))\n",
    "print(mean_absolute_error(predicted_y,y_test))\n",
    "print(mean_squared_error(predicted_y,y_test,squared=False))"
   ]
  },
  {
   "cell_type": "markdown",
   "id": "741fcc6c",
   "metadata": {
    "heading_collapsed": true
   },
   "source": [
    "# XGBOOST"
   ]
  },
  {
   "cell_type": "code",
   "execution_count": 350,
   "id": "6a4bc0f3",
   "metadata": {
    "ExecuteTime": {
     "end_time": "2021-11-11T17:21:00.147942Z",
     "start_time": "2021-11-11T17:20:59.711104Z"
    },
    "hidden": true
   },
   "outputs": [],
   "source": [
    "df = pd.concat(map(pd.read_csv, glob.glob(os.path.join('', \"../raw_data/Test2/*.txt\"))))\n",
    "X=df.drop(columns=['SOC_tot'])\n",
    "y=df.SOC_tot"
   ]
  },
  {
   "cell_type": "code",
   "execution_count": 362,
   "id": "b6bfd83b",
   "metadata": {
    "ExecuteTime": {
     "end_time": "2021-11-11T17:24:36.584740Z",
     "start_time": "2021-11-11T17:24:36.222412Z"
    },
    "hidden": true
   },
   "outputs": [],
   "source": [
    "df = pd.concat(map(pd.read_csv, glob.glob(os.path.join('', \"../raw_data/Test2/*.txt\"))))\n",
    "X=df.drop(columns=['SOC_tot'])\n",
    "y=df.SOC_tot\n",
    "X_train, X_test, y_train, y_test = train_test_split(X,y,test_size=0.2, shuffle=False)"
   ]
  },
  {
   "cell_type": "code",
   "execution_count": 363,
   "id": "528d4341",
   "metadata": {
    "ExecuteTime": {
     "end_time": "2021-11-11T17:24:49.135083Z",
     "start_time": "2021-11-11T17:24:37.103673Z"
    },
    "hidden": true
   },
   "outputs": [
    {
     "data": {
      "text/plain": [
       "XGBRegressor(base_score=0.5, booster='gbtree', colsample_bylevel=1,\n",
       "             colsample_bynode=1, colsample_bytree=1, gamma=0.64, gpu_id=-1,\n",
       "             importance_type='gain', interaction_constraints='',\n",
       "             learning_rate=0.03, max_delta_step=0, max_depth=18,\n",
       "             min_child_weight=5, missing=nan, monotone_constraints='()',\n",
       "             n_estimators=150, n_jobs=4, num_parallel_tree=1,\n",
       "             objective='reg:squarederror', random_state=42, reg_alpha=0.39,\n",
       "             reg_lambda=4.27, scale_pos_weight=1, seed=42, subsample=1,\n",
       "             tree_method='exact', validate_parameters=1, verbosity=None)"
      ]
     },
     "execution_count": 363,
     "metadata": {},
     "output_type": "execute_result"
    }
   ],
   "source": [
    "model = XGBRegressor(#colsample_bytree=0.98,\n",
    "                    gamma=0.64,\n",
    "                    learning_rate=0.03,\n",
    "                    max_depth=18,\n",
    "                    min_child_weight=5,\n",
    "                    n_estimators=150,\n",
    "                    reg_alpha=0.39,\n",
    "                    reg_lambda=4.27,\n",
    "                    seed=42)\n",
    "model.fit(X_train,y_train)"
   ]
  },
  {
   "cell_type": "code",
   "execution_count": 364,
   "id": "1b76c554",
   "metadata": {
    "ExecuteTime": {
     "end_time": "2021-11-11T17:24:49.219907Z",
     "start_time": "2021-11-11T17:24:49.137431Z"
    },
    "hidden": true
   },
   "outputs": [
    {
     "name": "stdout",
     "output_type": "stream",
     "text": [
      "0.5440489434860244\n",
      "0.6951625290686543\n"
     ]
    }
   ],
   "source": [
    "data=model.predict(X_test)\n",
    "print(mean_absolute_error(data,y_test))\n",
    "print(mean_squared_error(data,y_test,squared=False))"
   ]
  },
  {
   "cell_type": "code",
   "execution_count": 360,
   "id": "2cbd103a",
   "metadata": {
    "ExecuteTime": {
     "end_time": "2021-11-11T17:24:18.167425Z",
     "start_time": "2021-11-11T17:24:18.124847Z"
    },
    "hidden": true
   },
   "outputs": [
    {
     "name": "stdout",
     "output_type": "stream",
     "text": [
      "0.4777457205718081\n",
      "0.5693346271457449\n"
     ]
    }
   ],
   "source": [
    "df_test = pd.read_csv('../raw_data/CSVs/udds.csv')\n",
    "\n",
    "X_test=df_test.drop(columns=['SOC_tot'])\n",
    "y_test = df_test.SOC_tot\n",
    "\n",
    "#scaled_X_test = Xscaler.transform(X_test)\n",
    "#test_generator = TimeseriesGenerator(scaled_X_test, np.zeros(len(X_test)), length=n_input, batch_size=b_size)\n",
    "\n",
    "data=model.predict(X_test)\n",
    "print(mean_absolute_error(data,y_test))\n",
    "print(mean_squared_error(data,y_test,squared=False))"
   ]
  },
  {
   "cell_type": "markdown",
   "id": "1232b308",
   "metadata": {},
   "source": [
    "# FUNCTIONS FOR RNN/LSTM"
   ]
  },
  {
   "cell_type": "code",
   "execution_count": 385,
   "id": "4c5bc75c",
   "metadata": {
    "ExecuteTime": {
     "end_time": "2021-11-12T02:40:08.200842Z",
     "start_time": "2021-11-12T02:40:08.145961Z"
    }
   },
   "outputs": [],
   "source": [
    "def test_model(test,model,architecture):\n",
    "    X_test = test.drop(y_col,axis=1).copy()\n",
    "    scaled_X_test = Xscaler.transform(X_test)\n",
    "    test_generator = TimeseriesGenerator(scaled_X_test, np.zeros(len(X_test)), length=n_input, batch_size=b_size)\n",
    "    y_pred_scaled = model.predict(test_generator)\n",
    "    y_pred_scaled=y_pred_scaled.reshape((-1,1))\n",
    "    y_pred = Yscaler.inverse_transform(y_pred_scaled)\n",
    "    results = pd.DataFrame({'y_true':test[y_col].values[n_input:],'y_pred':y_pred.ravel()})\n",
    "    print(f'{architecture}')\n",
    "    print('below are mae and rmse')\n",
    "    print( mean_absolute_error(results['y_true'],results['y_pred']))\n",
    "    print( mean_squared_error(results['y_true'],results['y_pred'], squared=False))\n",
    "    return results"
   ]
  },
  {
   "cell_type": "code",
   "execution_count": 390,
   "id": "0a941604",
   "metadata": {
    "ExecuteTime": {
     "end_time": "2021-11-12T10:04:50.643510Z",
     "start_time": "2021-11-12T10:04:50.353896Z"
    }
   },
   "outputs": [],
   "source": [
    "def test_on_active_sets_temp(model):\n",
    "\n",
    "    #-------------------------------------------------------------------------------------------\n",
    "    df_test = pd.read_csv('../raw_data/CSVs/udds_temp.csv')\n",
    "    test = df_test.iloc[:,:].copy() \n",
    "\n",
    "    X_test = test.drop(y_col,axis=1).copy()\n",
    "    scaled_X_test = Xscaler.transform(X_test)\n",
    "\n",
    "    test_generator = TimeseriesGenerator(scaled_X_test, np.zeros(len(X_test)), length=n_input, batch_size=b_size)\n",
    "\n",
    "    y_pred_scaled = model.predict(test_generator)\n",
    "    y_pred_scaled=y_pred_scaled.reshape((-1,1))\n",
    "    #nsamples, nx, ny = y_pred_scaled.shape\n",
    "    #d2_train_dataset = y_pred_scaled.reshape((nsamples,nx*ny))\n",
    "    #y_pred = Yscaler.inverse_transform(d2_train_dataset)\n",
    "\n",
    "    y_pred = Yscaler.inverse_transform(y_pred_scaled)\n",
    "\n",
    "    results = pd.DataFrame({'y_true':test[y_col].values[n_input:],'y_pred':y_pred.ravel()})\n",
    "    print(mean_absolute_error(results['y_true'],results['y_pred']))\n",
    "    print(mean_squared_error(results['y_true'],results['y_pred'], squared=False))\n",
    "    #---------------------------------------------------------------------------------------------\n",
    "    df_test = pd.read_csv('../raw_data/CSVs/nycc_temp.csv')\n",
    "\n",
    "    test = df_test.iloc[:,:].copy() \n",
    "\n",
    "    X_test = test.drop(y_col,axis=1).copy()\n",
    "    scaled_X_test = Xscaler.transform(X_test)\n",
    "\n",
    "    test_generator = TimeseriesGenerator(scaled_X_test, np.zeros(len(X_test)), length=n_input, batch_size=b_size)\n",
    "\n",
    "    y_pred_scaled = model.predict(test_generator)\n",
    "    y_pred_scaled=y_pred_scaled.reshape((-1,1))\n",
    "    #nsamples, nx, ny = y_pred_scaled.shape\n",
    "    #d2_train_dataset = y_pred_scaled.reshape((nsamples,nx*ny))\n",
    "    #y_pred = Yscaler.inverse_transform(d2_train_dataset)\n",
    "\n",
    "    y_pred = Yscaler.inverse_transform(y_pred_scaled)\n",
    "\n",
    "    results = pd.DataFrame({'y_true':test[y_col].values[n_input:],'y_pred':y_pred.ravel()})\n",
    "    print(mean_absolute_error(results['y_true'],results['y_pred']))\n",
    "    print(mean_squared_error(results['y_true'],results['y_pred'], squared=False))\n",
    "    #-------------------------------------------------------------------------------------------------\n",
    "    df_test = pd.read_csv('../raw_data/CSVs/la92dds_temp.csv')\n",
    "    test = df_test.iloc[:,:].copy() \n",
    "\n",
    "    X_test = test.drop(y_col,axis=1).copy()\n",
    "    scaled_X_test = Xscaler.transform(X_test)\n",
    "\n",
    "    test_generator = TimeseriesGenerator(scaled_X_test, np.zeros(len(X_test)), length=n_input, batch_size=b_size)\n",
    "\n",
    "    y_pred_scaled = model.predict(test_generator)\n",
    "    y_pred_scaled=y_pred_scaled.reshape((-1,1))\n",
    "    #nsamples, nx, ny = y_pred_scaled.shape\n",
    "    #d2_train_dataset = y_pred_scaled.reshape((nsamples,nx*ny))\n",
    "    #y_pred = Yscaler.inverse_transform(d2_train_dataset)\n",
    "\n",
    "    y_pred = Yscaler.inverse_transform(y_pred_scaled)\n",
    "\n",
    "    results = pd.DataFrame({'y_true':test[y_col].values[n_input:],'y_pred':y_pred.ravel()})\n",
    "    print(mean_absolute_error(results['y_true'],results['y_pred']))\n",
    "    print(mean_squared_error(results['y_true'],results['y_pred'], squared=False))\n",
    "\n",
    "    #----------------------------------------------------------------------------------------------------\n",
    "    df_test = pd.read_csv('../raw_data/current_discharge.csv')\n",
    "    test = df_test.iloc[:,:].copy() \n",
    "\n",
    "    X_test = test.drop(y_col,axis=1).copy()\n",
    "    scaled_X_test = Xscaler.transform(X_test)\n",
    "\n",
    "    test_generator = TimeseriesGenerator(scaled_X_test, np.zeros(len(X_test)), length=n_input, batch_size=b_size)\n",
    "\n",
    "    y_pred_scaled = model.predict(test_generator)\n",
    "    y_pred_scaled=y_pred_scaled.reshape((-1,1))\n",
    "    #nsamples, nx, ny = y_pred_scaled.shape\n",
    "    #d2_train_dataset = y_pred_scaled.reshape((nsamples,nx*ny))\n",
    "    #y_pred = Yscaler.inverse_transform(d2_train_dataset)\n",
    "\n",
    "    y_pred = Yscaler.inverse_transform(y_pred_scaled)\n",
    "\n",
    "    results = pd.DataFrame({'y_true':test[y_col].values[n_input:],'y_pred':y_pred.ravel()})\n",
    "    print(mean_absolute_error(results['y_true'],results['y_pred']))\n",
    "    print(mean_squared_error(results['y_true'],results['y_pred'], squared=False))\n",
    "\n",
    "    #----------------------------------------------------------------------------------------------------\n",
    "    df_test = pd.read_csv('../raw_data/current_discarge_high.csv')\n",
    "    test = df_test.iloc[:,:].copy() \n",
    "\n",
    "    X_test = test.drop(y_col,axis=1).copy()\n",
    "    scaled_X_test = Xscaler.transform(X_test)\n",
    "\n",
    "    test_generator = TimeseriesGenerator(scaled_X_test, np.zeros(len(X_test)), length=n_input, batch_size=b_size)\n",
    "\n",
    "    y_pred_scaled = model.predict(test_generator)\n",
    "    y_pred_scaled=y_pred_scaled.reshape((-1,1))\n",
    "    #nsamples, nx, ny = y_pred_scaled.shape\n",
    "    #d2_train_dataset = y_pred_scaled.reshape((nsamples,nx*ny))\n",
    "    #y_pred = Yscaler.inverse_transform(d2_train_dataset)\n",
    "\n",
    "    y_pred = Yscaler.inverse_transform(y_pred_scaled)\n",
    "\n",
    "    results = pd.DataFrame({'y_true':test[y_col].values[n_input:],'y_pred':y_pred.ravel()})\n",
    "    print(mean_absolute_error(results['y_true'],results['y_pred']))\n",
    "    print(mean_squared_error(results['y_true'],results['y_pred'], squared=False))\n",
    "    \n",
    "    #----------------------------------------------------------------------------------------------------\n",
    "    df_test = pd.read_csv('../raw_data/CSVs/sc03_temp.csv')\n",
    "    test = df_test.iloc[:,:].copy() \n",
    "\n",
    "    X_test = test.drop(y_col,axis=1).copy()\n",
    "    scaled_X_test = Xscaler.transform(X_test)\n",
    "\n",
    "    test_generator = TimeseriesGenerator(scaled_X_test, np.zeros(len(X_test)), length=n_input, batch_size=b_size)\n",
    "\n",
    "    y_pred_scaled = model.predict(test_generator)\n",
    "    y_pred_scaled=y_pred_scaled.reshape((-1,1))\n",
    "    #nsamples, nx, ny = y_pred_scaled.shape\n",
    "    #d2_train_dataset = y_pred_scaled.reshape((nsamples,nx*ny))\n",
    "    #y_pred = Yscaler.inverse_transform(d2_train_dataset)\n",
    "\n",
    "    y_pred = Yscaler.inverse_transform(y_pred_scaled)\n",
    "\n",
    "    results = pd.DataFrame({'y_true':test[y_col].values[n_input:],'y_pred':y_pred.ravel()})\n",
    "    print(mean_absolute_error(results['y_true'],results['y_pred']))\n",
    "    print(mean_squared_error(results['y_true'],results['y_pred'], squared=False))\n",
    "    #--------------------------------------------------------------------------------------------------------------------\n",
    "    df_test = pd.read_csv('../raw_data/CSVs/hwy_temp.csv')\n",
    "    test = df_test.iloc[:,:].copy() \n",
    "\n",
    "    X_test = test.drop(y_col,axis=1).copy()\n",
    "    scaled_X_test = Xscaler.transform(X_test)\n",
    "\n",
    "    test_generator = TimeseriesGenerator(scaled_X_test, np.zeros(len(X_test)), length=n_input, batch_size=b_size)\n",
    "\n",
    "    y_pred_scaled = model.predict(test_generator)\n",
    "    y_pred_scaled=y_pred_scaled.reshape((-1,1))\n",
    "    #nsamples, nx, ny = y_pred_scaled.shape\n",
    "    #d2_train_dataset = y_pred_scaled.reshape((nsamples,nx*ny))\n",
    "    #y_pred = Yscaler.inverse_transform(d2_train_dataset)\n",
    "\n",
    "    y_pred = Yscaler.inverse_transform(y_pred_scaled)\n",
    "\n",
    "    results = pd.DataFrame({'y_true':test[y_col].values[n_input:],'y_pred':y_pred.ravel()})\n",
    "    print(mean_absolute_error(results['y_true'],results['y_pred']))\n",
    "    print(mean_squared_error(results['y_true'],results['y_pred'], squared=False))"
   ]
  },
  {
   "cell_type": "code",
   "execution_count": 387,
   "id": "314e02be",
   "metadata": {
    "ExecuteTime": {
     "end_time": "2021-11-12T02:40:13.016645Z",
     "start_time": "2021-11-12T02:40:12.959842Z"
    }
   },
   "outputs": [],
   "source": [
    "def test_on_active_sets(model):\n",
    "\n",
    "    #-------------------------------------------------------------------------------------------\n",
    "    df_test = pd.read_csv('../raw_data/CSVs/udds.csv')\n",
    "    test = df_test.iloc[:,:].copy() \n",
    "\n",
    "    X_test = test.drop(y_col,axis=1).copy()\n",
    "    scaled_X_test = Xscaler.transform(X_test)\n",
    "\n",
    "    test_generator = TimeseriesGenerator(scaled_X_test, np.zeros(len(X_test)), length=n_input, batch_size=b_size)\n",
    "\n",
    "    y_pred_scaled = model.predict(test_generator)\n",
    "    y_pred_scaled=y_pred_scaled.reshape((-1,1))\n",
    "    #nsamples, nx, ny = y_pred_scaled.shape\n",
    "    #d2_train_dataset = y_pred_scaled.reshape((nsamples,nx*ny))\n",
    "    #y_pred = Yscaler.inverse_transform(d2_train_dataset)\n",
    "\n",
    "    y_pred = Yscaler.inverse_transform(y_pred_scaled)\n",
    "\n",
    "    results = pd.DataFrame({'y_true':test[y_col].values[n_input:],'y_pred':y_pred.ravel()})\n",
    "    print(mean_absolute_error(results['y_true'],results['y_pred']))\n",
    "    print(mean_squared_error(results['y_true'],results['y_pred'], squared=False))\n",
    "    #---------------------------------------------------------------------------------------------\n",
    "    df_test = pd.read_csv('../raw_data/CSVs/nycc.csv')\n",
    "\n",
    "    test = df_test.iloc[:,:].copy() \n",
    "\n",
    "    X_test = test.drop(y_col,axis=1).copy()\n",
    "    scaled_X_test = Xscaler.transform(X_test)\n",
    "\n",
    "    test_generator = TimeseriesGenerator(scaled_X_test, np.zeros(len(X_test)), length=n_input, batch_size=b_size)\n",
    "\n",
    "    y_pred_scaled = model.predict(test_generator)\n",
    "    y_pred_scaled=y_pred_scaled.reshape((-1,1))\n",
    "    #nsamples, nx, ny = y_pred_scaled.shape\n",
    "    #d2_train_dataset = y_pred_scaled.reshape((nsamples,nx*ny))\n",
    "    #y_pred = Yscaler.inverse_transform(d2_train_dataset)\n",
    "\n",
    "    y_pred = Yscaler.inverse_transform(y_pred_scaled)\n",
    "\n",
    "    results = pd.DataFrame({'y_true':test[y_col].values[n_input:],'y_pred':y_pred.ravel()})\n",
    "    print(mean_absolute_error(results['y_true'],results['y_pred']))\n",
    "    print(mean_squared_error(results['y_true'],results['y_pred'], squared=False))\n",
    "    #-------------------------------------------------------------------------------------------------\n",
    "    df_test = pd.read_csv('../raw_data/CSVs/la92dds.csv')\n",
    "    test = df_test.iloc[:,:].copy() \n",
    "\n",
    "    X_test = test.drop(y_col,axis=1).copy()\n",
    "    scaled_X_test = Xscaler.transform(X_test)\n",
    "\n",
    "    test_generator = TimeseriesGenerator(scaled_X_test, np.zeros(len(X_test)), length=n_input, batch_size=b_size)\n",
    "\n",
    "    y_pred_scaled = model.predict(test_generator)\n",
    "    y_pred_scaled=y_pred_scaled.reshape((-1,1))\n",
    "    #nsamples, nx, ny = y_pred_scaled.shape\n",
    "    #d2_train_dataset = y_pred_scaled.reshape((nsamples,nx*ny))\n",
    "    #y_pred = Yscaler.inverse_transform(d2_train_dataset)\n",
    "\n",
    "    y_pred = Yscaler.inverse_transform(y_pred_scaled)\n",
    "\n",
    "    results = pd.DataFrame({'y_true':test[y_col].values[n_input:],'y_pred':y_pred.ravel()})\n",
    "    print(mean_absolute_error(results['y_true'],results['y_pred']))\n",
    "    print(mean_squared_error(results['y_true'],results['y_pred'], squared=False))\n",
    "\n",
    "    #----------------------------------------------------------------------------------------------------\n",
    "    df_test = pd.read_csv('../raw_data/current_discharge.csv')\n",
    "    test = df_test.iloc[:,:].copy() \n",
    "\n",
    "    X_test = test.drop(y_col,axis=1).copy()\n",
    "    scaled_X_test = Xscaler.transform(X_test)\n",
    "\n",
    "    test_generator = TimeseriesGenerator(scaled_X_test, np.zeros(len(X_test)), length=n_input, batch_size=b_size)\n",
    "\n",
    "    y_pred_scaled = model.predict(test_generator)\n",
    "    y_pred_scaled=y_pred_scaled.reshape((-1,1))\n",
    "    #nsamples, nx, ny = y_pred_scaled.shape\n",
    "    #d2_train_dataset = y_pred_scaled.reshape((nsamples,nx*ny))\n",
    "    #y_pred = Yscaler.inverse_transform(d2_train_dataset)\n",
    "\n",
    "    y_pred = Yscaler.inverse_transform(y_pred_scaled)\n",
    "\n",
    "    results = pd.DataFrame({'y_true':test[y_col].values[n_input:],'y_pred':y_pred.ravel()})\n",
    "    print(mean_absolute_error(results['y_true'],results['y_pred']))\n",
    "    print(mean_squared_error(results['y_true'],results['y_pred'], squared=False))\n",
    "    \n",
    "    #----------------------------------------------------------------------------------------------------\n",
    "    df_test = pd.read_csv('../raw_data/current_discarge_high.csv')\n",
    "    test = df_test.iloc[:,:].copy() \n",
    "\n",
    "    X_test = test.drop(y_col,axis=1).copy()\n",
    "    scaled_X_test = Xscaler.transform(X_test)\n",
    "\n",
    "    test_generator = TimeseriesGenerator(scaled_X_test, np.zeros(len(X_test)), length=n_input, batch_size=b_size)\n",
    "\n",
    "    y_pred_scaled = model.predict(test_generator)\n",
    "    y_pred_scaled=y_pred_scaled.reshape((-1,1))\n",
    "    #nsamples, nx, ny = y_pred_scaled.shape\n",
    "    #d2_train_dataset = y_pred_scaled.reshape((nsamples,nx*ny))\n",
    "    #y_pred = Yscaler.inverse_transform(d2_train_dataset)\n",
    "\n",
    "    y_pred = Yscaler.inverse_transform(y_pred_scaled)\n",
    "\n",
    "    results = pd.DataFrame({'y_true':test[y_col].values[n_input:],'y_pred':y_pred.ravel()})\n",
    "    print(mean_absolute_error(results['y_true'],results['y_pred']))\n",
    "    print(mean_squared_error(results['y_true'],results['y_pred'], squared=False))\n",
    "    \n",
    "    #----------------------------------------------------------------------------------------------------\n",
    "    df_test = pd.read_csv('../raw_data/CSVs/sc03.csv')\n",
    "    test = df_test.iloc[:,:].copy() \n",
    "\n",
    "    X_test = test.drop(y_col,axis=1).copy()\n",
    "    scaled_X_test = Xscaler.transform(X_test)\n",
    "\n",
    "    test_generator = TimeseriesGenerator(scaled_X_test, np.zeros(len(X_test)), length=n_input, batch_size=b_size)\n",
    "\n",
    "    y_pred_scaled = model.predict(test_generator)\n",
    "    y_pred_scaled=y_pred_scaled.reshape((-1,1))\n",
    "    #nsamples, nx, ny = y_pred_scaled.shape\n",
    "    #d2_train_dataset = y_pred_scaled.reshape((nsamples,nx*ny))\n",
    "    #y_pred = Yscaler.inverse_transform(d2_train_dataset)\n",
    "\n",
    "    y_pred = Yscaler.inverse_transform(y_pred_scaled)\n",
    "\n",
    "    results = pd.DataFrame({'y_true':test[y_col].values[n_input:],'y_pred':y_pred.ravel()})\n",
    "    print(mean_absolute_error(results['y_true'],results['y_pred']))\n",
    "    print(mean_squared_error(results['y_true'],results['y_pred'], squared=False))\n",
    "    #--------------------------------------------------------------------------------------------------------------------\n",
    "    df_test = pd.read_csv('../raw_data/CSVs/hwy.csv')\n",
    "    test = df_test.iloc[:,:].copy() \n",
    "\n",
    "    X_test = test.drop(y_col,axis=1).copy()\n",
    "    scaled_X_test = Xscaler.transform(X_test)\n",
    "\n",
    "    test_generator = TimeseriesGenerator(scaled_X_test, np.zeros(len(X_test)), length=n_input, batch_size=b_size)\n",
    "\n",
    "    y_pred_scaled = model.predict(test_generator)\n",
    "    y_pred_scaled=y_pred_scaled.reshape((-1,1))\n",
    "    #nsamples, nx, ny = y_pred_scaled.shape\n",
    "    #d2_train_dataset = y_pred_scaled.reshape((nsamples,nx*ny))\n",
    "    #y_pred = Yscaler.inverse_transform(d2_train_dataset)\n",
    "\n",
    "    y_pred = Yscaler.inverse_transform(y_pred_scaled)\n",
    "\n",
    "    results = pd.DataFrame({'y_true':test[y_col].values[n_input:],'y_pred':y_pred.ravel()})\n",
    "    print(mean_absolute_error(results['y_true'],results['y_pred']))\n",
    "    print(mean_squared_error(results['y_true'],results['y_pred'], squared=False))"
   ]
  },
  {
   "cell_type": "markdown",
   "id": "8a7ba7c6",
   "metadata": {},
   "source": [
    "# RNN/LSTM"
   ]
  },
  {
   "cell_type": "code",
   "execution_count": null,
   "id": "52a9e95c",
   "metadata": {
    "ExecuteTime": {
     "start_time": "2021-11-13T14:42:46.264Z"
    },
    "scrolled": true
   },
   "outputs": [
    {
     "name": "stderr",
     "output_type": "stream",
     "text": [
      "/Users/monmac/.pyenv/versions/3.8.6/envs/lewagon/lib/python3.8/site-packages/keras/engine/training.py:1915: UserWarning: `Model.fit_generator` is deprecated and will be removed in a future version. Please use `Model.fit`, which supports generators.\n",
      "  warnings.warn('`Model.fit_generator` is deprecated and '\n"
     ]
    },
    {
     "name": "stdout",
     "output_type": "stream",
     "text": [
      "Epoch 1/10\n",
      "12387/12387 [==============================] - 101s 8ms/step - loss: 0.0289\n",
      "Epoch 2/10\n",
      "12387/12387 [==============================] - 89s 7ms/step - loss: 9.9901e-04\n",
      "Epoch 3/10\n",
      "12387/12387 [==============================] - 102s 8ms/step - loss: 2.0324e-04\n",
      "Epoch 5/10\n",
      "12387/12387 [==============================] - 98s 8ms/step - loss: 1.4079e-04\n",
      "Epoch 6/10\n",
      "12387/12387 [==============================] - 92s 7ms/step - loss: 8.9544e-05\n",
      "Epoch 8/10\n",
      "12387/12387 [==============================] - 86s 7ms/step - loss: 6.3442e-05\n",
      "Epoch 10/10\n",
      "12387/12387 [==============================] - 89s 7ms/step - loss: 5.8477e-05\n",
      "LSTM3\n",
      "below are mae and rmse\n",
      "0.4123446746505981\n",
      "1.114229027359637\n",
      "active sets without temp\n",
      "1.3232032272314926\n",
      "1.7579942151995647\n",
      "1.133461014309911\n",
      "1.290803554402008\n",
      "4.504024813601144\n",
      "7.133417767275506\n",
      "10.365521950648981\n",
      "13.316563989047358\n",
      "46.665570171872524\n",
      "50.18957659537697\n",
      "0.7161308259180608\n",
      "0.8597081763398534\n",
      "1.0644025433186999\n",
      "1.1795247424640327\n"
     ]
    },
    {
     "name": "stderr",
     "output_type": "stream",
     "text": [
      "/Users/monmac/.pyenv/versions/3.8.6/envs/lewagon/lib/python3.8/site-packages/keras/engine/training.py:1915: UserWarning: `Model.fit_generator` is deprecated and will be removed in a future version. Please use `Model.fit`, which supports generators.\n",
      "  warnings.warn('`Model.fit_generator` is deprecated and '\n"
     ]
    },
    {
     "name": "stdout",
     "output_type": "stream",
     "text": [
      "Epoch 1/10\n",
      "12387/12387 [==============================] - 98s 8ms/step - loss: 0.0273\n",
      "Epoch 2/10\n",
      "12387/12387 [==============================] - 94s 8ms/step - loss: 9.1265e-04\n",
      "Epoch 3/10\n",
      "12387/12387 [==============================] - 89s 7ms/step - loss: 4.0143e-04\n",
      "Epoch 4/10\n",
      "12387/12387 [==============================] - 89s 7ms/step - loss: 2.2603e-04\n",
      "Epoch 5/10\n",
      "12387/12387 [==============================] - 91s 7ms/step - loss: 1.7195e-04\n",
      "Epoch 6/10\n",
      "12387/12387 [==============================] - 106s 9ms/step - loss: 1.6050e-04\n",
      "Epoch 7/10\n",
      "12387/12387 [==============================] - 92s 7ms/step - loss: 1.4730e-04\n",
      "Epoch 8/10\n",
      "12387/12387 [==============================] - 90s 7ms/step - loss: 1.2038e-04\n",
      "Epoch 9/10\n",
      "12387/12387 [==============================] - 104s 8ms/step - loss: 9.6857e-05\n",
      "Epoch 10/10\n",
      "12387/12387 [==============================] - 96s 8ms/step - loss: 7.7249e-05\n",
      "LSTM5\n",
      "below are mae and rmse\n",
      "0.2785919064398742\n",
      "1.0923953662707768\n",
      "active sets without temp\n",
      "0.5125589184357395\n",
      "0.8883527951619777\n",
      "0.6164542470477613\n",
      "0.891011296162911\n",
      "1.6468385608049698\n",
      "2.334300251333406\n",
      "20.13213707914473\n",
      "24.029253229517757\n",
      "55.26923944667587\n",
      "57.35031842118984\n",
      "0.5470150446823577\n",
      "0.7379563492815849\n",
      "0.17803831074259113\n",
      "0.18995893757007026\n"
     ]
    },
    {
     "name": "stderr",
     "output_type": "stream",
     "text": [
      "/Users/monmac/.pyenv/versions/3.8.6/envs/lewagon/lib/python3.8/site-packages/keras/engine/training.py:1915: UserWarning: `Model.fit_generator` is deprecated and will be removed in a future version. Please use `Model.fit`, which supports generators.\n",
      "  warnings.warn('`Model.fit_generator` is deprecated and '\n"
     ]
    },
    {
     "name": "stdout",
     "output_type": "stream",
     "text": [
      "Epoch 1/10\n",
      "12387/12387 [==============================] - 96s 7ms/step - loss: 0.0333\n",
      "Epoch 2/10\n",
      "12387/12387 [==============================] - 98s 8ms/step - loss: 0.0024\n",
      "Epoch 3/10\n",
      "12387/12387 [==============================] - 101s 8ms/step - loss: 0.0010\n",
      "Epoch 4/10\n",
      "12387/12387 [==============================] - 92s 7ms/step - loss: 4.7829e-04\n",
      "Epoch 5/10\n",
      "12387/12387 [==============================] - 97s 8ms/step - loss: 2.9733e-04\n",
      "Epoch 6/10\n",
      "12387/12387 [==============================] - 91s 7ms/step - loss: 1.7421e-04\n",
      "Epoch 7/10\n",
      "12387/12387 [==============================] - 84s 7ms/step - loss: 1.1127e-04\n",
      "Epoch 8/10\n",
      "12387/12387 [==============================] - 91s 7ms/step - loss: 7.8730e-05\n",
      "Epoch 9/10\n",
      "12387/12387 [==============================] - 85s 7ms/step - loss: 7.2954e-05\n",
      "Epoch 10/10\n",
      "12387/12387 [==============================] - 85s 7ms/step - loss: 6.1829e-05\n",
      "LSTM6\n",
      "below are mae and rmse\n",
      "0.24458660139371993\n",
      "1.0809824681562932\n",
      "active sets without temp\n",
      "2.034123752565629\n",
      "3.0365849312931457\n",
      "0.8282099635712404\n",
      "0.9630501020765492\n",
      "5.972983914651487\n",
      "21.956587527675936\n",
      "8.419252675180848\n",
      "10.816259271548482\n",
      "39.12081680807623\n",
      "47.55937778545923\n",
      "0.5936399851941576\n",
      "0.7042740239456415\n",
      "0.7911724387400635\n",
      "0.9594221011746993\n",
      "Epoch 1/10\n"
     ]
    },
    {
     "name": "stderr",
     "output_type": "stream",
     "text": [
      "/Users/monmac/.pyenv/versions/3.8.6/envs/lewagon/lib/python3.8/site-packages/keras/engine/training.py:1915: UserWarning: `Model.fit_generator` is deprecated and will be removed in a future version. Please use `Model.fit`, which supports generators.\n",
      "  warnings.warn('`Model.fit_generator` is deprecated and '\n"
     ]
    },
    {
     "name": "stdout",
     "output_type": "stream",
     "text": [
      "12387/12387 [==============================] - 101s 8ms/step - loss: 0.0115\n",
      "Epoch 2/10\n",
      "12387/12387 [==============================] - 101s 8ms/step - loss: 6.3570e-04\n",
      "Epoch 3/10\n",
      "12387/12387 [==============================] - 85s 7ms/step - loss: 2.8685e-04\n",
      "Epoch 4/10\n",
      "12387/12387 [==============================] - 83s 7ms/step - loss: 2.0814e-04\n",
      "Epoch 5/10\n",
      "12387/12387 [==============================] - 85s 7ms/step - loss: 1.1903e-04\n",
      "Epoch 6/10\n",
      "12387/12387 [==============================] - 99s 8ms/step - loss: 7.6429e-05\n",
      "Epoch 7/10\n",
      "12387/12387 [==============================] - 87s 7ms/step - loss: 4.9967e-05\n",
      "Epoch 9/10\n",
      "12387/12387 [==============================] - 86s 7ms/step - loss: 4.3721e-05\n",
      "Epoch 10/10\n",
      "11523/12387 [==========================>...] - ETA: 6s - loss: 3.7568e-05LSTM8\n",
      "below are mae and rmse\n",
      "1.3889019132582248\n",
      "1.791836116827507\n",
      "active sets without temp\n",
      "4.290573871410067\n",
      "6.133174305381477\n",
      "0.7198782911871386\n",
      "0.8249469830075454\n",
      "3.818663150048846\n",
      "5.280676947153004\n",
      "3.9848983809768472\n",
      "4.623633774846826\n",
      "23.167034589585676\n",
      "25.642485577099\n",
      "0.8066080938334862\n",
      "0.9342503039168306\n",
      "1.362693478321917\n",
      "1.7480005536884249\n",
      "Epoch 1/10\n"
     ]
    },
    {
     "name": "stderr",
     "output_type": "stream",
     "text": [
      "/Users/monmac/.pyenv/versions/3.8.6/envs/lewagon/lib/python3.8/site-packages/keras/engine/training.py:1915: UserWarning: `Model.fit_generator` is deprecated and will be removed in a future version. Please use `Model.fit`, which supports generators.\n",
      "  warnings.warn('`Model.fit_generator` is deprecated and '\n"
     ]
    },
    {
     "name": "stdout",
     "output_type": "stream",
     "text": [
      "12387/12387 [==============================] - 98s 8ms/step - loss: 0.0158\n",
      "Epoch 2/10\n",
      "12387/12387 [==============================] - 91s 7ms/step - loss: 4.9987e-04\n",
      "Epoch 3/10\n",
      "12387/12387 [==============================] - 82s 7ms/step - loss: 1.6660e-04\n",
      "Epoch 5/10\n",
      "12387/12387 [==============================] - 79s 6ms/step - loss: 9.2151e-05\n",
      "Epoch 6/10\n",
      "12387/12387 [==============================] - 81s 7ms/step - loss: 7.0970e-05\n",
      "Epoch 7/10\n",
      "12387/12387 [==============================] - 80s 6ms/step - loss: 4.3598e-05\n",
      "Epoch 9/10\n",
      "12387/12387 [==============================] - 79s 6ms/step - loss: 3.8167e-05\n",
      "Epoch 10/10\n",
      "12387/12387 [==============================] - 81s 7ms/step - loss: 3.5674e-05\n",
      "LSTM10\n",
      "below are mae and rmse\n",
      "0.2607955227303208\n",
      "1.0431469351681408\n",
      "active sets without temp\n",
      "5.356143635817988\n",
      "7.751707723649771\n",
      "0.9104169553288698\n",
      "1.143266142574886\n",
      "2.709974574890723\n",
      "4.164109801904918\n",
      "10.060194768023363\n",
      "12.263359316553442\n",
      "30.0401088683334\n",
      "33.90818563046299\n",
      "0.8278142720009362\n",
      "0.9845880358849085\n",
      "1.9487826056344613\n",
      "2.8728736035676006\n",
      "Epoch 1/10\n"
     ]
    },
    {
     "name": "stderr",
     "output_type": "stream",
     "text": [
      "/Users/monmac/.pyenv/versions/3.8.6/envs/lewagon/lib/python3.8/site-packages/keras/engine/training.py:1915: UserWarning: `Model.fit_generator` is deprecated and will be removed in a future version. Please use `Model.fit`, which supports generators.\n",
      "  warnings.warn('`Model.fit_generator` is deprecated and '\n"
     ]
    },
    {
     "name": "stdout",
     "output_type": "stream",
     "text": [
      "12387/12387 [==============================] - 83s 6ms/step - loss: 0.0077\n",
      "Epoch 2/10\n",
      "12387/12387 [==============================] - 80s 6ms/step - loss: 4.4211e-04\n",
      "Epoch 3/10\n",
      "12387/12387 [==============================] - 80s 6ms/step - loss: 1.9730e-04\n",
      "Epoch 4/10\n",
      "12387/12387 [==============================] - 82s 7ms/step - loss: 1.2806e-04\n",
      "Epoch 5/10\n",
      "12387/12387 [==============================] - 80s 6ms/step - loss: 8.1474e-05\n",
      "Epoch 6/10\n",
      "12387/12387 [==============================] - 110s 9ms/step - loss: 6.1052e-05\n",
      "Epoch 7/10\n",
      "12387/12387 [==============================] - 133s 11ms/step - loss: 4.4414e-05\n",
      "Epoch 8/10\n",
      "12387/12387 [==============================] - 93s 8ms/step - loss: 4.1649e-05\n",
      "Epoch 9/10\n",
      "12387/12387 [==============================] - 169s 14ms/step - loss: 3.3217e-05\n",
      "LSTM12\n",
      "below are mae and rmse\n",
      "0.24191243767625067\n",
      "1.0307319901342629\n",
      "active sets without temp\n",
      "0.8024378181849755\n",
      "0.8768988653487537\n",
      "2.779272774696216\n",
      "3.305714244850829\n",
      "1.3033413708951496\n",
      "1.5181533016770286\n",
      "5.736928026963457\n",
      "6.672901291626515\n",
      "88.98124773901168\n",
      "109.04379648839814\n",
      "1.6071821650265152\n",
      "2.014956249416342\n",
      "0.8246965747199115\n",
      "0.841263636478119\n"
     ]
    },
    {
     "name": "stderr",
     "output_type": "stream",
     "text": [
      "/Users/monmac/.pyenv/versions/3.8.6/envs/lewagon/lib/python3.8/site-packages/keras/engine/training.py:1915: UserWarning: `Model.fit_generator` is deprecated and will be removed in a future version. Please use `Model.fit`, which supports generators.\n",
      "  warnings.warn('`Model.fit_generator` is deprecated and '\n"
     ]
    },
    {
     "name": "stdout",
     "output_type": "stream",
     "text": [
      "Epoch 1/10\n",
      "12387/12387 [==============================] - 251s 20ms/step - loss: 0.0171\n",
      "Epoch 2/10\n",
      "12387/12387 [==============================] - 331s 27ms/step - loss: 1.3727e-04\n",
      "Epoch 5/10\n",
      "12387/12387 [==============================] - 117s 9ms/step - loss: 1.1045e-04\n",
      "Epoch 6/10\n",
      "12387/12387 [==============================] - 99s 8ms/step - loss: 7.8512e-05\n",
      "Epoch 7/10\n",
      "12387/12387 [==============================] - 96s 8ms/step - loss: 5.9681e-05\n",
      "Epoch 8/10\n",
      "12387/12387 [==============================] - 85s 7ms/step - loss: 5.4770e-05\n",
      "Epoch 9/10\n",
      "12387/12387 [==============================] - 99s 8ms/step - loss: 3.9448e-05\n",
      "Epoch 10/10\n",
      "12387/12387 [==============================] - 84s 7ms/step - loss: 4.3607e-05\n",
      "LSTM20\n",
      "below are mae and rmse\n",
      "0.26699832970267384\n",
      "1.0402923611781438\n",
      "active sets without temp\n",
      "0.6616761789478177\n",
      "0.7059192500506425\n",
      "2.0689772381890514\n",
      "3.038898538714106\n",
      "2.2891113132879064\n",
      "5.2372832733196715\n",
      "15.001537114065579\n",
      "16.958669168261583\n",
      "47.20719606521168\n",
      "49.47243925992388\n",
      "1.2879117396089819\n",
      "2.0907434943902046\n",
      "0.9035969954172731\n",
      "0.9262826175154018\n",
      "Epoch 1/10\n"
     ]
    },
    {
     "name": "stderr",
     "output_type": "stream",
     "text": [
      "/Users/monmac/.pyenv/versions/3.8.6/envs/lewagon/lib/python3.8/site-packages/keras/engine/training.py:1915: UserWarning: `Model.fit_generator` is deprecated and will be removed in a future version. Please use `Model.fit`, which supports generators.\n",
      "  warnings.warn('`Model.fit_generator` is deprecated and '\n"
     ]
    },
    {
     "name": "stdout",
     "output_type": "stream",
     "text": [
      "12387/12387 [==============================] - 85s 7ms/step - loss: 0.0126\n",
      "Epoch 2/10\n",
      "12387/12387 [==============================] - 95s 8ms/step - loss: 4.1643e-04\n",
      "Epoch 3/10\n",
      "12387/12387 [==============================] - 87s 7ms/step - loss: 1.8946e-04\n",
      "Epoch 4/10\n",
      "12387/12387 [==============================] - 84s 7ms/step - loss: 1.0949e-04\n",
      "Epoch 5/10\n",
      "12387/12387 [==============================] - 88s 7ms/step - loss: 7.3386e-05\n",
      "Epoch 6/10\n",
      " 8887/12387 [====================>.........] - ETA: 24s - loss: 5.1801e-05"
     ]
    }
   ],
   "source": [
    "df = pd.concat(map(pd.read_csv, glob.glob(os.path.join('', \"../raw_data/Test2/*.txt\")))) \n",
    "#df = pd.concat(map(pd.read_csv, glob.glob(os.path.join('', \"/content/drive/MyDrive/TempData/Results2/*.txt\")))) \n",
    "\n",
    "#df = pd.concat(map(pd.read_csv, glob.glob(os.path.join('', \"../../thesis/raw_data/results/*.txt\")))) \n",
    "test_size = int(len(df) * 0.3) \n",
    "train = df.iloc[:-test_size,:].copy() \n",
    "test = df.iloc[-test_size:,:].copy()\n",
    "\n",
    "y_col='SOC_tot' \n",
    "train = df.iloc[:,:].copy() \n",
    "\n",
    "X_train = train.drop(y_col,axis=1).copy()\n",
    "y_train = train[[y_col]].copy() \n",
    "\n",
    "Xscaler = MinMaxScaler(feature_range=(0, 1)) \n",
    "Xscaler.fit(X_train)\n",
    "scaled_X_train = Xscaler.transform(X_train)\n",
    "Yscaler = MinMaxScaler(feature_range=(0, 1))\n",
    "Yscaler.fit(y_train)\n",
    "scaled_y_train = Yscaler.transform(y_train)\n",
    "scaled_y_train = scaled_y_train.reshape(-1) \n",
    "\n",
    "scaled_y_train = np.insert(scaled_y_train, 0, 0)\n",
    "scaled_y_train = np.delete(scaled_y_train, -1)\n",
    "n_input = 25 \n",
    "n_features= X_train.shape[1] \n",
    "b_size = 8 \n",
    "\n",
    "generator = TimeseriesGenerator(scaled_X_train, scaled_y_train, length=n_input, batch_size=b_size)\n",
    "\n",
    "#THE CODE BELOW IS INTENDED FOR TESTING A NETWORK UPON ITSELF RATHER THAN ON DYNAMIC CYCLES\n",
    "#--------------------------------------------------------\n",
    "model = Sequential()\n",
    "#model.add(SimpleRNN(6, activation='relu', input_shape=(n_input, n_features), return_sequences=True))\n",
    "model.add(LSTM(3, activation='relu', input_shape=(n_input, n_features)))\n",
    "model.add(Dense(1))\n",
    "model.compile(optimizer='adam', loss='mse');\n",
    "model.fit_generator(generator,epochs=10);\n",
    "architecture = 'LSTM3'\n",
    "test_model(test,model,architecture)\n",
    "print('active sets without temp')\n",
    "test_on_active_sets(model)\n",
    "#print('active sets with temp')\n",
    "#test_on_active_sets_temp(model)\n",
    "#--------------------------------------------------------\n",
    "\n",
    "\n",
    "#--------------------------------------------------------\n",
    "model = Sequential()\n",
    "#model.add(SimpleRNN(6, activation='relu', input_shape=(n_input, n_features), return_sequences=True))\n",
    "model.add(LSTM(5, activation='relu', input_shape=(n_input, n_features)))\n",
    "model.add(Dense(1))\n",
    "model.compile(optimizer='adam', loss='mse');\n",
    "model.fit_generator(generator,epochs=10);\n",
    "architecture = 'LSTM5'\n",
    "test_model(test,model,architecture)\n",
    "print('active sets without temp')\n",
    "test_on_active_sets(model)\n",
    "#print('active sets with temp')\n",
    "#test_on_active_sets_temp(model)\n",
    "#--------------------------------------------------------\n",
    "\n",
    "\n",
    "#--------------------------------------------------------\n",
    "model = Sequential()\n",
    "#model.add(SimpleRNN(6, activation='relu', input_shape=(n_input, n_features), return_sequences=True))\n",
    "model.add(LSTM(6, activation='relu', input_shape=(n_input, n_features)))\n",
    "model.add(Dense(1))\n",
    "model.compile(optimizer='adam', loss='mse');\n",
    "model.fit_generator(generator,epochs=10);\n",
    "architecture = 'LSTM6'\n",
    "test_model(test,model,architecture)\n",
    "print('active sets without temp')\n",
    "test_on_active_sets(model)\n",
    "#print('active sets with temp')\n",
    "#test_on_active_sets_temp(model)\n",
    "#--------------------------------------------------------\n",
    "\n",
    "\n",
    "#--------------------------------------------------------\n",
    "model = Sequential()\n",
    "#model.add(SimpleRNN(6, activation='relu', input_shape=(n_input, n_features), return_sequences=True))\n",
    "model.add(LSTM(8, activation='relu', input_shape=(n_input, n_features)))\n",
    "model.add(Dense(1))\n",
    "model.compile(optimizer='adam', loss='mse');\n",
    "model.fit_generator(generator,epochs=10);\n",
    "architecture = 'LSTM8'\n",
    "test_model(test,model,architecture)\n",
    "print('active sets without temp')\n",
    "test_on_active_sets(model)\n",
    "#print('active sets with temp')\n",
    "#test_on_active_sets_temp(model)\n",
    "#--------------------------------------------------------\n",
    "\n",
    "#--------------------------------------------------------\n",
    "model = Sequential()\n",
    "#model.add(SimpleRNN(6, activation='relu', input_shape=(n_input, n_features), return_sequences=True))\n",
    "model.add(LSTM(10, activation='relu', input_shape=(n_input, n_features)))\n",
    "model.add(Dense(1))\n",
    "model.compile(optimizer='adam', loss='mse');\n",
    "model.fit_generator(generator,epochs=10);\n",
    "architecture = 'LSTM10'\n",
    "test_model(test,model,architecture)\n",
    "print('active sets without temp')\n",
    "test_on_active_sets(model)\n",
    "#print('active sets with temp')\n",
    "#test_on_active_sets_temp(model)\n",
    "#--------------------------------------------------------\n",
    "\n",
    "\n",
    "#--------------------------------------------------------\n",
    "model = Sequential()\n",
    "#model.add(SimpleRNN(6, activation='relu', input_shape=(n_input, n_features), return_sequences=True))\n",
    "model.add(LSTM(12, activation='relu', input_shape=(n_input, n_features)))\n",
    "model.add(Dense(1))\n",
    "model.compile(optimizer='adam', loss='mse');\n",
    "model.fit_generator(generator,epochs=10);\n",
    "architecture = 'LSTM12'\n",
    "test_model(test,model,architecture)\n",
    "print('active sets without temp')\n",
    "test_on_active_sets(model)\n",
    "#print('active sets with temp')\n",
    "#test_on_active_sets_temp(model)\n",
    "\n",
    "\n",
    "\n",
    "#--------------------------------------------------------\n",
    "model = Sequential()\n",
    "#model.add(SimpleRNN(6, activation='relu', input_shape=(n_input, n_features), return_sequences=True))\n",
    "model.add(LSTM(20, activation='relu', input_shape=(n_input, n_features)))\n",
    "model.add(Dense(1))\n",
    "model.compile(optimizer='adam', loss='mse');\n",
    "model.fit_generator(generator,epochs=10);\n",
    "architecture = 'LSTM20'\n",
    "test_model(test,model,architecture)\n",
    "print('active sets without temp')\n",
    "test_on_active_sets(model)\n",
    "#print('active sets with temp')\n",
    "#test_on_active_sets_temp(model)\n",
    "#--------------------------------------------------------\n",
    "\n",
    "\n",
    "#--------------------------------------------------------\n",
    "model = Sequential()\n",
    "#model.add(SimpleRNN(6, activation='relu', input_shape=(n_input, n_features), return_sequences=True))\n",
    "model.add(LSTM(30, activation='relu', input_shape=(n_input, n_features)))\n",
    "model.add(Dense(1))\n",
    "model.compile(optimizer='adam', loss='mse');\n",
    "model.fit_generator(generator,epochs=10);\n",
    "architecture = 'LSTM30'\n",
    "test_model(test,model,architecture)\n",
    "print('active sets without temp')\n",
    "test_on_active_sets(model)\n",
    "#print('active sets with temp')\n",
    "#test_on_active_sets_temp(model)\n",
    "#--------------------------------------------------------\n",
    "\n",
    "\n",
    "\n",
    "#--------------------------------------------------------\n",
    "model = Sequential()\n",
    "model.add(LSTM(6, activation='relu', input_shape=(n_input, n_features), return_sequences=True))\n",
    "model.add(LSTM(6, activation='relu', input_shape=(n_input, n_features)))\n",
    "model.add(Dense(1))\n",
    "model.compile(optimizer='adam', loss='mse');\n",
    "model.fit_generator(generator,epochs=10);\n",
    "architecture = 'LSTM6,6'\n",
    "test_model(test,model,architecture)\n",
    "print('active sets without temp')\n",
    "test_on_active_sets(model)\n",
    "#print('active sets with temp')\n",
    "#test_on_active_sets_temp(model)\n",
    "#--------------------------------------------------------\n",
    "\n",
    "\n",
    "\n",
    "#--------------------------------------------------------\n",
    "model = Sequential()\n",
    "model.add(LSTM(10, activation='relu', input_shape=(n_input, n_features), return_sequences=True))\n",
    "model.add(LSTM(10, activation='relu', input_shape=(n_input, n_features)))\n",
    "model.add(Dense(1))\n",
    "model.compile(optimizer='adam', loss='mse');\n",
    "model.fit_generator(generator,epochs=10);\n",
    "architecture = 'LSTM10,10'\n",
    "test_model(test,model,architecture)\n",
    "print('active sets without temp')\n",
    "test_on_active_sets(model)\n",
    "#print('active sets with temp')\n",
    "#test_on_active_sets_temp(model)\n",
    "#--------------------------------------------------------\n",
    "\n",
    "\n",
    "#--------------------------------------------------------\n",
    "model = Sequential()\n",
    "#model.add(LSTM(10, activation='relu', input_shape=(n_input, n_features), return_sequences=True))\n",
    "model.add(SimpleRNN(3, activation='relu', input_shape=(n_input, n_features)))\n",
    "model.add(Dense(1))\n",
    "model.compile(optimizer='adam', loss='mse');\n",
    "model.fit_generator(generator,epochs=10);\n",
    "architecture = 'RNN3'\n",
    "test_model(test,model,architecture)\n",
    "print('active sets without temp')\n",
    "test_on_active_sets(model)\n",
    "#print('active sets with temp')\n",
    "#test_on_active_sets_temp(model)\n",
    "#--------------------------------------------------------\n",
    "\n",
    "\n",
    "#--------------------------------------------------------\n",
    "model = Sequential()\n",
    "#model.add(LSTM(10, activation='relu', input_shape=(n_input, n_features), return_sequences=True))\n",
    "model.add(SimpleRNN(5, activation='relu', input_shape=(n_input, n_features)))\n",
    "model.add(Dense(1))\n",
    "model.compile(optimizer='adam', loss='mse');\n",
    "model.fit_generator(generator,epochs=10);\n",
    "architecture = 'RNN5'\n",
    "test_model(test,model,architecture)\n",
    "print('active sets without temp')\n",
    "test_on_active_sets(model)\n",
    "#print('active sets with temp')\n",
    "#test_on_active_sets_temp(model)\n",
    "#--------------------------------------------------------\n",
    "\n",
    "\n",
    "#--------------------------------------------------------\n",
    "model = Sequential()\n",
    "#model.add(LSTM(10, activation='relu', input_shape=(n_input, n_features), return_sequences=True))\n",
    "model.add(SimpleRNN(6, activation='relu', input_shape=(n_input, n_features)))\n",
    "model.add(Dense(1))\n",
    "model.compile(optimizer='adam', loss='mse');\n",
    "model.fit_generator(generator,epochs=10);\n",
    "architecture = 'RNN6'\n",
    "test_model(test,model,architecture)\n",
    "print('active sets without temp')\n",
    "test_on_active_sets(model)\n",
    "#print('active sets with temp')\n",
    "#test_on_active_sets_temp(model)\n",
    "#--------------------------------------------------------\n",
    "\n",
    "\n",
    "#--------------------------------------------------------\n",
    "model = Sequential()\n",
    "#model.add(LSTM(10, activation='relu', input_shape=(n_input, n_features), return_sequences=True))\n",
    "model.add(SimpleRNN(8, activation='relu', input_shape=(n_input, n_features)))\n",
    "model.add(Dense(1))\n",
    "model.compile(optimizer='adam', loss='mse');\n",
    "model.fit_generator(generator,epochs=10);\n",
    "architecture = 'RNN8'\n",
    "test_model(test,model,architecture)\n",
    "print('active sets without temp')\n",
    "test_on_active_sets(model)\n",
    "#print('active sets with temp')\n",
    "#test_on_active_sets_temp(model)\n",
    "#--------------------------------------------------------\n",
    "\n",
    "\n",
    "#--------------------------------------------------------\n",
    "model = Sequential()\n",
    "#model.add(LSTM(10, activation='relu', input_shape=(n_input, n_features), return_sequences=True))\n",
    "model.add(SimpleRNN(10, activation='relu', input_shape=(n_input, n_features)))\n",
    "model.add(Dense(1))\n",
    "model.compile(optimizer='adam', loss='mse');\n",
    "model.fit_generator(generator,epochs=10);\n",
    "architecture = 'RNN10'\n",
    "test_model(test,model,architecture)\n",
    "print('active sets without temp')\n",
    "test_on_active_sets(model)\n",
    "#print('active sets with temp')\n",
    "#test_on_active_sets_temp(model)\n",
    "#--------------------------------------------------------\n",
    "\n",
    "\n",
    "#--------------------------------------------------------\n",
    "model = Sequential()\n",
    "#model.add(LSTM(10, activation='relu', input_shape=(n_input, n_features), return_sequences=True))\n",
    "model.add(SimpleRNN(20, activation='relu', input_shape=(n_input, n_features)))\n",
    "model.add(Dense(1))\n",
    "model.compile(optimizer='adam', loss='mse');\n",
    "model.fit_generator(generator,epochs=10);\n",
    "architecture = 'RNN20'\n",
    "test_model(test,model,architecture)\n",
    "print('active sets without temp')\n",
    "test_on_active_sets(model)\n",
    "#print('active sets with temp')\n",
    "#test_on_active_sets_temp(model)\n",
    "#--------------------------------------------------------\n",
    "\n",
    "\n",
    "#--------------------------------------------------------\n",
    "model = Sequential()\n",
    "model.add(SimpleRNN(6, activation='relu', input_shape=(n_input, n_features), return_sequences=True))\n",
    "model.add(SimpleRNN(6, activation='relu', input_shape=(n_input, n_features)))\n",
    "model.add(Dense(1))\n",
    "model.compile(optimizer='adam', loss='mse');\n",
    "model.fit_generator(generator,epochs=10);\n",
    "architecture = 'RNN6,6'\n",
    "test_model(test,model,architecture)\n",
    "print('active sets without temp')\n",
    "test_on_active_sets(model)\n",
    "#print('active sets with temp')\n",
    "#test_on_active_sets_temp(model)\n",
    "\n",
    "\n",
    "#--------------------------------------------------------\n",
    "model = Sequential()\n",
    "model.add(SimpleRNN(10, activation='relu', input_shape=(n_input, n_features), return_sequences=True))\n",
    "model.add(SimpleRNN(10, activation='relu', input_shape=(n_input, n_features)))\n",
    "model.add(Dense(1))\n",
    "model.compile(optimizer='adam', loss='mse');\n",
    "model.fit_generator(generator,epochs=10);\n",
    "architecture = 'RNN10,10'\n",
    "test_model(test,model,architecture)\n",
    "print('active sets without temp')\n",
    "test_on_active_sets(model)\n",
    "#print('active sets with temp')\n",
    "#test_on_active_sets_temp(model)\n",
    "#--------------------------------------------------------\n"
   ]
  },
  {
   "cell_type": "code",
   "execution_count": null,
   "id": "26acdc48",
   "metadata": {
    "ExecuteTime": {
     "end_time": "2021-11-12T02:54:13.405796Z",
     "start_time": "2021-11-12T02:54:13.405777Z"
    }
   },
   "outputs": [],
   "source": [
    "df = pd.concat(map(pd.read_csv, glob.glob(os.path.join('', \"../raw_data/Results2/*.txt\")))) \n",
    "#df = pd.concat(map(pd.read_csv, glob.glob(os.path.join('', \"/content/drive/MyDrive/TempData/Results2/*.txt\")))) \n",
    "\n",
    "#df = pd.concat(map(pd.read_csv, glob.glob(os.path.join('', \"../../thesis/raw_data/results/*.txt\")))) \n",
    "test_size = int(len(df) * 0.3) \n",
    "train = df.iloc[:-test_size,:].copy() \n",
    "test = df.iloc[-test_size:,:].copy()\n",
    "\n",
    "y_col='SOC_tot' \n",
    "train = df.iloc[:,:].copy() \n",
    "\n",
    "X_train = train.drop(y_col,axis=1).copy()\n",
    "y_train = train[[y_col]].copy() \n",
    "print(y_train.shape)\n",
    "\n",
    "Xscaler = MinMaxScaler(feature_range=(0, 1)) \n",
    "Xscaler.fit(X_train)\n",
    "scaled_X_train = Xscaler.transform(X_train)\n",
    "Yscaler = MinMaxScaler(feature_range=(0, 1))\n",
    "Yscaler.fit(y_train)\n",
    "scaled_y_train = Yscaler.transform(y_train)\n",
    "scaled_y_train = scaled_y_train.reshape(-1) \n",
    "\n",
    "scaled_y_train = np.insert(scaled_y_train, 0, 0)\n",
    "scaled_y_train = np.delete(scaled_y_train, -1)\n",
    "n_input = 25 \n",
    "n_features= X_train.shape[1] \n",
    "b_size = 8 \n",
    "\n",
    "generator = TimeseriesGenerator(scaled_X_train, scaled_y_train, length=n_input, batch_size=b_size)\n",
    "\n",
    "#THE CODE BELOW IS INTENDED FOR TESTING A NETWORK UPON ITSELF RATHER THAN ON DYNAMIC CYCLES\n",
    "#--------------------------------------------------------\n",
    "model = Sequential()\n",
    "#model.add(SimpleRNN(6, activation='relu', input_shape=(n_input, n_features), return_sequences=True))\n",
    "model.add(LSTM(3, activation='relu', input_shape=(n_input, n_features)))\n",
    "model.add(Dense(1))\n",
    "model.compile(optimizer='adam', loss='mse')\n",
    "model.fit_generator(generator,epochs=10)\n",
    "architecture = 'LSTM3'\n",
    "test_model(test,model,architecture)\n",
    "print('active sets without temp')\n",
    "test_on_active_sets(model)\n",
    "print('active sets with temp')\n",
    "test_on_active_sets_temp(model)\n",
    "#--------------------------------------------------------\n",
    "\n",
    "\n",
    "#--------------------------------------------------------\n",
    "model = Sequential()\n",
    "#model.add(SimpleRNN(6, activation='relu', input_shape=(n_input, n_features), return_sequences=True))\n",
    "model.add(LSTM(5, activation='relu', input_shape=(n_input, n_features)))\n",
    "model.add(Dense(1))\n",
    "model.compile(optimizer='adam', loss='mse')\n",
    "model.fit_generator(generator,epochs=10)\n",
    "architecture = 'LSTM5'\n",
    "test_model(test,model,architecture)\n",
    "print('active sets without temp')\n",
    "test_on_active_sets(model)\n",
    "print('active sets with temp')\n",
    "test_on_active_sets_temp(model)\n",
    "#--------------------------------------------------------\n",
    "\n",
    "\n",
    "#--------------------------------------------------------\n",
    "model = Sequential()\n",
    "#model.add(SimpleRNN(6, activation='relu', input_shape=(n_input, n_features), return_sequences=True))\n",
    "model.add(LSTM(6, activation='relu', input_shape=(n_input, n_features)))\n",
    "model.add(Dense(1))\n",
    "model.compile(optimizer='adam', loss='mse')\n",
    "model.fit_generator(generator,epochs=10)\n",
    "architecture = 'LSTM6'\n",
    "test_model(test,model,architecture)\n",
    "print('active sets without temp')\n",
    "test_on_active_sets(model)\n",
    "print('active sets with temp')\n",
    "test_on_active_sets_temp(model)\n",
    "#--------------------------------------------------------\n",
    "\n",
    "\n",
    "#--------------------------------------------------------\n",
    "model = Sequential()\n",
    "#model.add(SimpleRNN(6, activation='relu', input_shape=(n_input, n_features), return_sequences=True))\n",
    "model.add(LSTM(8, activation='relu', input_shape=(n_input, n_features)))\n",
    "model.add(Dense(1))\n",
    "model.compile(optimizer='adam', loss='mse')\n",
    "model.fit_generator(generator,epochs=10)\n",
    "architecture = 'LSTM8'\n",
    "test_model(test,model,architecture)\n",
    "print('active sets without temp')\n",
    "test_on_active_sets(model)\n",
    "print('active sets with temp')\n",
    "test_on_active_sets_temp(model)\n",
    "#--------------------------------------------------------\n",
    "\n",
    "#--------------------------------------------------------\n",
    "model = Sequential()\n",
    "#model.add(SimpleRNN(6, activation='relu', input_shape=(n_input, n_features), return_sequences=True))\n",
    "model.add(LSTM(10, activation='relu', input_shape=(n_input, n_features)))\n",
    "model.add(Dense(1))\n",
    "model.compile(optimizer='adam', loss='mse')\n",
    "model.fit_generator(generator,epochs=10)\n",
    "architecture = 'LSTM10'\n",
    "test_model(test,model,architecture)\n",
    "print('active sets without temp')\n",
    "test_on_active_sets(model)\n",
    "print('active sets with temp')\n",
    "test_on_active_sets_temp(model)\n",
    "#--------------------------------------------------------\n",
    "\n",
    "\n",
    "#--------------------------------------------------------\n",
    "model = Sequential()\n",
    "#model.add(SimpleRNN(6, activation='relu', input_shape=(n_input, n_features), return_sequences=True))\n",
    "model.add(LSTM(12, activation='relu', input_shape=(n_input, n_features)))\n",
    "model.add(Dense(1))\n",
    "model.compile(optimizer='adam', loss='mse')\n",
    "model.fit_generator(generator,epochs=10)\n",
    "architecture = 'LSTM12'\n",
    "test_model(test,model,architecture)\n",
    "print('active sets without temp')\n",
    "test_on_active_sets(model)\n",
    "print('active sets with temp')\n",
    "test_on_active_sets_temp(model)\n",
    "\n",
    "\n",
    "\n",
    "#--------------------------------------------------------\n",
    "model = Sequential()\n",
    "#model.add(SimpleRNN(6, activation='relu', input_shape=(n_input, n_features), return_sequences=True))\n",
    "model.add(LSTM(20, activation='relu', input_shape=(n_input, n_features)))\n",
    "model.add(Dense(1))\n",
    "model.compile(optimizer='adam', loss='mse')\n",
    "model.fit_generator(generator,epochs=10)\n",
    "architecture = 'LSTM20'\n",
    "test_model(test,model,architecture)\n",
    "print('active sets without temp')\n",
    "test_on_active_sets(model)\n",
    "print('active sets with temp')\n",
    "test_on_active_sets_temp(model)\n",
    "#--------------------------------------------------------\n",
    "\n",
    "\n",
    "#--------------------------------------------------------\n",
    "model = Sequential()\n",
    "#model.add(SimpleRNN(6, activation='relu', input_shape=(n_input, n_features), return_sequences=True))\n",
    "model.add(LSTM(30, activation='relu', input_shape=(n_input, n_features)))\n",
    "model.add(Dense(1))\n",
    "model.compile(optimizer='adam', loss='mse')\n",
    "model.fit_generator(generator,epochs=10)\n",
    "architecture = 'LSTM30'\n",
    "test_model(test,model,architecture)\n",
    "print('active sets without temp')\n",
    "test_on_active_sets(model)\n",
    "print('active sets with temp')\n",
    "test_on_active_sets_temp(model)\n",
    "#--------------------------------------------------------\n",
    "\n",
    "\n",
    "\n",
    "#--------------------------------------------------------\n",
    "model = Sequential()\n",
    "model.add(LSTM(6, activation='relu', input_shape=(n_input, n_features), return_sequences=True))\n",
    "model.add(LSTM(6, activation='relu', input_shape=(n_input, n_features)))\n",
    "model.add(Dense(1))\n",
    "model.compile(optimizer='adam', loss='mse')\n",
    "model.fit_generator(generator,epochs=10)\n",
    "architecture = 'LSTM6,6'\n",
    "test_model(test,model,architecture)\n",
    "print('active sets without temp')\n",
    "test_on_active_sets(model)\n",
    "print('active sets with temp')\n",
    "test_on_active_sets_temp(model)\n",
    "#--------------------------------------------------------\n",
    "\n",
    "\n",
    "\n",
    "#--------------------------------------------------------\n",
    "model = Sequential()\n",
    "model.add(LSTM(10, activation='relu', input_shape=(n_input, n_features), return_sequences=True))\n",
    "model.add(LSTM(10, activation='relu', input_shape=(n_input, n_features)))\n",
    "model.add(Dense(1))\n",
    "model.compile(optimizer='adam', loss='mse')\n",
    "model.fit_generator(generator,epochs=10)\n",
    "architecture = 'LSTM10,10'\n",
    "test_model(test,model,architecture)\n",
    "print('active sets without temp')\n",
    "test_on_active_sets(model)\n",
    "print('active sets with temp')\n",
    "test_on_active_sets_temp(model)\n",
    "#--------------------------------------------------------\n",
    "\n",
    "\n",
    "#--------------------------------------------------------\n",
    "model = Sequential()\n",
    "#model.add(LSTM(10, activation='relu', input_shape=(n_input, n_features), return_sequences=True))\n",
    "model.add(SimpleRNN(3, activation='relu', input_shape=(n_input, n_features)))\n",
    "model.add(Dense(1))\n",
    "model.compile(optimizer='adam', loss='mse')\n",
    "model.fit_generator(generator,epochs=10)\n",
    "architecture = 'RNN3'\n",
    "test_model(test,model,architecture)\n",
    "print('active sets without temp')\n",
    "test_on_active_sets(model)\n",
    "print('active sets with temp')\n",
    "test_on_active_sets_temp(model)\n",
    "#--------------------------------------------------------\n",
    "\n",
    "\n",
    "#--------------------------------------------------------\n",
    "model = Sequential()\n",
    "#model.add(LSTM(10, activation='relu', input_shape=(n_input, n_features), return_sequences=True))\n",
    "model.add(SimpleRNN(5, activation='relu', input_shape=(n_input, n_features)))\n",
    "model.add(Dense(1))\n",
    "model.compile(optimizer='adam', loss='mse')\n",
    "model.fit_generator(generator,epochs=10)\n",
    "architecture = 'RNN5'\n",
    "test_model(test,model,architecture)\n",
    "print('active sets without temp')\n",
    "test_on_active_sets(model)\n",
    "print('active sets with temp')\n",
    "test_on_active_sets_temp(model)\n",
    "#--------------------------------------------------------\n",
    "\n",
    "\n",
    "#--------------------------------------------------------\n",
    "model = Sequential()\n",
    "#model.add(LSTM(10, activation='relu', input_shape=(n_input, n_features), return_sequences=True))\n",
    "model.add(SimpleRNN(6, activation='relu', input_shape=(n_input, n_features)))\n",
    "model.add(Dense(1))\n",
    "model.compile(optimizer='adam', loss='mse')\n",
    "model.fit_generator(generator,epochs=10)\n",
    "architecture = 'RNN6'\n",
    "test_model(test,model,architecture)\n",
    "print('active sets without temp')\n",
    "test_on_active_sets(model)\n",
    "print('active sets with temp')\n",
    "test_on_active_sets_temp(model)\n",
    "#--------------------------------------------------------\n",
    "\n",
    "\n",
    "#--------------------------------------------------------\n",
    "model = Sequential()\n",
    "#model.add(LSTM(10, activation='relu', input_shape=(n_input, n_features), return_sequences=True))\n",
    "model.add(SimpleRNN(8, activation='relu', input_shape=(n_input, n_features)))\n",
    "model.add(Dense(1))\n",
    "model.compile(optimizer='adam', loss='mse')\n",
    "model.fit_generator(generator,epochs=10)\n",
    "architecture = 'RNN8'\n",
    "test_model(test,model,architecture)\n",
    "print('active sets without temp')\n",
    "test_on_active_sets(model)\n",
    "print('active sets with temp')\n",
    "test_on_active_sets_temp(model)\n",
    "#--------------------------------------------------------\n",
    "\n",
    "\n",
    "#--------------------------------------------------------\n",
    "model = Sequential()\n",
    "#model.add(LSTM(10, activation='relu', input_shape=(n_input, n_features), return_sequences=True))\n",
    "model.add(SimpleRNN(10, activation='relu', input_shape=(n_input, n_features)))\n",
    "model.add(Dense(1))\n",
    "model.compile(optimizer='adam', loss='mse')\n",
    "model.fit_generator(generator,epochs=10)\n",
    "architecture = 'RNN10'\n",
    "test_model(test,model,architecture)\n",
    "print('active sets without temp')\n",
    "test_on_active_sets(model)\n",
    "print('active sets with temp')\n",
    "test_on_active_sets_temp(model)\n",
    "#--------------------------------------------------------\n",
    "\n",
    "\n",
    "#--------------------------------------------------------\n",
    "model = Sequential()\n",
    "#model.add(LSTM(10, activation='relu', input_shape=(n_input, n_features), return_sequences=True))\n",
    "model.add(SimpleRNN(20, activation='relu', input_shape=(n_input, n_features)))\n",
    "model.add(Dense(1))\n",
    "model.compile(optimizer='adam', loss='mse')\n",
    "model.fit_generator(generator,epochs=10)\n",
    "architecture = 'RNN20'\n",
    "test_model(test,model,architecture)\n",
    "print('active sets without temp')\n",
    "test_on_active_sets(model)\n",
    "print('active sets with temp')\n",
    "test_on_active_sets_temp(model)\n",
    "#--------------------------------------------------------\n",
    "\n",
    "\n",
    "#--------------------------------------------------------\n",
    "model = Sequential()\n",
    "model.add(SimpleRNN(6, activation='relu', input_shape=(n_input, n_features), return_sequences=True))\n",
    "model.add(SimpleRNN(6, activation='relu', input_shape=(n_input, n_features)))\n",
    "model.add(Dense(1))\n",
    "model.compile(optimizer='adam', loss='mse')\n",
    "model.fit_generator(generator,epochs=10)\n",
    "architecture = 'RNN6,6'\n",
    "test_model(test,model,architecture)\n",
    "print('active sets without temp')\n",
    "test_on_active_sets(model)\n",
    "print('active sets with temp')\n",
    "test_on_active_sets_temp(model)\n",
    "\n",
    "\n",
    "#--------------------------------------------------------\n",
    "model = Sequential()\n",
    "model.add(SimpleRNN(10, activation='relu', input_shape=(n_input, n_features), return_sequences=True))\n",
    "model.add(SimpleRNN(10, activation='relu', input_shape=(n_input, n_features)))\n",
    "model.add(Dense(1))\n",
    "model.compile(optimizer='adam', loss='mse')\n",
    "model.fit_generator(generator,epochs=10)\n",
    "architecture = 'RNN10,10'\n",
    "test_model(test,model,architecture)\n",
    "print('active sets without temp')\n",
    "test_on_active_sets(model)\n",
    "print('active sets with temp')\n",
    "test_on_active_sets_temp(model)\n",
    "#--------------------------------------------------------"
   ]
  },
  {
   "cell_type": "code",
   "execution_count": null,
   "id": "447d92e6",
   "metadata": {},
   "outputs": [],
   "source": [
    "#-------------------------------------------------------------------------------------------\n",
    "df_test = pd.read_csv('/content/drive/MyDrive/TempData/CSVs/udds_temp.csv')\n",
    "test = df_test.iloc[:,:].copy() \n",
    "\n",
    "X_test = test.drop(y_col,axis=1).copy()\n",
    "scaled_X_test = Xscaler.transform(X_test)\n",
    "\n",
    "test_generator = TimeseriesGenerator(scaled_X_test, np.zeros(len(X_test)), length=n_input, batch_size=b_size)\n",
    "\n",
    "y_pred_scaled = model.predict(test_generator)\n",
    "y_pred_scaled=y_pred_scaled.reshape((-1,1))\n",
    "#nsamples, nx, ny = y_pred_scaled.shape\n",
    "#d2_train_dataset = y_pred_scaled.reshape((nsamples,nx*ny))\n",
    "#y_pred = Yscaler.inverse_transform(d2_train_dataset)\n",
    "\n",
    "y_pred = Yscaler.inverse_transform(y_pred_scaled)\n",
    "\n",
    "results = pd.DataFrame({'y_true':test[y_col].values[n_input:],'y_pred':y_pred.ravel()})\n",
    "print(mean_absolute_error(results['y_true'],results['y_pred']))\n",
    "print(mean_squared_error(results['y_true'],results['y_pred'], squared=False))\n",
    "#---------------------------------------------------------------------------------------------\n",
    "df_test = pd.read_csv('/content/drive/MyDrive/TempData/CSVs/nycc_temp.csv')\n",
    "\n",
    "test = df_test.iloc[:,:].copy() \n",
    "\n",
    "X_test = test.drop(y_col,axis=1).copy()\n",
    "scaled_X_test = Xscaler.transform(X_test)\n",
    "\n",
    "test_generator = TimeseriesGenerator(scaled_X_test, np.zeros(len(X_test)), length=n_input, batch_size=b_size)\n",
    "\n",
    "y_pred_scaled = model.predict(test_generator)\n",
    "y_pred_scaled=y_pred_scaled.reshape((-1,1))\n",
    "#nsamples, nx, ny = y_pred_scaled.shape\n",
    "#d2_train_dataset = y_pred_scaled.reshape((nsamples,nx*ny))\n",
    "#y_pred = Yscaler.inverse_transform(d2_train_dataset)\n",
    "\n",
    "y_pred = Yscaler.inverse_transform(y_pred_scaled)\n",
    "\n",
    "results = pd.DataFrame({'y_true':test[y_col].values[n_input:],'y_pred':y_pred.ravel()})\n",
    "print(mean_absolute_error(results['y_true'],results['y_pred']))\n",
    "print(mean_squared_error(results['y_true'],results['y_pred'], squared=False))\n",
    "#-------------------------------------------------------------------------------------------------\n",
    "df_test = pd.read_csv('/content/drive/MyDrive/TempData/CSVs/la92dds_temp.csv')\n",
    "test = df_test.iloc[:,:].copy() \n",
    "\n",
    "X_test = test.drop(y_col,axis=1).copy()\n",
    "scaled_X_test = Xscaler.transform(X_test)\n",
    "\n",
    "test_generator = TimeseriesGenerator(scaled_X_test, np.zeros(len(X_test)), length=n_input, batch_size=b_size)\n",
    "\n",
    "y_pred_scaled = model.predict(test_generator)\n",
    "y_pred_scaled=y_pred_scaled.reshape((-1,1))\n",
    "#nsamples, nx, ny = y_pred_scaled.shape\n",
    "#d2_train_dataset = y_pred_scaled.reshape((nsamples,nx*ny))\n",
    "#y_pred = Yscaler.inverse_transform(d2_train_dataset)\n",
    "\n",
    "y_pred = Yscaler.inverse_transform(y_pred_scaled)\n",
    "\n",
    "results = pd.DataFrame({'y_true':test[y_col].values[n_input:],'y_pred':y_pred.ravel()})\n",
    "print(mean_absolute_error(results['y_true'],results['y_pred']))\n",
    "print(mean_squared_error(results['y_true'],results['y_pred'], squared=False))\n",
    "#----------------------------------------------------------------------------------------------------\n",
    "df_test = pd.read_csv('/content/drive/MyDrive/TempData/CSVs/sc03_temp.csv')\n",
    "test = df_test.iloc[:,:].copy() \n",
    "\n",
    "X_test = test.drop(y_col,axis=1).copy()\n",
    "scaled_X_test = Xscaler.transform(X_test)\n",
    "\n",
    "test_generator = TimeseriesGenerator(scaled_X_test, np.zeros(len(X_test)), length=n_input, batch_size=b_size)\n",
    "\n",
    "y_pred_scaled = model.predict(test_generator)\n",
    "y_pred_scaled=y_pred_scaled.reshape((-1,1))\n",
    "#nsamples, nx, ny = y_pred_scaled.shape\n",
    "#d2_train_dataset = y_pred_scaled.reshape((nsamples,nx*ny))\n",
    "#y_pred = Yscaler.inverse_transform(d2_train_dataset)\n",
    "\n",
    "y_pred = Yscaler.inverse_transform(y_pred_scaled)\n",
    "\n",
    "results = pd.DataFrame({'y_true':test[y_col].values[n_input:],'y_pred':y_pred.ravel()})\n",
    "print(mean_absolute_error(results['y_true'],results['y_pred']))\n",
    "print(mean_squared_error(results['y_true'],results['y_pred'], squared=False))\n",
    "#--------------------------------------------------------------------------------------------------------------------\n",
    "df_test = pd.read_csv('/content/drive/MyDrive/TempData/CSVs/hwy_temp.csv')\n",
    "test = df_test.iloc[:,:].copy() \n",
    "\n",
    "X_test = test.drop(y_col,axis=1).copy()\n",
    "scaled_X_test = Xscaler.transform(X_test)\n",
    "\n",
    "test_generator = TimeseriesGenerator(scaled_X_test, np.zeros(len(X_test)), length=n_input, batch_size=b_size)\n",
    "\n",
    "y_pred_scaled = model.predict(test_generator)\n",
    "y_pred_scaled=y_pred_scaled.reshape((-1,1))\n",
    "#nsamples, nx, ny = y_pred_scaled.shape\n",
    "#d2_train_dataset = y_pred_scaled.reshape((nsamples,nx*ny))\n",
    "#y_pred = Yscaler.inverse_transform(d2_train_dataset)\n",
    "\n",
    "y_pred = Yscaler.inverse_transform(y_pred_scaled)\n",
    "\n",
    "results = pd.DataFrame({'y_true':test[y_col].values[n_input:],'y_pred':y_pred.ravel()})\n",
    "print(mean_absolute_error(results['y_true'],results['y_pred']))\n",
    "print(mean_squared_error(results['y_true'],results['y_pred'], squared=False))"
   ]
  },
  {
   "cell_type": "code",
   "execution_count": null,
   "id": "c3ed6c17",
   "metadata": {},
   "outputs": [],
   "source": []
  }
 ],
 "metadata": {
  "kernelspec": {
   "display_name": "Python 3 (ipykernel)",
   "language": "python",
   "name": "python3"
  },
  "language_info": {
   "codemirror_mode": {
    "name": "ipython",
    "version": 3
   },
   "file_extension": ".py",
   "mimetype": "text/x-python",
   "name": "python",
   "nbconvert_exporter": "python",
   "pygments_lexer": "ipython3",
   "version": "3.8.6"
  },
  "toc": {
   "base_numbering": 1,
   "nav_menu": {},
   "number_sections": true,
   "sideBar": true,
   "skip_h1_title": false,
   "title_cell": "Table of Contents",
   "title_sidebar": "Contents",
   "toc_cell": false,
   "toc_position": {},
   "toc_section_display": true,
   "toc_window_display": false
  }
 },
 "nbformat": 4,
 "nbformat_minor": 5
}
