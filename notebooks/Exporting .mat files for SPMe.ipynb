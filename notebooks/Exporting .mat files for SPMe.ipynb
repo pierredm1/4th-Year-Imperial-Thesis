{
 "cells": [
  {
   "cell_type": "code",
   "execution_count": 28,
   "id": "453e3ec7",
   "metadata": {
    "ExecuteTime": {
     "end_time": "2021-11-13T16:59:07.257346Z",
     "start_time": "2021-11-13T16:59:07.253123Z"
    }
   },
   "outputs": [],
   "source": [
    "import pandas as pd\n",
    "import os \n",
    "import scipy.io"
   ]
  },
  {
   "cell_type": "code",
   "execution_count": 29,
   "id": "922d84eb",
   "metadata": {
    "ExecuteTime": {
     "end_time": "2021-11-13T16:59:07.419872Z",
     "start_time": "2021-11-13T16:59:07.397858Z"
    }
   },
   "outputs": [],
   "source": [
    "df1=pd.read_csv('../raw_data/Results2/results1.txt')\n",
    "df2=pd.read_csv('../raw_data/Results2/results2.txt')\n",
    "df3=pd.read_csv('../raw_data/Results2/results3.txt')\n",
    "df4=pd.read_csv('../raw_data/Results2/results4.txt')\n",
    "df5=pd.read_csv('../raw_data/Results2/results5.txt')"
   ]
  },
  {
   "cell_type": "code",
   "execution_count": 30,
   "id": "4540d7e9",
   "metadata": {
    "ExecuteTime": {
     "end_time": "2021-11-13T16:59:07.559169Z",
     "start_time": "2021-11-13T16:59:07.542644Z"
    }
   },
   "outputs": [],
   "source": [
    "dict_output = {name:col.values for name,col in df1.items()}\n",
    "destination_folder_path = '../matlab/'\n",
    "scipy.io.savemat(os.path.join(destination_folder_path, 'discharge_temp_1.mat'), dict_output)\n",
    "\n",
    "dict_output = {name:col.values for name,col in df2.items()}\n",
    "destination_folder_path = '../matlab/'\n",
    "scipy.io.savemat(os.path.join(destination_folder_path, 'discharge_temp_2.mat'), dict_output)\n",
    "\n",
    "dict_output = {name:col.values for name,col in df3.items()}\n",
    "destination_folder_path = '../matlab/'\n",
    "scipy.io.savemat(os.path.join(destination_folder_path, 'discharge_temp_3.mat'), dict_output)\n",
    "\n",
    "dict_output = {name:col.values for name,col in df4.items()}\n",
    "destination_folder_path = '../matlab/'\n",
    "scipy.io.savemat(os.path.join(destination_folder_path, 'discharge_temp_4.mat'), dict_output)\n",
    "\n",
    "dict_output = {name:col.values for name,col in df5.items()}\n",
    "destination_folder_path = '../matlab/'\n",
    "scipy.io.savemat(os.path.join(destination_folder_path, 'discharge_temp_5.mat'), dict_output)"
   ]
  },
  {
   "cell_type": "code",
   "execution_count": 31,
   "id": "4efadcd9",
   "metadata": {
    "ExecuteTime": {
     "end_time": "2021-11-13T16:59:07.724210Z",
     "start_time": "2021-11-13T16:59:07.699494Z"
    }
   },
   "outputs": [],
   "source": [
    "df1=pd.read_csv('../raw_data/Test2/v2_results1.txt')\n",
    "df2=pd.read_csv('../raw_data/Test2/v2_results2.txt')\n",
    "df3=pd.read_csv('../raw_data/Test2/v2_results3.txt')\n",
    "df4=pd.read_csv('../raw_data/Test2/v2_results4.txt')\n",
    "df5=pd.read_csv('../raw_data/Test2/v2_results5.txt')"
   ]
  },
  {
   "cell_type": "code",
   "execution_count": 32,
   "id": "3c110b6a",
   "metadata": {
    "ExecuteTime": {
     "end_time": "2021-11-13T16:59:07.888947Z",
     "start_time": "2021-11-13T16:59:07.870013Z"
    }
   },
   "outputs": [],
   "source": [
    "dict_output = {name:col.values for name,col in df1.items()}\n",
    "destination_folder_path = '../matlab/'\n",
    "scipy.io.savemat(os.path.join(destination_folder_path, 'discharge_no_temp_1.mat'), dict_output)\n",
    "\n",
    "dict_output = {name:col.values for name,col in df2.items()}\n",
    "destination_folder_path = '../matlab/'\n",
    "scipy.io.savemat(os.path.join(destination_folder_path, 'discharge_no_temp_2.mat'), dict_output)\n",
    "\n",
    "dict_output = {name:col.values for name,col in df3.items()}\n",
    "destination_folder_path = '../matlab/'\n",
    "scipy.io.savemat(os.path.join(destination_folder_path, 'discharge_no_temp_3.mat'), dict_output)\n",
    "\n",
    "dict_output = {name:col.values for name,col in df4.items()}\n",
    "destination_folder_path = '../matlab/'\n",
    "scipy.io.savemat(os.path.join(destination_folder_path, 'discharge_no_temp_4.mat'), dict_output)\n",
    "\n",
    "dict_output = {name:col.values for name,col in df5.items()}\n",
    "destination_folder_path = '../matlab/'\n",
    "scipy.io.savemat(os.path.join(destination_folder_path, 'discharge_no_temp_5.mat'), dict_output)"
   ]
  },
  {
   "cell_type": "code",
   "execution_count": null,
   "id": "8c2a6bb3",
   "metadata": {},
   "outputs": [],
   "source": []
  }
 ],
 "metadata": {
  "kernelspec": {
   "display_name": "Python 3 (ipykernel)",
   "language": "python",
   "name": "python3"
  },
  "language_info": {
   "codemirror_mode": {
    "name": "ipython",
    "version": 3
   },
   "file_extension": ".py",
   "mimetype": "text/x-python",
   "name": "python",
   "nbconvert_exporter": "python",
   "pygments_lexer": "ipython3",
   "version": "3.8.6"
  },
  "toc": {
   "base_numbering": 1,
   "nav_menu": {},
   "number_sections": true,
   "sideBar": true,
   "skip_h1_title": false,
   "title_cell": "Table of Contents",
   "title_sidebar": "Contents",
   "toc_cell": false,
   "toc_position": {},
   "toc_section_display": true,
   "toc_window_display": false
  }
 },
 "nbformat": 4,
 "nbformat_minor": 5
}
